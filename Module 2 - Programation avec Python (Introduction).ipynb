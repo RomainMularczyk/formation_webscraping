{
 "cells": [
  {
   "cell_type": "markdown",
   "metadata": {},
   "source": [
    "# Table des matières :\n",
    "\n",
    "* Comment lire ce document\n",
    "* Eléments pratiques préalables\n",
    "* <a href=\"#Introduction\">1. Introduction</a>\n",
    "    * <a href=\"#Quels objectifs ?\">1.1. Quels objectifs ?</a>\n",
    "    * <a href=\"#Quelle méthode ?\">1.2. Quelle méthode ?</a>\n",
    "* <a href=\"#Python, c'est quoi ? Pourquoi Python ?\">2. Python, c'est quoi ? Pourquoi Python ?</a>\n",
    "    * <a href=\"#Présentation\">2.1. Présentation</a>\n",
    "    * <a href=\"#Un langage et des outils pour expérimenter et produire des documents structurés\">2.2. Un langage et des outils pour expérimenter et produire des documents structurés</a>\n",
    "        * <a href=\"#Les bibliothèques de code ou packages\">2.2.1. Les bibliothèques de code ou <em>packages</em></a>\n",
    "        * <a href=\"#Les notebooks Jupyter\">2.2.2. Les notebooks Jupyter</a>\n",
    "* <a href=\"#Les bases de Python\">3. Les bases de Python</a>\n",
    "    * <a href=\"#Kit de survie pour dialoguer avec sa machine\">3.1 Kit de survie pour dialoguer avec sa machine</a>\n",
    "        * <a href=\"#Naviguer dans son système de fichier\">3.1.1. Naviguer dans son système de fichier</a>\n",
    "        * <a href=\"#Ouvrir un notebook Jupyter\">3.1.2 Ouvrir un notebook Jupyter</a>\n",
    "    * <a href=\"#Les variables et quelques fonctions essentielles\">3.2. Les variables et quelques fonctions essentielles</a>\n",
    "        * <a href=\"#Manipuler des nombres\">3.2.1 Manipuler des nombres</a>\n",
    "        * <a href=\"#Quelques règles concernant la déclaration des variables\">3.2.2. Quelques règles concernant la déclaration des variables</a>\n",
    "        * <a href=\"#Manipuler du texte\">3.2.3. Manipuler du texte</a>\n",
    "    * <a href=\"#Les types de données\">3.3. Les types de données</a>\n",
    "        * <a href=\"#Les données numériques\">3.3.1. Les données numériques</a>\n",
    "        * <a href=\"#La fonction type()\">3.3.2. La fonction type()</a>\n",
    "        * <a href=\"#Les données textuelles\">3.3.3. Les données textuelles</a>\n",
    "        * <a href=\"#Les conversions et les types personnalisés\">3.3.4. Les conversions et les types personnalisés</a>\n",
    "        * <a href=\"#En résumé\">3.3.5. En résumé</a>\n",
    "    * <a href=\"#Les structures de données\">3.4. Les structures de données</a>\n",
    "        * <a href=\"#Les listes\">3.4.1. Les listes</a>\n",
    "        * <a href=\"#Les tuples\">3.4.2. Les tuples</a>\n",
    "        * <a href=\"#Les dictionnaires\">3.4.3. Les dictionnaires</a>\n",
    "        * <a href=\"#List-ception...\">3.4.4. List-ception...</a>\n",
    "        * <a href=\"#Approfondissement sur les listes et les tuples\">3.4.5. Approfondissement sur les objets mutables</a>\n",
    "        * <a href=\"#En résumé2\">3.4.6. En résumé</a>\n",
    "    * <a href=\"#Les structures de contrôle\">3.5. Les structures de contrôle</a>\n",
    "        * <a href=\"#Les tests\">3.5.1. Les opérateurs de comparaison</a>\n",
    "        * <a href=\"#Les opérateurs booléens\">3.5.2. Les opérateurs booléens</a>\n",
    "        * <a href=\"#Combiner des conditions\">3.5.3. Combiner des conditions</a>\n",
    "        * <a href=\"#If et else\">3.5.3. if et else</a>\n",
    "    * <a href=\"#Les boucles\">3.6. Les boucles</a>\n",
    "        * <a href=\"#La boucle while\">3.6.1. La boucle while</a>\n",
    "        * <a href=\"#La boucle for\">3.6.2. La boucle for</a>\n",
    "        * <a href=\"#Imbriquer des boucles\">3.6.3. Imbriquer des boucles</a>\n",
    "* <a href=\"#Un peu de pratique\">4. Un peu de pratique</a>\n",
    "    * <a href=\"#Transformer un carnet d'adresse\">4.1. Transformer un carnet d'adresse</a>\n",
    "    * <a href=\"#\">4.2. </a>\n",
    "* <a href=\"#Les classes et fonction, les bases de la programmation orientée objet\">5. Les classes et fonctions, les bases de la programmation orientée objet</a>\n",
    "\n",
    "* <a href=\"#Sources et références utiles\">Sources et références utiles</a>"
   ]
  },
  {
   "cell_type": "markdown",
   "metadata": {},
   "source": [
    "## <div id=\"Introduction\">1. Introduction</div>\n",
    "\n",
    "Le présent document est le **deuxième module** d'une formation en **quatre volets** destinée à constituer un socle de connaissances et de compétences sur les **technologies du web** et le **langage Python**. Il n'y a **pas de prérequis** particuliers pour entamer ce module qui peut l'être sans passer par le premier. Néanmoins, les modules suivants s'orienteront progressivement vers l'application de connaissances générales sur Python pour la réalisation de projets concrets de **web scraping**.\n",
    "\n",
    "Apprendre la programmation informatique n'est pas nécessairement complexe en soi mais l'évolution des environnements techniques dans lesquels s'inscrivent les différentes technologies, les différents formats, les connaissances théoriques et techniques liées à d'autres univers de l'informatique (matériel, réseaux, calcul, etc.) s'est tellement accéléré depuis le milieu du XXe siècle qu'il est aujourd'hui devenu impossible d'avoir une connaissance englobante et générale de l'informatique.\n",
    "\n",
    "Si l'horizon d'apprentissage est presque infini dans ce domaine, apprendre à réaliser de petites opérations pratiques et savoir réutiliser des programmes pour les adapter à des besoins spécifiques peut s'apprendre assez rapidement. Néanmoins, c'est en intégrant ces opérations au travail quotidien que l'on gagne en assurance et en efficacité : apprendre à scraper un site web donné permet, bien souvent, de constituer un squelette de script que l'on pourra réutiliser à loisir pour répéter l'opération sur n'importe quel autre site. Il faudra, éventuellement, faire quelques adaptations marginales, mais le principe reste le même et ne nécessite pas de partir de zéro à chaque fois.\n",
    "\n",
    "### <div id=\"Quels objectifs ?\">1. 1. Quels objectifs ?</div>\n",
    "\n",
    "Scraper un site web n'est pas une opération particulièrement difficile et a, par ailleurs, l'avantage de constituer une **pratique \"stable\"**, dans la mesure où les technologies sur lesquelles s'appuient le scraping sont aujourd'hui relativement anciennes et ancrées dans des usages et des environnements techniques stabilisées (navigateurs web, HTML/DOM, HTTP) dans l'univers très mouvant et en perpétuelle évolution de l'informatique.\n",
    "\n",
    "Cette formation est conçue comme une \"invitation\" ou une **introduction à la programmation informatique avec Python**. Comme mentionné plus tôt, Python est très utile pour réaliser toute une série de tâches que l'on rencontre bien souvent dans un travail de recherche (collecter des données, constituer un jeu de données, analyser un corpus de texte, construire un tableau Excel, produire des graphiques, etc.). Le **web scraping** constitue ainsi une application possible parmi tant d'autres d'un socle de compétences et de pratiques qui seront axées autour de **l'apprentissage des bases de la programmation avec Python**.\n",
    "\n",
    "Dans le cadre de cette formation, l'objectif est avant tout d'acquérir quelques connaissances élémentaires sur le **fonctionnement global du web** dans l'optique d'exploiter les contenus que l'on peut y trouver pour un travail de recherche. Cela nécessite :\n",
    "* Des éléments de culture technique sur le web, traités dans le **premier module**\n",
    "* Des compétences élémentaires en programmation informatique, qui seront détaillées dans ce **deuxième module**\n",
    "* Une application de ces compétences en programmation à travers l'utilisation de bibliothèques de code utiles pour interagir avec les technologies du web, qui fera l'object d'un **troisième module**\n",
    "\n",
    "### <div id=\"Quelle méthode ?\">1. 2. Quelle méthode ?</div>\n",
    "\n",
    "Ecrire des programmes et des petits scripts pour effectuer des tâches récurrentes est un processus qu'il faut, pour mieux l'appréhender, **découper en séries de petites opérations simples** s'imbriquant les unes les autres. En abordant la programmation de cette façon, elle n'a rien de particulièrement complexe en soi et se trouve à la portée de n'importe qui capable de manipuler un langage simple et d'imbriquer des éléments logiques entre eux.\n",
    "\n",
    "Dans cette perspective, **Jupyter** constitue un outil précieux et utile pour expérimenter, faire des tests sans avoir à bousculer et réécrire tout son code, procéder au fur et à mesure en écrivant chaque étape de notre code dans une cellule spécifique.\n",
    "\n",
    "Pour programmer, une compétence particulière est nécessaire, sans doute au-delà de toute autre : **savoir trouver et lire une documentation technique**. Ceci peut être complété par la consultation de forums comme https://stackoverflow.com/ pour rechercher des **exemples concrets d'application** ou de l'**aide** lorsque l'on bloque trop longtemps sur un problème particulier.\n",
    "\n",
    "Dans l'optique d'inviter à intégrer une pratique régulière du code dans son activité de recherche, cette formation passera essentiellement par de la pratique, d'une part, à travers des exercices corrigés, d'autre part, à travers des pistes pour construire de petits projets pour s'entraîner."
   ]
  },
  {
   "cell_type": "markdown",
   "metadata": {},
   "source": [
    "## <div id=\"Python, c'est quoi ? Pourquoi Python ?\">2. Python, c'est quoi ? Pourquoi Python ?</div>\n",
    "\n",
    "### <div id=\"Présentation\">2. 1. Présentation</div>\n",
    "\n",
    "Python est un **langage de programmation interprété** sous licence libre. Cela signifie qu'il nécessite un interpréteur capable d'analyser et de traduire les scripts en langage machine : son avantage est de permettre l'exécution automatique d'un script une fois celui-ci écrit, son inconvénient est qu'il est plus lent que d'autres langages, car il doit passer, à chaque fois, par cette phase d'interprétation au moment de l'exécution d'un script.\n",
    "\n",
    "Dans notre cas, cette caractéristique est particulièrement intéressante car elle permet d'expérimenter et de visualiser directement le résultat de nos scripts.\n",
    "\n",
    "Python dispose d'une syntaxe simple et est donc **facile à lire et à écrire**. Il dispose d'une **communauté importante et active**, son usage étant aujourd'hui très répandu, ce qui est un avantage, notamment dès que l'on cherche l'aide de programmeurs plus expérimentés que soi. Enfin, Python est un langage particulièrement **versatile**, qui dispose d'outils pour répondre à une très grande variété de besoins de programmation (programmation web, analyse de données, visualisation de données, mathématiques appliquées, web scraping, etc.).\n",
    "\n",
    "### <div id=\"Un langage et des outils pour expérimenter et produire des documents structurés\">2. 2. Un langage et des outils pour expérimenter et produire des documents structurés</div>\n",
    "\n",
    "#### <div id=\"Les bibliothèques de code ou packages\">2. 2. 1. Les bibliothèques de code ou <em>packages</em></div>\n",
    "\n",
    "Un des autres multiples avantages de Python consiste en la myriade de **bibliothèques de code** (ou ***packages***) disponibles en ligne, permettant de remplir à peu près n'importe quelle tâche possible en programmation informatique.\n",
    "\n",
    "Tous les ***packages*** les plus courants de Python sont largement documentés et il existe bien souvent de nombreux tutoriels pour les prendre en main facilement. Comme nous le verrons, une fois les bases élémentaires de programmation acquises, il est possible de prendre en main à peu près n'importe quel outil en consultant sa documentation ou en cherchant des exemples d'utilisation sur des forums, des vidéos ou tutoriels, etc.\n",
    "\n",
    "Dans notre cas, nous utiliserons essentiellement trois ***packages*** de Python :\n",
    "* <a href=\"https://requests.readthedocs.io/en/master/\"><code>requests</code></a>, qui nous permettra de construire des requêtes HTTP pour obtenir des pages web\n",
    "* <a href=\"https://www.crummy.com/software/BeautifulSoup/bs4/doc/\"><code>BeautifulSoup</code></a>, qui nous permettra de parcourir et de découper des pages HTML pour en sélectionner les informations qui nous intéressent\n",
    "* <a href=\"https://docs.python.org/fr/2.7/howto/regex.html\"><code>re</code></a>, qui nous permettra de construire des \"expressions régulières\" qui sont des formules permettant de filtrer les données textuelles en fonction de motifs spécifiques\n",
    "\n",
    "#### <div id=\"Les notebooks Jupyter\">2. 2. 2. Les notebooks Jupyter</div>\n",
    "\n",
    "Parmi ces outils, on compte **Jupyter**. Il s'agit d'une forme d'**éditeur de code** qui permet, à la fois :\n",
    "* D'écrire du code Python fonctionnel et que l'on peut directement exécuter\n",
    "* D'écrire du texte comme on pourrait le faire avec un éditeur de texte classique\n",
    "\n",
    "Jupyter est un outil particulièrement utile lorsqu'on souhaite expérimenter, effectuer des tests ou écrire rapidement un petit script pour remplir une tâche minimale. Il est également possible d'écrire des programmes plus complexes dans un notebook Jupyter bien que, dans ce cas là, on préférera passer par l'utilisation d'un **IDE (Environnement de développement)** plus adapté. Il en existe de très nombreux, bien que ceux utilisés majoritairement pour développement en Python le sont moins (voir <a href=\"https://wiki.python.org/moin/PythonEditors\">ce lien</a> pour une liste des IDE pour Python).\n",
    "\n",
    "Dans notre cas, **Jupyter** sera beaucoup plus utile dans la mesure où il permet également de produire des documents propres (exportables en PDF notamment), intégrant le code Python ainsi que des analyses associées, des commentaires ou une documentation de ce même code.\n",
    "\n",
    "**Jupyter** sous la forme d'une page web disposant d'un menu dédié et fonctionnant à l'aide de **cellules**. Une cellule peut contenir :\n",
    "* Du code Python\n",
    "* Du texte, des images, des liens externes (n'importe quel contenu que l'on peut afficher sur un document HTML)\n",
    "\n",
    "On peut exécuter une cellule indépendamment d'une autre. Cela permet de découper un code complexe en plusieurs étapes élémentaires successives.\n",
    "\n",
    "Si l'on peut utiliser le menu de Jupyter pour exécuter les tâches que l'on souhaite, intégrer les raccourcis au fur et à mesure est bien utile pour gagner du temps. Ainsi, pour **exécuter une cellule**, on peut utiliser la combinaison `shift + entrée`.\n",
    "\n",
    "**Quelques raccourcis utiles :**\n",
    "\n",
    "|Action|Raccourci|\n",
    "|---|---|\n",
    "|Exécuter une cellule|`Shift + Entrée`|\n",
    "|Quitter la cellule sélectionnée|`Esc`|\n",
    "|Entrer dans la cellule active|`Entrée`|\n",
    "|Passer la cellule en mode code|`Esc + Y`|\n",
    "|Passer la cellule en mode texte|`Esc + M`|\n",
    "|Copier la cellule active|`Esc + C`|\n",
    "|Coller le contenu sur la cellule active|`Esc + V`|\n",
    "|Supprimer la cellule sélectionnée|`Esc + D, D`|\n",
    "|Afficher tous les raccourcis|`Esc + H`|"
   ]
  },
  {
   "cell_type": "markdown",
   "metadata": {},
   "source": [
    "## <div id=\"Les bases de Python\">3. Les bases de Python</div>\n",
    "\n",
    "### <div id=\"Kit de survie pour dialoguer avec sa machine\">3. 1. Kit de survie pour dialoguer avec sa machine</div>\n",
    "\n",
    "Beaucoup de blabla jusque là, maintenant, place au code !\n",
    "\n",
    "Pour programmer, il est bien utile de comprendre quelques commandes de base pour **naviguer dans notre système de fichiers**. Elles nous seront utiles par la suite lorsque l'on souhaitera écrire le résultat de nos traitements dans des fichiers types Excel ou Word.\n",
    "\n",
    "Pour commencer, ouvrons notre **terminal** :\n",
    "\n",
    "<blockquote>\n",
    "    <h4><em>Comment accéder à la ligne de commande de mon terminal ?</em></h4>\n",
    "    <ul>\n",
    "        <li>Sous <strong>Windows</strong> : Démarrez > Système Windows > Invite de commande (accessible également en tappant <code>cmd</code> dans n'importe quelle barre de navigation de dossiers).\n",
    "            <br>\n",
    "            <br>\n",
    "            <figure>\n",
    "                <img src='img/cmd.png'/>\n",
    "                <figcaption><strong>Fig. 1 : </strong><em>Ouvrir le terminal sous Windows</em></figcaption>\n",
    "            </figure>\n",
    "            <br>\n",
    "        </li>\n",
    "        <li>Sous <strong>Mac OS</strong> : Applications > Terminal (accessible également en tappant <code>terminal</code> dans Spotlight).\n",
    "            <br>\n",
    "            <br>\n",
    "            <figure>\n",
    "                <img src='img/terminal_macos_app.jpg'/>\n",
    "                <figcaption><strong>Fig. 2 : </strong><em>Ouvrir le terminal sous Mac OS</em></figcaption>\n",
    "            </figure>\n",
    "            <br>\n",
    "            <br>\n",
    "            <figure>\n",
    "                <img src='img/terminal_macos_search.jpg'/>\n",
    "                <figcaption><strong>Fig. 3 : </strong><em>Ouvrir le terminal sous Mac OS via Spotlight</em></figcaption>\n",
    "            </figure>\n",
    "        </li>\n",
    "    </ul>\n",
    "    <h4><em>Comment accéder à la ligne de commande Anaconda ?</em></h4>\n",
    "    <ul>\n",
    "        <li>Sous <strong>Windows :</strong> Taper <code>anaconda prompt</code> dans votre outil de recherche.</li>\n",
    "        <li>Sous <strong>Mac OS :</strong> Préfixer les commandes Anaconda par la commence <code>conda</code> sur votre terminal Mac OS.</li>\n",
    "    </ul>\n",
    "</blockquote>\n",
    "\n",
    "#### <div id=\"Naviguer dans son système de fichier\">3. 1. 1. Naviguer dans son système de fichier</div>\n",
    "\n",
    "Apprenons, avant tout, à naviguer dans notre système de fichier.\n",
    "\n",
    "Dans le terminal, tapez la commande suivante : `cd /`. Sous Windows comme sous Mac OS, `/` représente la **racine du système de fichier**. C'est en dessous ce cette racine que se déploie toute l'arborescence de dossiers que l'on stocke sur notre machine. Pour passer de dossier en dossier, on intercalera un `/` à chaque fois.\n",
    "\n",
    "<div class=\"alert alert-success\" role=\"alert\"><strong>Premier exercice :</strong> Naviguer jusqu'au bureau en partant de la <strong>racine</strong> du système de fichier.</div>\n",
    "\n",
    "<div class=\"alert alert-danger\" role=\"alert\">\n",
    "    <strong>Naviguer jusqu'au bureau à partir de la racine :</strong>\n",
    "    <br>\n",
    "    <br>\n",
    "    Commençons par accéder à la <strong>racine</strong> en tapant la commande suivante : <code>cd /</code>.\n",
    "    <img src=\"img/terminal-racine.png\" alt=\"terminal-racine\"/>\n",
    "    <br>\n",
    "    Utilisons la même commande <code>cd</code> pour accéder au dossier suivant : <code>cd Users</code>.\n",
    "    <br>\n",
    "    <br>\n",
    "    On peut utiliser la commande <code>dir</code> sous <strong>Windows</strong> ou <code>ls</code> sous <strong>Mac OS</strong> pour afficher la liste des différents dossiers accessibles au niveau du dossier auquel on a accédé avec la commande <code>cd</code>.\n",
    "    <br>\n",
    "    <img src=\"img/terminal-ls.png\" alt=\"terminal-ls\"/>\n",
    "    <br>\n",
    "    A noter : A chaque fois que l'on navigue d'un dossier à un autre, cette information est lisible au niveau de ce que l'on appelle le <strong><em>prompt</em></strong>, à gauche de l'invite de saisie.\n",
    "    <br>\n",
    "    <img src=\"img/terminal-naviguer.png\" alt=\"terminal-naviguer\"/>\n",
    "</div>\n",
    "\n",
    "#### <div id=\"Ouvrir un notebook Jupyter\">3. 1. 2. Ouvrir un notebook Jupyter</div>\n",
    "\n",
    "Avant toutes choses, apprenons à ouvrir un nouveau notebook **Jupyter**.\n",
    "\n",
    "Tout d'abord, il faut naviguer jusqu'au répertoire où l'on souhaite ouvrir son notebook Jupyter. Pour ma part, je vais créer un dossier que je vais nommer `formation_web_scraping` sur mon bureau.\n",
    "\n",
    "En partant de la **racine**, je navigue jusqu'à mon bureau (selon votre arborescence, le chemin sera différent) :\n",
    "<br>\n",
    "`cd /Users/RomainM/Desktop`.\n",
    "\n",
    "Sur mon bureau (donc, au niveau `/Users/<mon_nom_utilisateur>/Desktop`), je peux créer un nouveau dossier : \n",
    "<br>\n",
    "`mkdir formation_web_scraping`.\n",
    "\n",
    "A l'aide de la commande `dir` ou `ls`, je peux afficher tous les dossiers et fichiers accessibles au niveau actuel de l'arborescence.\n",
    "\n",
    "Si je me situe au niveau souhaité, je peux alors lancer **Jupyter** en entrant la commande suivante :\n",
    "<br>\n",
    "`jupyter notebook`\n",
    "\n",
    "Si tout a bien fonctionné, votre navigateur doit s'ouvrir à l'adresse `localhost:8888` et afficher une page qui ressemble à celle ci-dessous.\n",
    "\n",
    "<img src=\"img/jupyter-premier.png\"/>\n",
    "\n",
    "On peut alors créer son premier notebook en cliquant sur le bouton `New` et choisir `Python 3`.\n",
    "\n",
    "<img src=\"img/jupyter-new.png\"/>\n",
    "\n",
    "Un nouvel onglet doit normalement s'ouvrir et ressembler à cela.\n",
    "\n",
    "<img src=\"img/jupyter-empty.png\"/>"
   ]
  },
  {
   "cell_type": "markdown",
   "metadata": {},
   "source": [
    "### <div id=\"Les variables et quelques fonctions essentielles\">3. 2. Les variables et quelques fonctions essentielles</div>\n",
    "\n",
    "Dans Python, les opérations que l'on réalise s'appelle des **expressions**. Une **expression** est la combinaison d'un **opérateur** et de **valeurs**. Ainsi, `2 + 2` est une **expression** dans laquelle les `2` représentent des **valeurs** et `+` un **opérateur** permettant l'addition.\n",
    "\n",
    "Python est capable de réaliser des **calculs** de diverses sortes. On dit qu'ils s'**évaluent**, c'est-à-dire qu'ils se réduisent pour former une nouvelle **valeur**. Dans notre exemple précédent, `2 + 2` s'évalue et donne la **valeur** `4`. Comme toutes les expressions viennent à s'évaluer, à chaque fois que l'on peut entrer une **valeur**, on peut également entrer une **exrpression**.\n",
    "\n",
    "Voilà une phrase bien compliquée pour traduire quelque chose de simple. En somme, tout cela signifie que `2 + 2` (qui est une expression) peut encore être additionné à une autre **valeur** (ou à une autre **expression**) : là où l'on peut écrire `2 + 2 + 4`, on peut également écrire `2 + 2 + 2 + 2` ou `4 + 4` ou même plus simplement, `8`.\n",
    "\n",
    "Ici, `8` est une **valeur** mais elle est aussi une **expression**. La spécificité de cette **expression** est qu'elle n'a pas besoin de s'**évaluer** ou, du moins, elle s'**évalue** directement (il n'est pas possible d'écrire `8` plus simplement que comme cela, alors qu'il est possible d'écrire `4 + 4` plus simplement).\n",
    "\n",
    "#### <div id=\"Manipuler des nombres\"> 3. 2. 1. Manipuler des nombres</div>\n",
    "\n",
    "Commençons ici par explorer comment manipuler de l'information avec Python."
   ]
  },
  {
   "cell_type": "code",
   "execution_count": 1,
   "metadata": {},
   "outputs": [
    {
     "ename": "NameError",
     "evalue": "name 'bonjour' is not defined",
     "output_type": "error",
     "traceback": [
      "\u001b[1;31m---------------------------------------------------------------------------\u001b[0m",
      "\u001b[1;31mNameError\u001b[0m                                 Traceback (most recent call last)",
      "\u001b[1;32m<ipython-input-1-e7bc546316d2>\u001b[0m in \u001b[0;36m<module>\u001b[1;34m\u001b[0m\n\u001b[1;32m----> 1\u001b[1;33m \u001b[0mbonjour\u001b[0m\u001b[1;33m\u001b[0m\u001b[1;33m\u001b[0m\u001b[0m\n\u001b[0m",
      "\u001b[1;31mNameError\u001b[0m: name 'bonjour' is not defined"
     ]
    }
   ],
   "source": [
    "bonjour"
   ]
  },
  {
   "cell_type": "markdown",
   "metadata": {},
   "source": [
    "Quand on lit `Error`, ce n'est jamais bon signe... Pourtant, générer des erreurs est une étape récurrente lorsque l'on travaille à l'écriture de programmes. Il ne faut, dans tous les cas, pas être inquiété par l'idée de faire des erreurs : la pire des choses qui puisse arriver si on déclenche une erreur de Python est la fin prématurée du programme qu'on lui demande de lancer.\n",
    "\n",
    "**Jupyter** et son fonctionnement par cellule est particulièrement utile pour cela : il ne faut surtout pas hésiter à lancer des programmes quitte à générer des erreurs. Comprendre comment se déclenchent les erreurs dans Python fait partie de l'apprentissage du langage.\n",
    "\n",
    "Lorsque Python renvoie une information de type `Error`, cela signifie que le programme **n'a pas pu finir de s'exécuter correctement**, qu'il contient des informations que Python ne peut pas reconnaître, que celles-ci ont été mal formatées ou mal structurées.\n",
    "\n",
    "Essayons autre chose."
   ]
  },
  {
   "cell_type": "code",
   "execution_count": 2,
   "metadata": {
    "scrolled": true
   },
   "outputs": [
    {
     "data": {
      "text/plain": [
       "2"
      ]
     },
     "execution_count": 2,
     "metadata": {},
     "output_type": "execute_result"
    }
   ],
   "source": [
    "2"
   ]
  },
  {
   "cell_type": "markdown",
   "metadata": {},
   "source": [
    "Cette fois, Python renvoie une information. Lorsqu'on tape `2`, Python nous dit que cela vaut `2`. Jusque là, tout va bien.\n",
    "\n",
    "Essayons autre chose."
   ]
  },
  {
   "cell_type": "code",
   "execution_count": 3,
   "metadata": {},
   "outputs": [
    {
     "data": {
      "text/plain": [
       "4"
      ]
     },
     "execution_count": 3,
     "metadata": {},
     "output_type": "execute_result"
    }
   ],
   "source": [
    "2 + 2"
   ]
  },
  {
   "cell_type": "markdown",
   "metadata": {},
   "source": [
    "Okay. Python est capable d'effectuer les calculs arythmétiques de base.\n",
    "\n",
    "Ici, `+` constitue ce que l'on appelle un **opérateur**. `2` est une **valeur**. Les **valeurs** et les **opérateurs** sont les deux briques de base de la programmation.\n",
    "\n",
    "Les **opérateurs** sont essentiellement utilisés pour effectuer des calculs ou des tests sur des valeurs.\n",
    "\n",
    "Essayons encore autre chose."
   ]
  },
  {
   "cell_type": "code",
   "execution_count": 4,
   "metadata": {},
   "outputs": [
    {
     "data": {
      "text/plain": [
       "True"
      ]
     },
     "execution_count": 4,
     "metadata": {},
     "output_type": "execute_result"
    }
   ],
   "source": [
    "2 < 3"
   ]
  },
  {
   "cell_type": "markdown",
   "metadata": {},
   "source": [
    "Cette fois, on effectue un **test** que l'on demande à Python de vérifier. Si le **test** est vérifié, Python nous renvoie `True`. S'il n'est pas vérifié (c'est-à-dire que la proposition est fausse), il renvoie alors `False`."
   ]
  },
  {
   "cell_type": "code",
   "execution_count": 5,
   "metadata": {},
   "outputs": [
    {
     "data": {
      "text/plain": [
       "False"
      ]
     },
     "execution_count": 5,
     "metadata": {},
     "output_type": "execute_result"
    }
   ],
   "source": [
    "3 < 2"
   ]
  },
  {
   "cell_type": "markdown",
   "metadata": {},
   "source": [
    "A présent, essayons d'aller plus loin.\n",
    "\n",
    "Python peut \"stocker\" des **valeurs** dans ce que l'on appelle des **variables**. On peut se représenter le fait d'affecter une **valeur** à une **variable** comme le fait d'aposer un post-it sur un objet pour lui attacher une information ou inscrire sur un carton le type d'objet qu'il contient (\"ce carton contient de la vaisselle\").\n",
    "\n",
    "On peut ainsi utiliser des **variables** pour stocker une information et la récupérer plus tard dans notre code.\n",
    "\n",
    "Si dans d'autres langages il est nécessaire d'expliciter le fait que l'on souhaite créer une variable, cela n'est pas nécessaire en Python. Il suffit simplement d'affecter une valeur à l'aide de l'**opérateur** `=`."
   ]
  },
  {
   "cell_type": "code",
   "execution_count": 52,
   "metadata": {},
   "outputs": [],
   "source": [
    "deux = 2"
   ]
  },
  {
   "cell_type": "markdown",
   "metadata": {},
   "source": [
    "Petite nouveauté ici : Python ne répond pas. Cela signifie simplement que le code a été exécuté jusqu'au bout et qu'il n'a rencontré aucune erreur. Dans le cas présent, nous avons demandé une seule chose : stocker la valeur `2` dans une **variable** nommée `deux`.\n",
    "\n",
    "Réitérons la même opération, mais demandons maintenant d'afficher ce que contient notre **variable** fraîchement créée."
   ]
  },
  {
   "cell_type": "code",
   "execution_count": 3,
   "metadata": {},
   "outputs": [
    {
     "name": "stdout",
     "output_type": "stream",
     "text": [
      "2\n"
     ]
    }
   ],
   "source": [
    "deux = 2\n",
    "print(deux)"
   ]
  },
  {
   "cell_type": "markdown",
   "metadata": {},
   "source": [
    "Ici, nous voyons le premier exemple d'utilisation de ce que l'on nomme une **fonction**. Les **fonctions** se définissent très simplement : il s'agit d'une série d'instructions qui prennent des **valeurs** en entrée (on parle alors d'**arguments** ou de **paramètres** dans le cas des fonctions) et renvoie des **valeurs** en sortie.\n",
    "\n",
    "Les **valeurs** que l'on passe aux **fonctions** peuvent être des **variables**, des **valeurs** et d'autres objets mais on ne traitera pas de ces cas là pour l'instant.\n",
    "\n",
    "En effet, voyons si on peut demander à Python d'afficher la **valeur** `2` plutôt que la **variable** `deux`."
   ]
  },
  {
   "cell_type": "code",
   "execution_count": 4,
   "metadata": {
    "scrolled": true
   },
   "outputs": [
    {
     "name": "stdout",
     "output_type": "stream",
     "text": [
      "2\n"
     ]
    }
   ],
   "source": [
    "print(2)"
   ]
  },
  {
   "cell_type": "markdown",
   "metadata": {},
   "source": [
    "**Parenthèse utile :** par la suite, nous serons parfois amené à **incrémenter** des **valeurs numériques**. Cela signie que l'on ajoute simplement `1` à la valeur actuelle contenue dans la **variable**.\n",
    "\n",
    "Illustration avec un petit exemple."
   ]
  },
  {
   "cell_type": "code",
   "execution_count": 54,
   "metadata": {},
   "outputs": [
    {
     "name": "stdout",
     "output_type": "stream",
     "text": [
      "3\n"
     ]
    }
   ],
   "source": [
    "deux = 2\n",
    "deux += 1\n",
    "print(deux)"
   ]
  },
  {
   "cell_type": "markdown",
   "metadata": {},
   "source": [
    "Ce que nous avons écrit revient en fait à écrire quelque chose qui paraît étrange lorsqu'on est habitué à l'écriture mathématique."
   ]
  },
  {
   "cell_type": "code",
   "execution_count": 55,
   "metadata": {},
   "outputs": [
    {
     "name": "stdout",
     "output_type": "stream",
     "text": [
      "3\n"
     ]
    }
   ],
   "source": [
    "deux = 2\n",
    "deux = deux + 1\n",
    "print(deux)"
   ]
  },
  {
   "cell_type": "markdown",
   "metadata": {},
   "source": [
    "A travers cet exemple, nous voyons que la **valeur** affectée à une **variable** n'est pas figée, mais peut être redéfinie à chaque fois que l'on utilise l'**opérateur d'affectation**, `=`. Ainsi, on peut très bien réutiliser le même nom de **variable** pour modifier son contenu et y en affecter un nouveau."
   ]
  },
  {
   "cell_type": "markdown",
   "metadata": {},
   "source": [
    "A présent, créons une nouvelle **variable** dans laquelle on stockera la **valeur** `3`. Et testons de réaliser une opération arythmétique à l'aide, non plus des **valeurs** mais des **variables**."
   ]
  },
  {
   "cell_type": "code",
   "execution_count": 5,
   "metadata": {},
   "outputs": [
    {
     "name": "stdout",
     "output_type": "stream",
     "text": [
      "5\n"
     ]
    }
   ],
   "source": [
    "trois = 3\n",
    "cinq = trois + deux\n",
    "print(cinq)"
   ]
  },
  {
   "cell_type": "markdown",
   "metadata": {},
   "source": [
    "Comme les **variables** stockent des **valeurs**, on peut utiliser ces-dernières, au même titre que les **valeurs** pour effectuer des opérations diverses. Si deux **variables** stockent des nombres, alors, on peut additionner, soustraire, multiplier ou diviser ces deux **variables** entre elles."
   ]
  },
  {
   "cell_type": "markdown",
   "metadata": {},
   "source": [
    "#### <div id=\"Quelques règles concernant la déclaration des variables\">3. 2. 2. Quelques règles concernant la déclaration des variables</div>\n",
    "\n",
    "En déclarant une **variable**, il faut s'assurer de suivre certaines règles, sans quoi, Python retournera une **erreur** :\n",
    "* Le nom de la variable ne peut contenir que des caractères alpha-numériques et le caractère `_` (underscore, tiret du bas)\n",
    "* Le nom de la variable ne peut pas commencer par un chiffre\n",
    "* Python est sensible à la casse, c'est-à-dire qu'une variable nommée `ma_variable` n'est pas la même que `MA_VARIABLE`\n",
    "\n",
    "Faisons quelques tests."
   ]
  },
  {
   "cell_type": "code",
   "execution_count": 7,
   "metadata": {
    "scrolled": true
   },
   "outputs": [
    {
     "ename": "SyntaxError",
     "evalue": "invalid syntax (<ipython-input-7-827a8256bedb>, line 1)",
     "output_type": "error",
     "traceback": [
      "\u001b[1;36m  File \u001b[1;32m\"<ipython-input-7-827a8256bedb>\"\u001b[1;36m, line \u001b[1;32m1\u001b[0m\n\u001b[1;33m    9neuf = 9\u001b[0m\n\u001b[1;37m        ^\u001b[0m\n\u001b[1;31mSyntaxError\u001b[0m\u001b[1;31m:\u001b[0m invalid syntax\n"
     ]
    }
   ],
   "source": [
    "9neuf = 9"
   ]
  },
  {
   "cell_type": "code",
   "execution_count": 9,
   "metadata": {},
   "outputs": [
    {
     "ename": "SyntaxError",
     "evalue": "invalid syntax (<ipython-input-9-fc2484211981>, line 1)",
     "output_type": "error",
     "traceback": [
      "\u001b[1;36m  File \u001b[1;32m\"<ipython-input-9-fc2484211981>\"\u001b[1;36m, line \u001b[1;32m1\u001b[0m\n\u001b[1;33m    neuf huit = 98\u001b[0m\n\u001b[1;37m            ^\u001b[0m\n\u001b[1;31mSyntaxError\u001b[0m\u001b[1;31m:\u001b[0m invalid syntax\n"
     ]
    }
   ],
   "source": [
    "neuf huit = 98\n",
    "print(neuf huit)"
   ]
  },
  {
   "cell_type": "code",
   "execution_count": 8,
   "metadata": {},
   "outputs": [
    {
     "name": "stdout",
     "output_type": "stream",
     "text": [
      "9\n",
      "99\n"
     ]
    }
   ],
   "source": [
    "neuf = 9\n",
    "NEUF = 99\n",
    "print(neuf)\n",
    "print(NEUF)"
   ]
  },
  {
   "cell_type": "markdown",
   "metadata": {},
   "source": [
    "A noter également que certains mots-clés sont **réservés**, c'est-à-dire qu'on ne peut pas les utiliser tels quels pour déclarer nos variables. Ils constituent les fonctions ou les opérateurs de base du langage. En voici une petite liste (nous évoquerons notamment les premiers et laisseront de côté une partie de ceux inclus dans la catégorie `autres`) :\n",
    "\n",
    "|Type|Mots-clés|\n",
    "|---|---|\n",
    "|Opérateurs|`and`, `or`, `not`|\n",
    "|Valeurs|`True`, `False`, `none`|\n",
    "|Structures de contrôle|`if`, `elif`, `else`, `try`, `assert`, `except`, `finally`|\n",
    "|Boucles|`for`, `while`|\n",
    "|Autres|`import`, `from`, `as`, `in`, `yield`, `del`, `break`, `continue`, `pass`, `raise`, `class`, `def`, `lambda`, `with`, `global`, `nonlocal`|"
   ]
  },
  {
   "cell_type": "markdown",
   "metadata": {},
   "source": [
    "Voyons de suite ce qu'il se passe si on essaie d'affecter une **valeur** à une variable qui prendrait le même nom qu'une fonction déjà existante dans Python."
   ]
  },
  {
   "cell_type": "code",
   "execution_count": 98,
   "metadata": {},
   "outputs": [
    {
     "ename": "SyntaxError",
     "evalue": "can't assign to keyword (<ipython-input-98-5eea996c1291>, line 1)",
     "output_type": "error",
     "traceback": [
      "\u001b[1;36m  File \u001b[1;32m\"<ipython-input-98-5eea996c1291>\"\u001b[1;36m, line \u001b[1;32m1\u001b[0m\n\u001b[1;33m    True = 2\u001b[0m\n\u001b[1;37m            ^\u001b[0m\n\u001b[1;31mSyntaxError\u001b[0m\u001b[1;31m:\u001b[0m can't assign to keyword\n"
     ]
    }
   ],
   "source": [
    "True = 2\n",
    "True"
   ]
  },
  {
   "cell_type": "code",
   "execution_count": 99,
   "metadata": {
    "scrolled": true
   },
   "outputs": [
    {
     "ename": "SyntaxError",
     "evalue": "invalid syntax (<ipython-input-99-c8ee3642ab3d>, line 1)",
     "output_type": "error",
     "traceback": [
      "\u001b[1;36m  File \u001b[1;32m\"<ipython-input-99-c8ee3642ab3d>\"\u001b[1;36m, line \u001b[1;32m1\u001b[0m\n\u001b[1;33m    for = 3\u001b[0m\n\u001b[1;37m        ^\u001b[0m\n\u001b[1;31mSyntaxError\u001b[0m\u001b[1;31m:\u001b[0m invalid syntax\n"
     ]
    }
   ],
   "source": [
    "for = 3"
   ]
  },
  {
   "cell_type": "markdown",
   "metadata": {},
   "source": [
    "Selon les cas, le message d'erreur sera différent, mais une erreur sera levée par Python à chaque fois."
   ]
  },
  {
   "cell_type": "markdown",
   "metadata": {},
   "source": [
    "#### <div id=\"Manipuler du texte\">3. 2. 3. Manipuler du texte</div>"
   ]
  },
  {
   "cell_type": "markdown",
   "metadata": {},
   "source": [
    "Nous avons vu le cas des nombres. Voyons à présent comment jongler avec du **texte** (ou plus exactement, des **chaînes de caractères** car celles-ci peuvent contenir des nombres) en Python.\n",
    "\n",
    "Nous avons vu plus haut qu'en tapant directement `bonjour` dans une cellule, Python renvoyait une erreur. En effet, lorsque l'on tape directement du texte, il s'agit nécessairement du nom de **fonctions** ou de **variables** (et d'autres objets) dont Python a déjà connaissance.\n",
    "\n",
    "Si on tape `trois` sans indiquer au préalable qu'est-ce que l'on souhaite \"stocker\" dedans, Python ne comprendra pas. Lorsqu'on affecte une **valeur** à une **variable**, Python comprend que l'on souhaite créer une **variable** que l'on appelle `trois` et dans laquelle on souhaite stocker une **valeur** particulière.\n",
    "\n",
    "Pour manipuler du texte avec Python, il faut l'encadrer avec des guillemets simples `'` ou doubles `\"`."
   ]
  },
  {
   "cell_type": "code",
   "execution_count": 9,
   "metadata": {},
   "outputs": [
    {
     "name": "stdout",
     "output_type": "stream",
     "text": [
      "trois\n"
     ]
    }
   ],
   "source": [
    "trois = \"trois\"\n",
    "print(trois)"
   ]
  },
  {
   "cell_type": "markdown",
   "metadata": {},
   "source": [
    "Essayons quelque chose de curieux."
   ]
  },
  {
   "cell_type": "code",
   "execution_count": 1,
   "metadata": {},
   "outputs": [
    {
     "name": "stdout",
     "output_type": "stream",
     "text": [
      "troisquatre\n"
     ]
    }
   ],
   "source": [
    "sept = \"trois\" + \"quatre\"\n",
    "print(sept)"
   ]
  },
  {
   "cell_type": "markdown",
   "metadata": {},
   "source": [
    "S'il n'est pas possible d'additionner du texte, on peut néanmoins **concaténer** plusieurs chaînes de caractères ensemble, c'est-à-dire, coller deux chaînes de caractère l'une à la suite de l'autre (sans espace ni aucun caractère de séparation)."
   ]
  },
  {
   "cell_type": "markdown",
   "metadata": {},
   "source": [
    "### <div id=\"Les types de données\">3. 3. Les types de données</div>\n",
    "\n",
    "Comme nous avons pu le voir, Python est capable de manipuler des **données numériques** et **textuelles**. Sur chaque type de données, il est possible d'effectuer des opérations spécifiques :\n",
    "* Appliquer les opérations arythmétiques sur des nombres\n",
    "* Concaténer des chaînes de caractères\n",
    "\n",
    "Ainsi, il est très important de savoir, avant d'entamer un travail sur des données, de savoir sur quel type de données on travaille. A priori, cela paraît simple, mais au fur et à mesure des transformations et de l'avancement du code que l'on écrit, il peut être facile de se perdre rapidement !\n",
    "\n",
    "#### <div id=\"Les données numériques\">3. 3. 1. Les données numériques</div>\n",
    "\n",
    "Même si ce n'est pas décisif pour notre formation, il est important de savoir que Python distingue parmi les données numériques :\n",
    "* Les nombres entiers (que l'on nomme `int` en Python)\n",
    "* Les nombres à virgules (que l'on nomme `float` en Python)\n",
    "\n",
    "Les deux types de données numériques sont distingués car, comme mentionné en introduction de cette partie, cela permet à Python de savoir quels types d'opérations sont réalisables sur ces données.\n",
    "\n",
    "Par défaut, il n'est pas nécessaire d'indiquer à Python de quel type la **variable** que l'on crée doit être (c'est ce que l'on appelle la caractéristique de **typage dynamique** d'un langage comme Python). Si cela se révèle très pratique, cela peut aussi nous jouer des tours."
   ]
  },
  {
   "cell_type": "markdown",
   "metadata": {},
   "source": [
    "#### <div id=\"La fonction type()\">3. 3. 2. La fonction <code>type()</code></div>\n",
    "\n",
    "Pour nous mettre à l'abris des pièges liés aux différents types de données que l'on peut croiser, la fonction `type()` est bien utile.\n",
    "\n",
    "Rappelons-nous, une fonction est suivie de parenthèses, c'est entre les parenthèses que nous renseignons les **arguments** ou **paramètres** de la fonction. Ici, nous allons vérifier le **type de données** que contient une **variable** que l'on aura créé au préalable.\n",
    "\n",
    "Voyons cela."
   ]
  },
  {
   "cell_type": "code",
   "execution_count": 24,
   "metadata": {
    "scrolled": true
   },
   "outputs": [
    {
     "name": "stdout",
     "output_type": "stream",
     "text": [
      "<class 'int'>\n"
     ]
    }
   ],
   "source": [
    "a = 2\n",
    "print(type(a))"
   ]
  },
  {
   "cell_type": "code",
   "execution_count": 23,
   "metadata": {
    "scrolled": true
   },
   "outputs": [
    {
     "name": "stdout",
     "output_type": "stream",
     "text": [
      "<class 'float'>\n"
     ]
    }
   ],
   "source": [
    "b = 2.0\n",
    "print(type(b))"
   ]
  },
  {
   "cell_type": "markdown",
   "metadata": {},
   "source": [
    "La fonction `type()` nous renvoie ainsi :\n",
    "* Pour la variable `a`, la valeur `int`\n",
    "* Pour la variable `b`, la valeur `float`\n",
    "\n",
    "A la déclaration de ces **variables**, nous n'avons pas eu à préciser le **type de données** qu'elles contiendront. En cas d'incertitude, la fonction `type()` permettra de vérifier quel **type de données** manipule la **variable** en question."
   ]
  },
  {
   "cell_type": "markdown",
   "metadata": {},
   "source": [
    "#### <div id=\"Les données textuelles\">3. 3. 3. Les données textuelles</div>\n",
    "\n",
    "Comme nous l'avons vu, Python permet également de manipuler des **chaînes de caractères**.\n",
    "\n",
    "Utilisons la fonction `type()` sur une **variable** contenant une **chaîne de caractères**."
   ]
  },
  {
   "cell_type": "code",
   "execution_count": 15,
   "metadata": {},
   "outputs": [
    {
     "data": {
      "text/plain": [
       "str"
      ]
     },
     "execution_count": 15,
     "metadata": {},
     "output_type": "execute_result"
    }
   ],
   "source": [
    "phrase = \"Bonjour, j'apprends à coder en Python.\"\n",
    "type(phrase)"
   ]
  },
  {
   "cell_type": "markdown",
   "metadata": {},
   "source": [
    "Les **données textuelles** sont nommées `str` (pour *string* en anglais).\n",
    "\n",
    "Comme nous l'avons vu plus tôt, on peut utiliser les guillemets doubles ou simples pour entrer des **chaînes de caractère** en Python. Dans certains cas, il sera utile d'**échapper** un caractère, c'est-à-dire, non pas pour donner une **instruction** à l'interpréteur Python, mais lui indiquer que l'on souhaite travailler avec des **caractères** (c'est un peu la même logique que les **mots-clés réservés** : il faut que l'interpréteur puisse faire la différence entre ce qui constitue un ordre qu'on lui donne et une information qu'on lui demande de traiter).\n",
    "\n",
    "Pour **échapper** un caractère, on fait précéder le caractère que l'on souhaite échapper avec un backslash (`\\`).\n",
    "\n",
    "Un exemple pour clarifier cela : mettons que l'on souhaite utiliser des guillemets doubles dans une phrase, par exemple, si le texte avec lequel on travaille est un extrait de texte qui contient des citations (introduites et fermées avec des guillemets doubles donc)."
   ]
  },
  {
   "cell_type": "code",
   "execution_count": 18,
   "metadata": {
    "scrolled": true
   },
   "outputs": [
    {
     "name": "stdout",
     "output_type": "stream",
     "text": [
      "John Doe : \"Je n'ai pas le temps, je dois apprendre à coder en Python\".\n"
     ]
    }
   ],
   "source": [
    "réplique = \"John Doe : \\\"Je n'ai pas le temps, je dois apprendre à coder en Python\\\".\"\n",
    "print(réplique)"
   ]
  },
  {
   "cell_type": "markdown",
   "metadata": {},
   "source": [
    "#### <div id=\"Les conversions et les types personnalisés\">3. 3. 4. Les conversions et les types personnalisés</div>\n",
    "\n",
    "Parfois, il sera nécessaire de **convertir des données d'un type à un autre**. Ces conversions ne sont possibles que dans certains sens : en toute logique, il sera difficile de convertir une donnée textuelle en donnée numérique. Comment, par exemple, traduire notre **variable** `réplique` que nous avons déclaré un peu plus haut en **donnée numérique** ? On comprendre bien que cela n'a pas vraiment de sens.\n",
    "\n",
    "Par contre, on peut souhaiter convertir une **donnée numérique** en **chaîne de caractère**.\n",
    "\n",
    "Voyons cela de suite et essayons de comprendre les implications de cette conversion."
   ]
  },
  {
   "cell_type": "code",
   "execution_count": 19,
   "metadata": {},
   "outputs": [
    {
     "data": {
      "text/plain": [
       "int"
      ]
     },
     "execution_count": 19,
     "metadata": {},
     "output_type": "execute_result"
    }
   ],
   "source": [
    "deux = 2\n",
    "trois = 3\n",
    "type(deux)"
   ]
  },
  {
   "cell_type": "code",
   "execution_count": 20,
   "metadata": {},
   "outputs": [
    {
     "name": "stdout",
     "output_type": "stream",
     "text": [
      "1\n"
     ]
    }
   ],
   "source": [
    "print(trois - deux)"
   ]
  },
  {
   "cell_type": "markdown",
   "metadata": {},
   "source": [
    "Jusque là, tout va bien. Voyons maintenant comment convertir une **variable** stockant des **données numériques** en **données textuelles**. On utilise pour cela la fonction `str`."
   ]
  },
  {
   "cell_type": "code",
   "execution_count": 21,
   "metadata": {},
   "outputs": [
    {
     "name": "stdout",
     "output_type": "stream",
     "text": [
      "<class 'str'>\n"
     ]
    }
   ],
   "source": [
    "deux_str = str(deux)\n",
    "trois_str = str(trois)\n",
    "print(type(deux_str))"
   ]
  },
  {
   "cell_type": "code",
   "execution_count": 22,
   "metadata": {
    "scrolled": true
   },
   "outputs": [
    {
     "ename": "TypeError",
     "evalue": "unsupported operand type(s) for -: 'str' and 'str'",
     "output_type": "error",
     "traceback": [
      "\u001b[1;31m---------------------------------------------------------------------------\u001b[0m",
      "\u001b[1;31mTypeError\u001b[0m                                 Traceback (most recent call last)",
      "\u001b[1;32m<ipython-input-22-5150f1338e9e>\u001b[0m in \u001b[0;36m<module>\u001b[1;34m\u001b[0m\n\u001b[1;32m----> 1\u001b[1;33m \u001b[0mprint\u001b[0m\u001b[1;33m(\u001b[0m\u001b[0mtrois_str\u001b[0m \u001b[1;33m-\u001b[0m \u001b[0mdeux_str\u001b[0m\u001b[1;33m)\u001b[0m\u001b[1;33m\u001b[0m\u001b[1;33m\u001b[0m\u001b[0m\n\u001b[0m",
      "\u001b[1;31mTypeError\u001b[0m: unsupported operand type(s) for -: 'str' and 'str'"
     ]
    }
   ],
   "source": [
    "print(trois_str - deux_str)"
   ]
  },
  {
   "cell_type": "markdown",
   "metadata": {},
   "source": [
    "<div class=\"alert alert-success\"><strong>Deuxième exercice :</strong> Essayer d'additionner une chaîne de caractères et un nombre.\n",
    "<br>\n",
    "<br>\n",
    "Essayer de multiplier une chaîne de caractère et un nombre.</div>"
   ]
  },
  {
   "cell_type": "markdown",
   "metadata": {},
   "source": [
    "Maintenant que nos variables `deux_str` et `trois_str` ont changé de **type**, on ne peut plus réaliser certaines opérations (comme la soustraction, la multiplication, etc. ; à noter que l'addition est toujours possible mais il s'agit plus précisément d'une **concaténation**, comme nous l'avons vu plus tôt), quand bien même, de notre regard d'être humain, la **variable** `deux` qui stocke le chiffre `2` sous forme de **donnée numérique** et la **variable** `deux_str` qui stocke le même chiffre sous forme de **donnée textuelle** contiennent la même information."
   ]
  },
  {
   "cell_type": "markdown",
   "metadata": {},
   "source": [
    "A l'inverse, on peut également convertir des données numériques stockées sous forme de **chaînes de caractères** pour les transformer en `int` ou en `float`."
   ]
  },
  {
   "cell_type": "code",
   "execution_count": 16,
   "metadata": {},
   "outputs": [
    {
     "name": "stdout",
     "output_type": "stream",
     "text": [
      "<class 'str'>\n",
      "<class 'int'>\n"
     ]
    }
   ],
   "source": [
    "a = \"2\"\n",
    "print(type(a))\n",
    "b = int(a)\n",
    "print(type(b))"
   ]
  },
  {
   "cell_type": "markdown",
   "metadata": {},
   "source": [
    "Passons à présent à la pratique avec un premier exercice pour appliquer tous les éléments que l'on a vu jusque là.\n",
    "\n",
    "<div class=\"alert alert-success\" role=\"alert\"><strong>Troisième exercice :</strong> Mettons que l'on nous fournisse des <strong>variables</strong> contenant, sous forme de <strong>type de donnée numérique</strong>, des informations sur une date. \n",
    "<br>\n",
    "<br>\n",
    "On a <strong>trois variables</strong> différentes :\n",
    "<ul>\n",
    "    <li>Une variable <code>jour</code> qui contient l'information sous forme numérique du jour de la date</li>\n",
    "    <li>Une variable <code>mois</code></li>\n",
    "    <li>On l'aura deviné, une variable <code>annee</code></li>\n",
    "</ul>\n",
    "<br>\n",
    "    <strong>L'objectif de cet exercice</strong> est d'appliquer les éléments vus jusqu'à présent pour construire, dans une <strong>nouvelle variable</strong>, l'information sur la date en <strong>concaténant</strong> chacune des variables fournies pour former une date au <strong>format textuel</strong> puisque l'on séparera aussi chaque partie de la date (jour, mois, année) avec une barre oblique (un <em>slash</em>, <code>/</code>).\n",
    "<br>\n",
    "<br>\n",
    "    Pour récupérer les <strong>variables fournies</strong>, on exécutera la cellule ci-dessous.\n",
    "</div>"
   ]
  },
  {
   "cell_type": "code",
   "execution_count": 28,
   "metadata": {},
   "outputs": [],
   "source": [
    "jour = 12\n",
    "mois = 10\n",
    "annee = 2020"
   ]
  },
  {
   "cell_type": "markdown",
   "metadata": {},
   "source": [
    "<div class=\"alert alert-danger\"><strong>Convertir des données numériques en données textuelles et les concaténer :</strong>\n",
    "<br>\n",
    "<br>\n",
    "Procédons en deux étapes.\n",
    "<br>\n",
    "<br>\n",
    "Dans un <strong>premier temps</strong>, nous allons prendre chaque <strong>variable</strong> et les convertir en de nouvelles variables qui contiendront la même information mais avec un type de données, non plus <strong>numérique</strong>, mais <strong>textuel</strong>.\n",
    "<br>\n",
    "<pre>\n",
    "<code class=\"python\">jour = str(jour)\n",
    "mois = str(mois)\n",
    "annee = str(annee)</code>\n",
    "</pre>\n",
    "<br>\n",
    "<strong>Ensuite</strong>, nous allons construire notre nouvelle variable que l'on nommera <code>date_complete</code>. Puis, on affichera le résultat pour s'assurer que nous n'avons pas fait d'erreurs avec la fonction <code>print()</code>.\n",
    "<br>\n",
    "<pre>\n",
    "<code class=\"python\">date_complete = jour + \"/\" + \"mois\" + \"/\" + \"annee\"\n",
    "print(date_complete)</code>\n",
    "</pre>\n",
    "</div>"
   ]
  },
  {
   "cell_type": "markdown",
   "metadata": {},
   "source": [
    "En passant au **web scraping** notamment, nous serons confrontés à d'autres types **personnalisés**. N'importe qui peut créer ses propres types personnalisés avec Python (mais ceci est hors du cadre de la formation). Lorsque l'on utilisera des **packages** Python, il sera souvent question de manipuler de nouveaux types de données propres à ces packages."
   ]
  },
  {
   "cell_type": "markdown",
   "metadata": {},
   "source": [
    "#### <div id=\"En résumé\">3. 3. 5. En résumé</div>\n",
    "\n",
    "Un petit schéma pour résumer tout ce dont on a parlé jusque là.\n",
    "\n",
    "<img src=\"img/types_data.png\" alt=\"types données\"/>"
   ]
  },
  {
   "cell_type": "markdown",
   "metadata": {},
   "source": [
    "### <div id=\"Les structures de données\">3. 4. Les structures de données</div>\n",
    "\n",
    "Les structures de données en Python peuvent être vus comme des groupes de **variables** telles que nous les avons définies jusque là. Jusqu'à présent, nous avons vu que les **variables** permettent de stocker des **valeurs** de différents types : nous les utilisions uniquement pour stocker des données \"simples\" (chaîne de caractère, données numériques).\n",
    "\n",
    "En réalité, les **variables** permettent de stocker à peu près n'importe quel type d'information (des valeurs, des fonctions mais aussi des structures de données plus complexes).\n",
    "\n",
    "#### <div id=\"Les listes\">3. 4. 1. Les listes</div>\n",
    "\n",
    "Les **listes** sont des structures essentielles dans Python. Elles permettent de stocker plusieurs **valeurs** séparées par une virgule (`,`). On peut se représenter les **listes** comme un placard qui contiendrait un certain nombre de tiroirs : chaque tiroir est distingué d'un autre par une **virgule** et chaque tiroir contient une **valeur** (chaque valeur peut être d'un type différent).\n",
    "\n",
    "Il y a deux façons différentes de **déclarer une liste** :\n",
    "* En appelant la fonction Python permettant de créer une liste `list()` et en passant chaque valeur séparée par une virgule entre parenthèses\n",
    "* En encadrant les valeurs séparées par des virgules entre crochets `[]`\n",
    "\n",
    "Voyons cela plus concrètement avec des exemples."
   ]
  },
  {
   "cell_type": "code",
   "execution_count": 34,
   "metadata": {},
   "outputs": [
    {
     "name": "stdout",
     "output_type": "stream",
     "text": [
      "[2, 3, 4]\n"
     ]
    }
   ],
   "source": [
    "liste_1 = list((1, 2, 3))\n",
    "print(liste_1)"
   ]
  },
  {
   "cell_type": "code",
   "execution_count": 35,
   "metadata": {},
   "outputs": [
    {
     "name": "stdout",
     "output_type": "stream",
     "text": [
      "[4, 5, 6]\n"
     ]
    }
   ],
   "source": [
    "liste_2 = [4, 5, 6]\n",
    "print(liste_2)"
   ]
  },
  {
   "cell_type": "code",
   "execution_count": 36,
   "metadata": {},
   "outputs": [
    {
     "name": "stdout",
     "output_type": "stream",
     "text": [
      "['un', 'deux', 'trois']\n"
     ]
    }
   ],
   "source": [
    "liste_3 = [\"un\", \"deux\", \"trois\"]\n",
    "print(liste_3)"
   ]
  },
  {
   "cell_type": "code",
   "execution_count": 37,
   "metadata": {},
   "outputs": [
    {
     "name": "stdout",
     "output_type": "stream",
     "text": [
      "['un', 2, 'trois', 4]\n"
     ]
    }
   ],
   "source": [
    "liste_4 = [\"un\", 2, \"trois\", 4]\n",
    "print(liste_4)"
   ]
  },
  {
   "cell_type": "markdown",
   "metadata": {},
   "source": [
    "Avec la `liste_4`, nous voyons qu'il est possible de stocker à la fois des **valeurs numériques** et des **valeurs textuelles** dans une même liste.\n",
    "\n",
    "Voyons maintenant comment vérifier le type d'une **valeur particulière** stockée dans notre liste. Pour cela, nous allons voir comment **accéder** à une valeur au sein d'une liste.\n",
    "\n",
    "Les **listes** sont des objets dotés de ce que l'on appelle **index**. Un **index** est une forme de code que l'on accole à la suite de la variable contenant la liste pour indiquer l'emplacement de la liste auquel on souhaite accéder. L'**index** des listes commence à partir de `0` : pour avancer d'un pas, on ajoute simplement `1` à l'index actuel.\n",
    "\n",
    "Voyons cela avec un exemple pour clarifier ce point."
   ]
  },
  {
   "cell_type": "code",
   "execution_count": 38,
   "metadata": {},
   "outputs": [
    {
     "name": "stdout",
     "output_type": "stream",
     "text": [
      "un\n"
     ]
    }
   ],
   "source": [
    "print(liste_4[0])"
   ]
  },
  {
   "cell_type": "markdown",
   "metadata": {},
   "source": [
    "Ici, nous accédons à la **première valeur** de la liste `liste_4`. Nous pouvons vérifier le type de données que contient cet emplacement de la liste."
   ]
  },
  {
   "cell_type": "code",
   "execution_count": 40,
   "metadata": {
    "scrolled": true
   },
   "outputs": [
    {
     "data": {
      "text/plain": [
       "str"
      ]
     },
     "execution_count": 40,
     "metadata": {},
     "output_type": "execute_result"
    }
   ],
   "source": [
    "type(liste_4[0])"
   ]
  },
  {
   "cell_type": "markdown",
   "metadata": {},
   "source": [
    "Maintenant, essayons d'avancer à l'emplacement suivant de la liste `liste_4`."
   ]
  },
  {
   "cell_type": "code",
   "execution_count": 42,
   "metadata": {},
   "outputs": [
    {
     "name": "stdout",
     "output_type": "stream",
     "text": [
      "2\n"
     ]
    }
   ],
   "source": [
    "print(liste_4[1])"
   ]
  },
  {
   "cell_type": "markdown",
   "metadata": {},
   "source": [
    "De la même façon, on peut vérifier le type de donnée que contient cet emplacement de la liste `liste_4`."
   ]
  },
  {
   "cell_type": "code",
   "execution_count": 43,
   "metadata": {},
   "outputs": [
    {
     "data": {
      "text/plain": [
       "int"
      ]
     },
     "execution_count": 43,
     "metadata": {},
     "output_type": "execute_result"
    }
   ],
   "source": [
    "type(liste_4[1])"
   ]
  },
  {
   "cell_type": "markdown",
   "metadata": {},
   "source": [
    "Nous voyons ainsi que la `liste_4` contient à la fois des données `int` et des données `str`."
   ]
  },
  {
   "cell_type": "markdown",
   "metadata": {},
   "source": [
    "Le **premier index** d'une liste est `[0]` mais il existe aussi un moyen d'accéder directement au **dernier index** d'une liste en insérant l'index `[-1]`.\n",
    "\n",
    "Essayons de voir cela avec la liste `liste_4`."
   ]
  },
  {
   "cell_type": "code",
   "execution_count": 44,
   "metadata": {},
   "outputs": [
    {
     "name": "stdout",
     "output_type": "stream",
     "text": [
      "4\n"
     ]
    }
   ],
   "source": [
    "print(liste_4[-1])"
   ]
  },
  {
   "cell_type": "markdown",
   "metadata": {},
   "source": [
    "Comme la liste `liste_4` contient 4 éléments au total, on peut également accéder à cette dernière valeur en utilisant l'**index** dans le sens \"normal\", du premier élément au dernier."
   ]
  },
  {
   "cell_type": "code",
   "execution_count": 45,
   "metadata": {},
   "outputs": [
    {
     "name": "stdout",
     "output_type": "stream",
     "text": [
      "4\n"
     ]
    }
   ],
   "source": [
    "print(liste_4[3])"
   ]
  },
  {
   "cell_type": "markdown",
   "metadata": {},
   "source": [
    "En partant du **dernier élément**, on peut ainsi avancer dans le sens \"inverse\", du dernier élément au premier. Profitons en pour nous remémorer le contenu de la liste `liste_4` pour visualiser ce fonctionnement par **index**."
   ]
  },
  {
   "cell_type": "code",
   "execution_count": 48,
   "metadata": {},
   "outputs": [
    {
     "name": "stdout",
     "output_type": "stream",
     "text": [
      "['un', 2, 'trois', 4]\n"
     ]
    }
   ],
   "source": [
    "print(liste_4)"
   ]
  },
  {
   "cell_type": "code",
   "execution_count": 46,
   "metadata": {
    "scrolled": true
   },
   "outputs": [
    {
     "name": "stdout",
     "output_type": "stream",
     "text": [
      "trois\n"
     ]
    }
   ],
   "source": [
    "print(liste_4[-2])"
   ]
  },
  {
   "cell_type": "code",
   "execution_count": 47,
   "metadata": {
    "scrolled": true
   },
   "outputs": [
    {
     "name": "stdout",
     "output_type": "stream",
     "text": [
      "2\n"
     ]
    }
   ],
   "source": [
    "print(liste_4[-3])"
   ]
  },
  {
   "cell_type": "markdown",
   "metadata": {},
   "source": [
    "Maintenant que nous savons comment **accéder** à des éléments dans une liste, voyons maintenant comment **découper** des listes (*slicing* en anglais).\n",
    "\n",
    "A partir d'une première liste, il est possible d'en extraire une autre liste qui sera incluera uniquement les éléments que l'on aura indiqué dans une fourchette spécifique. Pour cela, on utilise le même principe des **index**, avec une subtilité complémentaire.\n",
    "\n",
    "Voyons cela avec un exemple."
   ]
  },
  {
   "cell_type": "code",
   "execution_count": 29,
   "metadata": {},
   "outputs": [],
   "source": [
    "liste_5 = [\"zèbre\", \"tigre\", \"crocodile\", \"girafe\", \"panda\"]"
   ]
  },
  {
   "cell_type": "markdown",
   "metadata": {},
   "source": [
    "Si on souhaite accéder à la valeur `zèbre`, pas de problème, on sait faire."
   ]
  },
  {
   "cell_type": "code",
   "execution_count": 30,
   "metadata": {},
   "outputs": [
    {
     "data": {
      "text/plain": [
       "'zèbre'"
      ]
     },
     "execution_count": 30,
     "metadata": {},
     "output_type": "execute_result"
    }
   ],
   "source": [
    "liste_5[0]"
   ]
  },
  {
   "cell_type": "markdown",
   "metadata": {},
   "source": [
    "Maintenant, si on souhaite obtenir, à partir de la liste `liste_5`, une nouvelle liste qui ne contient que les deux premiers animaux, alors, on peut utiliser les deux points `:` pour indiquer l'intervale qui nous intéresse.\n",
    "\n",
    "A noter que les intervales sont exclusifs, c'est-à-dire que si l'on indique que l'on souhaite obtenir tous les éléments de la liste **jusqu'au troisième**, le troisième élément en lui-même sera exclu de la sélection.\n",
    "\n",
    "Pour rappel, les **index** d'une liste commence à la valeur `0` de l'index.\n",
    "\n",
    "Si on souhaite récupérer les deux premiers animaux, on indiquera alors du premier (`0`) jusqu'au troisième (`2`) index."
   ]
  },
  {
   "cell_type": "code",
   "execution_count": 35,
   "metadata": {},
   "outputs": [
    {
     "data": {
      "text/plain": [
       "['zèbre', 'tigre']"
      ]
     },
     "execution_count": 35,
     "metadata": {},
     "output_type": "execute_result"
    }
   ],
   "source": [
    "liste_5[0:2]"
   ]
  },
  {
   "cell_type": "markdown",
   "metadata": {},
   "source": [
    "Si on part du début ou de la fin, le premier ou le dernier index sont facultatifs."
   ]
  },
  {
   "cell_type": "code",
   "execution_count": 36,
   "metadata": {
    "scrolled": true
   },
   "outputs": [
    {
     "data": {
      "text/plain": [
       "['zèbre', 'tigre']"
      ]
     },
     "execution_count": 36,
     "metadata": {},
     "output_type": "execute_result"
    }
   ],
   "source": [
    "liste_5[:2]"
   ]
  },
  {
   "cell_type": "code",
   "execution_count": 37,
   "metadata": {},
   "outputs": [
    {
     "data": {
      "text/plain": [
       "['crocodile', 'girafe', 'panda']"
      ]
     },
     "execution_count": 37,
     "metadata": {},
     "output_type": "execute_result"
    }
   ],
   "source": [
    "liste_5[2:]"
   ]
  },
  {
   "cell_type": "markdown",
   "metadata": {},
   "source": [
    "<div class=\"alert alert-success\" role=\"alert\"><strong>Quatrième exercice :</strong> A partir de la liste <code>liste_5</code>, récupérer le <code>tigre</code> et le <code>crocodile</code> dans une nouvelle liste.</div>"
   ]
  },
  {
   "cell_type": "markdown",
   "metadata": {},
   "source": [
    "<div class=\"alert alert-danger\" role=\"alert\"><strong>Découper une liste :</strong> Pour récupérer le <code>tigre</code> et le <code>crocodile</code>, on pourrait procéder un a un, comme dans l'exercice précédent, en récupérant chaque élément de la liste en y accédant via son index, en le stockant dans une variable temporaire, puis en construisant une nouvelle liste et en y insérant les deux variables temporaires.\n",
    "<br>\n",
    "<br>\n",
    "Dans le cas présent, il y a tout de même plus simple : sélectionner directement les deux animaux en <strong>découpant</strong> la liste puisqu'ils se suivent dans <code>liste_5</code>.\n",
    "<br>\n",
    "Pour cela, on fera simplement attention à prendre en compte le fait que les bornes supérieures et inférieures de notre sélection sont <strong>exclusives</strong>.\n",
    "<pre>\n",
    "<code class=\"python\">tigre_croco = liste_5[1:3]</code>\n",
    "</pre>\n",
    "</div>"
   ]
  },
  {
   "cell_type": "markdown",
   "metadata": {},
   "source": [
    "De la même façon que l'on affecte des **valeurs** numériques ou textuelles à des **variables**, on peut modifier la **valeur** d'un élément particulier d'une liste.\n",
    "\n",
    "Pour cela, on récupère l'emplacement de l'élément que l'on souhaite remplacer à l'aide de la **sélection par index**, puis on utilise l'**opérateur d'affectation** (`=`) pour modifier la valeur."
   ]
  },
  {
   "cell_type": "markdown",
   "metadata": {},
   "source": [
    "<div class=\"alert alert-success\" role=\"alert\"><strong>Cinquième exercice : </strong>Toujours à partir de la liste <code>liste_5</code>, remplacer le <code>tigre</code> par un <code>T-Rex</code>.</div>"
   ]
  },
  {
   "cell_type": "markdown",
   "metadata": {},
   "source": [
    "<div class=\"alert alert-danger\" role=\"alert\"><strong>Modifier des valeurs dans une liste :</strong>\n",
    "<br>\n",
    "<br>\n",
    "Pour modifier des valeurs dans une liste, on peut procéder de façon similaire à ce que l'on a pu voir plus tôt concernant les <strong>valeurs</strong> textuelles ou numériques.\n",
    "<br>\n",
    "<br>\n",
    "La seule différence tient ici dans le fait qu'il nous faut utiliser la <strong>sélection par index</strong> des listes pour identifier l'élément que l'on veut modifier dans la liste.\n",
    "<br>\n",
    "<br>\n",
    "Commençons donc par identifier l'emplacement du <code>tigre</code>. Ensuite, nous pouvons affecter la nouvelle valeur à cet emplacement.\n",
    "<pre>\n",
    "<code class=\"python\">liste_5[1] = \"T-Rex\"</code>\n",
    "</pre>\n",
    "</div>"
   ]
  },
  {
   "cell_type": "markdown",
   "metadata": {},
   "source": [
    "Mais si on souhaite supprimer une valeur d'une liste ? Dans ce cas là, l'opération est un peu différente.\n",
    "\n",
    "Il existe plusieurs options pour réaliser ce type d'opération, mais voyons pour l'instant simplement un moyen simple : l'instruction `del`.\n",
    "\n",
    "On peut utiliser l'instruction `del` pour supprimer un élément particulier, à partir de son **index** ou même un morceau d'une liste en la **découpant**."
   ]
  },
  {
   "cell_type": "code",
   "execution_count": 41,
   "metadata": {},
   "outputs": [
    {
     "name": "stdout",
     "output_type": "stream",
     "text": [
      "['zèbre', 'tigre', 'crocodile', 'girafe', 'panda']\n",
      "['zèbre', 'crocodile', 'girafe', 'panda']\n"
     ]
    }
   ],
   "source": [
    "print(liste_5)\n",
    "del liste_5[1]\n",
    "print(liste_5)"
   ]
  },
  {
   "cell_type": "code",
   "execution_count": 43,
   "metadata": {},
   "outputs": [
    {
     "name": "stdout",
     "output_type": "stream",
     "text": [
      "['zèbre', 'crocodile', 'girafe', 'panda']\n",
      "['girafe', 'panda']\n"
     ]
    }
   ],
   "source": [
    "print(liste_5)\n",
    "del liste_5[:2]\n",
    "print(liste_5)"
   ]
  },
  {
   "cell_type": "markdown",
   "metadata": {},
   "source": [
    "#### <div id=\"Les tuples\">3. 4. 2. Les tuples</div>\n",
    "\n",
    "Une fois que l'on comprend le fonctionnement des listes et notamment la façon d'**accéder** aux **valeurs** qu'elles contiennent, le principe est similaire pour les autres structures de données. C'est notamment le cas pour les **tuples**.\n",
    "\n",
    "Pour comprendre la différence entre un **tuple** et une **liste**, revenons à une comparaison entre deux types de données que nous connaissons déjà : les **listes** et les **chaînes de caractères**.\n",
    "\n",
    "Les **listes** ont la particularité d'être des objets **mutables**. Un objet **mutable** est simplement un objet qui peut être modifié. Nous avons vu plus tôt que nous pouvions modifier le contenu d'un élément d'une liste en y accédant via son **index** et en utilisant l'**opérateur d'affectation** (`=`) pour modifier sa valeur. Mais on peut également retirer (avec l'instruction `del` notamment) ou ajouter (nous évoquerons ce cas plus tard) des éléments à une liste.\n",
    "\n",
    "Une **chaîne de caractère** a la particularité d'être **immutable**. Je vous ai caché certaines choses un peu plus tôt car il se trouve que l'on peut accéder à chaque lettre d'une **chaîne de caractère** en utilisant le même système d'**index** que pour les **listes**. De la même façon, les **tuples** sont **immutables**.\n",
    "\n",
    "Cela ne veut pas dire que l'on ne peut pas réaffecter leur **valeur**. On peut le faire, de la même façon qu'on le fait pour les **chaînes de caractères** : on écrase totalement l'ancien contenu de la **variable** et on lui réaffecte un nouveau contenu.\n",
    "\n",
    "Cependant, on peut essayer de modifier les lettres une à une en les réaffectant, Python renverra une erreur car le type `str` est **immutable**."
   ]
  },
  {
   "cell_type": "code",
   "execution_count": 52,
   "metadata": {},
   "outputs": [
    {
     "name": "stdout",
     "output_type": "stream",
     "text": [
      "t\n"
     ]
    }
   ],
   "source": [
    "mot = \"tigre\"\n",
    "print(mot[0])"
   ]
  },
  {
   "cell_type": "code",
   "execution_count": 53,
   "metadata": {},
   "outputs": [
    {
     "ename": "TypeError",
     "evalue": "'str' object does not support item assignment",
     "output_type": "error",
     "traceback": [
      "\u001b[1;31m---------------------------------------------------------------------------\u001b[0m",
      "\u001b[1;31mTypeError\u001b[0m                                 Traceback (most recent call last)",
      "\u001b[1;32m<ipython-input-53-d3882de6fa72>\u001b[0m in \u001b[0;36m<module>\u001b[1;34m\u001b[0m\n\u001b[1;32m----> 1\u001b[1;33m \u001b[0mmot\u001b[0m\u001b[1;33m[\u001b[0m\u001b[1;36m0\u001b[0m\u001b[1;33m]\u001b[0m \u001b[1;33m=\u001b[0m \u001b[1;34m\"b\"\u001b[0m\u001b[1;33m\u001b[0m\u001b[1;33m\u001b[0m\u001b[0m\n\u001b[0m",
      "\u001b[1;31mTypeError\u001b[0m: 'str' object does not support item assignment"
     ]
    }
   ],
   "source": [
    "mot[0] = \"b\""
   ]
  },
  {
   "cell_type": "markdown",
   "metadata": {},
   "source": [
    "<div class=\"alert alert-success\" role=\"alert\"><strong>Sixième exercice :</strong> Utiliser la variable <code>mot</code> et remplacer la première lettre de sa valeur pour écrire le mot <code>bigre</code>.</div>"
   ]
  },
  {
   "cell_type": "markdown",
   "metadata": {},
   "source": [
    "<div class=\"alert alert-danger\" role=\"alert\"><strong>Combiner le découpage par index et l'opérateur de concaténation :</strong>\n",
    "<br>\n",
    "<br>\n",
    "Commençons par découper le contenu de la variable <code>mot</code> pour exclure la première lettre.\n",
    "<pre>\n",
    "<code class=\"python\">mot_2 = mot[1:]</code>\n",
    "</pre>\n",
    "<br>\n",
    "Maintenant, utilisons l'<strong>opérateur de concaténation</strong> pour reformer le mot <code>bigre</code>.\n",
    "<pre>\n",
    "<code class=\"python\">mot_2 = \"b\" + mot[1:]</code>\n",
    "</pre>\n",
    "</div>"
   ]
  },
  {
   "cell_type": "markdown",
   "metadata": {},
   "source": [
    "Les **tuples** ressemblent de très près aux **listes**. Pour construire un **tuple**, on utilise des parenthèses (`()`) et non plus des crochets (`[]`)."
   ]
  },
  {
   "cell_type": "code",
   "execution_count": 58,
   "metadata": {
    "scrolled": true
   },
   "outputs": [
    {
     "name": "stdout",
     "output_type": "stream",
     "text": [
      "(1, 2, 3)\n"
     ]
    }
   ],
   "source": [
    "tuple_1 = (1, 2, 3)\n",
    "print(tuple_1)"
   ]
  },
  {
   "cell_type": "markdown",
   "metadata": {},
   "source": [
    "Vérifions leur propriété d'**immutabilité**."
   ]
  },
  {
   "cell_type": "code",
   "execution_count": 84,
   "metadata": {},
   "outputs": [
    {
     "ename": "TypeError",
     "evalue": "'tuple' object does not support item assignment",
     "output_type": "error",
     "traceback": [
      "\u001b[1;31m---------------------------------------------------------------------------\u001b[0m",
      "\u001b[1;31mTypeError\u001b[0m                                 Traceback (most recent call last)",
      "\u001b[1;32m<ipython-input-84-b72e5a26927e>\u001b[0m in \u001b[0;36m<module>\u001b[1;34m\u001b[0m\n\u001b[1;32m----> 1\u001b[1;33m \u001b[0mtuple_1\u001b[0m\u001b[1;33m[\u001b[0m\u001b[1;36m0\u001b[0m\u001b[1;33m]\u001b[0m \u001b[1;33m=\u001b[0m \u001b[1;36m10\u001b[0m\u001b[1;33m\u001b[0m\u001b[1;33m\u001b[0m\u001b[0m\n\u001b[0m",
      "\u001b[1;31mTypeError\u001b[0m: 'tuple' object does not support item assignment"
     ]
    }
   ],
   "source": [
    "tuple_1[0] = 10"
   ]
  },
  {
   "cell_type": "markdown",
   "metadata": {},
   "source": [
    "Si on ne peut pas modifier un élément d'un **tuple** avec la méthode d'accès via l'**index** de l'élément, on peut tout à fait réaffecter un nouveau contenu à la variable qui accueille notre tuple."
   ]
  },
  {
   "cell_type": "code",
   "execution_count": 85,
   "metadata": {},
   "outputs": [
    {
     "name": "stdout",
     "output_type": "stream",
     "text": [
      "(4, 5, 6)\n"
     ]
    }
   ],
   "source": [
    "tuple_1 = (4, 5, 6)\n",
    "print(tuple_1)"
   ]
  },
  {
   "cell_type": "markdown",
   "metadata": {},
   "source": [
    "Contrairement aux **listes** qui peuvent contenir un seul élément, il faut préciser que l'on souhaite créer un **tuple** avec un seul élément sinon Python l'interprétera comme une **chaîne de caractère** ou une **donnée numérique** selon la valeur que l'on entre."
   ]
  },
  {
   "cell_type": "code",
   "execution_count": 59,
   "metadata": {},
   "outputs": [
    {
     "name": "stdout",
     "output_type": "stream",
     "text": [
      "<class 'tuple'>\n"
     ]
    }
   ],
   "source": [
    "tuple_2 = (\"un\",)\n",
    "print(type(tuple_2))"
   ]
  },
  {
   "cell_type": "code",
   "execution_count": 60,
   "metadata": {
    "scrolled": true
   },
   "outputs": [
    {
     "name": "stdout",
     "output_type": "stream",
     "text": [
      "<class 'str'>\n"
     ]
    }
   ],
   "source": [
    "pas_un_tuple = (\"un\")\n",
    "print(type(pas_un_tuple))"
   ]
  },
  {
   "cell_type": "markdown",
   "metadata": {},
   "source": [
    "Comme les **listes** et les **tuples** sont assez similaires, on peut facilement les convertir dans un sens ou dans l'autre, un peu comme nous avons procédé plus tôt avec les `str` et les `int`.\n",
    "\n",
    "Voyons cela, essayons tout d'abord de convertir notre `tuple_1` en liste."
   ]
  },
  {
   "cell_type": "code",
   "execution_count": 66,
   "metadata": {},
   "outputs": [
    {
     "name": "stdout",
     "output_type": "stream",
     "text": [
      "[1, 2, 3]\n",
      "<class 'list'>\n"
     ]
    }
   ],
   "source": [
    "liste_1 = list(tuple_1)\n",
    "print(liste_1)\n",
    "print(type(liste_1))"
   ]
  },
  {
   "cell_type": "markdown",
   "metadata": {},
   "source": [
    "Essayons maintenant dans l'autre sens."
   ]
  },
  {
   "cell_type": "code",
   "execution_count": 68,
   "metadata": {},
   "outputs": [
    {
     "name": "stdout",
     "output_type": "stream",
     "text": [
      "(1, 2, 3)\n",
      "<class 'tuple'>\n"
     ]
    }
   ],
   "source": [
    "tuple_1 = tuple(liste_1)\n",
    "print(tuple_1)\n",
    "print(type(tuple_1))"
   ]
  },
  {
   "cell_type": "markdown",
   "metadata": {},
   "source": [
    "#### <div id=\"Les dictionnaires\">3. 4. 3. Les dictionnaires</div>"
   ]
  },
  {
   "cell_type": "markdown",
   "metadata": {},
   "source": [
    "Un **dictionnaire** est une structure de données similaire à une liste : il peut stocker des valeurs de n'importe quel type (**chaînes de caractères**, **données numériques** et autres comme nous le verrons plus loin).\n",
    "\n",
    "Contrairement aux **listes**, les **dictionnaires** ne se parcourent pas par **index**, mais par **clé**. A chaque **clé**, les **dictionnaires** associent une **valeur** : on parle en cela de **paire clé-valeur**.\n",
    "\n",
    "Contrairement aux **listes**, les **dictionnaires** sont délimités par deux accolades (`{}`).\n",
    "\n",
    "Voyons un exemple pour clarifier cela."
   ]
  },
  {
   "cell_type": "code",
   "execution_count": 87,
   "metadata": {},
   "outputs": [],
   "source": [
    "dico1 = {\"nom\" : \"Doe\", \"prenom\": \"John\", \"age\": 30, \"date_naissance\": \"01/01/1930\", \"telephone\": \"01.02.03.04.05\"}"
   ]
  },
  {
   "cell_type": "markdown",
   "metadata": {},
   "source": [
    "Pour accéder aux **valeurs** contenues dans le **dictionnaire**, on utilise un principe similaire à celui des **listes**, à la différence du fait que l'on précise la **clé** correspondante à la **valeur** que l'on souhaite récupérer (et non plus son **index**). Ceci est lié au fait que les **dictionnaires**, contrairement aux **listes** sont des structures de données **non-ordonnées**."
   ]
  },
  {
   "cell_type": "code",
   "execution_count": 88,
   "metadata": {},
   "outputs": [
    {
     "data": {
      "text/plain": [
       "'Doe'"
      ]
     },
     "execution_count": 88,
     "metadata": {},
     "output_type": "execute_result"
    }
   ],
   "source": [
    "dico1[\"nom\"]"
   ]
  },
  {
   "cell_type": "markdown",
   "metadata": {},
   "source": [
    "<div class=\"alert alert-success\" role=\"alert\"><strong>Septième exercice :</strong> Construire un dictionnaire associant le nom et la date de naissances de personnes.</div>"
   ]
  },
  {
   "cell_type": "markdown",
   "metadata": {},
   "source": [
    "<div class=\"alert alert-danger\"><strong>Construire un dictionnaire en associant des clés à des valeurs :</strong>\n",
    "<br>\n",
    "<br>\n",
    "Comme nous l'avons vu plus tôt, il est très simple de construire un dictionnaire. Il suffit de définir une <strong>clé</strong> et d'y associer une <strong>valeur</strong>.\n",
    "    \n",
    "<pre>\n",
    "<code class=\"python\">date_naissance = {\n",
    "    \"Voltaire\": \"21/11/1994\",\n",
    "    \"Diderot\": \"05/10/1713\",\n",
    "    \"Rousseau\": \"28/06/1712\"\n",
    "}</code>\n",
    "</pre>\n",
    "</div>"
   ]
  },
  {
   "cell_type": "markdown",
   "metadata": {},
   "source": [
    "Comme pour les **listes**, les **dictionnaires** sont des objets **mutables**. On peut utiliser leur **clé** pour accéder à leur **valeur** associée mais aussi, les utiliser pour réaffecter de nouvelles valeurs.\n",
    "\n",
    "Voyons cela."
   ]
  },
  {
   "cell_type": "code",
   "execution_count": 90,
   "metadata": {},
   "outputs": [
    {
     "name": "stdout",
     "output_type": "stream",
     "text": [
      "{'nom': 'Doe', 'prenom': 'Jack', 'age': 30, 'date_naissance': '01/01/1930', 'telephone': '01.02.03.04.05'}\n"
     ]
    }
   ],
   "source": [
    "dico1[\"prenom\"] = \"Jack\"\n",
    "print(dico1)"
   ]
  },
  {
   "cell_type": "markdown",
   "metadata": {},
   "source": [
    "Les **dictionnaires** disposent de **fonctions particulières** que l'on appelle **méthodes** (nous parlerons un peu plus tard de la différence entre les **méthodes** et les **fonctions**). Elles permettent de synthétiser les informations que contiennent un **dictionnaire**. Parmi ces **méthodes**, on compte en particulier :\n",
    "* `.keys()` : permet d'obtenir toutes les **clés** du dictionnaire sur lequel cette méthode est appelée\n",
    "* `.values()` : permet d'obtenir toutes les **valeurs** du dictionnaire sur lequel cette méthode est appelée\n",
    "* `.items()` : permet d'obtenir toutes les **paires clé-valeur** du dictionnaire sur lequel cette méthode est appelée\n",
    "\n",
    "Voyons cela en détail.\n",
    "\n",
    "Commençons par afficher les **clés** de notre `dico1` créé un peu plus tôt."
   ]
  },
  {
   "cell_type": "code",
   "execution_count": 93,
   "metadata": {},
   "outputs": [
    {
     "name": "stdout",
     "output_type": "stream",
     "text": [
      "dict_keys(['nom', 'prenom', 'age', 'date_naissance', 'telephone'])\n"
     ]
    }
   ],
   "source": [
    "cles = dico1.keys()\n",
    "print(cles)"
   ]
  },
  {
   "cell_type": "markdown",
   "metadata": {},
   "source": [
    "Maintenant, affichons toutes les **valeurs**."
   ]
  },
  {
   "cell_type": "code",
   "execution_count": 94,
   "metadata": {},
   "outputs": [
    {
     "name": "stdout",
     "output_type": "stream",
     "text": [
      "dict_values(['Doe', 'Jack', 30, '01/01/1930', '01.02.03.04.05'])\n"
     ]
    }
   ],
   "source": [
    "valeurs = dico1.values()\n",
    "print(valeurs)"
   ]
  },
  {
   "cell_type": "markdown",
   "metadata": {},
   "source": [
    "Enfin, affichons les **paires clé-valeur**."
   ]
  },
  {
   "cell_type": "code",
   "execution_count": 95,
   "metadata": {},
   "outputs": [
    {
     "name": "stdout",
     "output_type": "stream",
     "text": [
      "dict_items([('nom', 'Doe'), ('prenom', 'Jack'), ('age', 30), ('date_naissance', '01/01/1930'), ('telephone', '01.02.03.04.05')])\n"
     ]
    }
   ],
   "source": [
    "paires = dico1.items()\n",
    "print(paires)"
   ]
  },
  {
   "cell_type": "markdown",
   "metadata": {},
   "source": [
    "#### <div id=\"List-ception... et la fonction len()\">3. 4. 4. List-ception... et la fonction <code>len()</code></div>\n",
    "\n",
    "Nous avons vu, et cela vaut pour toutes les **structures de données** (tuples et dictionnaires compris donc), qu'une liste peut contenir des **valeurs** de différents types. En réalité, les listes peuvent contenir elles-mêmes d'autres **structures de données** : rien ne nous empêche de construire une liste qui, dans chaque emplacement, contiendra une autre **liste**. A son tour, cette liste inclue dans la liste pourra à nouveau accueillir une nouvelle liste ou un dictionnaire, ou un tuple, ou plus simplement, une chaîne de caractère ou un nombre.\n",
    "\n",
    "Voyons à présent une fonction bien utile qui nous permettra de nous y retrouver dans les possibles imbrications infinies de listes, tuples et dictionnaires...\n",
    "\n",
    "La fonction `len()` prend en **paramètre** une **variable** de n'importe quelle type (chaîne de caractère, nombre, liste, dictionnaire, etc.). Elle renvoie, en sortie, la longueur du type de données mesuré. Cette information variera en fonction du type de données mesuré :\n",
    "* Si c'est une chaîne de caractère, `len()` renvoie le nombre de caractères de la chaîne\n",
    "* Si c'est une liste, un tuple ou un dictionnaire, `len()` renvoie le nombre d'emplacements de la structure de données\n",
    "\n",
    "Voyons cela concrètement."
   ]
  },
  {
   "cell_type": "code",
   "execution_count": 9,
   "metadata": {},
   "outputs": [
    {
     "name": "stdout",
     "output_type": "stream",
     "text": [
      "[2, 3, 'abc', [10, 11, 12], {'nom': 'John Doe', 'age': 34, 'tel': '01.02.03.04.05', 'mail': 'john.doe@mail.com'}]\n"
     ]
    }
   ],
   "source": [
    "liste_a = [2, 3, \"abc\", list((10, 11, 12)), {\"nom\": \"John Doe\", \"age\": 34, \"tel\": \"01.02.03.04.05\", \"mail\": \"john.doe@mail.com\"}]\n",
    "print(liste_a)"
   ]
  },
  {
   "cell_type": "code",
   "execution_count": 60,
   "metadata": {},
   "outputs": [
    {
     "data": {
      "text/plain": [
       "5"
      ]
     },
     "execution_count": 60,
     "metadata": {},
     "output_type": "execute_result"
    }
   ],
   "source": [
    "len(liste_a)"
   ]
  },
  {
   "cell_type": "markdown",
   "metadata": {},
   "source": [
    "La liste `liste_a` contient bel et bien 5 éléments différents. Résumons ces éléments sous forme de tableau pour mieux comprendre leur imbrication.\n",
    "\n",
    "|Index|Valeur|Type de données|\n",
    "|---|---|---|\n",
    "|0|`2`|`int`|\n",
    "|1|`3`|`int`|\n",
    "|2|`abc`|`str`|\n",
    "|3|`[10, 11, 12]`|`list`|\n",
    "|4|`{\"nom\": \"John Doe\", \"age\": 34, \"tel\": \"01.02.03.04.05\", \"mail\": \"john.doe@mail.com\"}`|`dict`|"
   ]
  },
  {
   "cell_type": "markdown",
   "metadata": {},
   "source": [
    "Tentons d'accéder à certains de ses éléments et de vérifier leur type."
   ]
  },
  {
   "cell_type": "code",
   "execution_count": 11,
   "metadata": {
    "scrolled": true
   },
   "outputs": [
    {
     "data": {
      "text/plain": [
       "list"
      ]
     },
     "execution_count": 11,
     "metadata": {},
     "output_type": "execute_result"
    }
   ],
   "source": [
    "type(liste_a[3])"
   ]
  },
  {
   "cell_type": "code",
   "execution_count": 12,
   "metadata": {},
   "outputs": [
    {
     "data": {
      "text/plain": [
       "dict"
      ]
     },
     "execution_count": 12,
     "metadata": {},
     "output_type": "execute_result"
    }
   ],
   "source": [
    "type(liste_a[-1])"
   ]
  },
  {
   "cell_type": "markdown",
   "metadata": {},
   "source": [
    "De la même façon, on peut mesurer la taille d'un dictionnaire : `len()` renverra alors le nombre de paires **clé-valeur** qui existe dans le dictionnaire."
   ]
  },
  {
   "cell_type": "code",
   "execution_count": 10,
   "metadata": {},
   "outputs": [
    {
     "data": {
      "text/plain": [
       "4"
      ]
     },
     "execution_count": 10,
     "metadata": {},
     "output_type": "execute_result"
    }
   ],
   "source": [
    "len(liste_a[-1])"
   ]
  },
  {
   "cell_type": "markdown",
   "metadata": {},
   "source": [
    "<div class=\"alert alert-success\" role=\"alert\"><strong>Quatrième exercice :</strong> A partir de la liste <code>liste_a</code>, affecter à une nouvelle liste, nommée <code>liste_b</code>, les valeurs suivantes de la liste <code>liste_a</code> :\n",
    "<ul>\n",
    "    <li><code>abc</code></li>\n",
    "    <li><code>11</code></li>\n",
    "    <li><code>John Doe</code></li>\n",
    "    <li><code>john.doe@mail.com</code></li>\n",
    "</ul>\n",
    "</div>"
   ]
  },
  {
   "cell_type": "markdown",
   "metadata": {},
   "source": [
    "<div class=\"alert alert-danger\" role=\"alert\"><strong>Utiliser les index de structures de données pour extraire leur valeur :</strong>\n",
    "<br>\n",
    "<br>\n",
    "Il y a de multiples opérations à réaliser pour parvenir à notre résultat. Comme d'habitude, le plus simple est de <strong>décomposer</strong> chaque étape intermédiaire en utilisant des <strong>variables</strong> pour stocker les valeurs intermédiaires de chacune de ces étapes.\n",
    "<br>\n",
    "Commençons par accéder à chaque élément que l'on stockera dans des variables intermédiaires. Une pratique commune parmis les développeurs Python est de nommer les <code>variables temporaires</code> avec des noms du type <code>_</code>.\n",
    "<br>\n",
    "<br>\n",
    "Récupérons la valeur <code>abc</code> de la liste <code>liste_a</code> :\n",
    "<pre>\n",
    "<code class=\"python\">_1 = liste_a[2]</code>\n",
    "</pre>\n",
    "<br>\n",
    "Plutôt facile, non ? Passons maintenant à la valeur <code>11</code>. Ici, c'est plus délicat car il faut accéder à l'index de la liste <code>liste_a</code>, puis accéder à l'index de liste qui se trouve à cet emplacement de <code>liste_a</code>. Pour cela, on peut utiliser deux <strong>index</strong> à la suite : le premier récupérera la position de la liste incluse dans <code>liste_a</code>, le second accédera à l'indice auquel se trouve la valeur <code>11</code> dans cette <strong>sous-liste</strong>.\n",
    "<br>\n",
    "<pre>\n",
    "<code class=\"python\">_2 = liste_a[3][1]</code>\n",
    "</pre>\n",
    "<br>\n",
    "A présent, il s'agira d'utiliser le même <strong>chaînage d'index</strong> (c'est-à-dire les appeler les uns à la suite des autres) pour accéder à valeur dans le dictionnaire inclu dans la liste <code>liste_a</code>. Comme nous travaillons avec un dictionnaire inclu dans une liste, le deuxième index ne sera pas numérique mais renverra à la <strong>clé du dictionnaire</strong>.\n",
    "<pre>\n",
    "<code class=\"python\">_3 = liste_a[4][\"nom\"]</code>\n",
    "</pre>\n",
    "<br>\n",
    "Même principe pour récupérer l'adresse mail, <code>john.doe@mail.com</code>. Essayons de faire cela différemment cette fois, tout de même. Comme le dictionnaire dans la liste <code>liste_a</code> est le dernier élément, on peut utiliser l'<strong>index inverse</strong> et appeler directement le dernier élément de la liste <code>liste_a</code>.\n",
    "<pre>\n",
    "<code class=\"python\">_4 = liste_a[-1][\"mail\"]</code>\n",
    "</pre>\n",
    "<br>\n",
    "Maintenant que l'on a chaque valeur stockée dans une <code>variable</code>, on peut les utiliser pour construire notre liste <code>liste_b</code>.\n",
    "<pre>\n",
    "<code class=\"python\">liste_b = [_1, _2, _3, _4]</code\n",
    "</pre>\n",
    "</div>"
   ]
  },
  {
   "cell_type": "markdown",
   "metadata": {},
   "source": [
    "Nous avons ici pris l'exemple de listes et de dictionnaires imbriqués dans une liste, mais il est également tout à fait possible d'imbriquer des listes dans des dictionnaires ou des dictionnaires dans des dictionnaires, des tuples dans des dictionnaires ou des listes dans des tuples...\n",
    "\n",
    "Voyons un exemple avec un dictionnaire dans un dictionnaire."
   ]
  },
  {
   "cell_type": "code",
   "execution_count": 28,
   "metadata": {},
   "outputs": [
    {
     "name": "stdout",
     "output_type": "stream",
     "text": [
      "{'nom': 'John Doe', 'tel': '01.02.03.04.05', 'famille': {'mere': 'Jannie Doe', 'pere': 'Jack Doe', 'frere': 'James Doe', 'soeur': 'Jane Doe'}}\n"
     ]
    }
   ],
   "source": [
    "carnet = {\n",
    "    \"nom\": \"John Doe\",\n",
    "    \"tel\": \"01.02.03.04.05\",\n",
    "    \"famille\": {\n",
    "        \"mere\": \"Jannie Doe\",\n",
    "        \"pere\": \"Jack Doe\",\n",
    "        \"frere\": \"James Doe\",\n",
    "        \"soeur\": \"Jane Doe\"\n",
    "    }\n",
    "}\n",
    "\n",
    "print(carnet)"
   ]
  },
  {
   "cell_type": "markdown",
   "metadata": {},
   "source": [
    "#### <div id=\"Approfondissement sur les objets mutables\">3. 4. 5. Approfondissement sur les objets mutables</div>\n",
    "\n",
    "Maintenant que nous sommes un peu plus à l'aise avec les structures de données, essayons de comprendre plus en détail le fonctionnement des **listes** et des **tuples** pour éviter de futurs pièges.\n",
    "\n",
    "Voyons cela d'emblée avec quelques exemples."
   ]
  },
  {
   "cell_type": "code",
   "execution_count": 69,
   "metadata": {},
   "outputs": [],
   "source": [
    "liste_a = [\"a\", \"b\", \"c\", \"d\"]\n",
    "liste_b = liste_a"
   ]
  },
  {
   "cell_type": "markdown",
   "metadata": {},
   "source": [
    "Ici, nous avons simplement créé une première liste `liste_a` qui contient 4 valeurs différentes.\n",
    "\n",
    "Ensuite, nous affectons la valeur de la **variable** `liste_a` à une nouvelle **variable** `liste_b`. De prime abord, on pourrait penser qu'il s'agit de deux objets différents.\n",
    "\n",
    "Voyons ce qu'il se passe si nous tentons de faire quelques modifications sur notre `liste_a`."
   ]
  },
  {
   "cell_type": "code",
   "execution_count": 71,
   "metadata": {},
   "outputs": [
    {
     "name": "stdout",
     "output_type": "stream",
     "text": [
      "['z', 'b', 'c', 'd']\n"
     ]
    }
   ],
   "source": [
    "liste_a[0] = \"z\"\n",
    "print(liste_a)"
   ]
  },
  {
   "cell_type": "markdown",
   "metadata": {},
   "source": [
    "Jusque là, tout va bien : nous avons réaffecté au premier élément de la liste `liste_a`, une nouvelle valeur `z`.\n",
    "\n",
    "Voyons maintenant ce qu'est devenu notre liste `liste_b`."
   ]
  },
  {
   "cell_type": "code",
   "execution_count": 72,
   "metadata": {},
   "outputs": [
    {
     "name": "stdout",
     "output_type": "stream",
     "text": [
      "['z', 'b', 'c', 'd']\n"
     ]
    }
   ],
   "source": [
    "print(liste_b)"
   ]
  },
  {
   "cell_type": "markdown",
   "metadata": {},
   "source": [
    "Mauvaise surprise... Même si nous n'avons pas modifié la **variable** `liste_b`, celle-ci s'est modifiée... toute seule ? Pas exactement.\n",
    "\n",
    "En réalité, lorsque l'on a utilisé l'**opérateur d'affectation** pour affecter la **valeur** de `liste_a` à la **variable** `liste_b`, Python n'a pas créé un nouvel objet, mais pointe vers une **référence** (qui se trouve être la même). Lorsque cette **référence** est modifiée, les deux **variables** qui pointent vers cette même **référence** renvoient les mêmes valeurs.\n",
    "\n",
    "C'est pourquoi, parler de **variables** qui \"stockent\" des **valeurs** est un raccourci. Dans le cas des objest mutables (comme les listes ou les dictionnaires), il faut davantage se représenter les **variables** comme des étiquettes que l'on pose sur des objets. Si un objet est similaire à un autre, on lui posera la même étiquette. Si on demande ce qu'il y a écrit sur l'étiquette, la réponse sera la même (bien qu'il y ait deux étiquettes différentes). "
   ]
  },
  {
   "cell_type": "markdown",
   "metadata": {},
   "source": [
    "#### <div id=\"En résumé2\">3. 4. 6. En résumé</div>"
   ]
  },
  {
   "cell_type": "markdown",
   "metadata": {},
   "source": [
    "Comme un schéma vaut souvent mieux qu'un long discours (trop tard pour le long discours...), voyons ici en résumé les différents points sur les structures de données que nous avons abordé.\n",
    "\n",
    "<img src=\"img/structures_data.png\" alt=\"structures données\"/>"
   ]
  },
  {
   "cell_type": "markdown",
   "metadata": {},
   "source": [
    "### <div id=\"Les structures de contrôle\">3. 5. Les structures de contrôle</div>\n",
    "\n",
    "A présent, nous allons attaquer les choses sérieuses. Dans tous les langages de programmation, il existe ce que l'on appelle des **structures de contrôle** : celles-ci permettent de construire des **algorithmes** qui définiront des formes de \"recettes\" à suivre pour nos programmes.\n",
    "\n",
    "Jusqu'à présent, nous avons simplement donné des ordres à notre machine, en créant des variables, des listes, et autres types d'objets. Maintenant, nous allons pouvoir contrôler l'évolution des **valeurs** que prennent nos variables et définir, en fonctions de critères particuliers, ce qu'il s'agit de faire pour poursuivre l'exécution du programme.\n",
    "\n",
    "Une manière usuelle de représenter le fonctionnement d'un **algorithme** consiste à en dresser l'<a href=\"https://fr.wikipedia.org/wiki/Arbre_de_d%C3%A9cision\">**arbre de décision**</a>. Cela peut être utile, lors de l'écriture de ses premiers prototypes, de prendre une feuille de papier et un crayon pour tenter de visualiser le comportement attendu de notre programme."
   ]
  },
  {
   "cell_type": "markdown",
   "metadata": {},
   "source": [
    "#### <div id=\"Les opérateurs de comparaison\">3. 5. 1. Les opérateurs de comparaison</div>\n",
    "\n",
    "Tout d'abord, il s'agit de comprendre comment fonctionnent les **tests** appliqués à des **valeurs**. Ceux-ci s'appuient sur des **opérateurs de comparaison** qui se limitent à **vérifier** si une **valeur** particulière répond à des critères précis.\n",
    "\n",
    "Il existe plusieurs **opérateurs de comparaison** :\n",
    "\n",
    "|Opérateur|Signification|\n",
    "|---|---|\n",
    "|==|Est égal à|\n",
    "|!=|Est différent de|\n",
    "|<|Est supérieur à|\n",
    "|>|Est inférieur à|\n",
    "|<=|Est supérieur ou égal à|\n",
    "|>=|Est inférieur ou égal à|\n",
    "\n",
    "Une ligne contenant un **opérateur de comparaison** comparant deux **valeurs** est une **instruction** qui ne peut renvoyer que deux types de réponses :\n",
    "* `True` : les critères de la comparaison sont bel et bien vérifiés\n",
    "* `False` : les critères de la comparaison ne sont pas vérifiés\n",
    "\n",
    "Voyons quelques exemples pour y voir plus clair."
   ]
  },
  {
   "cell_type": "code",
   "execution_count": 96,
   "metadata": {},
   "outputs": [
    {
     "name": "stdout",
     "output_type": "stream",
     "text": [
      "False\n"
     ]
    }
   ],
   "source": [
    "a = 2\n",
    "print(a < 1)"
   ]
  },
  {
   "cell_type": "markdown",
   "metadata": {},
   "source": [
    "Si les **opérateurs de comparaison** sont très utiles pour travailler sur des **données numériques**, ils peuvent être utilisés également pour travailler sur des **chaînes de caractères**. Attention toutefois, comme pour les fonctions disponibles selon le **type de données** que contient une **variable**, certaines **opérations de comparaison** ne seront pas possibles."
   ]
  },
  {
   "cell_type": "code",
   "execution_count": 97,
   "metadata": {},
   "outputs": [
    {
     "ename": "TypeError",
     "evalue": "'>' not supported between instances of 'int' and 'str'",
     "output_type": "error",
     "traceback": [
      "\u001b[1;31m---------------------------------------------------------------------------\u001b[0m",
      "\u001b[1;31mTypeError\u001b[0m                                 Traceback (most recent call last)",
      "\u001b[1;32m<ipython-input-97-2f1ea93c5c86>\u001b[0m in \u001b[0;36m<module>\u001b[1;34m\u001b[0m\n\u001b[0;32m      1\u001b[0m \u001b[0mphrase\u001b[0m \u001b[1;33m=\u001b[0m \u001b[1;34m\"J'apprends à programmer en Python.\"\u001b[0m\u001b[1;33m\u001b[0m\u001b[1;33m\u001b[0m\u001b[0m\n\u001b[1;32m----> 2\u001b[1;33m \u001b[0mprint\u001b[0m\u001b[1;33m(\u001b[0m\u001b[0ma\u001b[0m \u001b[1;33m>\u001b[0m \u001b[0mphrase\u001b[0m\u001b[1;33m)\u001b[0m\u001b[1;33m\u001b[0m\u001b[1;33m\u001b[0m\u001b[0m\n\u001b[0m",
      "\u001b[1;31mTypeError\u001b[0m: '>' not supported between instances of 'int' and 'str'"
     ]
    }
   ],
   "source": [
    "phrase = \"J'apprends à programmer en Python.\"\n",
    "print(a > phrase)"
   ]
  },
  {
   "cell_type": "code",
   "execution_count": 105,
   "metadata": {
    "scrolled": false
   },
   "outputs": [
    {
     "name": "stdout",
     "output_type": "stream",
     "text": [
      "True\n",
      "True\n",
      "False\n"
     ]
    }
   ],
   "source": [
    "text = phrase\n",
    "print(text != a)\n",
    "print(text == phrase)\n",
    "print(text == a)"
   ]
  },
  {
   "cell_type": "markdown",
   "metadata": {},
   "source": [
    "Voyons un autre exemple dans le même esprit."
   ]
  },
  {
   "cell_type": "code",
   "execution_count": 114,
   "metadata": {},
   "outputs": [
    {
     "name": "stdout",
     "output_type": "stream",
     "text": [
      "False\n"
     ]
    }
   ],
   "source": [
    "a = 42\n",
    "b = \"42\"\n",
    "print(a == b)"
   ]
  },
  {
   "cell_type": "markdown",
   "metadata": {},
   "source": [
    "Dans cet exemple, les **variables** `a` et `b` ne sont pas égales car elles ne sont pas du même **type**, bien qu'elles contiennent la même information à nos yeux.\n",
    "\n",
    "Vérifions cela avec un **opérateur de comparaison** (et voyons par la même occasion comment on peut manipuler des fonctions un peu de la même façon que l'on utilise des **variables**)."
   ]
  },
  {
   "cell_type": "code",
   "execution_count": 116,
   "metadata": {},
   "outputs": [
    {
     "name": "stdout",
     "output_type": "stream",
     "text": [
      "False\n"
     ]
    }
   ],
   "source": [
    "print(type(a) == type(b))"
   ]
  },
  {
   "cell_type": "markdown",
   "metadata": {},
   "source": [
    "Attention tout de même avec quelques subtilités. Il existe un contenu particulier qui peut être affecté à des variables : il s'agit de la valeur `undefined`.\n",
    "\n",
    "Une variable `undefined` existe mais ne contient pas de valeur ou, plus exactement, renvoie la **valeur** `undefined` (qui peut être vue comme une **valeur** en Python).\n",
    "\n",
    "Ainsi, une **chaîne de caractère** vide et une **variable** `undefined` ne contiennent pas la même information pour l'interpréteur Python (mais si, de notre point de vue, il s'agit de la même chose : quelle différence entre une variable vide et une variable indéfinie ?).\n",
    "\n",
    "Effectuons quelques tests à l'aide des **opérateurs de comparaison** pour voir ces cas particuliers."
   ]
  },
  {
   "cell_type": "code",
   "execution_count": 113,
   "metadata": {},
   "outputs": [
    {
     "name": "stdout",
     "output_type": "stream",
     "text": [
      "False\n",
      "<class 'NoneType'>\n",
      "<class 'str'>\n"
     ]
    }
   ],
   "source": [
    "undef = None\n",
    "vide = \"\"\n",
    "print(vide == undef)\n",
    "print(type(undef))\n",
    "print(type(vide))"
   ]
  },
  {
   "cell_type": "markdown",
   "metadata": {},
   "source": [
    "Nous voyons bien que la **variable** `undef` est de type `NoneType`, contrairement à la **variable** `vide` qui est de type `str`."
   ]
  },
  {
   "cell_type": "markdown",
   "metadata": {},
   "source": [
    "#### <div id=\"Les opérateurs booléens\">3. 5. 2. Les opérateurs booléens</div>\n",
    "\n",
    "Les **opérateurs booléens**, derrière l'apparence d'un nom complexe, constituent en réalité des briques très simples pour effectuer des opérations logiques de base.\n",
    "\n",
    "Il existe trois **opérateurs booléens** dont on résume souvent les priorités sous la forme de **tables de Boole** (ou **lois de Boole**)."
   ]
  },
  {
   "cell_type": "markdown",
   "metadata": {},
   "source": [
    "#### <div id=\"Combiner des conditions\">3. 5. 3. Combiner des conditions</div>\n",
    "\n"
   ]
  },
  {
   "cell_type": "markdown",
   "metadata": {},
   "source": [
    "### <div id=\"Les boucles\">3. 6. Les boucles</div>\n",
    "\n",
    "Liste :\n",
    "* Parler des .remove()\n",
    "* .append()"
   ]
  },
  {
   "cell_type": "markdown",
   "metadata": {},
   "source": [
    "## <div id=\"Sources et références utiles\">Sources et références utiles</div>\n",
    "\n",
    "Le présent support a été réalisé à l'aide des références suivantes. Tous ne sont pas utiles aux novices, mais peuvent constituer des compléments utiles pour approfondir des notions et travailler ses compétences acquises.\n",
    "\n",
    "* **Documentation officielle :**\n",
    "    * **Python 3, URL : https://docs.python.org/3/.**\n",
    "* **Manuels** :    \n",
    "    * **Al Sweigart, *Automate the boring stuff with Python. Practical programming for total beginners*, San Francisco, No starch press, 2015.**: Lecture très facile avec des applications et des exemples de scripts. Il permet de partir de zéro et d'arriver rapidement à appliquer ses connaissances pour construire de petits projets bien utiles pour automatiser un certain nombre d'opérations courantes (fichiers Excel, envoi de mails, web scraping, etc.).\n",
    "    * **Luciano Ramalho, *Fluent Python. Clear, concise, and effective programming*, Sebastopol, O'Reilly, 2015.** : Lecture plus difficile, gros pavé de plus de 700 pages. Il permet d'approfondir sa connaissance du langage Python, ses spécificités et sa philosophie (pythonic). C'est une sorte de mini-bible du langage.\n",
    "* **Blogs** :\n",
    "    * **Rishi Sidhu, *Comprehensive Python cheat sheet for beginners*, Medium, 10 Avril 2020, URL : https://medium.com/the-codehub/comprehensive-python-cheat-sheet-for-beginners-5d76bb038fa2.** :\n",
    "    * **Yong Cui, *6 things to understand Python data mutability*, Medium, 8 Avril 2020, URL : https://medium.com/swlh/6-things-to-understand-python-data-mutability-b52f5c5db191.** : Un post de blog qui explique en détail les les logiques de la mutabilité avec Python. Quelle est la différence entre les fonctions `type()` et `id()` ? Comprendre la différence entre l'identité, le type et la valeur d'un objet Python.\n",
    "* **MOOCs** :\n",
    "    * **OpenClassrooms, *Apprenez à programmer en Python*, URL : https://openclassrooms.com/fr/courses/235344-apprenez-a-programmer-en-python.** : Un cours très complet qui permet de partir des bases pour aller jusqu'aux notions plus avancées (programmation orientée-objet, métaclasses, décorateurs, générateurs, etc.). Le cours est plutôt orienté dans une optique de développement d'application mais peut servir de socle solide pour débuter et s'exercer avec des mini-projets et des séries d'exercices et de quizz pour tester ses connaissances."
   ]
  },
  {
   "cell_type": "code",
   "execution_count": null,
   "metadata": {},
   "outputs": [],
   "source": [
    "# test imports\n",
    "import requests\n",
    "from bs4 import BeautifulSoup"
   ]
  }
 ],
 "metadata": {
  "kernelspec": {
   "display_name": "Python 3",
   "language": "python",
   "name": "python3"
  },
  "language_info": {
   "codemirror_mode": {
    "name": "ipython",
    "version": 3
   },
   "file_extension": ".py",
   "mimetype": "text/x-python",
   "name": "python",
   "nbconvert_exporter": "python",
   "pygments_lexer": "ipython3",
   "version": "3.7.4"
  }
 },
 "nbformat": 4,
 "nbformat_minor": 4
}
