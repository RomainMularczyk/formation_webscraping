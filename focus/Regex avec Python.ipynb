{
 "cells": [
  {
   "cell_type": "markdown",
   "metadata": {},
   "source": [
    "# Les expressions régulières avec Python"
   ]
  },
  {
   "cell_type": "markdown",
   "metadata": {},
   "source": [
    "## Rechercher des motifs avec les fonctions standards de Python"
   ]
  },
  {
   "cell_type": "markdown",
   "metadata": {},
   "source": [
    "S'il existe des fonctions standard de Python pour effectuer des **recherches dans des chaînes de caractères**, celles-ci se trouvent bien souvent relativement limitées pour les cas les plus complexes.\n",
    "\n",
    "Pour vérifier si une **chaîne de caractère** est présente dans une autre chaîne, on peut ainsi utiliser l'opérateur `in`."
   ]
  },
  {
   "cell_type": "code",
   "execution_count": 7,
   "metadata": {},
   "outputs": [],
   "source": [
    "c = \"hey123there\""
   ]
  },
  {
   "cell_type": "code",
   "execution_count": 8,
   "metadata": {},
   "outputs": [
    {
     "data": {
      "text/plain": [
       "True"
      ]
     },
     "execution_count": 8,
     "metadata": {},
     "output_type": "execute_result"
    }
   ],
   "source": [
    "\"123\" in c"
   ]
  },
  {
   "cell_type": "markdown",
   "metadata": {},
   "source": [
    "Il existe également deux autres fonctions similaires qui permettent de renvoyer l'**index de la chaîne matchée**."
   ]
  },
  {
   "cell_type": "code",
   "execution_count": 9,
   "metadata": {
    "scrolled": true
   },
   "outputs": [
    {
     "data": {
      "text/plain": [
       "3"
      ]
     },
     "execution_count": 9,
     "metadata": {},
     "output_type": "execute_result"
    }
   ],
   "source": [
    "c.find(\"123\")"
   ]
  },
  {
   "cell_type": "markdown",
   "metadata": {},
   "source": [
    "Maintenant, comment faire s'il me faut **matcher** les suites de chiffres pris dans une chaîne de caractères ? Concrètement, s'il y a \"456\" à la place de \"123\" ou n'importe quelle autre suite de chiffres, comment procéder ?"
   ]
  },
  {
   "cell_type": "code",
   "execution_count": 11,
   "metadata": {},
   "outputs": [],
   "source": [
    "cs = [\"hey123there\", \"hey456there\", \"hey789there\"]"
   ]
  },
  {
   "cell_type": "markdown",
   "metadata": {},
   "source": [
    "## Le module `re`"
   ]
  },
  {
   "cell_type": "markdown",
   "metadata": {},
   "source": [
    "Le module `re` de Python est dédié aux **expressions régulières** : il dispose de nombreuses fonctions différentes pour rechercher des **motifs dans des chaînes de caractères**."
   ]
  },
  {
   "cell_type": "markdown",
   "metadata": {},
   "source": [
    "### La fonction `re.search()`"
   ]
  },
  {
   "cell_type": "markdown",
   "metadata": {},
   "source": [
    "La fonction `re.search()` prend deux arguments :\n",
    "* La **regex** à rechercher\n",
    "* La **chaîne de caractère** à parcourir et dans laquelle chercher la regex\n",
    "\n",
    "Elle s'arrête dès qu'elle **matche** la **regex** passée en paramètre."
   ]
  },
  {
   "cell_type": "code",
   "execution_count": 31,
   "metadata": {},
   "outputs": [
    {
     "data": {
      "text/plain": [
       "<re.Match object; span=(3, 6), match='123'>"
      ]
     },
     "execution_count": 31,
     "metadata": {},
     "output_type": "execute_result"
    }
   ],
   "source": [
    "import re\n",
    "\n",
    "re.search(\"123\", c)"
   ]
  },
  {
   "cell_type": "markdown",
   "metadata": {},
   "source": [
    "Ici, rien de bien spécial : la fonction `re.search()` nous renvoie des informations en nous indiquant qu'elle a trouvé un **motif** similaire a celui qu'on lui a passé en paramètre, et un **span** qui nous indique l'**index du début** de la chaîne matchée et la **fin de l'index**."
   ]
  },
  {
   "cell_type": "code",
   "execution_count": 38,
   "metadata": {},
   "outputs": [
    {
     "data": {
      "text/plain": [
       "re.Match"
      ]
     },
     "execution_count": 38,
     "metadata": {},
     "output_type": "execute_result"
    }
   ],
   "source": [
    "result = re.search(\"123\", c)\n",
    "type(result)"
   ]
  },
  {
   "cell_type": "markdown",
   "metadata": {},
   "source": [
    "La fonction `re.search()` renvoie un objet de type `re.Match`. Il ne s'agira pas de détailler toutes les informations que l'on peut récupérer avec cet objet, mais on peut se référer au détail fourni par la [documentation officielle](https://docs.python.org/fr/3/library/re.html#match-objects)."
   ]
  },
  {
   "cell_type": "markdown",
   "metadata": {},
   "source": [
    "### Les métacaractères"
   ]
  },
  {
   "cell_type": "markdown",
   "metadata": {},
   "source": []
  }
 ],
 "metadata": {
  "kernelspec": {
   "display_name": "Python 3",
   "language": "python",
   "name": "python3"
  },
  "language_info": {
   "codemirror_mode": {
    "name": "ipython",
    "version": 3
   },
   "file_extension": ".py",
   "mimetype": "text/x-python",
   "name": "python",
   "nbconvert_exporter": "python",
   "pygments_lexer": "ipython3",
   "version": "3.8.3"
  },
  "toc": {
   "base_numbering": 1,
   "nav_menu": {},
   "number_sections": false,
   "sideBar": true,
   "skip_h1_title": false,
   "title_cell": "Table of Contents",
   "title_sidebar": "Contents",
   "toc_cell": false,
   "toc_position": {},
   "toc_section_display": true,
   "toc_window_display": false
  }
 },
 "nbformat": 4,
 "nbformat_minor": 4
}
