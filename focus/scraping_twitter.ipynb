{
 "cells": [
  {
   "cell_type": "markdown",
   "metadata": {},
   "source": [
    "# Scraping Twitter"
   ]
  },
  {
   "cell_type": "markdown",
   "metadata": {},
   "source": [
    "Twitter constitue une source de données utiles pour des projets de recherches en sciences humaines et sociales. Que ce soit pour de l'analyse de réseau ou de l'analyse de contenu, il existe différents outils permettant de récupérer efficacement des données sur ce réseau social."
   ]
  },
  {
   "cell_type": "markdown",
   "metadata": {},
   "source": [
    "## Utiliser l'API de Twitter"
   ]
  },
  {
   "cell_type": "markdown",
   "metadata": {},
   "source": [
    "On peut retrouver un guide pour l'API de Twitter à cette adresse : https://developer.twitter.com/en/docs/twitter-api/tweets/lookup/introduction. Pour les références de l'API de Twitter, on consultera cette adresse : https://developer.twitter.com/en/docs/twitter-api/tweets/lookup/api-reference."
   ]
  },
  {
   "cell_type": "markdown",
   "metadata": {},
   "source": [
    "### Authentification"
   ]
  },
  {
   "cell_type": "markdown",
   "metadata": {},
   "source": [
    "La première chose à faire avant d'explorer l'API de Twitter plus avant est de renseigner toutes les informations pour se connecter à l'API de Twitter. Cela nécessite au préalable la création :\n",
    "* D'un compte Twitter personnel\n",
    "* D'un compte développeur Twitter\n",
    "* La création d'un projet enregistré dans son profil développeur Twitter"
   ]
  },
  {
   "cell_type": "code",
   "execution_count": 158,
   "metadata": {},
   "outputs": [],
   "source": [
    "import json\n",
    "\n",
    "with open(\"twitter_secret.json\", \"r\") as twitter_account:\n",
    "    twitter_secret = json.load(twitter_account)"
   ]
  },
  {
   "cell_type": "markdown",
   "metadata": {},
   "source": [
    "Une fois que tous les tokens d'accès sont récupérés, il s'agit de se connecter à l'API en passant toutes les autorisations."
   ]
  },
  {
   "cell_type": "code",
   "execution_count": 159,
   "metadata": {},
   "outputs": [],
   "source": [
    "consumer_key = twitter_secret[\"consumer_key\"]\n",
    "consumer_secret = twitter_secret[\"consumer_secret\"]\n",
    "bearer_token = twitter_secret[\"bearer_token\"]\n",
    "auth_token = twitter_secret[\"auth_token\"]\n",
    "auth_secret = twitter_secret[\"auth_secret\"]"
   ]
  },
  {
   "cell_type": "markdown",
   "metadata": {},
   "source": [
    "Il existe différentes méthodes d'authentification sur l'API Twitter :\n",
    "* **OAuth 1.0a :** il s'agit de la méthode la plus classique qui consiste à passer les consumer_key et consumer_secret (qui représentent l'application) en paramètre de chaque requête faite à l'API Twitter, accompagné du token_key et du token_secret (qui représentent l'utilisateur à travers lequel l'application va envoyer les requêtes)\n",
    "* **OAuth 2.0 Bearer Token :** cette méthode est plutôt utilisée lorsqu'on souhaite connecter une application à Twitter qui a uniquement besoin de lire des données (il est possible de générer un Bearer Token à la volée en envoyant le consumer_key et le consumer_secret au chemin de l'API Twitter oauth2/token avec une méthode POST)"
   ]
  },
  {
   "cell_type": "markdown",
   "metadata": {},
   "source": [
    "### Effectuer une recherche"
   ]
  },
  {
   "cell_type": "markdown",
   "metadata": {},
   "source": [
    "Maintenant que nous disposons de toutes les informations pour se connecter, nous pouvons envoyer une requête HTTP à l'API de Twitter en passant en paramètre les tokens nécessaires."
   ]
  },
  {
   "cell_type": "markdown",
   "metadata": {},
   "source": [
    "Commençons par définir quelques fonctions de base qui permettent d'effectuer rapidement une recherche de tweets."
   ]
  },
  {
   "cell_type": "code",
   "execution_count": 199,
   "metadata": {},
   "outputs": [],
   "source": [
    "import requests\n",
    "import json\n",
    "\n",
    "api_url = \"https://api.twitter.com/2/tweets/search/all\"\n",
    "params = {'query': 'pirates'}\n",
    "\n",
    "def bearer_token_headers(bearer_token):\n",
    "    headers = {\"Authorization\": f\"Bearer {bearer_token}\"}\n",
    "    return headers    \n",
    "\n",
    "def connect_endpoint(url, headers, params):\n",
    "    r = requests.get(url=url, headers=headers, params=params)\n",
    "    if r.status_code != 200:\n",
    "        raise Exception(r.status_code, r.text)\n",
    "    else:\n",
    "        print(r.status_code)\n",
    "    return r.json()"
   ]
  },
  {
   "cell_type": "code",
   "execution_count": 200,
   "metadata": {},
   "outputs": [
    {
     "ename": "Exception",
     "evalue": "(403, '{\"client_id\":\"20023224\",\"detail\":\"When authenticating requests to the Twitter API v2 endpoints, you must use keys and tokens from a Twitter developer App that is attached to a Project. You can create a project via the developer portal.\",\"registration_url\":\"https://developer.twitter.com/en/docs/projects/overview\",\"title\":\"Client Forbidden\",\"required_enrollment\":\"Standard Basic\",\"reason\":\"client-not-enrolled\",\"type\":\"https://api.twitter.com/2/problems/client-forbidden\"}')",
     "output_type": "error",
     "traceback": [
      "\u001b[0;31m---------------------------------------------------------------------------\u001b[0m",
      "\u001b[0;31mException\u001b[0m                                 Traceback (most recent call last)",
      "\u001b[0;32m<ipython-input-200-e5f56bc1f46f>\u001b[0m in \u001b[0;36m<module>\u001b[0;34m\u001b[0m\n\u001b[1;32m      1\u001b[0m \u001b[0mheaders\u001b[0m \u001b[0;34m=\u001b[0m \u001b[0mbearer_token_headers\u001b[0m\u001b[0;34m(\u001b[0m\u001b[0mbearer_token\u001b[0m\u001b[0;34m)\u001b[0m\u001b[0;34m\u001b[0m\u001b[0;34m\u001b[0m\u001b[0m\n\u001b[0;32m----> 2\u001b[0;31m \u001b[0mconnect_endpoint\u001b[0m\u001b[0;34m(\u001b[0m\u001b[0murl\u001b[0m\u001b[0;34m=\u001b[0m\u001b[0mapi_url\u001b[0m\u001b[0;34m,\u001b[0m \u001b[0mheaders\u001b[0m\u001b[0;34m=\u001b[0m\u001b[0mheaders\u001b[0m\u001b[0;34m,\u001b[0m \u001b[0mparams\u001b[0m\u001b[0;34m=\u001b[0m\u001b[0mparams\u001b[0m\u001b[0;34m)\u001b[0m\u001b[0;34m\u001b[0m\u001b[0;34m\u001b[0m\u001b[0m\n\u001b[0m",
      "\u001b[0;32m<ipython-input-199-8db67e23c6ac>\u001b[0m in \u001b[0;36mconnect_endpoint\u001b[0;34m(url, headers, params)\u001b[0m\n\u001b[1;32m     12\u001b[0m     \u001b[0mr\u001b[0m \u001b[0;34m=\u001b[0m \u001b[0mrequests\u001b[0m\u001b[0;34m.\u001b[0m\u001b[0mget\u001b[0m\u001b[0;34m(\u001b[0m\u001b[0murl\u001b[0m\u001b[0;34m=\u001b[0m\u001b[0murl\u001b[0m\u001b[0;34m,\u001b[0m \u001b[0mheaders\u001b[0m\u001b[0;34m=\u001b[0m\u001b[0mheaders\u001b[0m\u001b[0;34m,\u001b[0m \u001b[0mparams\u001b[0m\u001b[0;34m=\u001b[0m\u001b[0mparams\u001b[0m\u001b[0;34m)\u001b[0m\u001b[0;34m\u001b[0m\u001b[0;34m\u001b[0m\u001b[0m\n\u001b[1;32m     13\u001b[0m     \u001b[0;32mif\u001b[0m \u001b[0mr\u001b[0m\u001b[0;34m.\u001b[0m\u001b[0mstatus_code\u001b[0m \u001b[0;34m!=\u001b[0m \u001b[0;36m200\u001b[0m\u001b[0;34m:\u001b[0m\u001b[0;34m\u001b[0m\u001b[0;34m\u001b[0m\u001b[0m\n\u001b[0;32m---> 14\u001b[0;31m         \u001b[0;32mraise\u001b[0m \u001b[0mException\u001b[0m\u001b[0;34m(\u001b[0m\u001b[0mr\u001b[0m\u001b[0;34m.\u001b[0m\u001b[0mstatus_code\u001b[0m\u001b[0;34m,\u001b[0m \u001b[0mr\u001b[0m\u001b[0;34m.\u001b[0m\u001b[0mtext\u001b[0m\u001b[0;34m)\u001b[0m\u001b[0;34m\u001b[0m\u001b[0;34m\u001b[0m\u001b[0m\n\u001b[0m\u001b[1;32m     15\u001b[0m     \u001b[0;32melse\u001b[0m\u001b[0;34m:\u001b[0m\u001b[0;34m\u001b[0m\u001b[0;34m\u001b[0m\u001b[0m\n\u001b[1;32m     16\u001b[0m         \u001b[0mprint\u001b[0m\u001b[0;34m(\u001b[0m\u001b[0mr\u001b[0m\u001b[0;34m.\u001b[0m\u001b[0mstatus_code\u001b[0m\u001b[0;34m)\u001b[0m\u001b[0;34m\u001b[0m\u001b[0;34m\u001b[0m\u001b[0m\n",
      "\u001b[0;31mException\u001b[0m: (403, '{\"client_id\":\"20023224\",\"detail\":\"When authenticating requests to the Twitter API v2 endpoints, you must use keys and tokens from a Twitter developer App that is attached to a Project. You can create a project via the developer portal.\",\"registration_url\":\"https://developer.twitter.com/en/docs/projects/overview\",\"title\":\"Client Forbidden\",\"required_enrollment\":\"Standard Basic\",\"reason\":\"client-not-enrolled\",\"type\":\"https://api.twitter.com/2/problems/client-forbidden\"}')"
     ]
    }
   ],
   "source": [
    "headers = bearer_token_headers(bearer_token)\n",
    "connect_endpoint(url=api_url, headers=headers, params=params)"
   ]
  },
  {
   "cell_type": "markdown",
   "metadata": {},
   "source": [
    "## Using Tweepy"
   ]
  },
  {
   "cell_type": "markdown",
   "metadata": {},
   "source": [
    "Tweepy est un package Python permettant d'accéder facilement aux options de l'API Twitter.\n",
    "\n",
    "On peut retrouver les références de l'API Tweepy à cette adresse : https://docs.tweepy.org/en/latest/api.html#api-reference."
   ]
  },
  {
   "cell_type": "code",
   "execution_count": 2,
   "metadata": {},
   "outputs": [],
   "source": [
    "import tweepy"
   ]
  },
  {
   "cell_type": "markdown",
   "metadata": {},
   "source": [
    "### Authentification"
   ]
  },
  {
   "cell_type": "markdown",
   "metadata": {},
   "source": [
    "La première chose à faire avant d'explorer plus avant l'API Tweepy est de renseigner toutes les informations pour se connecter à l'API Twitter. Cela nécessite au préalable la création :\n",
    "* D'un compte Twitter personnel\n",
    "* D'un compte développeur Twitter\n",
    "* La création d'un projet enregistré dans son profil développeur Twitter"
   ]
  },
  {
   "cell_type": "code",
   "execution_count": 148,
   "metadata": {},
   "outputs": [],
   "source": [
    "import json\n",
    "\n",
    "with open(\"twitter_secret.json\", \"r\") as twitter_account:\n",
    "    twitter_secret = json.load(twitter_account)"
   ]
  },
  {
   "cell_type": "markdown",
   "metadata": {},
   "source": [
    "Une fois que tous les tokens d'accès sont récupérés, il s'agit de se connecter à l'API en passant toutes les autorisations."
   ]
  },
  {
   "cell_type": "code",
   "execution_count": 149,
   "metadata": {},
   "outputs": [],
   "source": [
    "consumer_key = twitter_secret[\"consumer_key\"]\n",
    "consumer_secret = twitter_secret[\"consumer_secret\"]\n",
    "bearer_token = twitter_secret[\"bearer_token\"]\n",
    "auth_token = twitter_secret[\"auth_token\"]\n",
    "auth_secret = twitter_secret[\"auth_secret\"]"
   ]
  },
  {
   "cell_type": "markdown",
   "metadata": {},
   "source": [
    "Maintenant que toutes les informations de connexion sont stockées dans des variables, on peut directement les réutiliser pour se connecter à l'API Twitter."
   ]
  },
  {
   "cell_type": "code",
   "execution_count": 150,
   "metadata": {},
   "outputs": [],
   "source": [
    "auth = tweepy.OAuthHandler(consumer_key, consumer_secret)\n",
    "auth.set_access_token(auth_token, auth_secret)\n",
    "\n",
    "api = tweepy.API(auth)"
   ]
  },
  {
   "cell_type": "markdown",
   "metadata": {},
   "source": [
    "### Récupérer des tweets"
   ]
  },
  {
   "cell_type": "markdown",
   "metadata": {},
   "source": [
    "Une fois que l'on s'est connecté, on peut utiliser les méthodes de recherche pour récupérer nos premiers Tweets."
   ]
  },
  {
   "cell_type": "code",
   "execution_count": 111,
   "metadata": {},
   "outputs": [
    {
     "name": "stdout",
     "output_type": "stream",
     "text": [
      "Bon je crois que je vais arrêter de poster mes graphiques pourris auxquels personne ne bite rien pour les remplacer… https://t.co/kKLii28eKA\n",
      "Et même sur l'évolution du nombre de lits de réanimation occupés pour Covid19 on a un peu de vert - qui l'eût cru? https://t.co/TeR2EFThpa\n",
      "Un peu de vert aussi pour l'évolution du nombre de lits occupés à l'hôpital pour Covid19 - ça ne mange pas de pain. https://t.co/AapibyVLl5\n",
      "Cela pourrait être pertinent de superposer cette carte avec celle des variants anglais et sud-africains. https://t.co/rOjr87jXkR\n",
      "La carte du jour : ça fait du bien de voir un peu de vert de temps en temps - je commençais à me lasser du rouge!… https://t.co/nvcyYhezLV\n"
     ]
    }
   ],
   "source": [
    "timeline_tweets = api.home_timeline()\n",
    "# On récupère seulement les cinq premiers tweets\n",
    "for tweets in timeline_tweets[:5]:\n",
    "    print(tweets.text)"
   ]
  },
  {
   "cell_type": "markdown",
   "metadata": {},
   "source": [
    "On peut aussi parcourir Twitter en récupérant le nom d'un utilisateur."
   ]
  },
  {
   "cell_type": "code",
   "execution_count": 109,
   "metadata": {},
   "outputs": [
    {
     "name": "stdout",
     "output_type": "stream",
     "text": [
      "MuanguR\n",
      "lechatquiment\n",
      "Virgile1123\n",
      "AXEL71725540\n",
      "Camille10042019\n"
     ]
    }
   ],
   "source": [
    "twitter_user = api.get_user(\"EmmanuelMacron\")\n",
    "# Récupérons les 5 premiers followers d'EmmanuelMacron\n",
    "for follower in twitter_user.followers()[:5]:\n",
    "    print(follower.screen_name)"
   ]
  },
  {
   "cell_type": "markdown",
   "metadata": {},
   "source": [
    "### Utiliser le curseur"
   ]
  },
  {
   "cell_type": "markdown",
   "metadata": {},
   "source": [
    "L'API Twitter renvoie beaucoup d'informations qui nécessitent de les parcourir par pages.\n",
    "\n",
    "Pour simplifier ces opérations, **Tweepy** dispose d'un objet `Cursor`. Il gère par lui-même les appels aux pages suivantes de telle sorte qu'il est beaucoup plus facile pour l'utilisateur de parcourir les pages en utilisant une seule et simple boucle."
   ]
  },
  {
   "cell_type": "code",
   "execution_count": 121,
   "metadata": {},
   "outputs": [
    {
     "name": "stdout",
     "output_type": "stream",
     "text": [
      "C’est par notre vigilance collective que nous réussirons.\n",
      "Tester, au moindre symptôme.\n",
      "Alerter, pour limiter la pro… https://t.co/2uMax2Vovx\n",
      "Ce qui nous contraint aujourd’hui dans la campagne de vaccination, c’est l’accès aux doses. Nous avons un calendrie… https://t.co/4D5NQih7lg\n",
      "D'ici à la fin de l'été, nous aurons proposé à tous les Français adultes qui le souhaitent un vaccin.\n",
      "Nous ne pourrons vaincre le virus que si dans tous les pays d'Europe où nous circulons librement nous arrivons à av… https://t.co/Z8ZkZwDH2o\n",
      "J'ai confiance en notre capacité à nous mobiliser pour freiner le virus. https://t.co/6dthNeKF0l\n"
     ]
    }
   ],
   "source": [
    "for status in tweepy.Cursor(api.user_timeline, screen_name=\"EmmanuelMacron\").items(5):\n",
    "    print(status.text)"
   ]
  },
  {
   "cell_type": "markdown",
   "metadata": {},
   "source": [
    "### Etendre les contenus de Tweets"
   ]
  },
  {
   "cell_type": "markdown",
   "metadata": {},
   "source": [
    "Par défaut, l'API Twitter accessible via **Tweepy** retourne le contenu des tweets tronqués à 140 caractères. Cependant, il est possible de passer en paramètre de tout objet `Status` renvoyé par **Tweepy**, le paramètre `tweet_mode`. Celui-ci prend deux valeurs :\n",
    "* `compat` : limite le nombre de caractères à 140\n",
    "* `extended` : ne limite pas le nombre de caractères\n",
    "\n",
    "Pour accéder au texte intégral du tweet, on utilisera alors la propriété `.full_text` et non plus `.text`."
   ]
  },
  {
   "cell_type": "code",
   "execution_count": 122,
   "metadata": {},
   "outputs": [
    {
     "name": "stdout",
     "output_type": "stream",
     "text": [
      "C’est par notre vigilance collective que nous réussirons.\n",
      "Tester, au moindre symptôme.\n",
      "Alerter, pour limiter la propagation.\n",
      "Protéger, en respectant l’isolement.\n",
      "Ce qui nous contraint aujourd’hui dans la campagne de vaccination, c’est l’accès aux doses. Nous avons un calendrier. Entre fin février et début mars, 4 sites français vont produire le vaccin. Notre mobilisation reste totale.\n",
      "D'ici à la fin de l'été, nous aurons proposé à tous les Français adultes qui le souhaitent un vaccin.\n",
      "Nous ne pourrons vaincre le virus que si dans tous les pays d'Europe où nous circulons librement nous arrivons à avoir la même campagne de vaccination. Il nous faut vacciner en Européens. C'est notre stratégie.\n",
      "J'ai confiance en notre capacité à nous mobiliser pour freiner le virus. https://t.co/6dthNeKF0l\n"
     ]
    }
   ],
   "source": [
    "for status in tweepy.Cursor(api.user_timeline, screen_name=\"EmmanuelMacron\", tweet_mode=\"extended\").items(5):\n",
    "    print(status.full_text)"
   ]
  }
 ],
 "metadata": {
  "kernelspec": {
   "display_name": "Python 3",
   "language": "python",
   "name": "python3"
  },
  "language_info": {
   "codemirror_mode": {
    "name": "ipython",
    "version": 3
   },
   "file_extension": ".py",
   "mimetype": "text/x-python",
   "name": "python",
   "nbconvert_exporter": "python",
   "pygments_lexer": "ipython3",
   "version": "3.8.5"
  }
 },
 "nbformat": 4,
 "nbformat_minor": 4
}
