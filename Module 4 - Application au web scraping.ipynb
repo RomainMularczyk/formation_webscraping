{
 "cells": [
  {
   "cell_type": "markdown",
   "metadata": {},
   "source": [
    "# Table des matières :\n",
    "\n",
    "* <a href=\"#Introduction\">1. Introduction</a>\n",
    "* <a href=\"#Envoyer une requête HTTP avec Python\">2. Envoyer une requête HTTP avec Python</a>"
   ]
  },
  {
   "cell_type": "markdown",
   "metadata": {},
   "source": [
    "## <div id=\"Introduction\">1. Introduction</div>"
   ]
  },
  {
   "cell_type": "markdown",
   "metadata": {},
   "source": [
    "Commençons peut-être par définir et expliciter en quoi consiste le **web scraping** :\n",
    "* Collecting data from websites\n",
    "* Parsing it into meaningul format\n",
    "* Doing this automatically\n",
    "\n",
    "Dans ce module, nous passons à la pratique en explorant nos premiers cas concrets d'application de Python pour le **web scraping**. Avant d'entamer ce module, il est vivement conseillé de revoir :\n",
    "* Le module 1 et d'être à l'aise avec le fonctionnement de langages à balises comme HTML\n",
    "* Les module 2 et 3 et d'être à l'aise avec les pratiques élémentaires de programmation avec Python (structures de données, boucles, conditions, etc.)\n",
    "\n",
    "Au cours de ce module, nous apprendrons :\n",
    "* A envoyer une requête HTTP à un serveur à l'aide du module `requests`\n",
    "* A parser une page HTML à l'aide du module `BeautifulSoup`"
   ]
  },
  {
   "cell_type": "markdown",
   "metadata": {},
   "source": [
    "## <div id=\"Envoyer une requête HTTP avec Python\">2. Envoyer une requête HTTP avec Python</div>"
   ]
  },
  {
   "cell_type": "code",
   "execution_count": null,
   "metadata": {},
   "outputs": [],
   "source": []
  },
  {
   "cell_type": "markdown",
   "metadata": {},
   "source": [
    "## <div id=\"Parser une page web avec BeautifulSoup\">3. Parser une page web avec BeautifulSoup</a>"
   ]
  },
  {
   "cell_type": "markdown",
   "metadata": {},
   "source": [
    "Sources et références\n",
    "\n",
    "https://towardsdatascience.com/5-strategies-to-write-unblock-able-web-scrapers-in-python-5e40c147bdaf\n",
    "\n",
    "https://medium.com/hackernoon/how-to-scrape-a-website-without-getting-blacklisted-271a605a0d94\n"
   ]
  },
  {
   "cell_type": "code",
   "execution_count": null,
   "metadata": {},
   "outputs": [],
   "source": []
  }
 ],
 "metadata": {
  "kernelspec": {
   "display_name": "Python 3",
   "language": "python",
   "name": "python3"
  },
  "language_info": {
   "codemirror_mode": {
    "name": "ipython",
    "version": 3
   },
   "file_extension": ".py",
   "mimetype": "text/x-python",
   "name": "python",
   "nbconvert_exporter": "python",
   "pygments_lexer": "ipython3",
   "version": "3.7.4"
  }
 },
 "nbformat": 4,
 "nbformat_minor": 4
}
