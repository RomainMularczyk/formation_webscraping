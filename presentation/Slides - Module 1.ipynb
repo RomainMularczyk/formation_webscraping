{
 "cells": [
  {
   "cell_type": "markdown",
   "metadata": {
    "cell_style": "center",
    "slideshow": {
     "slide_type": "slide"
    }
   },
   "source": [
    "# Parcours \"Python pour le webscraping\""
   ]
  },
  {
   "cell_type": "markdown",
   "metadata": {
    "slideshow": {
     "slide_type": "slide"
    }
   },
   "source": [
    "**Formation en trois volets :**\n",
    "1. **HTML** et le web\n",
    "2. Introduction à la programmation avec **Python**\n",
    "3. Application au **webscraping**\n",
    "\n",
    "On ne traitera que la **partie amont du travail de recherche et d'analyse** :\n",
    "* Pour les questions d'analyse, voir notamment le **Parcours Quantitatif** proposé aussi par la MSH-LSE"
   ]
  },
  {
   "cell_type": "markdown",
   "metadata": {
    "slideshow": {
     "slide_type": "slide"
    }
   },
   "source": [
    "**Objectifs :**\n",
    "* Se construire une **boîte à outils** de base pour **extraire** rapidement et efficacement des informations depuis **n'importe quelle page web** (ou à peu près...)\n",
    "* Un élément de **culture numérique** qui vise à interroger les outils que nous utilisons au quotidien, à ouvrir les **boîtes noires**\n",
    "* **Pratiquer**, pratiquer, pratiquer... Et pour cela, se retrousser les manches et rencontrer notre nouveau meilleur ami : le **clavier**"
   ]
  },
  {
   "cell_type": "markdown",
   "metadata": {
    "slideshow": {
     "slide_type": "slide"
    }
   },
   "source": [
    "## Module 1 - Introduction aux technologies du web"
   ]
  },
  {
   "cell_type": "markdown",
   "metadata": {
    "slideshow": {
     "slide_type": "slide"
    }
   },
   "source": [
    "### 1. HTML"
   ]
  },
  {
   "cell_type": "markdown",
   "metadata": {
    "slideshow": {
     "slide_type": "subslide"
    }
   },
   "source": [
    "### 1. HTML\n",
    "\n",
    "**HTML :**\n",
    "* Un langage à **balises**\n",
    "* Un langage de **description**\n",
    "\n",
    "**Pourquoi ?**\n",
    "* Représenter des données de façon **structurée**"
   ]
  },
  {
   "cell_type": "markdown",
   "metadata": {
    "slideshow": {
     "slide_type": "subslide"
    }
   },
   "source": [
    "### 1. HTML\n",
    "\n",
    "**Comment ?**\n",
    "* Une succession de **balises**\n",
    "\n",
    "**C'est quoi une balise ?**\n",
    "* D'abord, c'est un **couple** composé :\n",
    "    * D'une **balise ouvrante** `<balise>`\n",
    "    * D'une **balise fermante** `</balise>`\n",
    "* Ensuite, c'est un **mot-clé** (n'importe lequel, pourvu qu'il commence par une lettre)\n",
    "* Entouré de deux **chevrons** :\n",
    "    * Un pour indiquer le début du mot-clé `<`\n",
    "    * Un pour indiquer la fin du mot-clé `>`\n",
    "* Pour la **balise fermante**, on ajoute simplement un slash (`/`) après le premier **chevron**"
   ]
  },
  {
   "cell_type": "markdown",
   "metadata": {
    "slideshow": {
     "slide_type": "subslide"
    }
   },
   "source": [
    "### 1. HTML\n",
    "\n",
    "**Okay, mais ça sert à quoi ?**\n",
    "* A **représenter de l'information de façon structurée**, on l'a déjà dit...\n",
    "\n",
    "**Okay, mais ça veut dire quoi ?**\n",
    "* Ça veut dire que grâce à ces balises, on pourra **imbriquer les éléments les uns dans les autres** et pouvoir retrouver chaque brique"
   ]
  },
  {
   "cell_type": "markdown",
   "metadata": {
    "slideshow": {
     "slide_type": "subslide"
    }
   },
   "source": [
    "### 1. HTML\n",
    "\n",
    "**Que peuvent contenir les balises ?**\n",
    "* Une valeur (du texte, des nombres)\n",
    "* Une autre balise\n",
    "* Un mélange des deux\n",
    "\n",
    "**Exemple :**\n",
    "```html\n",
    "<materiel>\n",
    "    <peinture>Autoportrait\n",
    "        <pinceau>4 mm</pinceau>\n",
    "        <pinceau>10 mm</pinceau>\n",
    "        <gouache>Rouge</gouache>\n",
    "        <gouache>Vert</gouache>\n",
    "    </peinture>\n",
    "    <peinture>Paysage d'automne\n",
    "        <pinceau>4 mm</pinceau>\n",
    "        <huile>Rouge</huile>\n",
    "        <huile>Jaune</huile>\n",
    "    </peinture>\n",
    "</materiel>\n",
    "```"
   ]
  },
  {
   "cell_type": "markdown",
   "metadata": {
    "slideshow": {
     "slide_type": "subslide"
    }
   },
   "source": [
    "### 1. HTML\n",
    "\n",
    "**Ce qu'il ne faut pas faire :**\n",
    "* Enchasser les balises\n",
    "* Ne pas avoir de **balise-racine**\n",
    "\n",
    "**Exemples :**\n",
    "\n",
    "1. ```html\n",
    "<trousse>\n",
    "    <crayon>Rouge</crayon>\n",
    "    <stylo>Vert</stylo>\n",
    "</trousse>\n",
    "<regle>Double décimètre</regle>\n",
    "```\n",
    "---\n",
    "2. ```html\n",
    "<stylo><couleur>Rouge</stylo></couleur>\n",
    "```"
   ]
  },
  {
   "cell_type": "markdown",
   "metadata": {
    "slideshow": {
     "slide_type": "subslide"
    }
   },
   "source": [
    "### 1. HTML\n",
    "\n",
    "**Plus concrètement :**\n",
    "* En HTML, les balises n'ont pas vraiment n'importe quel nom\n",
    "* Elles suivent une nomenclature particulière car certaines permettent de transmettre des données, par exemple (couplées à d'autres mécanismes dont il ne s'agira pas de parler en détail ici)\n",
    "\n",
    "|Nom balise|Description|Que peut-elle contenir ?|\n",
    "|---|---|---|\n",
    "|`<div>`|Divers|Balise ou texte|\n",
    "|`<span>`|Divers|Texte uniquement|\n",
    "|`<a>`|Liens hypertextes|Balise ou texte|\n",
    "|`<img>`|Images|Rien|\n",
    "|`<ul>/<ol>`|Listes|Uniquement balises `<li>`|\n",
    "|`<p>`|Paragraphes|Texte uniquement|"
   ]
  },
  {
   "cell_type": "markdown",
   "metadata": {
    "slideshow": {
     "slide_type": "subslide"
    }
   },
   "source": [
    "### 1. HTML\n",
    "\n",
    "**Les entrailles du navigateur !**\n",
    "* Sur Mac OS : `Alt + Cmd + i`\n",
    "* Sur Windows : `F12`"
   ]
  },
  {
   "cell_type": "markdown",
   "metadata": {
    "slideshow": {
     "slide_type": "subslide"
    }
   },
   "source": [
    "### 1. HTML\n",
    "\n",
    "**Les attributs :**\n",
    "* Ils viennent compléter une balise\n",
    "* Il existe globalement deux attributs en HTML :\n",
    "    * `class` : constitue un **identifiant générique**, a priori, il doit y en avoir plusieurs sur une même page web\n",
    "    * `id` : constitue un **identifiant unique**, a priori, il doit être le seul sur toute une page web\n",
    "\n",
    "\n",
    "```html\n",
    "<div id=\"agriculture\">\n",
    "    <div id=\"colombie\">\n",
    "        <div class=\"cafe\">650 000 tonnes/an</div>\n",
    "        <div class=\"bananes\">2 000 000 tonnes/an</div>\n",
    "    </div>\n",
    "    <div id=\"inde\">\n",
    "        <div class=\"millet\">11 000 000 tonnes/an</div>\n",
    "        <div class=\"thé\">1 000 000 tonnes/an</div>\n",
    "        <div class=\"banane\">27 000 000 tonnes/an</div>\n",
    "    </div>\n",
    "    <div id=\"costa-rica\">\n",
    "        <div class=\"cafe\">76 000 tonnes/an</div>\n",
    "        <div class=\"banane\">2 000 000 tonnes/an</div>\n",
    "    </div>\n",
    "</div>\n",
    "```"
   ]
  },
  {
   "cell_type": "markdown",
   "metadata": {},
   "source": [
    "### 1. HTML\n",
    "\n",
    "**Les commentaires :**\n",
    "* On peut écrire des **commentaires** dans un fichier HTML\n",
    "    * Ça signifie que ce sera une portion de code qui ne sera pas interprétée et qui sert essentiellement au développeur pour s'y retrouver dans son code\n",
    "    \n",
    "```html\n",
    "<!-- Ceci est un commentaire -->\n",
    "```"
   ]
  },
  {
   "cell_type": "markdown",
   "metadata": {},
   "source": [
    "### 2. Client-serveur\n",
    "\n",
    "**L'idée :**\n",
    "* Mode de communication et de séparation des tâches :\n",
    "    * **Clients** : demandent de l'information en envoyant des **requêtes**\n",
    "    * **Serveurs** : répondent aux sollicitations des clients en envoyant des **réponses**\n",
    "    \n",
    "**Pour le webscraping :**\n",
    "* Envoyer une requête à un serveur\n",
    "* Récupérer la réponse et la découper pour extraire uniquement les informations qui nous intéressent grâce aux balises et aux attributs\n",
    "    * A partir de l'exemple précédent : \"Je veux récupérer uniquement les balises `div` qui contiennent la classe `cafe`\""
   ]
  },
  {
   "cell_type": "markdown",
   "metadata": {},
   "source": [
    "### 2. Client-serveur\n",
    "\n",
    "**Le contenu dynamique :**\n",
    "* Certaines pages web n'existent pas en soi\n",
    "* Elles sont **générées** à partir d'une requête envoyée au serveur"
   ]
  },
  {
   "cell_type": "markdown",
   "metadata": {},
   "source": [
    "### 3. Le DOM\n",
    "\n",
    "**Qu'est-ce que c'est ?**\n",
    "* Un modèle (*Document object model*)\n",
    "* Une **représentation arborescente** d'une page web (balises, attributs, texte)\n",
    "* Vise à représenter un document affiché par le navigateur\n",
    "* Permet à des programmes d'accéder au document et d'en **modifier le contenu**\n",
    "* Analogie des \"prises\" comme dans l'escalade : on peut s'y \"accrocher\" pour récupérer l'information qui nous intéresse à un certain niveau de la page"
   ]
  },
  {
   "cell_type": "markdown",
   "metadata": {},
   "source": [
    "**Les événements :**\n",
    "* Le DOM permet aussi de \"surveiller\" certains éléments\n",
    "* Cela permet au navigateur de **savoir si l'utilisateur a cliqué** dessus, par exemple\n",
    "* Parfois, il sera utile de déclencher des événements pour pouvoir webscraper une page web (techniques avancées)"
   ]
  },
  {
   "cell_type": "markdown",
   "metadata": {},
   "source": [
    "### 4. Les requêtes HTTP\n",
    "\n",
    "**Qu'est-ce que c'est ?**\n",
    "* C'est les questions que l'on pose aux serveurs\n",
    "* Les navigateurs sont des clients HTTP\n",
    "\n",
    "**A quoi ça ressemble ?**\n",
    "* Du texte\n",
    "* Composé de :\n",
    "    * **Ligne de commande** suivie de l'**URL** demandée et de la **version du protocole HTTP** utilisée\n",
    "    * Un **en-tête de requête** (contient des informations sur notre navigateur, notamment)\n",
    "    * Le **corps de la requête** (quand on envoie des informations au serveur, lorsqu'on remplit un formulaire notamment)"
   ]
  },
  {
   "cell_type": "markdown",
   "metadata": {},
   "source": [
    "### 4. Les requêtes HTTP\n",
    "\n",
    "**Différentes commandes :**\n",
    "* `GET`\n",
    "* `POST`\n",
    "\n",
    "**Différents status de réponse :**\n",
    "* Erreur 404\n",
    "\n",
    "|Code|Description|\n",
    "|---|---|\n",
    "|**100**|Requête en cours de traitement|\n",
    "|**200**|Requête acceptée|\n",
    "|**300**|Redirection de la requête|\n",
    "|**400**|Erreur client (accès refusé, ressource inexistante)|\n",
    "|**500**|Erreur serveur (serveur indisponible)|"
   ]
  }
 ],
 "metadata": {
  "celltoolbar": "Diaporama",
  "kernelspec": {
   "display_name": "Python 3",
   "language": "python",
   "name": "python3"
  },
  "language_info": {
   "codemirror_mode": {
    "name": "ipython",
    "version": 3
   },
   "file_extension": ".py",
   "mimetype": "text/x-python",
   "name": "python",
   "nbconvert_exporter": "python",
   "pygments_lexer": "ipython3",
   "version": "3.8.3"
  },
  "toc": {
   "base_numbering": 1,
   "nav_menu": {},
   "number_sections": false,
   "sideBar": true,
   "skip_h1_title": false,
   "title_cell": "Table of Contents",
   "title_sidebar": "Contents",
   "toc_cell": false,
   "toc_position": {},
   "toc_section_display": true,
   "toc_window_display": false
  }
 },
 "nbformat": 4,
 "nbformat_minor": 4
}
