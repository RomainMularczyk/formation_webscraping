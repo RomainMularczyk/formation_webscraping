{
 "cells": [
  {
   "cell_type": "markdown",
   "metadata": {
    "cell_style": "center",
    "slideshow": {
     "slide_type": "slide"
    }
   },
   "source": [
    "# Parcours \"Python pour le webscraping\" - Module 2"
   ]
  },
  {
   "cell_type": "markdown",
   "metadata": {
    "slideshow": {
     "slide_type": "slide"
    }
   },
   "source": [
    "## 1. Introduction à la programmation avec Python"
   ]
  },
  {
   "cell_type": "markdown",
   "metadata": {
    "slideshow": {
     "slide_type": "subslide"
    }
   },
   "source": [
    "## 1. Introduction à la programmation avec Python\n",
    "\n",
    "**Quelques conseils généraux :**\n",
    "* La programmation n'a rien de vraiment complexe en soi\n",
    "* Découper les scripts en séries de petites **opérations simples**\n",
    "* Annoter ses scripts avec des **commentaires**\n",
    "* Faire un **schéma** sur papier au besoin\n",
    "\n",
    "**Quelle compétence particulière ?**\n",
    "* Aucune, il suffit d'imbriquer de façon logique des éléments\n",
    "* Par contre, il faut **savoir trouver et lire une documentation technique**\n",
    "    * Consulter des forums, rechercher des exemples concrets d'application, demander de l'**aide** et aider en retour"
   ]
  },
  {
   "cell_type": "markdown",
   "metadata": {
    "slideshow": {
     "slide_type": "subslide"
    }
   },
   "source": [
    "## 1. Introduction à la programmation avec Python\n",
    "\n",
    "**Python, c'est quoi ?**\n",
    "* Un langage de **programmation interprété** sous licence libre\n",
    "    * Un interpréteur est capable d'analyser et de traduire les scripts en langage machine en temps réel\n",
    "    * Avantage : exécution rapide, mais plus lent pour les gros calculs que d'autres langages (langages compilés)\n",
    "    \n",
    "**Pourquoi Python ?**\n",
    "* Intéressant pour apprendre\n",
    "    * Expérimenter et visualiser directement le résultat\n",
    "    * Python est un langage **facile à lire et à écrire**\n",
    "* Bénéficie d'une **communauté importante et active**\n",
    "* Langage particulièrement versatile, dispose d'outils pour répondre à une **très grande variété de besoins**"
   ]
  },
  {
   "cell_type": "markdown",
   "metadata": {
    "slideshow": {
     "slide_type": "slide"
    }
   },
   "source": [
    "## 2. A nos claviers ! Les bases de Python"
   ]
  },
  {
   "cell_type": "markdown",
   "metadata": {
    "slideshow": {
     "slide_type": "subslide"
    }
   },
   "source": [
    "## 2. A nos claviers ! Les bases de Python\n",
    "\n",
    "* Toutes les opérations que l'on pose s'appellent des **expressions**\n",
    "    * C'est la combinaison d'un **opérateur** et de **valeurs**\n",
    "    * Exemple : `2 + 2` (`2` : valeur, `+` : opérateur)\n",
    "* Python peut réaliser des calculs de différents types\n",
    "    * On dit qu'ils s'**évaluent**, c'est-à-dire qu'ils produisent une valeur\n",
    "    * Exemple : `4` est l'évaluation de `2 + 2`"
   ]
  },
  {
   "cell_type": "markdown",
   "metadata": {
    "slideshow": {
     "slide_type": "subslide"
    }
   },
   "source": [
    "## 2. A nos claviers ! Les bases de Python\n",
    "\n",
    "* Entrez l'**expression** suivante : `bonjour`\n",
    "    * Ça commence bien... Vous aussi, vous voyez ce message ? `NameError: name 'bonjour' is not defined`\n",
    "    * Il s'agit d'un message d'erreur : Python nous indique qu'il y a un problème avec notre **expression**\n",
    "    * Générer des erreurs est une étape récurrente et normale lorsqu'on programme : il ne faut pas être inquiet, on ne va rien casser\n",
    "* Lorsque Python renvoie une information de type `Error`, cela signifie que le script n'a **pas pu finir de s'exécuter correctement**\n",
    "    * Son exécution s'arrête alors directement"
   ]
  },
  {
   "cell_type": "markdown",
   "metadata": {
    "slideshow": {
     "slide_type": "slide"
    }
   },
   "source": [
    "## 3. Manipuler des nombres"
   ]
  },
  {
   "cell_type": "markdown",
   "metadata": {
    "slideshow": {
     "slide_type": "subslide"
    }
   },
   "source": [
    "## 3. Manipuler des nombres\n",
    "\n",
    "* On a vu comment réaliser une opération de base (`+`, `-`, `*`, `/`)\n",
    "* Mais on peut aussi faire des tests\n",
    "    * `2 < 3` : Python nous répond, `True`\n",
    "    * Cela tient la route, car `2` est bel et bien strictement supérieur à `3`"
   ]
  },
  {
   "cell_type": "markdown",
   "metadata": {
    "slideshow": {
     "slide_type": "subslide"
    }
   },
   "source": [
    "## 3. Manipuler des nombres\n",
    "\n",
    "* Ecritez `print(2 + 2)`\n",
    "    * La fonction `print()` permet d'afficher l'évaluation d'une expression à l'écran\n",
    "* Maintenant, faisons `deux = 2`\n",
    "    * Puis, `print(deux)`\n",
    "    * On vient de créer une **variable**\n",
    "    \n",
    "**Qu'est-ce qu'une variable ?**\n",
    "* C'est une sorte d'étiquette que l'on pose à une valeur : on donne un nom à l'étiquette et à chaque fois qu'on appelle ce nom, Python nous renvoie la valeur associée\n",
    "    * On utilise le signe `=`, aussi appelé **opérateur d'affectation** pour **affecter** une valeur à une **variable**\n",
    "    * On peut réutiliser cette étiquette pour faire des calculs : `deux + 2`\n",
    "    \n",
    "**Quelques règles sur la déclaration de variables**\n",
    "* Le nom de ne peut contenir que des caractères alpha-numériques\n",
    "* Le nom de la variable ne peut pas commencer par un chiffre\n",
    "* Python est sensible à la casse, donc `ma_variable` n'est pas la même chose que `Ma_Variable`\n",
    "* On ne peut pas affecter de valeurs à une série de mots-clés **réservés** utilisés par Python"
   ]
  },
  {
   "cell_type": "markdown",
   "metadata": {
    "slideshow": {
     "slide_type": "slide"
    }
   },
   "source": [
    "## 3. Manipuler du texte"
   ]
  },
  {
   "cell_type": "markdown",
   "metadata": {
    "slideshow": {
     "slide_type": "subslide"
    }
   },
   "source": [
    "## 3. Manipuler du texte\n",
    "\n",
    "* Si on écrit les variables avec du texte, comment écrit-on du texte qui ne soit pas une variable ?\n",
    "    * En entourant le texte de guillemets (simples `''` ou doubles `\"\"`)\n",
    "    * Les guillemets simples peuvent être bloquants, lorsqu'on veut écrire ça, par exemple : `'Je m'appelle Romain'`\n",
    "    * Il faut alors **échapper** le guillemet simple si on choisit d'utiliser des guillemets simples pour écrire cette chaîne\n",
    "    * Pour **échapper** un caractère, on le fait précéder du signe `\\` (l'antislash) : `'Je m\\'appelle Romain'`\n",
    "    * Si on veut se faciliter la vie, on peut utiliser les guillemets doubles pour écrire `\"Je m'appelle Romain\"`, cela évite d'avoir à échapper le guillemet simple\n",
    "    * On procède de la même façon dans une chaîne entre guillemets doubles si on souhaite faire apparaître des guillemets doubles dans cette même chaîne : `\"Je m'appelle \\\"Romain\\\"\"`"
   ]
  },
  {
   "cell_type": "markdown",
   "metadata": {
    "slideshow": {
     "slide_type": "subslide"
    }
   },
   "source": [
    "## 3. Manipuler du texte\n",
    "\n",
    "**Est-ce qu'on peut faire des calculs avec du texte ?**\n",
    "* Faites le test : `\"trois\" + \"quatre\"`\n",
    "    * Ce sont des calculs d'un autre genre, moins puissants mais ils seront pratiques !\n",
    "* On peut aussi utiliser la multiplication :\n",
    "    * `\"trois\" * 4`\n",
    "    \n",
    "**Ce qui ne marche pas...**\n",
    "* `2 + \"deux\"`\n",
    "    * Erreur : on ne peut pas additionner des chiffres et des lettres"
   ]
  },
  {
   "cell_type": "markdown",
   "metadata": {
    "slideshow": {
     "slide_type": "slide"
    }
   },
   "source": [
    "## 4. Convertir un type en un autre"
   ]
  },
  {
   "cell_type": "markdown",
   "metadata": {
    "slideshow": {
     "slide_type": "subslide"
    }
   },
   "source": [
    "## 4. Convertir un type en un autre\n",
    "\n",
    "**Pourquoi faire ?**\n",
    "* Dans certains cas, on voudra récupérer toutes les données et les assembler\n",
    "    * Pour cela, il faut les convertir (le plus souvent, en `str`)\n",
    "* On peut utiliser la fonction `str()` : elle convertit en `str` toute chaîne de caractère\n",
    "* On peut faire la même chose dans l'autre sens, si on a des chiffres écrits en châines de caractères\n",
    "    * On utilise alors la fonction `int()`"
   ]
  },
  {
   "cell_type": "markdown",
   "metadata": {
    "slideshow": {
     "slide_type": "slide"
    }
   },
   "source": [
    "## 5. Les structures de données"
   ]
  },
  {
   "cell_type": "markdown",
   "metadata": {
    "slideshow": {
     "slide_type": "subslide"
    }
   },
   "source": [
    "## 5. Les structures de données\n",
    "\n",
    "**Les listes**\n",
    "\n",
    "* On les déclare en encadrant les données avec des crochets, pour ouvrir `[` et `]` pour fermer la liste\n",
    "    * Chaque valeur de la liste est séparée par une virgule `,`\n",
    "    * Exemple : `[1, 3, 6, 10]`\n",
    "* On peut y récupérer une valeur particulière à l'aide d'un index\n",
    "    * `list1 = [1, 3, 6, 10]`\n",
    "    * `list1[0]` : Python nous renvoie `1`\n",
    "    * `list1[2]` : Python nous renvoie `6`\n",
    "* On peut aussi récupérer un intervale de valeurs\n",
    "    * `list1[0:2]` : Python nous renvoie `1, 3, 6`"
   ]
  },
  {
   "cell_type": "markdown",
   "metadata": {
    "slideshow": {
     "slide_type": "subslide"
    }
   },
   "source": [
    "## 5. Les structures de données\n",
    "\n",
    "**Les dictionnaires**\n",
    "* On les déclare en encadrant les données avec des accolades, pour ouvrir `{` et `}` pour fermer le dictionnaire\n",
    "    * Chaque valeur fonctionne en couple : une **clé** et la **valeur** associée\n",
    "    * Les entrées du dictionnaires sont séparées par des virgules `,`\n",
    "* On peut accéder à une valeur particulière à l'aide de la **clé**\n",
    "    * `dict1 = {\"nom\": \"Doe\", \"prenom\": \"John\"}`\n",
    "    * `dict1[\"nom\"]` : Python nous renvoie `Doe`"
   ]
  }
 ],
 "metadata": {
  "celltoolbar": "Diaporama",
  "kernelspec": {
   "display_name": "Python 3",
   "language": "python",
   "name": "python3"
  },
  "language_info": {
   "codemirror_mode": {
    "name": "ipython",
    "version": 3
   },
   "file_extension": ".py",
   "mimetype": "text/x-python",
   "name": "python",
   "nbconvert_exporter": "python",
   "pygments_lexer": "ipython3",
   "version": "3.8.5"
  },
  "toc": {
   "base_numbering": 1,
   "nav_menu": {},
   "number_sections": false,
   "sideBar": true,
   "skip_h1_title": false,
   "title_cell": "Table of Contents",
   "title_sidebar": "Contents",
   "toc_cell": false,
   "toc_position": {},
   "toc_section_display": true,
   "toc_window_display": false
  }
 },
 "nbformat": 4,
 "nbformat_minor": 4
}
