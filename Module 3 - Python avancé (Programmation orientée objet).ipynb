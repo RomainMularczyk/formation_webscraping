{
 "cells": [
  {
   "cell_type": "markdown",
   "metadata": {},
   "source": [
    "# Table des matières :\n",
    "\n",
    "* <a href=\"#Introduction\">1. Introduction</a>\n",
    "* <a href=\"#Introduciton à la programmation orientée objet\">2. Introduction à la programmation orientée objet</a>\n",
    "    * <a href=\"#Préalable : Qu'est-ce qu'une fonction ?\">2.1. Préalable : Qu'est-ce qu'une fonction ?</a>\n",
    "    * <a href=\"#Un peu de vocabulaire : Classes, propriétés, méthodes\">2.2. Un peu de vocabulaire : Classes, propriétés, méthodes</a>\n",
    "    * <a href=\"#Créer une classe\">2.3. Créer une classe</a>\n",
    "    * <a href=\"#Rembobinage : Quelques méthodes utiles des structures de données\">2.4. Rembobinage : Quelques méthodes utiles des structures de données</a>\n",
    "* <a href=\"#Travailler avec des fichiers et utiliser des librairies Python\">3. Travailler avec des fichiers et utiliser des librairies Python</a>\n",
    "    * <a href=\"#Exemple d'un fichier CSV\">3.1. Exemple d'un fichier CSV</a>\n",
    "* <a href=\"#gérer les erreurs\">4. Gérer les erreurs</a>\n",
    "* <a href=\"Les expressions régulières\">5. Les expressions régulières</a>"
   ]
  },
  {
   "cell_type": "markdown",
   "metadata": {},
   "source": [
    "## <div id=\"Introduction\">1. Introduction</div>"
   ]
  },
  {
   "cell_type": "markdown",
   "metadata": {},
   "source": [
    "Dans ce troisième module, nous tenterons d'aller un peu plus loin dans notre connaissance du langage Python, notamment en nous initiant à la **programmation orientée objet**. L'idée n'est pas tant de devenir expert programmeur que de prendre un peu d'assurance avec la logique qui régit le fonctionnement de nombreuses **bibliothèques** que nous utiliserons dans nos projets de **web scraping**.\n",
    "\n",
    "Nous apprendrons également à travailler avec des **fichiers**, essentiellement des fichiers structurés (**documents CSV**, **fichiers JSON** ou **XML**) : nous apprendrons à les ouvrir avec Python, en extraire des données ou, au contraire, y écrire des données.\n",
    "\n",
    "Une fois ces éléments complémentaires vus (et après quelques exercices pour appliquer toutes les connaissances acquises), nous pourrons passer à la pratique avec notre premier projet de **web scraping**."
   ]
  },
  {
   "cell_type": "markdown",
   "metadata": {},
   "source": [
    "## <div id=\"Introduction à la programmation orientée objet\">2. Introduction à la programmation orientée objet</div>"
   ]
  },
  {
   "cell_type": "markdown",
   "metadata": {},
   "source": [
    "Dans le monde de la programmation informatique, il existe plusieurs écoles, plusieurs philosophies et façons de faire. Python est un langage relativement souple qui permet d'écrire des programmes en appliquant les principes de divers **paradigmes**. On parle en effet de **paradigme** en informatique pour désigner ce qui peut se rapporter à une philosophie particulière, des façons de faire et d'appréhender les données que l'on manipule.\n",
    "\n",
    "Dans notre cas, nous allons nous intéresser plus particulièrement au **paradigme orienté objet** qui est particulièrement représenté dans l'univers Python.\n",
    "\n",
    "L'idée est assez simple avec la **programmation orientée objet** : tout est objet !\n",
    "\n",
    "En Python, un **objet** est une **structure de données** (un peu comme les variables) qui peut néanmoins contenir d'autres **variables**, des **fonctions** ou des **classes** (nous y venons dans un instant).\n",
    "\n",
    "L'idée derrière la **programmation orientée objet** est d'établir une distinction entre ce qu'on pourrait voir comme un \"moule\" d'un côté et de l'autre, une statue formée à partir de ce moule. Le moule ne donne qu'une forme à notre statue, libre à nous de choisir de la peindre en rouge ou en bleu, de lui adjoindre ensuite un autre morceau pour construire une statue plus grande, de lui retirer des morceaux ou de la détruire complètement.\n",
    "\n",
    "Si vous êtes familier de la philosophie de Platon, on pourrait voir la **programmation orientée objet** comme une forme de parallèle dans le monde informatique : il existe d'un côté des idées et de l'autre, des objets du monde, qui se rapportent à une idée mais qui n'en sont qu'une expression particulière qui n'en capture pas vraiment l'essence.\n",
    "\n",
    "Tout ceci paraît peut-être bien compliqué et on pourrait se demander en quoi c'est vraiment utile ? Pourquoi ne pas se contenter des boucles et des quelques fonctions déjà vues, cela permet déjà de faire beaucoup de choses.\n",
    "\n",
    "Certes, mais il y a un problème de taille : le code que l'on a écrit jusqu'à présent n'est pas **réutilisable**, à moins de s'amuser à faire des copier-coller à tout bout de champ. La **programmation orienté objet** nous aide en définissant une façon particulière de structurer notre code qui le rend **réutilisable** (ce n'est pas sa seule utilité, mais cela en fait partie).\n",
    "\n",
    "Avant de nous confronter au coeur du sujet en traitant des **classes**, voyons dans un premier temps les **fonctions** qui constituent déjà un premier outil précieux pour rendre notre code **réutilisable**. Selon la taille et la complexité de nos scripts, manipuler des **fonctions** peut se révéler largement suffisant sans que l'on ait besoin de faire appel à des **classes**. Néanmoins, comme nous l'avons mentionné plus tôt, de nombreuses **bibliothèques** Python utilisent des classes et comprendre un peu plus en détail leur fonctionnement permet de mieux appréhender leur fonctionnement et se les approprier ainsi plus facilement."
   ]
  },
  {
   "cell_type": "markdown",
   "metadata": {},
   "source": [
    "### <div id=\"Préalable : Qu'est-ce qu'une fonction ?\">2. 1. Préalable : Qu'est-ce qu'une fonction ?</div>"
   ]
  },
  {
   "cell_type": "markdown",
   "metadata": {},
   "source": [
    "Nous avons précédemment croisé plusieurs **fonctions** bien utiles pour obtenir certaines informations sur les données que nous manipulions. Il n'est peut-être pas inutile d'en faire un bref récapitulatif pour essayer de les mémoriser, au fur et à mesure de notre pratique, on se rendra compte qu'elles sont bien utiles et qu'on est amené à les utiliser quasiment pour chaque script que l'on écrira !\n",
    "\n",
    "|Fonction|Description|\n",
    "|---|---|\n",
    "|`print()`|Affiche à l'écran le contenu d'un objet.|\n",
    "|`len()`|Renvoie la longueur de la donnée contenue dans l'objet.|\n",
    "|`type()`|Renvoie le type de données d'un objet.|\n",
    "|`ìnt()`|Convertit une données en *integer* (nombre entier).|\n",
    "|`str()`|Convertit une données en chaîne de caractères.|\n",
    "\n",
    "\n",
    "En réalité, les **fonctions** sont aussi des **objets** que l'on peut créer comme on crée des **variables**.\n",
    "\n",
    "Tentons de définir ces nouvelles objets : une **fonction** est une série d'opérations encapsulée qui prend un certain nombre de données en entrée et renvoie un certain nombre de données en sortie. Et... C'est tout...\n",
    "\n",
    "<br>\n",
    "\n",
    "<img src=\"img/function.png\"/>\n",
    "\n",
    "Voyons maintenant concrètement dans le code comme tout cela fonctionne, précisément. Reprenons pour cela notre bibliothèque avec laquelle nous avions travaillé dans le module précédent."
   ]
  },
  {
   "cell_type": "code",
   "execution_count": 5,
   "metadata": {},
   "outputs": [],
   "source": [
    "bibliotheque = [{\n",
    "    \"auteur\": \"Georges Sand\",\n",
    "    \"titre\": \"Claudie\",\n",
    "    \"genre\": \"théâtre\",\n",
    "    \"annee\": \"1851\"\n",
    "},\n",
    "{\n",
    "    \"auteur\": \"Georges Sand\",\n",
    "    \"titre\": \"Les dames vertes\",\n",
    "    \"genre\": \"roman\",\n",
    "    \"annee\": \"1857\"\n",
    "},\n",
    "{\n",
    "    \"auteur\": \"Georges Sand\",\n",
    "    \"titre\": \"La petite fadette\",\n",
    "    \"genre\": \"roman\",\n",
    "    \"annee\": \"1849\"\n",
    "},\n",
    "{\n",
    "    \"auteur\": \"Victor Hugo\",\n",
    "    \"titre\": \"Le dernier jour d'un condamné\",\n",
    "    \"genre\": \"roman\",\n",
    "    \"annee\": \"1829\"\n",
    "},\n",
    "{\n",
    "    \"auteur\": \"Victor Hugo\",\n",
    "    \"titre\": \"Les misérables\",\n",
    "    \"genre\": \"roman\",\n",
    "    \"annee\": \"1862\"\n",
    "},\n",
    "{\n",
    "    \"auteur\": \"Georges Sand\",\n",
    "    \"titre\": \"Les maîtres sonneurs\",\n",
    "    \"genre\": \"roman\",\n",
    "    \"annee\": \"1853\"\n",
    "},\n",
    "{\n",
    "    \"auteur\": \"Victor Hugo\",\n",
    "    \"titre\": \"Hernani\",\n",
    "    \"genre\": \"théâtre\",\n",
    "    \"annee\": \"1830\"\n",
    "},\n",
    "{\n",
    "    \"auteur\": \"Georges Sand\",\n",
    "    \"titre\": \"Le mariage de Victorine\",\n",
    "    \"genre\": \"théâtre\",\n",
    "    \"annee\": \"1851\"\n",
    "},\n",
    "{\n",
    "    \"auteur\": \"Georges Sand\",\n",
    "    \"titre\": \"Comme il vous plaira\",\n",
    "    \"genre\": \"théâtre\",\n",
    "    \"annee\": \"1856\"\n",
    "},\n",
    "{\n",
    "    \"auteur\": \"Victor Hugo\",\n",
    "    \"titre\": \"Cromwell\",\n",
    "    \"genre\": \"théâtre\",\n",
    "    \"annee\": \"1827\"\n",
    "}\n",
    "]"
   ]
  },
  {
   "cell_type": "markdown",
   "metadata": {},
   "source": [
    "Nous allons définir une fonction qui renvoie la valeur `True` si l'auteure du livre de notre bibliothèque est Georges Sand."
   ]
  },
  {
   "cell_type": "code",
   "execution_count": 13,
   "metadata": {},
   "outputs": [],
   "source": [
    "def georges_sand(livre):\n",
    "    pas_georges_sand = \"Georges Sand n'a pas écrit ce livre !\"\n",
    "    if livre[\"auteur\"] == \"Georges Sand\":\n",
    "        print(\"Georges Sand a écrit ce livre !\")\n",
    "        return True\n",
    "    else:\n",
    "        print(pas_georges_sand)\n",
    "        return False"
   ]
  },
  {
   "cell_type": "markdown",
   "metadata": {},
   "source": [
    "Premier constat : notre code ne renvoie pas d'erreur, mais il ne se passe rien. C'est tout à fait normal.\n",
    "\n",
    "Une fonction s'utilise en deux étapes :\n",
    "* D'abord, on **définit** la fonction (d'où le mot-clé `def`)\n",
    "* Ensuite, on **appelle** notre fonction (on utilise toujours des parenthèses à la suite d'une fonction lorsqu'on l'appelle, c'est d'ailleurs ce qui permet de distinguer les fonctions des autres objets)\n",
    "\n",
    "Essayons d'appeler notre fonction avant d'expliciter davantage son fonctionnement."
   ]
  },
  {
   "cell_type": "code",
   "execution_count": 14,
   "metadata": {},
   "outputs": [
    {
     "name": "stdout",
     "output_type": "stream",
     "text": [
      "Georges Sand a écrit ce livre !\n",
      "Claudie True\n",
      "Georges Sand a écrit ce livre !\n",
      "Les dames vertes True\n",
      "Georges Sand a écrit ce livre !\n",
      "La petite fadette True\n",
      "Georges Sand n'a pas écrit ce livre !\n",
      "Le dernier jour d'un condamné False\n",
      "Georges Sand n'a pas écrit ce livre !\n",
      "Les misérables False\n",
      "Georges Sand a écrit ce livre !\n",
      "Les maîtres sonneurs True\n",
      "Georges Sand n'a pas écrit ce livre !\n",
      "Hernani False\n",
      "Georges Sand a écrit ce livre !\n",
      "Le mariage de Victorine True\n",
      "Georges Sand a écrit ce livre !\n",
      "Comme il vous plaira True\n",
      "Georges Sand n'a pas écrit ce livre !\n",
      "Cromwell False\n"
     ]
    }
   ],
   "source": [
    "for livre in bibliotheque:\n",
    "    print(livre[\"titre\"], georges_sand(livre))"
   ]
  },
  {
   "cell_type": "markdown",
   "metadata": {},
   "source": [
    "Explicitons un peu les différents morceaux de ce code. En Python, une **fonction** se définit à l'aide du mot-clé `def` auquel on fait suivre le nom de notre fonction. Ensuite, on indique entre parenthèses, les **arguments** (ou **paramètres**) de la fonction. Les **arguments** sont les valeurs que la **fonction** prend en entrée.\n",
    "\n",
    "Au sein de notre **fonction**, on fait référence aux **valeurs d'entrée** à l'aide de la même variable que l'on a défini. Comme vous pouvez le constater, elle n'a pas besoin d'avoir un nom particulier pour désigner les objets qu'elle prendra en entrée (un peu comme lorsqu'on définit une boucle `for`). On aurait aussi bien pu passer un paramètre nommé `x` que cela fonctionnerait tout aussi bien (il aurait fallu alors remplacer la ligne suivante : `if x[\"auteur\"] == \"Georges Sand\":`.\n",
    "\n",
    "Le mot-clé `return` permet de renvoyer une nouvelle valeur en sortie. Si l'interpréteur Python arrive à une ligne `return` au sein d'une **fontion**, alors il sort directement du **bloc de la fonction**. Car, vous aurez remarqué que, pour une **fonction** comme pour une boucle ou un bloc **`ìf`/`else`**, on utilise également l'**indentation** pour indiquer à l'interpréteur Python que ces segments de code sont inclus dans un **bloc** particulier.\n",
    "\n",
    "Avec les **fonctions**, ces blocs se chargent d'une autre propriété : toutes les variables qui sont définies à l'intérieur du **bloc d'une fonction** n'existe qu'en son sein. Voyons cela."
   ]
  },
  {
   "cell_type": "code",
   "execution_count": 10,
   "metadata": {},
   "outputs": [
    {
     "ename": "NameError",
     "evalue": "name 'pas_georges_sand' is not defined",
     "output_type": "error",
     "traceback": [
      "\u001b[1;31m---------------------------------------------------------------------------\u001b[0m",
      "\u001b[1;31mNameError\u001b[0m                                 Traceback (most recent call last)",
      "\u001b[1;32m<ipython-input-10-d66984f3b575>\u001b[0m in \u001b[0;36m<module>\u001b[1;34m\u001b[0m\n\u001b[1;32m----> 1\u001b[1;33m \u001b[0mprint\u001b[0m\u001b[1;33m(\u001b[0m\u001b[0mpas_georges_sand\u001b[0m\u001b[1;33m)\u001b[0m\u001b[1;33m\u001b[0m\u001b[1;33m\u001b[0m\u001b[0m\n\u001b[0m",
      "\u001b[1;31mNameError\u001b[0m: name 'pas_georges_sand' is not defined"
     ]
    }
   ],
   "source": [
    "print(pas_georges_sand)"
   ]
  },
  {
   "cell_type": "markdown",
   "metadata": {},
   "source": [
    "La variable `pas_georges_sand` n'existe pas, nous dit Python. Pourtant, nous l'avons bien définie dans notre **fonction** `georges_sand()`. En fait, cette variable existe bel et bien, mais uniquement dans la **fonction** et n'est accessible que dans le **bloc** correspondant. On parle de la portée d'une **variable** pour désigner cette particularité du comportement des **variables** dans les fonctions.\n",
    "\n",
    "Les autres **variables** que nous avions défini jusqu'alors étaient des **variables globales**, c'est-à-dire qu'elles sont accessibles partout dans notre code, ceci, tant dans le **bloc d'une fonction** qu'en dehors.\n",
    "\n",
    "Comme toute autre valeur dans Python, on peut capturer la **sortie d'une fonction** à l'aide d'une variable. Voyons cela."
   ]
  },
  {
   "cell_type": "code",
   "execution_count": 15,
   "metadata": {},
   "outputs": [
    {
     "name": "stdout",
     "output_type": "stream",
     "text": [
      "Georges Sand a écrit ce livre !\n",
      "True\n",
      "Georges Sand a écrit ce livre !\n",
      "True\n",
      "Georges Sand a écrit ce livre !\n",
      "True\n",
      "Georges Sand n'a pas écrit ce livre !\n",
      "False\n",
      "Georges Sand n'a pas écrit ce livre !\n",
      "False\n",
      "Georges Sand a écrit ce livre !\n",
      "True\n",
      "Georges Sand n'a pas écrit ce livre !\n",
      "False\n",
      "Georges Sand a écrit ce livre !\n",
      "True\n",
      "Georges Sand a écrit ce livre !\n",
      "True\n",
      "Georges Sand n'a pas écrit ce livre !\n",
      "False\n"
     ]
    }
   ],
   "source": [
    "for livre in bibliotheque:\n",
    "    auteur = georges_sand(livre)\n",
    "    print(auteur)"
   ]
  },
  {
   "cell_type": "markdown",
   "metadata": {},
   "source": [
    "Lorsque l'on a parlé précédemment des **types de données**, nous n'avons pas mentionné un type assez spécifique qui découle précisément du retour (ou plus exactement de l'absence de retour) de certaines fonctions. C'est le cas de la fonction `print()`. Si elle permet d'afficher la valeur d'une **variable**, par exemple, elle ne renvoie pas spécifiquement de donnée."
   ]
  },
  {
   "cell_type": "code",
   "execution_count": 17,
   "metadata": {},
   "outputs": [
    {
     "name": "stdout",
     "output_type": "stream",
     "text": [
      "Un cheval blanc.\n",
      "<class 'NoneType'>\n"
     ]
    }
   ],
   "source": [
    "test = print(\"Un cheval blanc.\")\n",
    "print(type(test))"
   ]
  },
  {
   "cell_type": "markdown",
   "metadata": {},
   "source": [
    "Si notre chaîne de caractère a bel et bien été imprimée à l'écran, notre **variable** `test` est de type `NoneType`. Voyons ce qu'elle contient"
   ]
  },
  {
   "cell_type": "code",
   "execution_count": 18,
   "metadata": {},
   "outputs": [
    {
     "name": "stdout",
     "output_type": "stream",
     "text": [
      "None\n"
     ]
    }
   ],
   "source": [
    "print(test)"
   ]
  },
  {
   "cell_type": "markdown",
   "metadata": {},
   "source": [
    "`None` est la réponse que nous fait Python pour nous dire qu'une **variable** ne contient rien. `NoneType` est un type particulier qui s'applique uniquement à la donnée `None`. Il s'agit d'une valeur différente de `False` qui pourra être utile dans certains cas, pour distinguer notamment le fait qu'il n'y a pas de retour de fonction, chose qui peut-être différente d'un retour négatif !"
   ]
  },
  {
   "cell_type": "markdown",
   "metadata": {},
   "source": [
    "### <div id=\"Un peu de vocabulaire : Classes, propriétés, méthodes\">2. 2. Un peu de vocabulaire : Classes, propriétés, méthodes</div>"
   ]
  },
  {
   "cell_type": "markdown",
   "metadata": {},
   "source": [
    "Maintenant que nous savons ce qu'est une **fonction**, essayons de creuser un peu plus loin en posant tout d'abord quelques termes propres au **paradigme orienté objet**.\n",
    "\n",
    "L'idée dans la **programmation orientée objet** est de créer des modèles, dans le même ordre d'idée que les fonctions, que nous pourrons appeler dès que nous en aurons besoin, pour éviter de nous répéter dans le code. Mais au-delà de cet aspect pratique, cela nous permettra également d'organiser notre code de façon structurée en définissant une représentation particulière de nos objets. Ceci nous permettra de **modéliser** nos objets en leur conférant des caractéristiques particulières.\n",
    "\n",
    "Pour cela, nous utiliserons des **classes**. Une classe est un schéma global qui représente un objet particulier. Cet objet peut être doté de deux types d'éléments distincts :\n",
    "* Des **propriétés**\n",
    "* Des **méthodes**\n",
    "\n",
    "Reprenons l'exemple de notre bibliothèque pour illustrer le propos.\n",
    "\n",
    "Les **propriétés** sont des caractéristiques que l'on pourrait qualifier de statique d'une classe. Dans le cas d'un livre particulier de notre bibliothèque, une **propriété** d'un livre pourrait être son titre ou son auteur. Il s'agit d'une caractéristique propre à cet objet qui le distingue des autres.\n",
    "\n",
    "Les **méthodes** sont des actions que l'on peut faire avec cet objet. Dans le cas d'un livre, cela pourrait être, par exemple, \"modifier le titre du livre\", \"le retirer de la bibliothèque\", etc.\n",
    "\n",
    "Dernier point de vocabulaire. Les **classes**, comme les **fonctions**, doivent être définies avant d'être utilisées. Contrairement aux **fonctions**, on ne peut pas vraiement \"appeler\" une **classe** : on parle plutôt d'**instancier** la classe, c'est-à-dire, créer une **instance** particulière, un exemple particulier parmi une myriade d'autres que l'on pourrait imaginer. Dans le cas de nos livres, une \"instance de livre\" serait, par exemple, \"Le dernier jour d'un condamné\" de Victor Hugo. Il dispose d'un titre particulier, d'un auteur particulier mais, comme les autres livres, il a les mêmes particularités : il a un titre, il a un auteur, une date de parution, etc.\n",
    "\n",
    "Par convention et pour rendre le code plus lisible, on utilise un **constructeur** lorsqu'on définit une **classe** : c'est dans ce bloc que l'on détaille chaque **propriété** de notre classe. Pour cela, on utilise la **fonction** `__init__()`. C'est elle qui va permettre d'attributer à chaque **propriété** de la classe sa valeur correspondante au moment où on **instanciera** notre classe (c'est-à-dire lorsqu'on créra un livre particulier)."
   ]
  },
  {
   "cell_type": "markdown",
   "metadata": {},
   "source": [
    "### <div id=\"Créer une classe\">2. 3. Créer une classe</div>"
   ]
  },
  {
   "cell_type": "code",
   "execution_count": 20,
   "metadata": {},
   "outputs": [],
   "source": [
    "class Livre:\n",
    "    \n",
    "    def __init__(self, titre, auteur, genre, annee):\n",
    "        self.titre = titre\n",
    "        self.auteur = auteur\n",
    "        self.genre = genre\n",
    "        self.annee = annee"
   ]
  },
  {
   "cell_type": "code",
   "execution_count": 2,
   "metadata": {},
   "outputs": [
    {
     "name": "stdout",
     "output_type": "stream",
     "text": [
      "Germinal\n"
     ]
    }
   ],
   "source": [
    "germinal = Livre(\"Germinal\", \"Emile Zola\", \"roman\", 1885)\n",
    "print(germinal.titre)"
   ]
  },
  {
   "cell_type": "markdown",
   "metadata": {},
   "source": [
    "On a créé un nouveau livre en instanciant notre **classe** `Livre` que l'on a stocké dans une **variable** `germinal`. Cette **variable** est une **instance** de notre **classe** `Livre`.\n",
    "\n",
    "Nous avons donc là les **propriétés** de notre classe `Livre` auxquelles on peut accéder en appelant directement `.titre` ou `.auteur` sur notre **instance de classe** (c'est-à-dire, un cas particulier que l'on aura créé à partir de notre modèle `Livre`).\n",
    "\n",
    "A présent, voyons comment ajouter une **méthode** à notre classe. Nous allons créer une **méthode** qui permet d'ajouter un livre que nous venons de créer à notre **variable** `bibliotheque`. Pour cela, il sera utile de se rappeler de la règle de **portée des variables** : une **variable globale** (c'est-à-dire, une **variable** définie en dehors du **bloc d'une fonction** est accessible partout dans notre code, même à l'intérieur du **bloc** de n'importe qu'elle **fonction**, en revanche, une **variable locale**, définie dans le **bloc d'une fonction**, ne sera accessible que dans ce même **bloc**).\n",
    "\n",
    "Profitons de ce rappel pour détailler un peu le fonctionnement des **objets** défins dans une **classe**. Chaque **méthode** que l'on y définira prendra comme premier **paramètre** la **variable** `self` : celle-ci se réfère directement à l'**instance de classe** elle-même lorsqu'elle est créée. Ainsi, lorsqu'on définit les **propriétés** de notre **classe** `Livre`, celles-ci sont accessibles partout dans notre **classe** sans que l'on soit obligé de les passer en **paramètre** en entrée d'une nouvelle **méthode** que l'on souhaiterait définir."
   ]
  },
  {
   "cell_type": "code",
   "execution_count": 1,
   "metadata": {},
   "outputs": [],
   "source": [
    "class Livre:\n",
    "    \n",
    "    def __init__(self, titre, auteur, genre, annee):\n",
    "        self.titre = titre\n",
    "        self.auteur = auteur\n",
    "        self.genre = genre\n",
    "        self.annee = annee\n",
    "        \n",
    "    def ajouter_livre(self):\n",
    "        nouveau_livre = {\"auteur\": self.auteur,\n",
    "                         \"titre\": self.titre,\n",
    "                         \"genre\": self.genre,\n",
    "                         \"annee\": self.annee}\n",
    "        bibliotheque.append(nouveau_livre)"
   ]
  },
  {
   "cell_type": "markdown",
   "metadata": {},
   "source": [
    "Grâce à notre nouvelle **méthode** `.ajouter_livre()`, nous pouvons ajouter un livre que l'on aura créé dans un premier temps comme **instance de classe** `Livre` à notre **variable** `bibliotheque`. Cette **variable** est accessible dans le bloc de notre **classe** `Livre` car il s'agit d'une **variable globale**.\n",
    "\n",
    "Maintenant que nous comprenons ce qu'est une **méthode de classe**, nous voyons qu'il en existe en réalité de nombreuses déjà existantes que l'on peut appeler sur divers types d'**objets** Python. Si l'on se remémore les **structures de données** que nous avons traité dans le module précédent, chaque type de structure particulière dispose, par exemple, de **méthodes** propres à sa classe (en Python, une **structure de données** ou un **type de données** comme les **chaînes de caractères** sont définies comme des **classes** qui disposent donc de **méthodes** particulières).\n",
    "\n",
    "Une méthode que nous utiliserons souvent est la **méthode** `.append()` pour les **listes**. Elle permet d'ajouter un nouvel élément à la **liste** en le positionnant en dernier. On pourra accéder à ce dernier élément ajouter en utilisant l'**index** `[-1]` de notre liste."
   ]
  },
  {
   "cell_type": "code",
   "execution_count": 8,
   "metadata": {},
   "outputs": [
    {
     "name": "stdout",
     "output_type": "stream",
     "text": [
      "{'auteur': 'Emile Zola', 'titre': 'Germinal', 'genre': 'roman', 'annee': 1885}\n"
     ]
    }
   ],
   "source": [
    "germinal = Livre(\"Germinal\", \"Emile Zola\", \"roman\", 1885)\n",
    "germinal.ajouter_livre()\n",
    "# Affichons le dernier livre de la liste\n",
    "print(bibliotheque[-1])"
   ]
  },
  {
   "cell_type": "markdown",
   "metadata": {},
   "source": [
    "<div class=\"alert alert-success\" role=\"alert\"><strong>Premier exercice :</strong> Créons à présent notre première classe avec laquelle nous modéliserons une structure de donnée similaire à celle que l'on peut retrouver sur les réseaux sociaux. Pour cela, on créera une classe qui contiendra une série de propriétés représentant :\n",
    "<ul>\n",
    "    <li>L'auteur d'un post</li>\n",
    "    <li>Le contenu d'un post</li>\n",
    "    <li>Sa date de publication</li>\n",
    "    <li>Ses hashtags</li>\n",
    "    <li>Les mentions à d'autres utilisateurs</li>\n",
    "</ul>\n",
    "Ensuite, on ajoutera une méthode qui permettra d'ajouter un post au fil général du réseau social. On pourra stocker tous les posts dans une variable <code>fil</code> qui représentera le fil général.\n",
    "</div>"
   ]
  },
  {
   "cell_type": "markdown",
   "metadata": {},
   "source": [
    "<div class=\"alert alert-danger\" role=\"alert\"><strong>Créer une classe :</strong> Utiliser une classe pour modéliser une structure de données.\n",
    "\n",
    "<pre>\n",
    "    <code>\n",
    "    # Créons d'abord notre variable globale qui contiendra tous les posts du fil d'actualité\n",
    "    fil = []\n",
    "\n",
    "    # Ensuite, créons une classe Post\n",
    "    class Post:\n",
    "\n",
    "        # On crée notre constructeur dans lequel on déclare toutes nos propriétés de classe\n",
    "        def __init__(self, auteur, contenu, date, hashtags, mentions):\n",
    "            self.auteur = auteur\n",
    "            self.contenu = contenu\n",
    "            self.date = date\n",
    "            self.mentions = mentions\n",
    "\n",
    "        # On crée enfin notre méthode pour ajouter un post au fil d'actualité\n",
    "        def ajouter_post(self):\n",
    "            nouveau_post = {\"auteur\": self.auteur,\n",
    "                            \"contenu\": self.contenu,\n",
    "                            \"date\": self.date,\n",
    "                            \"mentions\": self.mentions}\n",
    "            fil.append(nouveau_post)\n",
    "    </code>\n",
    "</pre>\n",
    "</div>"
   ]
  },
  {
   "cell_type": "markdown",
   "metadata": {},
   "source": [
    "### <div id=\"Rembobinage : Quelques méthodes utiles des structures de données\">2. 4. Rembobinage : Quelques méthodes utiles des structures de données</div>"
   ]
  },
  {
   "cell_type": "markdown",
   "metadata": {},
   "source": [
    "Profitons de notre compréhension nouvelle du concept de **classe** pour faire quelques rappels et un retour sur les structures de données. Celles-ci disposent chacune d'une série de **méthodes** spécifiques qui permettent d'effectuer certains types d'opération (ajouter un élément, en supprimer, effectuer des tris, etc.)."
   ]
  },
  {
   "cell_type": "markdown",
   "metadata": {},
   "source": [
    "#### <div id=\"Les méthodes de listes\">2. 4. 1. Les méthodes de listes</div>"
   ]
  },
  {
   "cell_type": "markdown",
   "metadata": {},
   "source": [
    "Commençons par voir les **méthodes** propres aux **listes**, au premier rang desquelles, celle qui permet d'ajouter un nouvel élément. Dans l'exemple précédent, nous avons vu la méthode `.append()` qui est assurément la plus utilisée. Celle-ci permet d'ajouter un élément à l'**index** `[-1]` d'une **liste**. En d'autres termes, elle permet d'ajouter un élément à la fin d'une **liste**.\n",
    "\n",
    "Il n'est pas très utile d'apprendre toutes ces **méthodes** par coeur, notamment car nous serons rarement amené à toutes les utiliser. Ci-dessous, une liste résumant toutes les méthodes de liste existantes dans Python (le paramètre `elem` désigne l'élément qui sera ajouté/supprimé/modifié dans la liste, si nécessaire, est précisé s'il doit être d'un type particulier). Le comportement par défaut indique l'action de la **méthode** si elle est appelée sans passer d'**arguments**.\n",
    "\n",
    "Arrêtons-nous un instant sur l'information de la colonne \"Inplace\". Celle-ci indique si la méthode renvoie une nouvelle liste ou si elle modifie la liste existante. En effet, nous avons vu que les **méthodes** sont en réalité des **fonctions**, cela signie qu'elles peuvent **renvoyer** une valeur, à l'aide du mot-clé `return` qui met directement fin à l'exécution du code d'une **fonction** et renvoie une valeur particulière que l'on peut capturer à l'aide d'une **variable**. Certaines des **méthodes** renvoient ainsi une valeur particulière, d'autres modifient la liste sur laquelle la **méthode** est appelée (cela signifie que si l'on affiche la liste après appel d'une méthode \"Inplace\", la liste en question devrait être modifiée !).\n",
    "\n",
    "|Méthode|Description|Comportement par défaut|Inplace|\n",
    "|---|---|---|---|\n",
    "|`.append(elem)`|Ajoute le nouvel élément à la fin de la liste.|Aucun|Oui|\n",
    "|`.extend(elem)`|Ajoute l'ensemble des données d'un élément itérable à la suite de la liste existante.|Aucun|Oui|\n",
    "|`.insert(i, elem)`|Ajoute un nouvel élément à la liste à l'index `i`.|Aucun|Oui|\n",
    "|`.remove(elem)`|Retire le premier élément de la liste correspondant à la valeur de `elem`.|Aucun|Oui|\n",
    "|`.pop(i)`|Retire l'élément présent à l'index `i` de la liste et le renvoie.|Retire le dernier élément de la liste et le renvoie.|Oui (Renvoie aussi une valeur)|\n",
    "|`.clear()`|Retire tous les éléments de la liste.|Idem|Oui|\n",
    "|`.index(elem)`|Renvoie l'index correspondant au premier élément ayant la même valeur qu'`elem`.|Aucun|Non|\n",
    "|`.count(elem)`|Renvoie le nombre d'éléments `elem` présents dans la liste.|Aucun|Non|\n",
    "|`.sort(key, reverse)`|Trie la liste en fonction du critère `key`. Si `reverse` vaut `True`, renvoie le même tri, mais inversé.|Renvoie la liste triée dans l'ordre alpha-numérique.|Oui|\n",
    "|`.reverse()`|Inverse l'ordre actuel de la liste.|Idem|Oui|\n",
    "|`.copy()`|Renvoie une copie de la liste.|Idem|Oui|"
   ]
  },
  {
   "cell_type": "markdown",
   "metadata": {},
   "source": [
    "Prenons tout de même d'illustrer le fonctionnement de certaines de ces méthodes, en premier lieu, celui de `.extend(elem)` qui ne fonctionne qu'avec une **variable** `elem` qui correspond à un **objet itérable** (c'est-à-dire que l'on peut parcourir à l'aide d'une boucle `for`). Cela comprend notamment les **listes**, les **tuples** et les **dictionnaires** (et d'autres structures moins fréquemment utilisées)."
   ]
  },
  {
   "cell_type": "code",
   "execution_count": 27,
   "metadata": {},
   "outputs": [
    {
     "name": "stdout",
     "output_type": "stream",
     "text": [
      "[1, 2, 3, 'a', 'b', 'c']\n",
      "[4, 5, 6, 'd', 'e', 'f']\n",
      "[4, 5, 6, 'd', 'e', 'f', 'a', 'b', 'c']\n",
      "[4, 5, 6, 'd', 'e', 'f', 'a', 'b', 'c', 'France', 'Espagne', 'Irlande']\n"
     ]
    }
   ],
   "source": [
    "# Avec l'opérateur d'addition\n",
    "list1 = [1, 2, 3]\n",
    "lista = [\"a\", \"b\", \"c\"]\n",
    "\n",
    "list1a = list1 + lista\n",
    "print(list1a)\n",
    "\n",
    "# Avec la méthode .extend()\n",
    "list2 = [4, 5, 6]\n",
    "listb = [\"d\", \"e\", \"f\"]\n",
    "list2.extend(listb)\n",
    "print(list2)\n",
    "\n",
    "# Avec un dictionnaire (noter que ce sont les clés qui sont ajoutées)\n",
    "dict1 = {\"a\": \"Abricot\", \"b\": \"Banane\", \"c\": \"Citron\"}\n",
    "list2.extend(dict1)\n",
    "print(list2)\n",
    "\n",
    "# Avec un tuple\n",
    "tuple1 = (\"France\", \"Espagne\", \"Irlande\")\n",
    "list2.extend(tuple1)\n",
    "print(list2)"
   ]
  },
  {
   "cell_type": "markdown",
   "metadata": {},
   "source": [
    "Voyons maintenant le cas de la méthode `.remove(elem)`, bien utile, mais souffrant de limites néanmoins. En effet, elle ne permet de supprimer que le premier élément rencontré, ce qui pourra se révéler parfois insuffisant !"
   ]
  },
  {
   "cell_type": "code",
   "execution_count": 29,
   "metadata": {},
   "outputs": [
    {
     "name": "stdout",
     "output_type": "stream",
     "text": [
      "[2, 3, 4, 4]\n",
      "[2, 3, 4]\n"
     ]
    }
   ],
   "source": [
    "list1 = [1, 2, 3, 4, 4]\n",
    "list1.remove(1)\n",
    "print(list1)\n",
    "list1.remove(4)\n",
    "print(list1)"
   ]
  },
  {
   "cell_type": "markdown",
   "metadata": {},
   "source": [
    "Une autre façon de faire est d'utiliser ``.pop(i)`."
   ]
  },
  {
   "cell_type": "code",
   "execution_count": 30,
   "metadata": {},
   "outputs": [
    {
     "data": {
      "text/plain": [
       "1"
      ]
     },
     "execution_count": 30,
     "metadata": {},
     "output_type": "execute_result"
    }
   ],
   "source": [
    "list1 = [1, 2, 3, 4, 4]\n",
    "list1.pop(0)"
   ]
  },
  {
   "cell_type": "markdown",
   "metadata": {},
   "source": [
    "Notons d'emblée que, contrairement à la méthode `.remove(elem)`, `.pop(i)` renvoie la valeur qu'elle vient de retirer de notre liste."
   ]
  },
  {
   "cell_type": "markdown",
   "metadata": {},
   "source": [
    "Voyons à présent comment trier une **liste**. Il existe plusieurs façons de faire, mais en utilisant une **méthode**, c'est avec `.sort()` que l'on procède. Cette **méthode** dispose de deux **arguments** :\n",
    "* `key` : il permet d'indiquer quelle logique de tri doit être suivie\n",
    "* `reverse` : il permet d'indiquer si on souhaite obtenir un tri dans l'ordre inverse"
   ]
  },
  {
   "cell_type": "code",
   "execution_count": 42,
   "metadata": {},
   "outputs": [
    {
     "name": "stdout",
     "output_type": "stream",
     "text": [
      "[1, 2, 3, 4, 5]\n"
     ]
    }
   ],
   "source": [
    "list1 = [4, 5, 1, 2, 3]\n",
    "list1.sort()\n",
    "print(list1)"
   ]
  },
  {
   "cell_type": "markdown",
   "metadata": {},
   "source": [
    "Nous ne couvrirons pas ici toutes les méthodes de tri possibles dans Python. Pour cela, on pourra se référer à la ressource suivante : https://docs.python.org/3/howto/sorting.html#sortinghowto."
   ]
  },
  {
   "cell_type": "markdown",
   "metadata": {},
   "source": [
    "#### <div id=\"Les méthodes de dictionnaires\">2. 4. 2. Les méthodes de dictionnaires</div>"
   ]
  },
  {
   "cell_type": "markdown",
   "metadata": {},
   "source": [
    "Quelques précisions pour commencer sur les **dictionnaires**. A la différence des **listes**, il n'existe pas de **méthode** similaire à `.append(elem)`. Pour ajouter un élément à un **dictionnaire**, on utilise son **index** ainsi que l'**opérateur d'affectation** `=`. Un exemple pour rendre cela plus clair."
   ]
  },
  {
   "cell_type": "code",
   "execution_count": 45,
   "metadata": {},
   "outputs": [
    {
     "name": "stdout",
     "output_type": "stream",
     "text": [
      "{'a': 'Abricot', 'b': 'Banane', 'c': 'Citron', 'd': 'Datte'}\n"
     ]
    }
   ],
   "source": [
    "dict1 = {\"a\": \"Abricot\", \"b\": \"Banane\", \"c\": \"Citron\"}\n",
    "dict1[\"d\"] = \"Datte\"\n",
    "print(dict1)"
   ]
  },
  {
   "cell_type": "markdown",
   "metadata": {},
   "source": [
    "Les **dictionnaires** sont des **structures itérables** un peu particulières. Comme les **listes**, on peut les parcourir à l'aide d'une boucle `for`."
   ]
  },
  {
   "cell_type": "code",
   "execution_count": 50,
   "metadata": {},
   "outputs": [
    {
     "name": "stdout",
     "output_type": "stream",
     "text": [
      "a\n",
      "b\n",
      "c\n",
      "d\n"
     ]
    }
   ],
   "source": [
    "for elem in dict1:\n",
    "    print(elem)"
   ]
  },
  {
   "cell_type": "markdown",
   "metadata": {},
   "source": [
    "A la différence des **listes** néanmoins, une boucle `for` ne parcourt que les **clés** d'un **dictionnaire**. Voyons une solution pour parcourir les **clés** ainsi que les **valeurs**. Celle-ci consiste à utiliser la **méthode** `.items()` qui renvoie sous forme de **tuples**, le couple **clé-valeur** de chaque entrée du **dictionnaire**."
   ]
  },
  {
   "cell_type": "code",
   "execution_count": 53,
   "metadata": {},
   "outputs": [
    {
     "name": "stdout",
     "output_type": "stream",
     "text": [
      "a Abricot\n",
      "b Banane\n",
      "c Citron\n",
      "d Datte\n"
     ]
    }
   ],
   "source": [
    "for key, elem in dict1.items():\n",
    "    print(key, elem)"
   ]
  },
  {
   "cell_type": "code",
   "execution_count": 55,
   "metadata": {},
   "outputs": [
    {
     "name": "stdout",
     "output_type": "stream",
     "text": [
      "('a', 'Abricot')\n",
      "('b', 'Banane')\n",
      "('c', 'Citron')\n",
      "('d', 'Datte')\n"
     ]
    }
   ],
   "source": [
    "for key_value in dict1.items():\n",
    "    print(key_value)"
   ]
  },
  {
   "cell_type": "markdown",
   "metadata": {},
   "source": [
    "Ci-dessous, une liste des **méthodes** de **dictionnaire** les plus couramment utilisées :\n",
    "\n",
    "|Méthode|Description|\n",
    "|---|---|\n",
    "|`.get(key)`|Renvoie la valeur correspondante à la clé `key` (équivalent à `dict[key]`).|\n",
    "|`.clear()`|Retire tous les éléments du dictionnaire.|\n",
    "|`.copy()`|Renvoie une copie du dictionnaire.|\n",
    "|`.items()`|Renvoie un tuple contenant en premier index la clé et en second la valeur associée.|\n",
    "|`.keys()`|Renvoie une liste des clés du dictionnaire.|\n",
    "|`.pop(key)`|Supprime le couple clé-valeur correspondant à la clé `key` et renvoie sa valeur.|\n",
    "|`.popitem(key)`|Supprime le couple clé-valeur correspondant à la clé `key` et renvoie le tuple clé-valeur.|\n",
    "|`.values()`|Renvoie une liste des valeurs sans les clés associées.|"
   ]
  },
  {
   "cell_type": "markdown",
   "metadata": {},
   "source": [
    "## <div id=\"Travailler avec des fichiers et utiliser des librairies Python\">3. Travailler avec des fichiers et utiliser des librairies Python</div>"
   ]
  },
  {
   "cell_type": "markdown",
   "metadata": {},
   "source": [
    "### <div id=\"Exemple d'un fichier CSV\">3. 1. Exemple d'un fichier CSV</div>"
   ]
  },
  {
   "cell_type": "markdown",
   "metadata": {},
   "source": [
    "Nous avons vu jusqu'à présent beaucoup de théorie en restant concentré sur la syntaxe du langage Python. Nous entrons maintenant dans une partie plus pratique où nous allons enfin voir plus concrètement comment manipuler des fichiers avec Python.\n",
    "\n",
    "Il est possible d'ouvrir et de manipuler de nombreux types de fichiers avec Python (image, text, son, etc.). Dans notre cas, nous nous intéresserons essentiellement aux fichiers texte et, en particulier, aux fichiers de **données structurées**.\n",
    "\n",
    "Commençons sans plus tarder à travailler un fichier **CSV**. Pour rappel, l'acronyme **CSV** désigne *\"comma separated values\"*, c'est-à-dire, des \"valeurs séparées par des virgules\". Nous pouvons ouvrir de tels fichiers avec Python et nous appuyer sur la façon particulière dont ils sont construits pour récupérer nos données."
   ]
  },
  {
   "cell_type": "code",
   "execution_count": 66,
   "metadata": {},
   "outputs": [
    {
     "name": "stdout",
     "output_type": "stream",
     "text": [
      ";created_at;hashtags;id;id_str;lang;source;text;truncated;urls;user;user_mentions;favorite_count;retweet_count;retweeted_status\n",
      "0;Mon Aug 31 14:24:24 +0000 2020;[];1300439298186059777;1300439298186059777;fr;\"<a href=\"\"https://mobile.twitter.com\"\" rel=\"\"nofollow\"\">Twitter Web App</a>\";\"⏱️ The gap is reduced to under 2', with 55 km to go.\n",
      "\n",
      "⏱️ L'écart passe sous la barre des deux minutes, à 55 kilomèt… https://t.co/9c8C97sHKE\";True;[{'expanded_url': 'https://twitter.com/i/web/status/1300439298186059777', 'url': 'https://t.co/9c8C97sHKE'}];\"{'created_at': 'Tue Jun 08 13:18:00 +0000 2010', 'description': \"\"La plus grande course cycliste au monde. The world's biggest cycling race. 2019 🏆 : @Eganbernal \\n\\n🗓️ 29/08/2020 - 20/09/2020\\n\\n#TDF2020 #TDFunited\"\", 'favourites_count': 1870, 'followers_count': 3076115, 'following': True, 'friends_count': 929, 'geo_enabled': True, 'id': 153403071, 'id_str': '153403071', 'listed_count': 8926, 'name': 'Tour de France™', 'profile_background_color': 'FAD905', 'profile_background_image_url': 'http://abs.twimg.com/images/themes/theme1/bg.png', 'profile_background_image_url_https': 'https://abs.twimg.com/images/themes/theme1/bg.png', 'profile_background_tile': True, 'profile_banner_url': 'https://pbs.twimg.com/profile_banners/153403071/1598804913', 'profile_image_url': 'http://pbs.twimg.com/profile_images/1182279755552428033/8mX_dsXW_normal.jpg', 'profile_image_url_https': 'https://pbs.twimg.com/profile_images/1182279755552428033/8mX_dsXW_normal.jpg', 'profile_link_color': 'FAB81E', 'profile_sidebar_border_color': 'FFFFFF', 'profile_sidebar_fill_color': 'DDEEF6', 'profile_text_color': '333333', 'profile_use_background_image': True, 'screen_name': 'LeTour', 'statuses_count': 32871, 'url': 'https://t.co/KZO0DBLRjy', 'verified': True}\";[];;;\n",
      "1;Mon Aug 31 14:15:56 +0000 2020;[];1300437166854680576;1300437166854680576;fr;\"<a href=\"\"https://studio.twitter.com\"\" rel=\"\"nofollow\"\">Twitter Media Studio</a>\";\"👀 Take a look at the final km of today' stage. Who do you think will take the win?\n",
      "\n",
      "👀 Voici le dernier kilomètre de… https://t.co/cmZd3TznI1\";True;[{'expanded_url': 'https://twitter.com/i/web/status/1300437166854680576', 'url': 'https://t.co/cmZd3TznI1'}];\"{'created_at': 'Tue Jun 08 13:18:00 +0000 2010', 'description': \"\"La plus grande course cycliste au monde. The world's biggest cycling race. 2019 🏆 : @Eganbernal \\n\\n🗓️ 29/08/2020 - 20/09/2020\\n\\n#TDF2020 #TDFunited\"\", 'favourites_count': 1870, 'followers_count': 3076115, 'following': True, 'friends_count': 929, 'geo_enabled': True, 'id': 153403071, 'id_str': '153403071', 'listed_count': 8926, 'name': 'Tour de France™', 'profile_background_color': 'FAD905', 'profile_background_image_url': 'http://abs.twimg.com/images/themes/theme1/bg.png', 'profile_background_image_url_https': 'https://abs.twimg.com/images/themes/theme1/bg.png', 'profile_background_tile': True, 'profile_banner_url': 'https://pbs.twimg.com/profile_banners/153403071/1598804913', 'profile_image_url': 'http://pbs.twimg.com/profile_images/1182279755552428033/8mX_dsXW_normal.jpg', 'profile_image_url_https': 'https://pbs.twimg.com/profile_images/1182279755552428033/8mX_dsXW_normal.jpg', 'profile_link_color': 'FAB81E', 'profile_sidebar_border_color': 'FFFFFF', 'profile_sidebar_fill_color': 'DDEEF6', 'profile_text_color': '333333', 'profile_use_background_image': True, 'screen_name': 'LeTour', 'statuses_count': 32871, 'url': 'https://t.co/KZO0DBLRjy', 'verified': True}\";[];94.0;11.0;\n",
      "2;Mon Aug 31 14:13:54 +0000 2020;[{'text': 'TDF2020'}];1300436654801457152;1300436654801457152;fr;\"<a href=\"\"https://mobile.twitter.com\"\" rel=\"\"nofollow\"\">Twitter Web App</a>\";RT @TeamCOFIDIS: Suite à une chute sur la 3ème étape du #TDF2020, @PerezAnthony1 est contraint d'abandonner @LeTour. Il souffre d'une fract…;;[];\"{'created_at': 'Tue Jun 08 13:18:00 +0000 2010', 'description': \"\"La plus grande course cycliste au monde. The world's biggest cycling race. 2019 🏆 : @Eganbernal \\n\\n🗓️ 29/08/2020 - 20/09/2020\\n\\n#TDF2020 #TDFunited\"\", 'favourites_count': 1870, 'followers_count': 3076115, 'following': True, 'friends_count': 929, 'geo_enabled': True, 'id': 153403071, 'id_str': '153403071', 'listed_count': 8926, 'name': 'Tour de France™', 'profile_background_color': 'FAD905', 'profile_background_image_url': 'http://abs.twimg.com/images/themes/theme1/bg.png', 'profile_background_image_url_https': 'https://abs.twimg.com/images/themes/theme1/bg.png', 'profile_background_tile': True, 'profile_banner_url': 'https://pbs.twimg.com/profile_banners/153403071/1598804913', 'profile_image_url': 'http://pbs.twimg.com/profile_images/1182279755552428033/8mX_dsXW_normal.jpg', 'profile_image_url_https': 'https://pbs.twimg.com/profile_images/1182279755552428033/8mX_dsXW_normal.jpg', 'profile_link_color': 'FAB81E', 'profile_sidebar_border_color': 'FFFFFF', 'profile_sidebar_fill_color': 'DDEEF6', 'profile_text_color': '333333', 'profile_use_background_image': True, 'screen_name': 'LeTour', 'statuses_count': 32871, 'url': 'https://t.co/KZO0DBLRjy', 'verified': True}\";[{'id': 321560085, 'id_str': '321560085', 'name': 'Team Cofidis', 'screen_name': 'TeamCOFIDIS'}, {'id': 389938640, 'id_str': '389938640', 'name': 'Perez Anthony', 'screen_name': 'PerezAnthony1'}, {'id': 153403071, 'id_str': '153403071', 'name': 'Tour de France™', 'screen_name': 'LeTour'}];;33.0;\"{'created_at': 'Mon Aug 31 14:12:49 +0000 2020', 'favorite_count': 115, 'hashtags': [{'text': 'TDF2020'}], 'id': 1300436385858498563, 'id_str': '1300436385858498563', 'lang': 'fr', 'retweet_count': 33, 'source': '<a href=\"\"https://mobile.twitter.com\"\" rel=\"\"nofollow\"\">Twitter Web App</a>', 'text': \"\"Suite à une chute sur la 3ème étape du #TDF2020, @PerezAnthony1 est contraint d'abandonner @LeTour. Il souffre d'un… https://t.co/i7Q1uezh1B\"\", 'truncated': True, 'urls': [{'expanded_url': 'https://twitter.com/i/web/status/1300436385858498563', 'url': 'https://t.co/i7Q1uezh1B'}], 'user': {'created_at': 'Tue Jun 21 19:29:37 +0000 2011', 'description': 'Compte officiel de la Team Cofidis. Suivez toutes les actualités de notre équipe cycliste et découvrez les coulisses ⚪️🔴🔆🚲 #CofidisMyTeam', 'favourites_count': 4792, 'followers_count': 73821, 'friends_count': 305, 'geo_enabled': True, 'id': 321560085, 'id_str': '321560085', 'listed_count': 1352, 'location': 'Bondues - FRANCE', 'name': 'Team Cofidis', 'profile_background_color': 'C0DEED', 'profile_background_image_url': 'http://abs.twimg.com/images/themes/theme1/bg.png', 'profile_background_image_url_https': 'https://abs.twimg.com/images/themes/theme1/bg.png', 'profile_banner_url': 'https://pbs.twimg.com/profile_banners/321560085/1598604117', 'profile_image_url': 'http://pbs.twimg.com/profile_images/948880626580643841/xgRCIJE1_normal.jpg', 'profile_image_url_https': 'https://pbs.twimg.com/profile_images/948880626580643841/xgRCIJE1_normal.jpg', 'profile_link_color': 'FF0000', 'profile_sidebar_border_color': 'FFFFFF', 'profile_sidebar_fill_color': 'DDEEF6', 'profile_text_color': '333333', 'profile_use_background_image': True, 'screen_name': 'TeamCOFIDIS', 'statuses_count': 23960, 'url': 'https://t.co/aR2p3ngLyT', 'verified': True}, 'user_mentions': [{'id': 389938640, 'id_str': '389938640', 'name': 'Perez Anthony', 'screen_name': 'PerezAnthony1'}, {'id': 153403071, 'id_str': '153403071', 'name': 'Tour de France™', 'screen_name': 'LeTour'}]}\"\n",
      "3;Mon Aug 31 14:09:16 +0000 2020;[];1300435489045049345;1300435489045049345;fr;\"<a href=\"\"https://mobile.twitter.com\"\" rel=\"\"nofollow\"\">Twitter Web App</a>\";❌ @BenoitCosnefroy and @NansPeters relax: the Norman will keep his polka dot jersey as @PerezAnthony1 abandons afte… https://t.co/9cH4Hol1Fj;True;[{'expanded_url': 'https://twitter.com/i/web/status/1300435489045049345', 'url': 'https://t.co/9cH4Hol1Fj'}];\"{'created_at': 'Tue Jun 08 13:18:00 +0000 2010', 'description': \"\"La plus grande course cycliste au monde. The world's biggest cycling race. 2019 🏆 : @Eganbernal \\n\\n🗓️ 29/08/2020 - 20/09/2020\\n\\n#TDF2020 #TDFunited\"\", 'favourites_count': 1870, 'followers_count': 3076115, 'following': True, 'friends_count': 929, 'geo_enabled': True, 'id': 153403071, 'id_str': '153403071', 'listed_count': 8926, 'name': 'Tour de France™', 'profile_background_color': 'FAD905', 'profile_background_image_url': 'http://abs.twimg.com/images/themes/theme1/bg.png', 'profile_background_image_url_https': 'https://abs.twimg.com/images/themes/theme1/bg.png', 'profile_background_tile': True, 'profile_banner_url': 'https://pbs.twimg.com/profile_banners/153403071/1598804913', 'profile_image_url': 'http://pbs.twimg.com/profile_images/1182279755552428033/8mX_dsXW_normal.jpg', 'profile_image_url_https': 'https://pbs.twimg.com/profile_images/1182279755552428033/8mX_dsXW_normal.jpg', 'profile_link_color': 'FAB81E', 'profile_sidebar_border_color': 'FFFFFF', 'profile_sidebar_fill_color': 'DDEEF6', 'profile_text_color': '333333', 'profile_use_background_image': True, 'screen_name': 'LeTour', 'statuses_count': 32871, 'url': 'https://t.co/KZO0DBLRjy', 'verified': True}\";[{'id': 2967671063, 'id_str': '2967671063', 'name': 'Cosnefroy Benoit', 'screen_name': 'BenoitCosnefroy'}, {'id': 2571616645, 'id_str': '2571616645', 'name': 'Nans Peters', 'screen_name': 'NansPeters'}, {'id': 389938640, 'id_str': '389938640', 'name': 'Perez Anthony', 'screen_name': 'PerezAnthony1'}];130.0;37.0;\n",
      "4;Mon Aug 31 13:56:53 +0000 2020;[];1300432372366745603;1300432372366745603;fr;\"<a href=\"\"https://mobile.twitter.com\"\" rel=\"\"nofollow\"\">Twitter Web App</a>\";⏱️ 3'20 after @CousinJerom, @BenoitCosnefroy takes the remaining point as he's followed by teammate @NansPeters.… https://t.co/O4W2q58faC;True;[{'expanded_url': 'https://twitter.com/i/web/status/1300432372366745603', 'url': 'https://t.co/O4W2q58faC'}];\"{'created_at': 'Tue Jun 08 13:18:00 +0000 2010', 'description': \"\"La plus grande course cycliste au monde. The world's biggest cycling race. 2019 🏆 : @Eganbernal \\n\\n🗓️ 29/08/2020 - 20/09/2020\\n\\n#TDF2020 #TDFunited\"\", 'favourites_count': 1870, 'followers_count': 3076115, 'following': True, 'friends_count': 929, 'geo_enabled': True, 'id': 153403071, 'id_str': '153403071', 'listed_count': 8926, 'name': 'Tour de France™', 'profile_background_color': 'FAD905', 'profile_background_image_url': 'http://abs.twimg.com/images/themes/theme1/bg.png', 'profile_background_image_url_https': 'https://abs.twimg.com/images/themes/theme1/bg.png', 'profile_background_tile': True, 'profile_banner_url': 'https://pbs.twimg.com/profile_banners/153403071/1598804913', 'profile_image_url': 'http://pbs.twimg.com/profile_images/1182279755552428033/8mX_dsXW_normal.jpg', 'profile_image_url_https': 'https://pbs.twimg.com/profile_images/1182279755552428033/8mX_dsXW_normal.jpg', 'profile_link_color': 'FAB81E', 'profile_sidebar_border_color': 'FFFFFF', 'profile_sidebar_fill_color': 'DDEEF6', 'profile_text_color': '333333', 'profile_use_background_image': True, 'screen_name': 'LeTour', 'statuses_count': 32871, 'url': 'https://t.co/KZO0DBLRjy', 'verified': True}\";[{'id': 511673084, 'id_str': '511673084', 'name': 'Cousin Jerome', 'screen_name': 'CousinJerom'}, {'id': 2967671063, 'id_str': '2967671063', 'name': 'Cosnefroy Benoit', 'screen_name': 'BenoitCosnefroy'}, {'id': 2571616645, 'id_str': '2571616645', 'name': 'Nans Peters', 'screen_name': 'NansPeters'}];79.0;10.0;\n",
      "5;Mon Aug 31 13:50:57 +0000 2020;[];1300430881203589121;1300430881203589121;fr;\"<a href=\"\"https://mobile.twitter.com\"\" rel=\"\"nofollow\"\">Twitter Web App</a>\";⛰️ @CousinJerom, you won't be surprised to hear, is the first at the Col des Lèques summit and claims 2 polka dot j… https://t.co/XnRKT5tPKS;True;[{'expanded_url': 'https://twitter.com/i/web/status/1300430881203589121', 'url': 'https://t.co/XnRKT5tPKS'}];\"{'created_at': 'Tue Jun 08 13:18:00 +0000 2010', 'description': \"\"La plus grande course cycliste au monde. The world's biggest cycling race. 2019 🏆 : @Eganbernal \\n\\n🗓️ 29/08/2020 - 20/09/2020\\n\\n#TDF2020 #TDFunited\"\", 'favourites_count': 1870, 'followers_count': 3076115, 'following': True, 'friends_count': 929, 'geo_enabled': True, 'id': 153403071, 'id_str': '153403071', 'listed_count': 8926, 'name': 'Tour de France™', 'profile_background_color': 'FAD905', 'profile_background_image_url': 'http://abs.twimg.com/images/themes/theme1/bg.png', 'profile_background_image_url_https': 'https://abs.twimg.com/images/themes/theme1/bg.png', 'profile_background_tile': True, 'profile_banner_url': 'https://pbs.twimg.com/profile_banners/153403071/1598804913', 'profile_image_url': 'http://pbs.twimg.com/profile_images/1182279755552428033/8mX_dsXW_normal.jpg', 'profile_image_url_https': 'https://pbs.twimg.com/profile_images/1182279755552428033/8mX_dsXW_normal.jpg', 'profile_link_color': 'FAB81E', 'profile_sidebar_border_color': 'FFFFFF', 'profile_sidebar_fill_color': 'DDEEF6', 'profile_text_color': '333333', 'profile_use_background_image': True, 'screen_name': 'LeTour', 'statuses_count': 32871, 'url': 'https://t.co/KZO0DBLRjy', 'verified': True}\";[{'id': 511673084, 'id_str': '511673084', 'name': 'Cousin Jerome', 'screen_name': 'CousinJerom'}];105.0;27.0;\n",
      "6;Mon Aug 31 13:30:41 +0000 2020;[];1300425780137058307;1300425780137058307;fr;\"<a href=\"\"https://mobile.twitter.com\"\" rel=\"\"nofollow\"\">Twitter Web App</a>\";\"🚴‍♂️ @CousinJerom is at Castellane, at the foot of the Col des Lèques, with a 2'30 lead.\n",
      "\n",
      "🚴‍♂️ Jérôme Cousin est à… https://t.co/2Q0dWhJ2Hx\";True;[{'expanded_url': 'https://twitter.com/i/web/status/1300425780137058307', 'url': 'https://t.co/2Q0dWhJ2Hx'}];\"{'created_at': 'Tue Jun 08 13:18:00 +0000 2010', 'description': \"\"La plus grande course cycliste au monde. The world's biggest cycling race. 2019 🏆 : @Eganbernal \\n\\n🗓️ 29/08/2020 - 20/09/2020\\n\\n#TDF2020 #TDFunited\"\", 'favourites_count': 1870, 'followers_count': 3076115, 'following': True, 'friends_count': 929, 'geo_enabled': True, 'id': 153403071, 'id_str': '153403071', 'listed_count': 8926, 'name': 'Tour de France™', 'profile_background_color': 'FAD905', 'profile_background_image_url': 'http://abs.twimg.com/images/themes/theme1/bg.png', 'profile_background_image_url_https': 'https://abs.twimg.com/images/themes/theme1/bg.png', 'profile_background_tile': True, 'profile_banner_url': 'https://pbs.twimg.com/profile_banners/153403071/1598804913', 'profile_image_url': 'http://pbs.twimg.com/profile_images/1182279755552428033/8mX_dsXW_normal.jpg', 'profile_image_url_https': 'https://pbs.twimg.com/profile_images/1182279755552428033/8mX_dsXW_normal.jpg', 'profile_link_color': 'FAB81E', 'profile_sidebar_border_color': 'FFFFFF', 'profile_sidebar_fill_color': 'DDEEF6', 'profile_text_color': '333333', 'profile_use_background_image': True, 'screen_name': 'LeTour', 'statuses_count': 32871, 'url': 'https://t.co/KZO0DBLRjy', 'verified': True}\";[{'id': 511673084, 'id_str': '511673084', 'name': 'Cousin Jerome', 'screen_name': 'CousinJerom'}];158.0;27.0;\n",
      "7;Mon Aug 31 13:26:59 +0000 2020;[];1300424847772835843;1300424847772835843;fr;\"<a href=\"\"https://mobile.twitter.com\"\" rel=\"\"nofollow\"\">Twitter Web App</a>\";\"⏮️ Paris-Nice held a finish in Sisteron in 2018 where a certain @CousinJerom won in a breakaway! \n",
      "\n",
      "⏮️ En 2018,… https://t.co/LR6Y3yTuny\";True;[{'expanded_url': 'https://twitter.com/i/web/status/1300424847772835843', 'url': 'https://t.co/LR6Y3yTuny'}];\"{'created_at': 'Tue Jun 08 13:18:00 +0000 2010', 'description': \"\"La plus grande course cycliste au monde. The world's biggest cycling race. 2019 🏆 : @Eganbernal \\n\\n🗓️ 29/08/2020 - 20/09/2020\\n\\n#TDF2020 #TDFunited\"\", 'favourites_count': 1870, 'followers_count': 3076115, 'following': True, 'friends_count': 929, 'geo_enabled': True, 'id': 153403071, 'id_str': '153403071', 'listed_count': 8926, 'name': 'Tour de France™', 'profile_background_color': 'FAD905', 'profile_background_image_url': 'http://abs.twimg.com/images/themes/theme1/bg.png', 'profile_background_image_url_https': 'https://abs.twimg.com/images/themes/theme1/bg.png', 'profile_background_tile': True, 'profile_banner_url': 'https://pbs.twimg.com/profile_banners/153403071/1598804913', 'profile_image_url': 'http://pbs.twimg.com/profile_images/1182279755552428033/8mX_dsXW_normal.jpg', 'profile_image_url_https': 'https://pbs.twimg.com/profile_images/1182279755552428033/8mX_dsXW_normal.jpg', 'profile_link_color': 'FAB81E', 'profile_sidebar_border_color': 'FFFFFF', 'profile_sidebar_fill_color': 'DDEEF6', 'profile_text_color': '333333', 'profile_use_background_image': True, 'screen_name': 'LeTour', 'statuses_count': 32871, 'url': 'https://t.co/KZO0DBLRjy', 'verified': True}\";[{'id': 511673084, 'id_str': '511673084', 'name': 'Cousin Jerome', 'screen_name': 'CousinJerom'}];87.0;14.0;\n",
      "8;Mon Aug 31 13:11:44 +0000 2020;[];1300421011591094272;1300421011591094272;fr;\"<a href=\"\"http://twitter.com/download/iphone\"\" rel=\"\"nofollow\"\">Twitter for iPhone</a>\";\"RT @CaravaneduTour: 😷 Porter un masque, c'est garantir le bon déroulement de La Caravane. \n",
      "Ça n'empêche pas de sourire et de faire la fête…\";;[];\"{'created_at': 'Tue Jun 08 13:18:00 +0000 2010', 'description': \"\"La plus grande course cycliste au monde. The world's biggest cycling race. 2019 🏆 : @Eganbernal \\n\\n🗓️ 29/08/2020 - 20/09/2020\\n\\n#TDF2020 #TDFunited\"\", 'favourites_count': 1870, 'followers_count': 3076115, 'following': True, 'friends_count': 929, 'geo_enabled': True, 'id': 153403071, 'id_str': '153403071', 'listed_count': 8926, 'name': 'Tour de France™', 'profile_background_color': 'FAD905', 'profile_background_image_url': 'http://abs.twimg.com/images/themes/theme1/bg.png', 'profile_background_image_url_https': 'https://abs.twimg.com/images/themes/theme1/bg.png', 'profile_background_tile': True, 'profile_banner_url': 'https://pbs.twimg.com/profile_banners/153403071/1598804913', 'profile_image_url': 'http://pbs.twimg.com/profile_images/1182279755552428033/8mX_dsXW_normal.jpg', 'profile_image_url_https': 'https://pbs.twimg.com/profile_images/1182279755552428033/8mX_dsXW_normal.jpg', 'profile_link_color': 'FAB81E', 'profile_sidebar_border_color': 'FFFFFF', 'profile_sidebar_fill_color': 'DDEEF6', 'profile_text_color': '333333', 'profile_use_background_image': True, 'screen_name': 'LeTour', 'statuses_count': 32871, 'url': 'https://t.co/KZO0DBLRjy', 'verified': True}\";[{'id': 1219290218, 'id_str': '1219290218', 'name': 'La Caravane du Tour', 'screen_name': 'CaravaneduTour'}];;11.0;\"{'created_at': 'Mon Aug 31 12:56:22 +0000 2020', 'favorite_count': 88, 'hashtags': [], 'id': 1300417143310299137, 'id_str': '1300417143310299137', 'lang': 'fr', 'retweet_count': 11, 'source': '<a href=\"\"http://twitter.com/download/android\"\" rel=\"\"nofollow\"\">Twitter for Android</a>', 'text': \"\"😷 Porter un masque, c'est garantir le bon déroulement de La Caravane. \\nÇa n'empêche pas de sourire et de faire la f… https://t.co/TWJYfgjs0V\"\", 'truncated': True, 'urls': [{'expanded_url': 'https://twitter.com/i/web/status/1300417143310299137', 'url': 'https://t.co/TWJYfgjs0V'}], 'user': {'created_at': 'Mon Feb 25 16:42:43 +0000 2013', 'description': \"\"Tout l'esprit de la Caravane 2020 ! 🎉 https://t.co/M49Q7FIJRm\"\", 'favourites_count': 78, 'followers_count': 6060, 'friends_count': 39, 'geo_enabled': True, 'id': 1219290218, 'id_str': '1219290218', 'listed_count': 116, 'name': 'La Caravane du Tour', 'profile_background_color': 'C0DEED', 'profile_background_image_url': 'http://abs.twimg.com/images/themes/theme1/bg.png', 'profile_background_image_url_https': 'https://abs.twimg.com/images/themes/theme1/bg.png', 'profile_background_tile': True, 'profile_banner_url': 'https://pbs.twimg.com/profile_banners/1219290218/1598812144', 'profile_image_url': 'http://pbs.twimg.com/profile_images/1184492805101625344/TASZePir_normal.jpg', 'profile_image_url_https': 'https://pbs.twimg.com/profile_images/1184492805101625344/TASZePir_normal.jpg', 'profile_link_color': '0084B4', 'profile_sidebar_border_color': 'FFFFFF', 'profile_sidebar_fill_color': 'DDEEF6', 'profile_text_color': '333333', 'profile_use_background_image': True, 'screen_name': 'CaravaneduTour', 'statuses_count': 1289, 'url': 'https://t.co/TYh7GRDOnB'}, 'user_mentions': []}\"\n",
      "9;Mon Aug 31 13:03:17 +0000 2020;[];1300418883480891393;1300418883480891393;fr;\"<a href=\"\"https://mobile.twitter.com\"\" rel=\"\"nofollow\"\">Twitter Web App</a>\";\"⏱️ @CousinJerom's lead is beginning to falter. He's now 3'20 ahead.\n",
      "\n",
      "⏱️ L'avance de Jérôme Cousin commence à redesc… https://t.co/C7wxB2dWUK\";True;[{'expanded_url': 'https://twitter.com/i/web/status/1300418883480891393', 'url': 'https://t.co/C7wxB2dWUK'}];\"{'created_at': 'Tue Jun 08 13:18:00 +0000 2010', 'description': \"\"La plus grande course cycliste au monde. The world's biggest cycling race. 2019 🏆 : @Eganbernal \\n\\n🗓️ 29/08/2020 - 20/09/2020\\n\\n#TDF2020 #TDFunited\"\", 'favourites_count': 1870, 'followers_count': 3076115, 'following': True, 'friends_count': 929, 'geo_enabled': True, 'id': 153403071, 'id_str': '153403071', 'listed_count': 8926, 'name': 'Tour de France™', 'profile_background_color': 'FAD905', 'profile_background_image_url': 'http://abs.twimg.com/images/themes/theme1/bg.png', 'profile_background_image_url_https': 'https://abs.twimg.com/images/themes/theme1/bg.png', 'profile_background_tile': True, 'profile_banner_url': 'https://pbs.twimg.com/profile_banners/153403071/1598804913', 'profile_image_url': 'http://pbs.twimg.com/profile_images/1182279755552428033/8mX_dsXW_normal.jpg', 'profile_image_url_https': 'https://pbs.twimg.com/profile_images/1182279755552428033/8mX_dsXW_normal.jpg', 'profile_link_color': 'FAB81E', 'profile_sidebar_border_color': 'FFFFFF', 'profile_sidebar_fill_color': 'DDEEF6', 'profile_text_color': '333333', 'profile_use_background_image': True, 'screen_name': 'LeTour', 'statuses_count': 32871, 'url': 'https://t.co/KZO0DBLRjy', 'verified': True}\";[{'id': 511673084, 'id_str': '511673084', 'name': 'Cousin Jerome', 'screen_name': 'CousinJerom'}];107.0;15.0;\n",
      "10;Mon Aug 31 12:59:20 +0000 2020;[];1300417892572426240;1300417892572426240;en;\"<a href=\"\"https://about.twitter.com/products/tweetdeck\"\" rel=\"\"nofollow\"\">TweetDeck</a>\";\"RT @letourdata: 🇫🇷@alafpolak1's @deceuninck_qst has been - and by far - the most active team to control the bunch so far in Stage 3\n",
      "\n",
      "@Cousi…\";;[];\"{'created_at': 'Tue Jun 08 13:18:00 +0000 2010', 'description': \"\"La plus grande course cycliste au monde. The world's biggest cycling race. 2019 🏆 : @Eganbernal \\n\\n🗓️ 29/08/2020 - 20/09/2020\\n\\n#TDF2020 #TDFunited\"\", 'favourites_count': 1870, 'followers_count': 3076115, 'following': True, 'friends_count': 929, 'geo_enabled': True, 'id': 153403071, 'id_str': '153403071', 'listed_count': 8926, 'name': 'Tour de France™', 'profile_background_color': 'FAD905', 'profile_background_image_url': 'http://abs.twimg.com/images/themes/theme1/bg.png', 'profile_background_image_url_https': 'https://abs.twimg.com/images/themes/theme1/bg.png', 'profile_background_tile': True, 'profile_banner_url': 'https://pbs.twimg.com/profile_banners/153403071/1598804913', 'profile_image_url': 'http://pbs.twimg.com/profile_images/1182279755552428033/8mX_dsXW_normal.jpg', 'profile_image_url_https': 'https://pbs.twimg.com/profile_images/1182279755552428033/8mX_dsXW_normal.jpg', 'profile_link_color': 'FAB81E', 'profile_sidebar_border_color': 'FFFFFF', 'profile_sidebar_fill_color': 'DDEEF6', 'profile_text_color': '333333', 'profile_use_background_image': True, 'screen_name': 'LeTour', 'statuses_count': 32871, 'url': 'https://t.co/KZO0DBLRjy', 'verified': True}\";[{'id': 3302563433, 'id_str': '3302563433', 'name': 'letourdata', 'screen_name': 'letourdata'}, {'id': 1145734481615212544, 'id_str': '1145734481615212544', 'name': 'Julian Alaphilippe Officiel', 'screen_name': 'alafpolak1'}, {'id': 40642369, 'id_str': '40642369', 'name': 'Deceuninck-QuickStep', 'screen_name': 'deceuninck_qst'}];;15.0;\"{'created_at': 'Mon Aug 31 12:50:17 +0000 2020', 'favorite_count': 71, 'hashtags': [], 'id': 1300415614322905090, 'id_str': '1300415614322905090', 'lang': 'en', 'retweet_count': 15, 'source': '<a href=\"\"https://studio.twitter.com\"\" rel=\"\"nofollow\"\">Twitter Media Studio</a>', 'text': \"\"🇫🇷@alafpolak1's @deceuninck_qst has been - and by far - the most active team to control the bunch so far in Stage 3… https://t.co/D7R35r9EWo\"\", 'truncated': True, 'urls': [{'expanded_url': 'https://twitter.com/i/web/status/1300415614322905090', 'url': 'https://t.co/D7R35r9EWo'}], 'user': {'created_at': 'Fri May 29 09:45:43 +0000 2015', 'description': 'Follow live data updates from @letour. Powered by @GlobalNTT. \\n\\n#TDF2020 #TDFdata #TDFVirtual #TDFUnited', 'favourites_count': 505, 'followers_count': 44793, 'friends_count': 473, 'id': 3302563433, 'id_str': '3302563433', 'listed_count': 1081, 'location': 'France', 'name': 'letourdata', 'profile_background_color': '000000', 'profile_background_image_url': 'http://abs.twimg.com/images/themes/theme1/bg.png', 'profile_background_image_url_https': 'https://abs.twimg.com/images/themes/theme1/bg.png', 'profile_banner_url': 'https://pbs.twimg.com/profile_banners/3302563433/1598856009', 'profile_image_url': 'http://pbs.twimg.com/profile_images/1184790508255797248/Dw2SnDd2_normal.jpg', 'profile_image_url_https': 'https://pbs.twimg.com/profile_images/1184790508255797248/Dw2SnDd2_normal.jpg', 'profile_link_color': '4A913C', 'profile_sidebar_border_color': '000000', 'profile_sidebar_fill_color': '000000', 'profile_text_color': '000000', 'screen_name': 'letourdata', 'statuses_count': 3785}, 'user_mentions': [{'id': 1145734481615212544, 'id_str': '1145734481615212544', 'name': 'Julian Alaphilippe Officiel', 'screen_name': 'alafpolak1'}, {'id': 40642369, 'id_str': '40642369', 'name': 'Deceuninck-QuickStep', 'screen_name': 'deceuninck_qst'}]}\"\n",
      "11;Mon Aug 31 12:48:07 +0000 2020;[];1300415068681764866;1300415068681764866;fr;\"<a href=\"\"https://mobile.twitter.com\"\" rel=\"\"nofollow\"\">Twitter Web App</a>\";\"🔁 @deceuninck_qst and its Yellow Jersey-clad @alafpolak1 still lead the peloton.\n",
      "\n",
      "🔁 L'équipe Deceuninck-Quick Step… https://t.co/aFAONI39Sb\";True;[{'expanded_url': 'https://twitter.com/i/web/status/1300415068681764866', 'url': 'https://t.co/aFAONI39Sb'}];\"{'created_at': 'Tue Jun 08 13:18:00 +0000 2010', 'description': \"\"La plus grande course cycliste au monde. The world's biggest cycling race. 2019 🏆 : @Eganbernal \\n\\n🗓️ 29/08/2020 - 20/09/2020\\n\\n#TDF2020 #TDFunited\"\", 'favourites_count': 1870, 'followers_count': 3076115, 'following': True, 'friends_count': 929, 'geo_enabled': True, 'id': 153403071, 'id_str': '153403071', 'listed_count': 8926, 'name': 'Tour de France™', 'profile_background_color': 'FAD905', 'profile_background_image_url': 'http://abs.twimg.com/images/themes/theme1/bg.png', 'profile_background_image_url_https': 'https://abs.twimg.com/images/themes/theme1/bg.png', 'profile_background_tile': True, 'profile_banner_url': 'https://pbs.twimg.com/profile_banners/153403071/1598804913', 'profile_image_url': 'http://pbs.twimg.com/profile_images/1182279755552428033/8mX_dsXW_normal.jpg', 'profile_image_url_https': 'https://pbs.twimg.com/profile_images/1182279755552428033/8mX_dsXW_normal.jpg', 'profile_link_color': 'FAB81E', 'profile_sidebar_border_color': 'FFFFFF', 'profile_sidebar_fill_color': 'DDEEF6', 'profile_text_color': '333333', 'profile_use_background_image': True, 'screen_name': 'LeTour', 'statuses_count': 32871, 'url': 'https://t.co/KZO0DBLRjy', 'verified': True}\";[{'id': 40642369, 'id_str': '40642369', 'name': 'Deceuninck-QuickStep', 'screen_name': 'deceuninck_qst'}, {'id': 1145734481615212544, 'id_str': '1145734481615212544', 'name': 'Julian Alaphilippe Officiel', 'screen_name': 'alafpolak1'}];198.0;24.0;\n",
      "12;Mon Aug 31 12:47:59 +0000 2020;[];1300415035991371776;1300415035991371776;fr;\"<a href=\"\"https://studio.twitter.com\"\" rel=\"\"nofollow\"\">Twitter Media Studio</a>\";\"🔎 To have any chance of winning, a sprinter's bike must be perfect!\n",
      "\n",
      "🎬 Take a look at how Lotto-Soudal make sure… https://t.co/eX5jZ5aIuM\";True;[{'expanded_url': 'https://twitter.com/i/web/status/1300415035991371776', 'url': 'https://t.co/eX5jZ5aIuM'}];\"{'created_at': 'Tue Jun 08 13:18:00 +0000 2010', 'description': \"\"La plus grande course cycliste au monde. The world's biggest cycling race. 2019 🏆 : @Eganbernal \\n\\n🗓️ 29/08/2020 - 20/09/2020\\n\\n#TDF2020 #TDFunited\"\", 'favourites_count': 1870, 'followers_count': 3076115, 'following': True, 'friends_count': 929, 'geo_enabled': True, 'id': 153403071, 'id_str': '153403071', 'listed_count': 8926, 'name': 'Tour de France™', 'profile_background_color': 'FAD905', 'profile_background_image_url': 'http://abs.twimg.com/images/themes/theme1/bg.png', 'profile_background_image_url_https': 'https://abs.twimg.com/images/themes/theme1/bg.png', 'profile_background_tile': True, 'profile_banner_url': 'https://pbs.twimg.com/profile_banners/153403071/1598804913', 'profile_image_url': 'http://pbs.twimg.com/profile_images/1182279755552428033/8mX_dsXW_normal.jpg', 'profile_image_url_https': 'https://pbs.twimg.com/profile_images/1182279755552428033/8mX_dsXW_normal.jpg', 'profile_link_color': 'FAB81E', 'profile_sidebar_border_color': 'FFFFFF', 'profile_sidebar_fill_color': 'DDEEF6', 'profile_text_color': '333333', 'profile_use_background_image': True, 'screen_name': 'LeTour', 'statuses_count': 32871, 'url': 'https://t.co/KZO0DBLRjy', 'verified': True}\";[];72.0;14.0;\n",
      "13;Mon Aug 31 12:38:18 +0000 2020;[];1300412598509338624;1300412598509338624;fr;\"<a href=\"\"https://mobile.twitter.com\"\" rel=\"\"nofollow\"\">Twitter Web App</a>\";\"🇫🇷 @PerezAnthony1 and @BenoitCosnefroy are caught by the peloton.\n",
      "\n",
      "🇫🇷 Anthony Perez et Benoît Cosnefroy sont repris… https://t.co/AdZ9CVC3rK\";True;[{'expanded_url': 'https://twitter.com/i/web/status/1300412598509338624', 'url': 'https://t.co/AdZ9CVC3rK'}];\"{'created_at': 'Tue Jun 08 13:18:00 +0000 2010', 'description': \"\"La plus grande course cycliste au monde. The world's biggest cycling race. 2019 🏆 : @Eganbernal \\n\\n🗓️ 29/08/2020 - 20/09/2020\\n\\n#TDF2020 #TDFunited\"\", 'favourites_count': 1870, 'followers_count': 3076115, 'following': True, 'friends_count': 929, 'geo_enabled': True, 'id': 153403071, 'id_str': '153403071', 'listed_count': 8926, 'name': 'Tour de France™', 'profile_background_color': 'FAD905', 'profile_background_image_url': 'http://abs.twimg.com/images/themes/theme1/bg.png', 'profile_background_image_url_https': 'https://abs.twimg.com/images/themes/theme1/bg.png', 'profile_background_tile': True, 'profile_banner_url': 'https://pbs.twimg.com/profile_banners/153403071/1598804913', 'profile_image_url': 'http://pbs.twimg.com/profile_images/1182279755552428033/8mX_dsXW_normal.jpg', 'profile_image_url_https': 'https://pbs.twimg.com/profile_images/1182279755552428033/8mX_dsXW_normal.jpg', 'profile_link_color': 'FAB81E', 'profile_sidebar_border_color': 'FFFFFF', 'profile_sidebar_fill_color': 'DDEEF6', 'profile_text_color': '333333', 'profile_use_background_image': True, 'screen_name': 'LeTour', 'statuses_count': 32871, 'url': 'https://t.co/KZO0DBLRjy', 'verified': True}\";[{'id': 389938640, 'id_str': '389938640', 'name': 'Perez Anthony', 'screen_name': 'PerezAnthony1'}, {'id': 2967671063, 'id_str': '2967671063', 'name': 'Cosnefroy Benoit', 'screen_name': 'BenoitCosnefroy'}];101.0;14.0;\n",
      "14;Mon Aug 31 12:31:48 +0000 2020;[];1300410963515109377;1300410963515109377;fr;\"<a href=\"\"https://mobile.twitter.com\"\" rel=\"\"nofollow\"\">Twitter Web App</a>\";\"🇫🇷 @BenoitCosnefroy and @PerezAnthony1 relax a little and leave @CousinJerom to go on his own.\n",
      "\n",
      "🇫🇷 Cosnefroy et Per… https://t.co/jY0xysTLsW\";True;[{'expanded_url': 'https://twitter.com/i/web/status/1300410963515109377', 'url': 'https://t.co/jY0xysTLsW'}];\"{'created_at': 'Tue Jun 08 13:18:00 +0000 2010', 'description': \"\"La plus grande course cycliste au monde. The world's biggest cycling race. 2019 🏆 : @Eganbernal \\n\\n🗓️ 29/08/2020 - 20/09/2020\\n\\n#TDF2020 #TDFunited\"\", 'favourites_count': 1870, 'followers_count': 3076115, 'following': True, 'friends_count': 929, 'geo_enabled': True, 'id': 153403071, 'id_str': '153403071', 'listed_count': 8926, 'name': 'Tour de France™', 'profile_background_color': 'FAD905', 'profile_background_image_url': 'http://abs.twimg.com/images/themes/theme1/bg.png', 'profile_background_image_url_https': 'https://abs.twimg.com/images/themes/theme1/bg.png', 'profile_background_tile': True, 'profile_banner_url': 'https://pbs.twimg.com/profile_banners/153403071/1598804913', 'profile_image_url': 'http://pbs.twimg.com/profile_images/1182279755552428033/8mX_dsXW_normal.jpg', 'profile_image_url_https': 'https://pbs.twimg.com/profile_images/1182279755552428033/8mX_dsXW_normal.jpg', 'profile_link_color': 'FAB81E', 'profile_sidebar_border_color': 'FFFFFF', 'profile_sidebar_fill_color': 'DDEEF6', 'profile_text_color': '333333', 'profile_use_background_image': True, 'screen_name': 'LeTour', 'statuses_count': 32871, 'url': 'https://t.co/KZO0DBLRjy', 'verified': True}\";[{'id': 2967671063, 'id_str': '2967671063', 'name': 'Cosnefroy Benoit', 'screen_name': 'BenoitCosnefroy'}, {'id': 389938640, 'id_str': '389938640', 'name': 'Perez Anthony', 'screen_name': 'PerezAnthony1'}, {'id': 511673084, 'id_str': '511673084', 'name': 'Cousin Jerome', 'screen_name': 'CousinJerom'}];118.0;17.0;\n",
      "15;Mon Aug 31 12:22:06 +0000 2020;[];1300408520454615040;1300408520454615040;fr;\"<a href=\"\"https://studio.twitter.com\"\" rel=\"\"nofollow\"\">Twitter Media Studio</a>\";\"⚪🔴 Two more points for @PerezAnthony1 at the Col de la Faye!\n",
      "\n",
      "⚪🔴 Anthony Perez en tête au Col de la Faye. Le Toulou… https://t.co/5XDWtICA8t\";True;[{'expanded_url': 'https://twitter.com/i/web/status/1300408520454615040', 'url': 'https://t.co/5XDWtICA8t'}];\"{'created_at': 'Tue Jun 08 13:18:00 +0000 2010', 'description': \"\"La plus grande course cycliste au monde. The world's biggest cycling race. 2019 🏆 : @Eganbernal \\n\\n🗓️ 29/08/2020 - 20/09/2020\\n\\n#TDF2020 #TDFunited\"\", 'favourites_count': 1870, 'followers_count': 3076115, 'following': True, 'friends_count': 929, 'geo_enabled': True, 'id': 153403071, 'id_str': '153403071', 'listed_count': 8926, 'name': 'Tour de France™', 'profile_background_color': 'FAD905', 'profile_background_image_url': 'http://abs.twimg.com/images/themes/theme1/bg.png', 'profile_background_image_url_https': 'https://abs.twimg.com/images/themes/theme1/bg.png', 'profile_background_tile': True, 'profile_banner_url': 'https://pbs.twimg.com/profile_banners/153403071/1598804913', 'profile_image_url': 'http://pbs.twimg.com/profile_images/1182279755552428033/8mX_dsXW_normal.jpg', 'profile_image_url_https': 'https://pbs.twimg.com/profile_images/1182279755552428033/8mX_dsXW_normal.jpg', 'profile_link_color': 'FAB81E', 'profile_sidebar_border_color': 'FFFFFF', 'profile_sidebar_fill_color': 'DDEEF6', 'profile_text_color': '333333', 'profile_use_background_image': True, 'screen_name': 'LeTour', 'statuses_count': 32871, 'url': 'https://t.co/KZO0DBLRjy', 'verified': True}\";[{'id': 389938640, 'id_str': '389938640', 'name': 'Perez Anthony', 'screen_name': 'PerezAnthony1'}];198.0;39.0;\n",
      "16;Mon Aug 31 12:11:19 +0000 2020;[];1300405806177943552;1300405806177943552;fr;\"<a href=\"\"https://mobile.twitter.com\"\" rel=\"\"nofollow\"\">Twitter Web App</a>\";\"⛰️ The riders are now climbing the Col de la Faye.\n",
      "\n",
      "⛰️ Les montées s'enchaînent, les coureurs sont dans le Col de l… https://t.co/EfhQjKhBrk\";True;[{'expanded_url': 'https://twitter.com/i/web/status/1300405806177943552', 'url': 'https://t.co/EfhQjKhBrk'}];\"{'created_at': 'Tue Jun 08 13:18:00 +0000 2010', 'description': \"\"La plus grande course cycliste au monde. The world's biggest cycling race. 2019 🏆 : @Eganbernal \\n\\n🗓️ 29/08/2020 - 20/09/2020\\n\\n#TDF2020 #TDFunited\"\", 'favourites_count': 1870, 'followers_count': 3076115, 'following': True, 'friends_count': 929, 'geo_enabled': True, 'id': 153403071, 'id_str': '153403071', 'listed_count': 8926, 'name': 'Tour de France™', 'profile_background_color': 'FAD905', 'profile_background_image_url': 'http://abs.twimg.com/images/themes/theme1/bg.png', 'profile_background_image_url_https': 'https://abs.twimg.com/images/themes/theme1/bg.png', 'profile_background_tile': True, 'profile_banner_url': 'https://pbs.twimg.com/profile_banners/153403071/1598804913', 'profile_image_url': 'http://pbs.twimg.com/profile_images/1182279755552428033/8mX_dsXW_normal.jpg', 'profile_image_url_https': 'https://pbs.twimg.com/profile_images/1182279755552428033/8mX_dsXW_normal.jpg', 'profile_link_color': 'FAB81E', 'profile_sidebar_border_color': 'FFFFFF', 'profile_sidebar_fill_color': 'DDEEF6', 'profile_text_color': '333333', 'profile_use_background_image': True, 'screen_name': 'LeTour', 'statuses_count': 32871, 'url': 'https://t.co/KZO0DBLRjy', 'verified': True}\";[];173.0;24.0;\n",
      "17;Mon Aug 31 12:07:44 +0000 2020;[{'text': 'TDFbiodiversité'}];1300404903999942658;1300404903999942658;fr;\"<a href=\"\"https://mobile.twitter.com\"\" rel=\"\"nofollow\"\">Twitter Web App</a>\";\"RT @Le_Museum: #TDFbiodiversité étape 3 🚴‍♂\n",
      "\n",
      "Ce chasseur indépendant prend ses quartiers d'été en France, admirez l'habilité du Guêpier d'E…\";;[];\"{'created_at': 'Tue Jun 08 13:18:00 +0000 2010', 'description': \"\"La plus grande course cycliste au monde. The world's biggest cycling race. 2019 🏆 : @Eganbernal \\n\\n🗓️ 29/08/2020 - 20/09/2020\\n\\n#TDF2020 #TDFunited\"\", 'favourites_count': 1870, 'followers_count': 3076115, 'following': True, 'friends_count': 929, 'geo_enabled': True, 'id': 153403071, 'id_str': '153403071', 'listed_count': 8926, 'name': 'Tour de France™', 'profile_background_color': 'FAD905', 'profile_background_image_url': 'http://abs.twimg.com/images/themes/theme1/bg.png', 'profile_background_image_url_https': 'https://abs.twimg.com/images/themes/theme1/bg.png', 'profile_background_tile': True, 'profile_banner_url': 'https://pbs.twimg.com/profile_banners/153403071/1598804913', 'profile_image_url': 'http://pbs.twimg.com/profile_images/1182279755552428033/8mX_dsXW_normal.jpg', 'profile_image_url_https': 'https://pbs.twimg.com/profile_images/1182279755552428033/8mX_dsXW_normal.jpg', 'profile_link_color': 'FAB81E', 'profile_sidebar_border_color': 'FFFFFF', 'profile_sidebar_fill_color': 'DDEEF6', 'profile_text_color': '333333', 'profile_use_background_image': True, 'screen_name': 'LeTour', 'statuses_count': 32871, 'url': 'https://t.co/KZO0DBLRjy', 'verified': True}\";\"[{'id': 224607656, 'id_str': '224607656', 'name': \"\"Muséum national d'Histoire naturelle\"\", 'screen_name': 'Le_Museum'}]\";;26.0;\"{'created_at': 'Mon Aug 31 10:30:00 +0000 2020', 'favorite_count': 80, 'hashtags': [{'text': 'TDFbiodiversité'}], 'id': 1300380310094278656, 'id_str': '1300380310094278656', 'lang': 'fr', 'retweet_count': 26, 'source': '<a href=\"\"https://studio.twitter.com\"\" rel=\"\"nofollow\"\">Twitter Media Studio</a>', 'text': \"\"#TDFbiodiversité étape 3 🚴\\u200d♂\\n\\nCe chasseur indépendant prend ses quartiers d'été en France, admirez l'habilité du Gu… https://t.co/IniulptvKd\"\", 'truncated': True, 'urls': [{'expanded_url': 'https://twitter.com/i/web/status/1300380310094278656', 'url': 'https://t.co/IniulptvKd'}], 'user': {'created_at': 'Thu Dec 09 12:15:30 +0000 2010', 'description': 'MNHN : 13 sites à Paris, en Île-de-France et en région.', 'favourites_count': 8002, 'followers_count': 33389, 'friends_count': 792, 'geo_enabled': True, 'id': 224607656, 'id_str': '224607656', 'listed_count': 966, 'location': 'Paris, France', 'name': \"\"Muséum national d'Histoire naturelle\"\", 'profile_background_color': 'FFFFFF', 'profile_background_image_url': 'http://abs.twimg.com/images/themes/theme1/bg.png', 'profile_background_image_url_https': 'https://abs.twimg.com/images/themes/theme1/bg.png', 'profile_banner_url': 'https://pbs.twimg.com/profile_banners/224607656/1598853040', 'profile_image_url': 'http://pbs.twimg.com/profile_images/1283676664686403590/1uEY1aWE_normal.jpg', 'profile_image_url_https': 'https://pbs.twimg.com/profile_images/1283676664686403590/1uEY1aWE_normal.jpg', 'profile_link_color': '2D6F89', 'profile_sidebar_border_color': 'FFFFFF', 'profile_sidebar_fill_color': 'DDEEF6', 'profile_text_color': '4F4E4F', 'screen_name': 'Le_Museum', 'statuses_count': 8314, 'url': 'https://t.co/g4QIurwwSB', 'verified': True}, 'user_mentions': []}\"\n",
      "18;Mon Aug 31 12:07:29 +0000 2020;[];1300404843799076865;1300404843799076865;fr;\"<a href=\"\"https://mobile.twitter.com\"\" rel=\"\"nofollow\"\">Twitter Web App</a>\";\"⏱️ The peloton passes the Col de Pilon summit 2 minutes after the breakaway.\n",
      "\n",
      "⏱️ Le peloton passe au sommet du Col… https://t.co/mwF3MmCaeJ\";True;[{'expanded_url': 'https://twitter.com/i/web/status/1300404843799076865', 'url': 'https://t.co/mwF3MmCaeJ'}];\"{'created_at': 'Tue Jun 08 13:18:00 +0000 2010', 'description': \"\"La plus grande course cycliste au monde. The world's biggest cycling race. 2019 🏆 : @Eganbernal \\n\\n🗓️ 29/08/2020 - 20/09/2020\\n\\n#TDF2020 #TDFunited\"\", 'favourites_count': 1870, 'followers_count': 3076115, 'following': True, 'friends_count': 929, 'geo_enabled': True, 'id': 153403071, 'id_str': '153403071', 'listed_count': 8926, 'name': 'Tour de France™', 'profile_background_color': 'FAD905', 'profile_background_image_url': 'http://abs.twimg.com/images/themes/theme1/bg.png', 'profile_background_image_url_https': 'https://abs.twimg.com/images/themes/theme1/bg.png', 'profile_background_tile': True, 'profile_banner_url': 'https://pbs.twimg.com/profile_banners/153403071/1598804913', 'profile_image_url': 'http://pbs.twimg.com/profile_images/1182279755552428033/8mX_dsXW_normal.jpg', 'profile_image_url_https': 'https://pbs.twimg.com/profile_images/1182279755552428033/8mX_dsXW_normal.jpg', 'profile_link_color': 'FAB81E', 'profile_sidebar_border_color': 'FFFFFF', 'profile_sidebar_fill_color': 'DDEEF6', 'profile_text_color': '333333', 'profile_use_background_image': True, 'screen_name': 'LeTour', 'statuses_count': 32871, 'url': 'https://t.co/KZO0DBLRjy', 'verified': True}\";[];95.0;6.0;\n",
      "19;Mon Aug 31 12:05:45 +0000 2020;[];1300404407704657920;1300404407704657920;fr;\"<a href=\"\"https://studio.twitter.com\"\" rel=\"\"nofollow\"\">Twitter Media Studio</a>\";⛰ After a huge effort, @PerezAnthony1 is first up the Col du Pilon. He is the virtual leader of the mountain classi… https://t.co/mEwErlIBxc;True;[{'expanded_url': 'https://twitter.com/i/web/status/1300404407704657920', 'url': 'https://t.co/mEwErlIBxc'}];\"{'created_at': 'Tue Jun 08 13:18:00 +0000 2010', 'description': \"\"La plus grande course cycliste au monde. The world's biggest cycling race. 2019 🏆 : @Eganbernal \\n\\n🗓️ 29/08/2020 - 20/09/2020\\n\\n#TDF2020 #TDFunited\"\", 'favourites_count': 1870, 'followers_count': 3076115, 'following': True, 'friends_count': 929, 'geo_enabled': True, 'id': 153403071, 'id_str': '153403071', 'listed_count': 8926, 'name': 'Tour de France™', 'profile_background_color': 'FAD905', 'profile_background_image_url': 'http://abs.twimg.com/images/themes/theme1/bg.png', 'profile_background_image_url_https': 'https://abs.twimg.com/images/themes/theme1/bg.png', 'profile_background_tile': True, 'profile_banner_url': 'https://pbs.twimg.com/profile_banners/153403071/1598804913', 'profile_image_url': 'http://pbs.twimg.com/profile_images/1182279755552428033/8mX_dsXW_normal.jpg', 'profile_image_url_https': 'https://pbs.twimg.com/profile_images/1182279755552428033/8mX_dsXW_normal.jpg', 'profile_link_color': 'FAB81E', 'profile_sidebar_border_color': 'FFFFFF', 'profile_sidebar_fill_color': 'DDEEF6', 'profile_text_color': '333333', 'profile_use_background_image': True, 'screen_name': 'LeTour', 'statuses_count': 32871, 'url': 'https://t.co/KZO0DBLRjy', 'verified': True}\";[{'id': 389938640, 'id_str': '389938640', 'name': 'Perez Anthony', 'screen_name': 'PerezAnthony1'}];136.0;23.0;\n",
      "\n"
     ]
    }
   ],
   "source": [
    "fichier = open(\"data/module_3-tdf_2020.csv\", \"r\", encoding=\"utf-8\")\n",
    "contenu = fichier.read()\n",
    "print(contenu)\n",
    "fichier.close()"
   ]
  },
  {
   "cell_type": "markdown",
   "metadata": {},
   "source": [
    "Lorsqu'on parle de manipulation de fichiers, on se trouve nécessairement confronté au problème de l'**encodage**. Sans nous étendre trop longuement sur ce vaste sujet, l'**encodage** désigne simplement un système de correspondance entre un caractère alpha-numérique et une façon de le représenter en langage de plus bas niveau (par exemple, en binaire, comme une série de 0 et de 1).\n",
    "\n",
    "Aujourd'hui, on ne prend plus trop de risque à parier qu'un fichier est encodé en **UTF-8** : il s'agit du standard **unicode**, de plus en plus utilisé à travers le monde, car capable d'encoder un très grand nombre de caractères (y compris les caractères accentués, les caractères grecs ou arabes, les smileys et autres signes, etc.). Néanmoins, lorsqu'on ouvre un fichier avec Python, il est parfois nécessaire de définir quel encodage Python doit utiliser pour déchiffrer le fichier qu'il doit ouvrir.\n",
    "\n",
    "Sachez néanmoins qu'il existe d'autres encodages fréquents, notamment le **Latin-1** encore relativement utilisé. Si des caractères s'affichent mal ou que Python renvoie une erreur lors de l'ouverture d'un fichier, il y a de bonnes chances pour que ce soit lié à un problème d'encodage."
   ]
  },
  {
   "cell_type": "markdown",
   "metadata": {},
   "source": [
    "Détaillons à présent l'utilisation de la fonction `open()` qui, comme on l'aura compris, permet d'ouvrir des fichiers et de les lire avec Python.\n",
    "\n",
    "Celle-ci comprend plusieurs **arguments** :\n",
    "* Le chemin (absolu ou relatif) du fichier\n",
    "* Le mode d'ouverture\n",
    "* L'encodage\n",
    "\n",
    "Elle renvoie un type assez particulier, `_io.TextIOWrapper`. Celui dispose de plusieurs **méthodes** qu'il ne s'agira pas de détailler ici car il est contenu dans une bibliothèque un peu complexe de Python permettant de gérer l'ouverture et l'écriture dans des fichiers. Pour en savoir plus, on pourra se référer à la page dédiée de la documentation de Python : https://docs.python.org/3/library/io.html#module-io."
   ]
  },
  {
   "cell_type": "code",
   "execution_count": 68,
   "metadata": {},
   "outputs": [
    {
     "name": "stdout",
     "output_type": "stream",
     "text": [
      "<class '_io.TextIOWrapper'>\n"
     ]
    }
   ],
   "source": [
    "print(type(fichier))"
   ]
  },
  {
   "cell_type": "markdown",
   "metadata": {},
   "source": [
    "Détaillons simplement que l'on peut accéder au contenu du fichier ouvert à l'aide de la fonction `.open()` grâce à la méthode `.read()`."
   ]
  },
  {
   "cell_type": "markdown",
   "metadata": {},
   "source": [
    "Il existe plusieurs façons d'ouvrir un fichier que l'on peut définir dans le mode d'ouverture. Résumons à l'aide du tableau ci-dessous :\n",
    "\n",
    "|Mode d'ouverture|Description|\n",
    "|---|---|\n",
    "|`\"r\"`|Ouverture en mode lecture.|\n",
    "|`\"w\"`|Ouverture en mode écriture.|\n",
    "|`\"a\"`|Ouverture en mode ajout.|"
   ]
  },
  {
   "cell_type": "markdown",
   "metadata": {},
   "source": [
    "### <div id=\"Listes : Pratique avancée\">3. 2. Listes : Pratique avancée</div>"
   ]
  },
  {
   "cell_type": "markdown",
   "metadata": {},
   "source": [
    "Maintenant que nous avons ouvert notre fichier **CSV**, on souhaiterait pouvoir récupérer chaque ligne du tableau une à une et les stocker dans une **liste**. Rappelons-nous que la spécificité d'un fichier **CSV** tient dans sa structure :\n",
    "* Les lignes sont séparées par des sauts de ligne (touche Entrée)\n",
    "* Les colonnes sont séparées par des virgules (ou d'autres caractères, parfois des points-virgules, des barres obliques, etc.)\n",
    "\n",
    "En Python, on représente un **saut de ligne** à l'aide du caractère `\\n`. Cela signifie que si l'on découpe le texte que l'on a extrait de notre fichier **CSV** à chaque fois que l'on rencontre le caractère `\\n`, on aura découpé notre tableau ligne par ligne !\n",
    "\n",
    "Cela tombe bien, il existe précisément dans Python une fonction nommée `.split()` qui permet de découper une **chaîne de caractères** et renvoie une liste qui contient autant d'éléments que de caractères passé en **paramètre** de la méthode. Voyons un exemple."
   ]
  },
  {
   "cell_type": "code",
   "execution_count": 69,
   "metadata": {},
   "outputs": [
    {
     "name": "stdout",
     "output_type": "stream",
     "text": [
      "['Bonjour', \" J'apprends à coder en Python\", ' Python est un langage bien utile', \" Il permet d'ouvrir des fichiers\", '']\n"
     ]
    }
   ],
   "source": [
    "exemple = \"Bonjour. J'apprends à coder en Python. Python est un langage bien utile. Il permet d'ouvrir des fichiers.\"\n",
    "decoup = exemple.split(\".\")\n",
    "print(decoup)"
   ]
  },
  {
   "cell_type": "markdown",
   "metadata": {},
   "source": [
    "La chaîne `exemple` a été découpée à chaque fois qu'un point est rencontré. La **méthode** `.split(\".\")` renvoie une **liste** qui contient quatre **chaînes de caractères**, séparant donc chaque phrase.\n",
    "\n",
    "En reprenant notre variable `contenu` dans laquelle on a stocké plus tôt le contenu du fichier importé, on peut procéder de la même façon en utilisant `.split(\"\\n\")` pour découper la **chaîne de caractères** en une liste où chaque élément correspondra à une ligne du tableau."
   ]
  },
  {
   "cell_type": "code",
   "execution_count": 71,
   "metadata": {},
   "outputs": [
    {
     "name": "stdout",
     "output_type": "stream",
     "text": [
      "51\n"
     ]
    }
   ],
   "source": [
    "tab = contenu.split(\"\\n\")\n",
    "print(len(tab))"
   ]
  },
  {
   "cell_type": "markdown",
   "metadata": {},
   "source": [
    "On voit ainsi que notre tableau contient 51 lignes."
   ]
  },
  {
   "cell_type": "markdown",
   "metadata": {},
   "source": [
    "<div class=\"alert alert-success\" role=\"success\"><strong>Deuxième exercice :</strong> A partir du fichier \"module_3-tdf_2020.csv\" importé dans Python, reconstruire un tableau. Pour ce faire, on pourra choisir de construire une liste de listes (une liste globale qui contient, à chaque index, une liste qui contient à son tour un élément par colonne), ou une liste de dictionnaires (pour chaque index de la liste, on aura un dictionnaire avec une clé correspondante au nom de chaque colonne du tableau).</div>"
   ]
  },
  {
   "cell_type": "markdown",
   "metadata": {},
   "source": [
    "### <div id=\"Manipuler des données tabulaires avec la bibliothèque pandas\">3. 3. Manipuler des données tabulaires avec la bibliothèque `pandas`</div>"
   ]
  },
  {
   "cell_type": "markdown",
   "metadata": {},
   "source": [
    "Tout ceci est bien pratique, mais tout de même un peu compliqué. Pour reconstruire un tableau avec notre fichier, il faudrait découper la **chaîne de caractère**"
   ]
  },
  {
   "cell_type": "markdown",
   "metadata": {},
   "source": [
    "## <div id=\"Gérer les erreurs\">4. Gérer les erreurs</div>"
   ]
  },
  {
   "cell_type": "markdown",
   "metadata": {},
   "source": [
    "Sources\n",
    "\n",
    "https://docs.python.org/3/tutorial/datastructures.html"
   ]
  }
 ],
 "metadata": {
  "kernelspec": {
   "display_name": "Python 3",
   "language": "python",
   "name": "python3"
  },
  "language_info": {
   "codemirror_mode": {
    "name": "ipython",
    "version": 3
   },
   "file_extension": ".py",
   "mimetype": "text/x-python",
   "name": "python",
   "nbconvert_exporter": "python",
   "pygments_lexer": "ipython3",
   "version": "3.7.6"
  }
 },
 "nbformat": 4,
 "nbformat_minor": 4
}
