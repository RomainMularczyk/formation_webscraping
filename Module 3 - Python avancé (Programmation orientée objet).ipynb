{
 "cells": [
  {
   "cell_type": "markdown",
   "metadata": {},
   "source": [
    "# Table des matières :\n",
    "\n",
    "* <a href=\"#Introduction\">1. Introduction</a>\n",
    "* <a href=\"#Introduciton à la programmation orientée objet\">2. Introduction à la programmation orientée objet</a>\n",
    "    * <a href=\"#Préalable : Qu'est-ce qu'une fonction ?\">2.1. Préalable : Qu'est-ce qu'une fonction ?</a>\n",
    "    * <a href=\"#Un peu de vocabulaire : Classes, propriétés, méthodes\">2.2. Un peu de vocabulaire : Classes, propriétés, méthodes</a>\n",
    "    * <a href=\"#Créer une classe\">2.3. Créer une classe</a>\n",
    "* <a href=\"#Travailler avec des fichiers\">3. Travailler avec des fichiers</a>\n",
    "* <a href=\"#gérer les erreurs\">4. Gérer les erreurs</a>"
   ]
  },
  {
   "cell_type": "markdown",
   "metadata": {},
   "source": [
    "## <div id=\"Introduction\">1. Introduction</div>"
   ]
  },
  {
   "cell_type": "markdown",
   "metadata": {},
   "source": [
    "Dans ce troisième module, nous tenterons d'aller un peu plus loin dans notre connaissance du langage Python, notamment en nous initiant à la **programmation orientée objet**. L'idée n'est pas tant de devenir expert programmeur que de prendre un peu d'assurance avec la logique qui régit le fonctionnement de nombreuses **bibliothèques** que nous utiliserons dans nos projets de **web scraping**.\n",
    "\n",
    "Nous apprendrons également à travailler avec des **fichiers**, essentiellement des fichiers structurés (**documents CSV**, **fichiers JSON** ou **XML**) : nous apprendrons à les ouvrir avec Python, en extraire des données ou, au contraire, y écrire des données.\n",
    "\n",
    "Une fois ces éléments complémentaires vus (et après quelques exercices pour appliquer toutes les connaissances acquises), nous pourrons passer à la pratique avec notre premier projet de **web scraping**."
   ]
  },
  {
   "cell_type": "markdown",
   "metadata": {},
   "source": [
    "## <div id=\"Introduction à la programmation orientée objet\">2. Introduction à la programmation orientée objet</div>"
   ]
  },
  {
   "cell_type": "markdown",
   "metadata": {},
   "source": [
    "Dans le monde de la programmation informatique, il existe plusieurs écoles, plusieurs philosophies et façons de faire. Python est un langage relativement souple qui permet d'écrire des programmes en appliquant les principes de divers **paradigmes**. On parle en effet de **paradigme** en informatique pour désigner ce qui peut se rapporter à une philosophie particulière, des façons de faire et d'appréhender les données que l'on manipule.\n",
    "\n",
    "Dans notre cas, nous allons nous intéresser plus particulièrement au **paradigme orienté objet** qui est particulièrement représenté dans l'univers Python.\n",
    "\n",
    "L'idée est assez simple avec la **programmation orientée objet** : tout est objet !\n",
    "\n",
    "En Python, un **objet** est une **structure de données** (un peu comme les variables) qui peut néanmoins contenir d'autres **variables**, des **fonctions** ou des **classes** (nous y venons dans un instant).\n",
    "\n",
    "L'idée derrière la **programmation orientée objet** est d'établir une distinction entre ce qu'on pourrait voir comme un \"moule\" d'un côté et de l'autre, une statue formée à partir de ce moule. Le moule ne donne qu'une forme à notre statue, libre à nous de choisir de la peindre en rouge ou en bleu, de lui adjoindre ensuite un autre morceau pour construire une statue plus grande, de lui retirer des morceaux ou de la détruire complètement.\n",
    "\n",
    "Si vous êtes familier de la philosophie de Platon, on pourrait voir la **programmation orientée objet** comme une forme de parallèle dans le monde informatique : il existe d'un côté des idées et de l'autre, des objets du monde, qui se rapportent à une idée mais qui n'en sont qu'une expression particulière qui n'en capture pas vraiment l'essence.\n",
    "\n",
    "Tout ceci paraît peut-être bien compliqué et on pourrait se demander en quoi c'est vraiment utile ? Pourquoi ne pas se contenter des boucles et des quelques fonctions déjà vues, cela permet déjà de faire beaucoup de choses.\n",
    "\n",
    "Certes, mais il y a un problème de taille : le code que l'on a écrit jusqu'à présent n'est pas **réutilisable**, à moins de s'amuser à faire des copier-coller à tout bout de champ. La **programmation orienté objet** nous aide en définissant une façon particulière de structurer notre code qui le rend **réutilisable** (ce n'est pas sa seule utilité, mais cela en fait partie).\n",
    "\n",
    "Avant de nous confronter au coeur du sujet en traitant des **classes**, voyons dans un premier temps les **fonctions** qui constituent déjà un premier outil précieux pour rendre notre code **réutilisable**. Selon la taille et la complexité de nos scripts, manipuler des **fonctions** peut se révéler largement suffisant sans que l'on ait besoin de faire appel à des **classes**. Néanmoins, comme nous l'avons mentionné plus tôt, de nombreuses **bibliothèques** Python utilisent des classes et comprendre un peu plus en détail leur fonctionnement permet de mieux appréhender leur fonctionnement et se les approprier ainsi plus facilement."
   ]
  },
  {
   "cell_type": "markdown",
   "metadata": {},
   "source": [
    "### <div id=\"Préalable : Qu'est-ce qu'une fonction ?\">2. 1. Préalable : Qu'est-ce qu'une fonction ?</div>"
   ]
  },
  {
   "cell_type": "markdown",
   "metadata": {},
   "source": [
    "Nous avons précédemment croisé plusieurs **fonctions** bien utiles pour obtenir certaines informations sur les données que nous manipulions. Il n'est peut-être pas inutile d'en faire un bref récapitulatif pour essayer de les mémoriser, au fur et à mesure de notre pratique, on se rendra compte qu'elles sont bien utiles et qu'on est amené à les utiliser quasiment pour chaque script que l'on écrira !\n",
    "\n",
    "|Fonction|Description|\n",
    "|---|---|\n",
    "|`print()`|Affiche à l'écran le contenu d'un objet.|\n",
    "|`len()`|Renvoie la longueur de la donnée contenue dans l'objet.|\n",
    "|`type()`|Renvoie le type de données d'un objet.|\n",
    "|`ìnt()`|Convertit une données en *integer* (nombre entier).|\n",
    "|`str()`|Convertit une données en chaîne de caractères.|\n",
    "\n",
    "\n",
    "En réalité, les **fonctions** sont aussi des **objets** que l'on peut créer comme on crée des **variables**.\n",
    "\n",
    "Tentons de définir ces nouvelles objets : une **fonction** est une série d'opérations encapsulée qui prend un certain nombre de données en entrée et renvoie un certain nombre de données en sortie. Et... C'est tout...\n",
    "\n",
    "<br>\n",
    "\n",
    "<img src=\"img/function.png\"/>\n",
    "\n",
    "Voyons maintenant concrètement dans le code comme tout cela fonctionne, précisément. Reprenons pour cela notre bibliothèque avec laquelle nous avions travaillé dans le module précédent."
   ]
  },
  {
   "cell_type": "code",
   "execution_count": 1,
   "metadata": {},
   "outputs": [],
   "source": [
    "bibliotheque = [{\n",
    "    \"auteur\": \"Georges Sand\",\n",
    "    \"titre\": \"Claudie\",\n",
    "    \"genre\": \"théâtre\",\n",
    "    \"annee\": \"1851\"\n",
    "},\n",
    "{\n",
    "    \"auteur\": \"Georges Sand\",\n",
    "    \"titre\": \"Les dames vertes\",\n",
    "    \"genre\": \"roman\",\n",
    "    \"annee\": \"1857\"\n",
    "},\n",
    "{\n",
    "    \"auteur\": \"Georges Sand\",\n",
    "    \"titre\": \"La petite fadette\",\n",
    "    \"genre\": \"roman\",\n",
    "    \"annee\": \"1849\"\n",
    "},\n",
    "{\n",
    "    \"auteur\": \"Victor Hugo\",\n",
    "    \"titre\": \"Le dernier jour d'un condamné\",\n",
    "    \"genre\": \"roman\",\n",
    "    \"annee\": \"1829\"\n",
    "},\n",
    "{\n",
    "    \"auteur\": \"Victor Hugo\",\n",
    "    \"titre\": \"Les misérables\",\n",
    "    \"genre\": \"roman\",\n",
    "    \"annee\": \"1862\"\n",
    "},\n",
    "{\n",
    "    \"auteur\": \"Georges Sand\",\n",
    "    \"titre\": \"Les maîtres sonneurs\",\n",
    "    \"genre\": \"roman\",\n",
    "    \"annee\": \"1853\"\n",
    "},\n",
    "{\n",
    "    \"auteur\": \"Victor Hugo\",\n",
    "    \"titre\": \"Hernani\",\n",
    "    \"genre\": \"théâtre\",\n",
    "    \"annee\": \"1830\"\n",
    "},\n",
    "{\n",
    "    \"auteur\": \"Georges Sand\",\n",
    "    \"titre\": \"Le mariage de Victorine\",\n",
    "    \"genre\": \"théâtre\",\n",
    "    \"annee\": \"1851\"\n",
    "},\n",
    "{\n",
    "    \"auteur\": \"Georges Sand\",\n",
    "    \"titre\": \"Comme il vous plaira\",\n",
    "    \"genre\": \"théâtre\",\n",
    "    \"annee\": \"1856\"\n",
    "},\n",
    "{\n",
    "    \"auteur\": \"Victor Hugo\",\n",
    "    \"titre\": \"Cromwell\",\n",
    "    \"genre\": \"théâtre\",\n",
    "    \"annee\": \"1827\"\n",
    "}\n",
    "]"
   ]
  },
  {
   "cell_type": "markdown",
   "metadata": {},
   "source": [
    "Nous allons définir une fonction qui renvoie la valeur `True` si l'auteure du livre de notre bibliothèque est Georges Sand."
   ]
  },
  {
   "cell_type": "code",
   "execution_count": 13,
   "metadata": {},
   "outputs": [],
   "source": [
    "def georges_sand(livre):\n",
    "    pas_georges_sand = \"Georges Sand n'a pas écrit ce livre !\"\n",
    "    if livre[\"auteur\"] == \"Georges Sand\":\n",
    "        print(\"Georges Sand a écrit ce livre !\")\n",
    "        return True\n",
    "    else:\n",
    "        print(pas_georges_sand)\n",
    "        return False"
   ]
  },
  {
   "cell_type": "markdown",
   "metadata": {},
   "source": [
    "Premier constat : notre code ne renvoie pas d'erreur, mais il ne se passe rien. C'est tout à fait normal.\n",
    "\n",
    "Une fonction s'utilise en deux étapes :\n",
    "* D'abord, on **définit** la fonction (d'où le mot-clé `def`)\n",
    "* Ensuite, on **appelle** notre fonction (on utilise toujours des parenthèses à la suite d'une fonction lorsqu'on l'appelle, c'est d'ailleurs ce qui permet de distinguer les fonctions des autres objets)\n",
    "\n",
    "Essayons d'appeler notre fonction avant d'expliciter davantage son fonctionnement."
   ]
  },
  {
   "cell_type": "code",
   "execution_count": 14,
   "metadata": {},
   "outputs": [
    {
     "name": "stdout",
     "output_type": "stream",
     "text": [
      "Georges Sand a écrit ce livre !\n",
      "Claudie True\n",
      "Georges Sand a écrit ce livre !\n",
      "Les dames vertes True\n",
      "Georges Sand a écrit ce livre !\n",
      "La petite fadette True\n",
      "Georges Sand n'a pas écrit ce livre !\n",
      "Le dernier jour d'un condamné False\n",
      "Georges Sand n'a pas écrit ce livre !\n",
      "Les misérables False\n",
      "Georges Sand a écrit ce livre !\n",
      "Les maîtres sonneurs True\n",
      "Georges Sand n'a pas écrit ce livre !\n",
      "Hernani False\n",
      "Georges Sand a écrit ce livre !\n",
      "Le mariage de Victorine True\n",
      "Georges Sand a écrit ce livre !\n",
      "Comme il vous plaira True\n",
      "Georges Sand n'a pas écrit ce livre !\n",
      "Cromwell False\n"
     ]
    }
   ],
   "source": [
    "for livre in bibliotheque:\n",
    "    print(livre[\"titre\"], georges_sand(livre))"
   ]
  },
  {
   "cell_type": "markdown",
   "metadata": {},
   "source": [
    "Explicitons un peu les différents morceaux de ce code. En Python, une **fonction** se définit à l'aide du mot-clé `def` auquel on fait suivre le nom de notre fonction. Ensuite, on indique entre parenthèses, les **arguments** (ou **paramètres**) de la fonction. Les **arguments** sont les valeurs que la **fonction** prend en entrée.\n",
    "\n",
    "Au sein de notre **fonction**, on fait référence aux **valeurs d'entrée** à l'aide de la même variable que l'on a défini. Comme vous pouvez le constater, elle n'a pas besoin d'avoir un nom particulier pour désigner les objets qu'elle prendra en entrée (un peu comme lorsqu'on définit une boucle `for`). On aurait aussi bien pu passer un paramètre nommé `x` que cela fonctionnerait tout aussi bien (il aurait fallu alors remplacer la ligne suivante : `if x[\"auteur\"] == \"Georges Sand\":`.\n",
    "\n",
    "Le mot-clé `return` permet de renvoyer une nouvelle valeur en sortie. Si l'interpréteur Python arrive à une ligne `return` au sein d'une **fontion**, alors il sort directement du **bloc de la fonction**. Car, vous aurez remarqué que, pour une **fonction** comme pour une boucle ou un bloc **`ìf`/`else`**, on utilise également l'**indentation** pour indiquer à l'interpréteur Python que ces segments de code sont inclus dans un **bloc** particulier.\n",
    "\n",
    "Avec les **fonctions**, ces blocs se chargent d'une autre propriété : toutes les variables qui sont définies à l'intérieur du **bloc d'une fonction** n'existe qu'en son sein. Voyons cela."
   ]
  },
  {
   "cell_type": "code",
   "execution_count": 10,
   "metadata": {},
   "outputs": [
    {
     "ename": "NameError",
     "evalue": "name 'pas_georges_sand' is not defined",
     "output_type": "error",
     "traceback": [
      "\u001b[1;31m---------------------------------------------------------------------------\u001b[0m",
      "\u001b[1;31mNameError\u001b[0m                                 Traceback (most recent call last)",
      "\u001b[1;32m<ipython-input-10-d66984f3b575>\u001b[0m in \u001b[0;36m<module>\u001b[1;34m\u001b[0m\n\u001b[1;32m----> 1\u001b[1;33m \u001b[0mprint\u001b[0m\u001b[1;33m(\u001b[0m\u001b[0mpas_georges_sand\u001b[0m\u001b[1;33m)\u001b[0m\u001b[1;33m\u001b[0m\u001b[1;33m\u001b[0m\u001b[0m\n\u001b[0m",
      "\u001b[1;31mNameError\u001b[0m: name 'pas_georges_sand' is not defined"
     ]
    }
   ],
   "source": [
    "print(pas_georges_sand)"
   ]
  },
  {
   "cell_type": "markdown",
   "metadata": {},
   "source": [
    "La variable `pas_georges_sand` n'existe pas, nous dit Python. Pourtant, nous l'avons bien définie dans notre **fonction** `georges_sand()`. En fait, cette variable existe bel et bien, mais uniquement dans la **fonction** et n'est accessible que dans le **bloc** correspondant. On parle de la portée d'une **variable** pour désigner cette particularité du comportement des **variables** dans les fonctions.\n",
    "\n",
    "Les autres **variables** que nous avions défini jusqu'alors étaient des **variables globales**, c'est-à-dire qu'elles sont accessibles partout dans notre code, ceci, tant dans le **bloc d'une fonction** qu'en dehors.\n",
    "\n",
    "Comme toute autre valeur dans Python, on peut capturer la **sortie d'une fonction** à l'aide d'une variable. Voyons cela."
   ]
  },
  {
   "cell_type": "code",
   "execution_count": 15,
   "metadata": {},
   "outputs": [
    {
     "name": "stdout",
     "output_type": "stream",
     "text": [
      "Georges Sand a écrit ce livre !\n",
      "True\n",
      "Georges Sand a écrit ce livre !\n",
      "True\n",
      "Georges Sand a écrit ce livre !\n",
      "True\n",
      "Georges Sand n'a pas écrit ce livre !\n",
      "False\n",
      "Georges Sand n'a pas écrit ce livre !\n",
      "False\n",
      "Georges Sand a écrit ce livre !\n",
      "True\n",
      "Georges Sand n'a pas écrit ce livre !\n",
      "False\n",
      "Georges Sand a écrit ce livre !\n",
      "True\n",
      "Georges Sand a écrit ce livre !\n",
      "True\n",
      "Georges Sand n'a pas écrit ce livre !\n",
      "False\n"
     ]
    }
   ],
   "source": [
    "for livre in bibliotheque:\n",
    "    auteur = georges_sand(livre)\n",
    "    print(auteur)"
   ]
  },
  {
   "cell_type": "markdown",
   "metadata": {},
   "source": [
    "Lorsque l'on a parlé précédemment des **types de données**, nous n'avons pas mentionné un type assez spécifique qui découle précisément du retour (ou plus exactement de l'absence de retour) de certaines fonctions. C'est le cas de la fonction `print()`. Si elle permet d'afficher la valeur d'une **variable**, par exemple, elle ne renvoie pas spécifiquement de donnée."
   ]
  },
  {
   "cell_type": "code",
   "execution_count": 17,
   "metadata": {},
   "outputs": [
    {
     "name": "stdout",
     "output_type": "stream",
     "text": [
      "Un cheval blanc.\n",
      "<class 'NoneType'>\n"
     ]
    }
   ],
   "source": [
    "test = print(\"Un cheval blanc.\")\n",
    "print(type(test))"
   ]
  },
  {
   "cell_type": "markdown",
   "metadata": {},
   "source": [
    "Si notre chaîne de caractère a bel et bien été imprimée à l'écran, notre **variable** `test` est de type `NoneType`. Voyons ce qu'elle contient"
   ]
  },
  {
   "cell_type": "code",
   "execution_count": 18,
   "metadata": {},
   "outputs": [
    {
     "name": "stdout",
     "output_type": "stream",
     "text": [
      "None\n"
     ]
    }
   ],
   "source": [
    "print(test)"
   ]
  },
  {
   "cell_type": "markdown",
   "metadata": {},
   "source": [
    "`None` est la réponse que nous fait Python pour nous dire qu'une **variable** ne contient rien. `NoneType` est un type particulier qui s'applique uniquement à la donnée `None`. Il s'agit d'une valeur différente de `False` qui pourra être utile dans certains cas, pour distinguer notamment le fait qu'il n'y a pas de retour de fonction, chose qui peut-être différente d'un retour négatif !"
   ]
  },
  {
   "cell_type": "markdown",
   "metadata": {},
   "source": [
    "### <div id=\"Un peu de vocabulaire : Classes, propriétés, méthodes\">2. 2. Un peu de vocabulaire : Classes, propriétés, méthodes</div>"
   ]
  },
  {
   "cell_type": "markdown",
   "metadata": {},
   "source": [
    "Maintenant que nous savons ce qu'est une **fonction**, essayons de creuser un peu plus loin en posant tout d'abord quelques termes propres au **paradigme orienté objet**.\n",
    "\n",
    "L'idée dans la **programmation orientée objet** est de créer des modèles, dans le même ordre d'idée que les fonctions, que nous pourrons appeler dès que nous en aurons besoin, pour éviter de nous répéter dans le code. Mais au-delà de cet aspect pratique, cela nous permettra également d'organiser notre code de façon structurée en définissant une représentation particulière de nos objets. Ceci nous permettra de **modéliser** nos objets en leur conférant des caractéristiques particulières.\n",
    "\n",
    "Pour cela, nous utiliserons des **classes**. Une classe est un schéma global qui représente un objet particulier. Cet objet peut être doté de deux types d'éléments distincts :\n",
    "* Des **propriétés**\n",
    "* Des **méthodes**\n",
    "\n",
    "Reprenons l'exemple de notre bibliothèque pour illustrer le propos.\n",
    "\n",
    "Les **propriétés** sont des caractéristiques que l'on pourrait qualifier de statique d'une classe. Dans le cas d'un livre particulier de notre bibliothèque, une **propriété** d'un livre pourrait être son titre ou son auteur. Il s'agit d'une caractéristique propre à cet objet qui le distingue des autres.\n",
    "\n",
    "Les **méthodes** sont des actions que l'on peut faire avec cet objet. Dans le cas d'un livre, cela pourrait être, par exemple, \"modifier le titre du livre\", \"le retirer de la bibliothèque\", etc.\n",
    "\n",
    "Dernier point de vocabulaire. Les **classes**, comme les **fonctions**, doivent être définies avant d'être utilisées. Contrairement aux **fonctions**, on ne peut pas vraiement \"appeler\" une **classe** : on parle plutôt d'**instancier** la classe, c'est-à-dire, créer une **instance** particulière, un exemple particulier parmi une myriade d'autres que l'on pourrait imaginer. Dans le cas de nos livres, une \"instance de livre\" serait, par exemple, \"Le dernier jour d'un condamné\" de Victor Hugo. Il dispose d'un titre particulier, d'un auteur particulier mais, comme les autres livres, il a les mêmes particularités : il a un titre, il a un auteur, une date de parution, etc.\n",
    "\n",
    "Par convention et pour rendre le code plus lisible, on utilise un **constructeur** lorsqu'on définit une **classe** : c'est dans ce bloc que l'on détaille chaque **propriété** de notre classe. Pour cela, on utilise la **fonction** `__init__()`. C'est elle qui va permettre d'attributer à chaque **propriété** de la classe sa valeur correspondante au moment où on **instanciera** notre classe (c'est-à-dire lorsqu'on créra un livre particulier).\n",
    "\n",
    "Voyons cela de suite."
   ]
  },
  {
   "cell_type": "code",
   "execution_count": 20,
   "metadata": {},
   "outputs": [],
   "source": [
    "class Livre:\n",
    "    \n",
    "    def __init__(self, titre, auteur, genre, annee):\n",
    "        self.titre = titre\n",
    "        self.auteur = auteur\n",
    "        self.genre = genre\n",
    "        self.annee = annee"
   ]
  },
  {
   "cell_type": "code",
   "execution_count": 27,
   "metadata": {},
   "outputs": [
    {
     "name": "stdout",
     "output_type": "stream",
     "text": [
      "Germinal\n"
     ]
    }
   ],
   "source": [
    "germinal = Livre(\"Germinal\", \"Emile Zola\", \"roman\", \"1885\")\n",
    "print(germinal.titre)"
   ]
  },
  {
   "cell_type": "markdown",
   "metadata": {},
   "source": [
    "On a créé un nouveau livre en instanciant notre **classe** `Livre` que l'on a stocké dans une **variable** `germinal`. Cette **variable** est une **instance** de notre **classe** `Livre`."
   ]
  }
 ],
 "metadata": {
  "kernelspec": {
   "display_name": "Python 3",
   "language": "python",
   "name": "python3"
  },
  "language_info": {
   "codemirror_mode": {
    "name": "ipython",
    "version": 3
   },
   "file_extension": ".py",
   "mimetype": "text/x-python",
   "name": "python",
   "nbconvert_exporter": "python",
   "pygments_lexer": "ipython3",
   "version": "3.7.6"
  }
 },
 "nbformat": 4,
 "nbformat_minor": 2
}
