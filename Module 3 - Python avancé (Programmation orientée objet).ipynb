{
 "cells": [
  {
   "cell_type": "markdown",
   "metadata": {},
   "source": [
    "# Table des matières :\n",
    "\n",
    "* <a href=\"#Introduction\">1. Introduction</a>\n",
    "* <a href=\"#Introduction à la programmation orientée objet\">2. Introduction à la programmation orientée objet</a>\n",
    "    * <a href=\"#Préalable : Qu'est-ce qu'une fonction ?\">2.1. Préalable : Qu'est-ce qu'une fonction ?</a>\n",
    "    * <a href=\"#Un peu de vocabulaire : Classes, propriétés, méthodes\">2.2. Un peu de vocabulaire : Classes, propriétés, méthodes</a>\n",
    "    * <a href=\"#Créer une classe\">2.3. Créer une classe</a>\n",
    "    * <a href=\"#Rembobinage : Quelques méthodes utiles des structures de données\">2.4. Rembobinage : Quelques méthodes utiles des structures de données</a>\n",
    "* <a href=\"#Travailler avec des fichiers et utiliser des librairies Python\">3. Travailler avec des fichiers et utiliser des librairies Python</a>\n",
    "    * <a href=\"#Exemple d'un fichier CSV\">3.1. Exemple d'un fichier CSV</a>\n",
    "        * <a href=\"#Ouvrir un fichier dans Python\">3.1.1 Ouvrir un fichier dans Python</a>\n",
    "        * <a href=\"#Ecrire dans un fichier\">3.1.2. Ecrire dans un fichier</a>\n",
    "    * <a href=\"#Listes : Pratiques avancées\">3.2. Listes : Pratiques avancées</a>\n",
    "    * <a href=\"#Manipuler des données tabulaires avec la bibliothèque pandas\">3.3. Manipuler des données tabulaires avec la bibliothèque <code>pandas</code></a>\n",
    "        * <a href=\"#Travailler avec des bibliothèques dans Python\">3.3.1. Travailler avec des bibliothèques dans Python</a>\n",
    "        * <a href=\"#Les fonctionnalités de base de pandas\">3.3.2. Les fonctionnalités de base de <code>pandas</code></a>\n",
    "* <a href=\"#Gérer les erreurs\">4. Gérer les erreurs</a>\n",
    "* <a href=\"#Les expressions régulières\">5. Les expressions régulières</a>\n",
    "    * <a href=\"#Eléments généraux\">5.1. Eléments généraux</a>\n",
    "    * <a href=\"#La fonction .search()\">5.2. La fonction <code>.search()</code></a>\n",
    "    * <a href=\"#Utiliser des classes de caractères\">5. 3. Utiliser des classes de caractères</a>\n",
    "    * <a href=\"#Contrôler le nombre d'occurrences avec les quantificateurs\">5. 4. Contrôler le nombre d'occurrences avec les quantificateurs</a>\n",
    "    * <a href=\"#Ancres et négation\">5. 5. Ancres et négation</a>\n",
    "    * <a href=\"#Les groupes\">5. 6. Les groupes</a>\n",
    "    * <a href=\"#Récupérer les chaînes capturées\">5. 7. Récupérer les chaînes capturées</a>\n",
    "    * <a href=\"#Un peu de pratique\">5. 8. Un peu de pratique</a>"
   ]
  },
  {
   "cell_type": "markdown",
   "metadata": {},
   "source": [
    "## <div id=\"Introduction\">1. Introduction</div>"
   ]
  },
  {
   "cell_type": "markdown",
   "metadata": {},
   "source": [
    "Dans ce troisième module, nous tenterons d'aller un peu plus loin dans notre connaissance du langage Python, notamment en nous initiant à la **programmation orientée objet**. L'idée n'est pas tant de devenir expert programmeur que de prendre un peu d'assurance avec la logique qui régit le fonctionnement de nombreuses **bibliothèques** que nous utiliserons dans nos projets de **web scraping**.\n",
    "\n",
    "Nous apprendrons également à travailler avec des **fichiers**, essentiellement des fichiers structurés (**documents CSV**, **fichiers JSON** ou **XML**) : nous apprendrons à les ouvrir avec Python, en extraire des données ou, au contraire, y écrire des données.\n",
    "\n",
    "Une fois ces éléments complémentaires vus (et après quelques exercices pour appliquer toutes les connaissances acquises), nous pourrons passer à la pratique avec notre premier projet de **web scraping**."
   ]
  },
  {
   "cell_type": "markdown",
   "metadata": {},
   "source": [
    "## <div id=\"Introduction à la programmation orientée objet\">2. Introduction à la programmation orientée objet</div>"
   ]
  },
  {
   "cell_type": "markdown",
   "metadata": {},
   "source": [
    "Dans le monde de la programmation informatique, il existe plusieurs écoles, plusieurs philosophies et façons de faire. Python est un langage relativement souple qui permet d'écrire des programmes en appliquant les principes de divers **paradigmes**. On parle en effet de **paradigme** en informatique pour désigner ce qui peut se rapporter à une philosophie particulière, des façons de faire et d'appréhender les données que l'on manipule.\n",
    "\n",
    "Dans notre cas, nous allons nous intéresser plus particulièrement au **paradigme orienté objet** qui est particulièrement représenté dans l'univers Python.\n",
    "\n",
    "L'idée est assez simple avec la **programmation orientée objet** : tout est objet !\n",
    "\n",
    "En Python, un **objet** est une **structure de données** (un peu comme les variables) qui peut néanmoins contenir d'autres **variables**, des **fonctions** ou des **classes** (nous y venons dans un instant).\n",
    "\n",
    "L'idée derrière la **programmation orientée objet** est d'établir une distinction entre ce qu'on pourrait voir comme un \"moule\" d'un côté et de l'autre, une statue formée à partir de ce moule. Le moule ne donne qu'une forme à notre statue, libre à nous de choisir de la peindre en rouge ou en bleu, de lui adjoindre ensuite un autre morceau pour construire une statue plus grande, de lui retirer des morceaux ou de la détruire complètement.\n",
    "\n",
    "Si vous êtes familier de la philosophie de Platon, on pourrait voir la **programmation orientée objet** comme une forme de parallèle dans le monde informatique : il existe d'un côté des idées et de l'autre, des objets du monde, qui se rapportent à une idée mais qui n'en sont qu'une expression particulière qui n'en capture pas vraiment l'essence.\n",
    "\n",
    "Tout ceci paraît peut-être bien compliqué et on pourrait se demander en quoi c'est vraiment utile ? Pourquoi ne pas se contenter des boucles et des quelques fonctions déjà vues, cela permet déjà de faire beaucoup de choses.\n",
    "\n",
    "Certes, mais il y a un problème de taille : le code que l'on a écrit jusqu'à présent n'est pas **réutilisable**, à moins de s'amuser à faire des copier-coller à tout bout de champ. La **programmation orienté objet** nous aide en définissant une façon particulière de structurer notre code qui le rend **réutilisable** (ce n'est pas sa seule utilité, mais cela en fait partie).\n",
    "\n",
    "Avant de nous confronter au coeur du sujet en traitant des **classes**, voyons dans un premier temps les **fonctions** qui constituent déjà un premier outil précieux pour rendre notre code **réutilisable**. Selon la taille et la complexité de nos scripts, manipuler des **fonctions** peut se révéler largement suffisant sans que l'on ait besoin de faire appel à des **classes**. Néanmoins, comme nous l'avons mentionné plus tôt, de nombreuses **bibliothèques** Python utilisent des classes et comprendre un peu plus en détail leur fonctionnement permet de mieux appréhender leur fonctionnement et se les approprier ainsi plus facilement."
   ]
  },
  {
   "cell_type": "markdown",
   "metadata": {},
   "source": [
    "### <div id=\"Préalable : Qu'est-ce qu'une fonction ?\">2. 1. Préalable : Qu'est-ce qu'une fonction ?</div>"
   ]
  },
  {
   "cell_type": "markdown",
   "metadata": {},
   "source": [
    "Nous avons précédemment croisé plusieurs **fonctions** bien utiles pour obtenir certaines informations sur les données que nous manipulions. Il n'est peut-être pas inutile d'en faire un bref récapitulatif pour essayer de les mémoriser, au fur et à mesure de notre pratique, on se rendra compte qu'elles sont bien utiles et qu'on est amené à les utiliser quasiment pour chaque script que l'on écrira !\n",
    "\n",
    "|Fonction|Description|\n",
    "|---|---|\n",
    "|`print()`|Affiche à l'écran le contenu d'un objet.|\n",
    "|`len()`|Renvoie la longueur de la donnée contenue dans l'objet.|\n",
    "|`type()`|Renvoie le type de données d'un objet.|\n",
    "|`ìnt()`|Convertit une données en *integer* (nombre entier).|\n",
    "|`str()`|Convertit une données en chaîne de caractères.|\n",
    "\n",
    "\n",
    "En réalité, les **fonctions** sont aussi des **objets** que l'on peut créer comme on crée des **variables**.\n",
    "\n",
    "Tentons de définir ces nouvelles objets : une **fonction** est une série d'opérations encapsulée qui prend un certain nombre de données en entrée et renvoie un certain nombre de données en sortie. Et... C'est tout...\n",
    "\n",
    "<br>\n",
    "\n",
    "<center><img src=\"img/function.png\"/></center>\n",
    "\n",
    "Voyons maintenant concrètement dans le code comme tout cela fonctionne, précisément. Reprenons pour cela notre bibliothèque avec laquelle nous avions travaillé dans le module précédent."
   ]
  },
  {
   "cell_type": "code",
   "execution_count": 1,
   "metadata": {},
   "outputs": [],
   "source": [
    "bibliotheque = [{\n",
    "    \"auteur\": \"Georges Sand\",\n",
    "    \"titre\": \"Claudie\",\n",
    "    \"genre\": \"théâtre\",\n",
    "    \"annee\": \"1851\"\n",
    "},\n",
    "{\n",
    "    \"auteur\": \"Georges Sand\",\n",
    "    \"titre\": \"Les dames vertes\",\n",
    "    \"genre\": \"roman\",\n",
    "    \"annee\": \"1857\"\n",
    "},\n",
    "{\n",
    "    \"auteur\": \"Georges Sand\",\n",
    "    \"titre\": \"La petite fadette\",\n",
    "    \"genre\": \"roman\",\n",
    "    \"annee\": \"1849\"\n",
    "},\n",
    "{\n",
    "    \"auteur\": \"Victor Hugo\",\n",
    "    \"titre\": \"Le dernier jour d'un condamné\",\n",
    "    \"genre\": \"roman\",\n",
    "    \"annee\": \"1829\"\n",
    "},\n",
    "{\n",
    "    \"auteur\": \"Victor Hugo\",\n",
    "    \"titre\": \"Les misérables\",\n",
    "    \"genre\": \"roman\",\n",
    "    \"annee\": \"1862\"\n",
    "},\n",
    "{\n",
    "    \"auteur\": \"Georges Sand\",\n",
    "    \"titre\": \"Les maîtres sonneurs\",\n",
    "    \"genre\": \"roman\",\n",
    "    \"annee\": \"1853\"\n",
    "},\n",
    "{\n",
    "    \"auteur\": \"Victor Hugo\",\n",
    "    \"titre\": \"Hernani\",\n",
    "    \"genre\": \"théâtre\",\n",
    "    \"annee\": \"1830\"\n",
    "},\n",
    "{\n",
    "    \"auteur\": \"Georges Sand\",\n",
    "    \"titre\": \"Le mariage de Victorine\",\n",
    "    \"genre\": \"théâtre\",\n",
    "    \"annee\": \"1851\"\n",
    "},\n",
    "{\n",
    "    \"auteur\": \"Georges Sand\",\n",
    "    \"titre\": \"Comme il vous plaira\",\n",
    "    \"genre\": \"théâtre\",\n",
    "    \"annee\": \"1856\"\n",
    "},\n",
    "{\n",
    "    \"auteur\": \"Victor Hugo\",\n",
    "    \"titre\": \"Cromwell\",\n",
    "    \"genre\": \"théâtre\",\n",
    "    \"annee\": \"1827\"\n",
    "}\n",
    "]"
   ]
  },
  {
   "cell_type": "markdown",
   "metadata": {},
   "source": [
    "Nous allons définir une fonction qui renvoie la valeur `True` si l'auteure du livre de notre bibliothèque est Georges Sand."
   ]
  },
  {
   "cell_type": "code",
   "execution_count": 2,
   "metadata": {},
   "outputs": [],
   "source": [
    "def georges_sand(livre):\n",
    "    pas_georges_sand = \"Georges Sand n'a pas écrit ce livre !\"\n",
    "    if livre[\"auteur\"] == \"Georges Sand\":\n",
    "        print(\"Georges Sand a écrit ce livre !\")\n",
    "        return True\n",
    "    else:\n",
    "        print(pas_georges_sand)\n",
    "        return False"
   ]
  },
  {
   "cell_type": "markdown",
   "metadata": {},
   "source": [
    "Premier constat : notre code ne renvoie pas d'erreur, mais il ne se passe rien. C'est tout à fait normal.\n",
    "\n",
    "Une fonction s'utilise en deux étapes :\n",
    "* D'abord, on **définit** la fonction (d'où le mot-clé `def`)\n",
    "* Ensuite, on **appelle** notre fonction (on utilise toujours des parenthèses à la suite d'une fonction lorsqu'on l'appelle, c'est d'ailleurs ce qui permet de distinguer les fonctions des autres objets)\n",
    "\n",
    "Essayons d'appeler notre fonction avant d'expliciter davantage son fonctionnement."
   ]
  },
  {
   "cell_type": "code",
   "execution_count": 3,
   "metadata": {},
   "outputs": [
    {
     "name": "stdout",
     "output_type": "stream",
     "text": [
      "Georges Sand a écrit ce livre !\n",
      "Claudie True\n",
      "Georges Sand a écrit ce livre !\n",
      "Les dames vertes True\n",
      "Georges Sand a écrit ce livre !\n",
      "La petite fadette True\n",
      "Georges Sand n'a pas écrit ce livre !\n",
      "Le dernier jour d'un condamné False\n",
      "Georges Sand n'a pas écrit ce livre !\n",
      "Les misérables False\n",
      "Georges Sand a écrit ce livre !\n",
      "Les maîtres sonneurs True\n",
      "Georges Sand n'a pas écrit ce livre !\n",
      "Hernani False\n",
      "Georges Sand a écrit ce livre !\n",
      "Le mariage de Victorine True\n",
      "Georges Sand a écrit ce livre !\n",
      "Comme il vous plaira True\n",
      "Georges Sand n'a pas écrit ce livre !\n",
      "Cromwell False\n"
     ]
    }
   ],
   "source": [
    "for livre in bibliotheque:\n",
    "    print(livre[\"titre\"], georges_sand(livre))"
   ]
  },
  {
   "cell_type": "markdown",
   "metadata": {},
   "source": [
    "Explicitons un peu les différents morceaux de ce code. En Python, une **fonction** se définit à l'aide du mot-clé `def` auquel on fait suivre le nom de notre fonction. Ensuite, on indique entre parenthèses, les **arguments** (ou **paramètres**) de la fonction. Les **arguments** sont les valeurs que la **fonction** prend en entrée.\n",
    "\n",
    "Au sein de notre **fonction**, on fait référence aux **valeurs d'entrée** à l'aide de la même variable que l'on a défini. Comme vous pouvez le constater, elle n'a pas besoin d'avoir un nom particulier pour désigner les objets qu'elle prendra en entrée (un peu comme lorsqu'on définit une boucle `for`). On aurait aussi bien pu passer un paramètre nommé `x` que cela fonctionnerait tout aussi bien (il aurait fallu alors remplacer la ligne suivante : `if x[\"auteur\"] == \"Georges Sand\":`.\n",
    "\n",
    "Le mot-clé `return` permet de renvoyer une nouvelle valeur en sortie. Si l'interpréteur Python arrive à une ligne `return` au sein d'une **fontion**, alors il sort directement du **bloc de la fonction**. Car, vous aurez remarqué que, pour une **fonction** comme pour une boucle ou un bloc **`ìf`/`else`**, on utilise également l'**indentation** pour indiquer à l'interpréteur Python que ces segments de code sont inclus dans un **bloc** particulier.\n",
    "\n",
    "Avec les **fonctions**, ces blocs se chargent d'une autre propriété : toutes les variables qui sont définies à l'intérieur du **bloc d'une fonction** n'existe qu'en son sein. Voyons cela."
   ]
  },
  {
   "cell_type": "code",
   "execution_count": 4,
   "metadata": {},
   "outputs": [
    {
     "ename": "NameError",
     "evalue": "name 'pas_georges_sand' is not defined",
     "output_type": "error",
     "traceback": [
      "\u001b[1;31m---------------------------------------------------------------------------\u001b[0m",
      "\u001b[1;31mNameError\u001b[0m                                 Traceback (most recent call last)",
      "\u001b[1;32m<ipython-input-4-d66984f3b575>\u001b[0m in \u001b[0;36m<module>\u001b[1;34m\u001b[0m\n\u001b[1;32m----> 1\u001b[1;33m \u001b[0mprint\u001b[0m\u001b[1;33m(\u001b[0m\u001b[0mpas_georges_sand\u001b[0m\u001b[1;33m)\u001b[0m\u001b[1;33m\u001b[0m\u001b[1;33m\u001b[0m\u001b[0m\n\u001b[0m",
      "\u001b[1;31mNameError\u001b[0m: name 'pas_georges_sand' is not defined"
     ]
    }
   ],
   "source": [
    "print(pas_georges_sand)"
   ]
  },
  {
   "cell_type": "markdown",
   "metadata": {},
   "source": [
    "La variable `pas_georges_sand` n'existe pas, nous dit Python. Pourtant, nous l'avons bien définie dans notre **fonction** `georges_sand()`. En fait, cette variable existe bel et bien, mais uniquement dans la **fonction** et n'est accessible que dans le **bloc** correspondant. On parle de la portée d'une **variable** pour désigner cette particularité du comportement des **variables** dans les fonctions.\n",
    "\n",
    "Les autres **variables** que nous avions défini jusqu'alors étaient des **variables globales**, c'est-à-dire qu'elles sont accessibles partout dans notre code, ceci, tant dans le **bloc d'une fonction** qu'en dehors.\n",
    "\n",
    "Comme toute autre valeur dans Python, on peut capturer la **sortie d'une fonction** à l'aide d'une variable. Voyons cela."
   ]
  },
  {
   "cell_type": "code",
   "execution_count": 15,
   "metadata": {},
   "outputs": [
    {
     "name": "stdout",
     "output_type": "stream",
     "text": [
      "Georges Sand a écrit ce livre !\n",
      "True\n",
      "Georges Sand a écrit ce livre !\n",
      "True\n",
      "Georges Sand a écrit ce livre !\n",
      "True\n",
      "Georges Sand n'a pas écrit ce livre !\n",
      "False\n",
      "Georges Sand n'a pas écrit ce livre !\n",
      "False\n",
      "Georges Sand a écrit ce livre !\n",
      "True\n",
      "Georges Sand n'a pas écrit ce livre !\n",
      "False\n",
      "Georges Sand a écrit ce livre !\n",
      "True\n",
      "Georges Sand a écrit ce livre !\n",
      "True\n",
      "Georges Sand n'a pas écrit ce livre !\n",
      "False\n"
     ]
    }
   ],
   "source": [
    "for livre in bibliotheque:\n",
    "    auteur = georges_sand(livre)\n",
    "    print(auteur)"
   ]
  },
  {
   "cell_type": "markdown",
   "metadata": {},
   "source": [
    "Lorsque l'on a parlé précédemment des **types de données**, nous n'avons pas mentionné un type assez spécifique qui découle précisément du retour (ou plus exactement de l'absence de retour) de certaines fonctions. C'est le cas de la fonction `print()`. Si elle permet d'afficher la valeur d'une **variable**, par exemple, elle ne renvoie pas spécifiquement de donnée."
   ]
  },
  {
   "cell_type": "code",
   "execution_count": 17,
   "metadata": {},
   "outputs": [
    {
     "name": "stdout",
     "output_type": "stream",
     "text": [
      "Un cheval blanc.\n",
      "<class 'NoneType'>\n"
     ]
    }
   ],
   "source": [
    "test = print(\"Un cheval blanc.\")\n",
    "print(type(test))"
   ]
  },
  {
   "cell_type": "markdown",
   "metadata": {},
   "source": [
    "Si notre chaîne de caractère a bel et bien été imprimée à l'écran, notre **variable** `test` est de type `NoneType`. Voyons ce qu'elle contient"
   ]
  },
  {
   "cell_type": "code",
   "execution_count": 18,
   "metadata": {},
   "outputs": [
    {
     "name": "stdout",
     "output_type": "stream",
     "text": [
      "None\n"
     ]
    }
   ],
   "source": [
    "print(test)"
   ]
  },
  {
   "cell_type": "markdown",
   "metadata": {},
   "source": [
    "`None` est la réponse que nous fait Python pour nous dire qu'une **variable** ne contient rien. `NoneType` est un type particulier qui s'applique uniquement à la donnée `None`. Il s'agit d'une valeur différente de `False` qui pourra être utile dans certains cas, pour distinguer notamment le fait qu'il n'y a pas de retour de fonction, chose qui peut-être différente d'un retour négatif !"
   ]
  },
  {
   "cell_type": "markdown",
   "metadata": {},
   "source": [
    "### <div id=\"Un peu de vocabulaire : Classes, propriétés, méthodes\">2. 2. Un peu de vocabulaire : Classes, propriétés, méthodes</div>"
   ]
  },
  {
   "cell_type": "markdown",
   "metadata": {},
   "source": [
    "Maintenant que nous savons ce qu'est une **fonction**, essayons de creuser un peu plus loin en posant tout d'abord quelques termes propres au **paradigme orienté objet**.\n",
    "\n",
    "L'idée dans la **programmation orientée objet** est de créer des modèles, dans le même ordre d'idée que les fonctions, que nous pourrons appeler dès que nous en aurons besoin, pour éviter de nous répéter dans le code. Mais au-delà de cet aspect pratique, cela nous permettra également d'organiser notre code de façon structurée en définissant une représentation particulière de nos objets. Ceci nous permettra de **modéliser** nos objets en leur conférant des caractéristiques particulières.\n",
    "\n",
    "Pour cela, nous utiliserons des **classes**. Une classe est un schéma global qui représente un objet particulier. Cet objet peut être doté de deux types d'éléments distincts :\n",
    "* Des **propriétés**\n",
    "* Des **méthodes**\n",
    "\n",
    "Reprenons l'exemple de notre bibliothèque pour illustrer le propos.\n",
    "\n",
    "Les **propriétés** sont des caractéristiques que l'on pourrait qualifier de statique d'une classe. Dans le cas d'un livre particulier de notre bibliothèque, une **propriété** d'un livre pourrait être son titre ou son auteur. Il s'agit d'une caractéristique propre à cet objet qui le distingue des autres.\n",
    "\n",
    "Les **méthodes** sont des actions que l'on peut faire avec cet objet. Dans le cas d'un livre, cela pourrait être, par exemple, \"modifier le titre du livre\", \"le retirer de la bibliothèque\", etc.\n",
    "\n",
    "Dernier point de vocabulaire. Les **classes**, comme les **fonctions**, doivent être définies avant d'être utilisées. Contrairement aux **fonctions**, on ne peut pas vraiement \"appeler\" une **classe** : on parle plutôt d'**instancier** la classe, c'est-à-dire, créer une **instance** particulière, un exemple particulier parmi une myriade d'autres que l'on pourrait imaginer. Dans le cas de nos livres, une \"instance de livre\" serait, par exemple, \"Le dernier jour d'un condamné\" de Victor Hugo. Il dispose d'un titre particulier, d'un auteur particulier mais, comme les autres livres, il a les mêmes particularités : il a un titre, il a un auteur, une date de parution, etc.\n",
    "\n",
    "Par convention et pour rendre le code plus lisible, on utilise un **constructeur** lorsqu'on définit une **classe** : c'est dans ce bloc que l'on détaille chaque **propriété** de notre classe. Pour cela, on utilise la **fonction** `__init__()`. C'est elle qui va permettre d'attributer à chaque **propriété** de la classe sa valeur correspondante au moment où on **instanciera** notre classe (c'est-à-dire lorsqu'on créra un livre particulier)."
   ]
  },
  {
   "cell_type": "markdown",
   "metadata": {},
   "source": [
    "### <div id=\"Créer une classe\">2. 3. Créer une classe</div>"
   ]
  },
  {
   "cell_type": "code",
   "execution_count": 20,
   "metadata": {},
   "outputs": [],
   "source": [
    "class Livre:\n",
    "    \n",
    "    def __init__(self, titre, auteur, genre, annee):\n",
    "        self.titre = titre\n",
    "        self.auteur = auteur\n",
    "        self.genre = genre\n",
    "        self.annee = annee"
   ]
  },
  {
   "cell_type": "code",
   "execution_count": 2,
   "metadata": {},
   "outputs": [
    {
     "name": "stdout",
     "output_type": "stream",
     "text": [
      "Germinal\n"
     ]
    }
   ],
   "source": [
    "germinal = Livre(\"Germinal\", \"Emile Zola\", \"roman\", 1885)\n",
    "print(germinal.titre)"
   ]
  },
  {
   "cell_type": "markdown",
   "metadata": {},
   "source": [
    "On a créé un nouveau livre en instanciant notre **classe** `Livre` que l'on a stocké dans une **variable** `germinal`. Cette **variable** est une **instance** de notre **classe** `Livre`.\n",
    "\n",
    "Nous avons donc là les **propriétés** de notre classe `Livre` auxquelles on peut accéder en appelant directement `.titre` ou `.auteur` sur notre **instance de classe** (c'est-à-dire, un cas particulier que l'on aura créé à partir de notre modèle `Livre`).\n",
    "\n",
    "A présent, voyons comment ajouter une **méthode** à notre classe. Nous allons créer une **méthode** qui permet d'ajouter un livre que nous venons de créer à notre **variable** `bibliotheque`. Pour cela, il sera utile de se rappeler de la règle de **portée des variables** : une **variable globale** (c'est-à-dire, une **variable** définie en dehors du **bloc d'une fonction** est accessible partout dans notre code, même à l'intérieur du **bloc** de n'importe qu'elle **fonction**, en revanche, une **variable locale**, définie dans le **bloc d'une fonction**, ne sera accessible que dans ce même **bloc**).\n",
    "\n",
    "Profitons de ce rappel pour détailler un peu le fonctionnement des **objets** défins dans une **classe**. Chaque **méthode** que l'on y définira prendra comme premier **paramètre** la **variable** `self` : celle-ci se réfère directement à l'**instance de classe** elle-même lorsqu'elle est créée. Ainsi, lorsqu'on définit les **propriétés** de notre **classe** `Livre`, celles-ci sont accessibles partout dans notre **classe** sans que l'on soit obligé de les passer en **paramètre** en entrée d'une nouvelle **méthode** que l'on souhaiterait définir."
   ]
  },
  {
   "cell_type": "code",
   "execution_count": 1,
   "metadata": {},
   "outputs": [],
   "source": [
    "class Livre:\n",
    "    \n",
    "    def __init__(self, titre, auteur, genre, annee):\n",
    "        self.titre = titre\n",
    "        self.auteur = auteur\n",
    "        self.genre = genre\n",
    "        self.annee = annee\n",
    "        \n",
    "    def ajouter_livre(self):\n",
    "        nouveau_livre = {\"auteur\": self.auteur,\n",
    "                         \"titre\": self.titre,\n",
    "                         \"genre\": self.genre,\n",
    "                         \"annee\": self.annee}\n",
    "        bibliotheque.append(nouveau_livre)"
   ]
  },
  {
   "cell_type": "markdown",
   "metadata": {},
   "source": [
    "Grâce à notre nouvelle **méthode** `.ajouter_livre()`, nous pouvons ajouter un livre que l'on aura créé dans un premier temps comme **instance de classe** `Livre` à notre **variable** `bibliotheque`. Cette **variable** est accessible dans le bloc de notre **classe** `Livre` car il s'agit d'une **variable globale**.\n",
    "\n",
    "Maintenant que nous comprenons ce qu'est une **méthode de classe**, nous voyons qu'il en existe en réalité de nombreuses déjà existantes que l'on peut appeler sur divers types d'**objets** Python. Si l'on se remémore les **structures de données** que nous avons traité dans le module précédent, chaque type de structure particulière dispose, par exemple, de **méthodes** propres à sa classe (en Python, une **structure de données** ou un **type de données** comme les **chaînes de caractères** sont définies comme des **classes** qui disposent donc de **méthodes** particulières).\n",
    "\n",
    "Une méthode que nous utiliserons souvent est la **méthode** `.append()` pour les **listes**. Elle permet d'ajouter un nouvel élément à la **liste** en le positionnant en dernier. On pourra accéder à ce dernier élément ajouter en utilisant l'**index** `[-1]` de notre liste."
   ]
  },
  {
   "cell_type": "code",
   "execution_count": 8,
   "metadata": {},
   "outputs": [
    {
     "name": "stdout",
     "output_type": "stream",
     "text": [
      "{'auteur': 'Emile Zola', 'titre': 'Germinal', 'genre': 'roman', 'annee': 1885}\n"
     ]
    }
   ],
   "source": [
    "germinal = Livre(\"Germinal\", \"Emile Zola\", \"roman\", 1885)\n",
    "germinal.ajouter_livre()\n",
    "# Affichons le dernier livre de la liste\n",
    "print(bibliotheque[-1])"
   ]
  },
  {
   "cell_type": "markdown",
   "metadata": {},
   "source": [
    "<div class=\"alert alert-success\" role=\"alert\"><strong>Premier exercice :</strong> Créons à présent notre première classe avec laquelle nous modéliserons une structure de donnée similaire à celle que l'on peut retrouver sur les réseaux sociaux. Pour cela, on créera une classe qui contiendra une série de propriétés représentant :\n",
    "<ul>\n",
    "    <li>L'auteur d'un post</li>\n",
    "    <li>Le contenu d'un post</li>\n",
    "    <li>Sa date de publication</li>\n",
    "    <li>Ses hashtags</li>\n",
    "    <li>Les mentions à d'autres utilisateurs</li>\n",
    "</ul>\n",
    "Ensuite, on ajoutera une méthode qui permettra d'ajouter un post au fil général du réseau social. On pourra stocker tous les posts dans une variable <code>fil</code> qui représentera le fil général.\n",
    "</div>"
   ]
  },
  {
   "cell_type": "markdown",
   "metadata": {},
   "source": [
    "<div class=\"alert alert-danger\" role=\"alert\"><strong>Créer une classe :</strong> Utiliser une classe pour modéliser une structure de données.\n",
    "\n",
    "<pre>\n",
    "    <code>\n",
    "    # Créons d'abord notre variable globale qui contiendra tous les posts du fil d'actualité\n",
    "    fil = []\n",
    "\n",
    "    # Ensuite, créons une classe Post\n",
    "    class Post:\n",
    "\n",
    "        # On crée notre constructeur dans lequel on déclare toutes nos propriétés de classe\n",
    "        def __init__(self, auteur, contenu, date, hashtags, mentions):\n",
    "            self.auteur = auteur\n",
    "            self.contenu = contenu\n",
    "            self.date = date\n",
    "            self.mentions = mentions\n",
    "\n",
    "        # On crée enfin notre méthode pour ajouter un post au fil d'actualité\n",
    "        def ajouter_post(self):\n",
    "            nouveau_post = {\"auteur\": self.auteur,\n",
    "                            \"contenu\": self.contenu,\n",
    "                            \"date\": self.date,\n",
    "                            \"mentions\": self.mentions}\n",
    "            fil.append(nouveau_post)\n",
    "    </code>\n",
    "</pre>\n",
    "</div>"
   ]
  },
  {
   "cell_type": "markdown",
   "metadata": {},
   "source": [
    "### <div id=\"Rembobinage : Quelques méthodes utiles des structures de données\">2. 4. Rembobinage : Quelques méthodes utiles des structures de données</div>"
   ]
  },
  {
   "cell_type": "markdown",
   "metadata": {},
   "source": [
    "Profitons de notre compréhension nouvelle du concept de **classe** pour faire quelques rappels et un retour sur les structures de données. Celles-ci disposent chacune d'une série de **méthodes** spécifiques qui permettent d'effectuer certains types d'opération (ajouter un élément, en supprimer, effectuer des tris, etc.)."
   ]
  },
  {
   "cell_type": "markdown",
   "metadata": {},
   "source": [
    "#### <div id=\"Les méthodes de listes\">2. 4. 1. Les méthodes de listes</div>"
   ]
  },
  {
   "cell_type": "markdown",
   "metadata": {},
   "source": [
    "Commençons par voir les **méthodes** propres aux **listes**, au premier rang desquelles, celle qui permet d'ajouter un nouvel élément. Dans l'exemple précédent, nous avons vu la méthode `.append()` qui est assurément la plus utilisée. Celle-ci permet d'ajouter un élément à l'**index** `[-1]` d'une **liste**. En d'autres termes, elle permet d'ajouter un élément à la fin d'une **liste**.\n",
    "\n",
    "Il n'est pas très utile d'apprendre toutes ces **méthodes** par coeur, notamment car nous serons rarement amené à toutes les utiliser. Ci-dessous, une liste résumant toutes les méthodes de liste existantes dans Python (le paramètre `elem` désigne l'élément qui sera ajouté/supprimé/modifié dans la liste, si nécessaire, est précisé s'il doit être d'un type particulier). Le comportement par défaut indique l'action de la **méthode** si elle est appelée sans passer d'**arguments**.\n",
    "\n",
    "Arrêtons-nous un instant sur l'information de la colonne \"Inplace\". Celle-ci indique si la méthode renvoie une nouvelle liste ou si elle modifie la liste existante. En effet, nous avons vu que les **méthodes** sont en réalité des **fonctions**, cela signie qu'elles peuvent **renvoyer** une valeur, à l'aide du mot-clé `return` qui met directement fin à l'exécution du code d'une **fonction** et renvoie une valeur particulière que l'on peut capturer à l'aide d'une **variable**. Certaines des **méthodes** renvoient ainsi une valeur particulière, d'autres modifient la liste sur laquelle la **méthode** est appelée (cela signifie que si l'on affiche la liste après appel d'une méthode \"Inplace\", la liste en question devrait être modifiée !).\n",
    "\n",
    "|Méthode|Description|Comportement par défaut|Inplace|\n",
    "|---|---|---|---|\n",
    "|`.append(elem)`|Ajoute le nouvel élément à la fin de la liste.|Aucun|Oui|\n",
    "|`.extend(elem)`|Ajoute l'ensemble des données d'un élément itérable à la suite de la liste existante.|Aucun|Oui|\n",
    "|`.insert(i, elem)`|Ajoute un nouvel élément à la liste à l'index `i`.|Aucun|Oui|\n",
    "|`.remove(elem)`|Retire le premier élément de la liste correspondant à la valeur de `elem`.|Aucun|Oui|\n",
    "|`.pop(i)`|Retire l'élément présent à l'index `i` de la liste et le renvoie.|Retire le dernier élément de la liste et le renvoie.|Oui (Renvoie aussi une valeur)|\n",
    "|`.clear()`|Retire tous les éléments de la liste.|Idem|Oui|\n",
    "|`.index(elem)`|Renvoie l'index correspondant au premier élément ayant la même valeur qu'`elem`.|Aucun|Non|\n",
    "|`.count(elem)`|Renvoie le nombre d'éléments `elem` présents dans la liste.|Aucun|Non|\n",
    "|`.sort(key, reverse)`|Trie la liste en fonction du critère `key`. Si `reverse` vaut `True`, renvoie le même tri, mais inversé.|Renvoie la liste triée dans l'ordre alpha-numérique.|Oui|\n",
    "|`.reverse()`|Inverse l'ordre actuel de la liste.|Idem|Oui|\n",
    "|`.copy()`|Renvoie une copie de la liste.|Idem|Oui|"
   ]
  },
  {
   "cell_type": "markdown",
   "metadata": {},
   "source": [
    "Prenons tout de même d'illustrer le fonctionnement de certaines de ces méthodes, en premier lieu, celui de `.extend(elem)` qui ne fonctionne qu'avec une **variable** `elem` qui correspond à un **objet itérable** (c'est-à-dire que l'on peut parcourir à l'aide d'une boucle `for`). Cela comprend notamment les **listes**, les **tuples** et les **dictionnaires** (et d'autres structures moins fréquemment utilisées)."
   ]
  },
  {
   "cell_type": "code",
   "execution_count": 27,
   "metadata": {},
   "outputs": [
    {
     "name": "stdout",
     "output_type": "stream",
     "text": [
      "[1, 2, 3, 'a', 'b', 'c']\n",
      "[4, 5, 6, 'd', 'e', 'f']\n",
      "[4, 5, 6, 'd', 'e', 'f', 'a', 'b', 'c']\n",
      "[4, 5, 6, 'd', 'e', 'f', 'a', 'b', 'c', 'France', 'Espagne', 'Irlande']\n"
     ]
    }
   ],
   "source": [
    "# Avec l'opérateur d'addition\n",
    "list1 = [1, 2, 3]\n",
    "lista = [\"a\", \"b\", \"c\"]\n",
    "\n",
    "list1a = list1 + lista\n",
    "print(list1a)\n",
    "\n",
    "# Avec la méthode .extend()\n",
    "list2 = [4, 5, 6]\n",
    "listb = [\"d\", \"e\", \"f\"]\n",
    "list2.extend(listb)\n",
    "print(list2)\n",
    "\n",
    "# Avec un dictionnaire (noter que ce sont les clés qui sont ajoutées)\n",
    "dict1 = {\"a\": \"Abricot\", \"b\": \"Banane\", \"c\": \"Citron\"}\n",
    "list2.extend(dict1)\n",
    "print(list2)\n",
    "\n",
    "# Avec un tuple\n",
    "tuple1 = (\"France\", \"Espagne\", \"Irlande\")\n",
    "list2.extend(tuple1)\n",
    "print(list2)"
   ]
  },
  {
   "cell_type": "markdown",
   "metadata": {},
   "source": [
    "Voyons maintenant le cas de la méthode `.remove(elem)`, bien utile, mais souffrant de limites néanmoins. En effet, elle ne permet de supprimer que le premier élément rencontré, ce qui pourra se révéler parfois insuffisant !"
   ]
  },
  {
   "cell_type": "code",
   "execution_count": 29,
   "metadata": {},
   "outputs": [
    {
     "name": "stdout",
     "output_type": "stream",
     "text": [
      "[2, 3, 4, 4]\n",
      "[2, 3, 4]\n"
     ]
    }
   ],
   "source": [
    "list1 = [1, 2, 3, 4, 4]\n",
    "list1.remove(1)\n",
    "print(list1)\n",
    "list1.remove(4)\n",
    "print(list1)"
   ]
  },
  {
   "cell_type": "markdown",
   "metadata": {},
   "source": [
    "Une autre façon de faire est d'utiliser ``.pop(i)`."
   ]
  },
  {
   "cell_type": "code",
   "execution_count": 30,
   "metadata": {},
   "outputs": [
    {
     "data": {
      "text/plain": [
       "1"
      ]
     },
     "execution_count": 30,
     "metadata": {},
     "output_type": "execute_result"
    }
   ],
   "source": [
    "list1 = [1, 2, 3, 4, 4]\n",
    "list1.pop(0)"
   ]
  },
  {
   "cell_type": "markdown",
   "metadata": {},
   "source": [
    "Notons d'emblée que, contrairement à la méthode `.remove(elem)`, `.pop(i)` renvoie la valeur qu'elle vient de retirer de notre liste."
   ]
  },
  {
   "cell_type": "markdown",
   "metadata": {},
   "source": [
    "Voyons à présent comment trier une **liste**. Il existe plusieurs façons de faire, mais en utilisant une **méthode**, c'est avec `.sort()` que l'on procède. Cette **méthode** dispose de deux **arguments** :\n",
    "* `key` : il permet d'indiquer quelle logique de tri doit être suivie\n",
    "* `reverse` : il permet d'indiquer si on souhaite obtenir un tri dans l'ordre inverse"
   ]
  },
  {
   "cell_type": "code",
   "execution_count": 42,
   "metadata": {},
   "outputs": [
    {
     "name": "stdout",
     "output_type": "stream",
     "text": [
      "[1, 2, 3, 4, 5]\n"
     ]
    }
   ],
   "source": [
    "list1 = [4, 5, 1, 2, 3]\n",
    "list1.sort()\n",
    "print(list1)"
   ]
  },
  {
   "cell_type": "markdown",
   "metadata": {},
   "source": [
    "Nous ne couvrirons pas ici toutes les méthodes de tri possibles dans Python. Pour cela, on pourra se référer à la ressource suivante : https://docs.python.org/3/howto/sorting.html#sortinghowto."
   ]
  },
  {
   "cell_type": "markdown",
   "metadata": {},
   "source": [
    "#### <div id=\"Les méthodes de dictionnaires\">2. 4. 2. Les méthodes de dictionnaires</div>"
   ]
  },
  {
   "cell_type": "markdown",
   "metadata": {},
   "source": [
    "Quelques précisions pour commencer sur les **dictionnaires**. A la différence des **listes**, il n'existe pas de **méthode** similaire à `.append(elem)`. Pour ajouter un élément à un **dictionnaire**, on utilise son **index** ainsi que l'**opérateur d'affectation** `=`. Un exemple pour rendre cela plus clair."
   ]
  },
  {
   "cell_type": "code",
   "execution_count": 45,
   "metadata": {},
   "outputs": [
    {
     "name": "stdout",
     "output_type": "stream",
     "text": [
      "{'a': 'Abricot', 'b': 'Banane', 'c': 'Citron', 'd': 'Datte'}\n"
     ]
    }
   ],
   "source": [
    "dict1 = {\"a\": \"Abricot\", \"b\": \"Banane\", \"c\": \"Citron\"}\n",
    "dict1[\"d\"] = \"Datte\"\n",
    "print(dict1)"
   ]
  },
  {
   "cell_type": "markdown",
   "metadata": {},
   "source": [
    "Les **dictionnaires** sont des **structures itérables** un peu particulières. Comme les **listes**, on peut les parcourir à l'aide d'une boucle `for`."
   ]
  },
  {
   "cell_type": "code",
   "execution_count": 50,
   "metadata": {},
   "outputs": [
    {
     "name": "stdout",
     "output_type": "stream",
     "text": [
      "a\n",
      "b\n",
      "c\n",
      "d\n"
     ]
    }
   ],
   "source": [
    "for elem in dict1:\n",
    "    print(elem)"
   ]
  },
  {
   "cell_type": "markdown",
   "metadata": {},
   "source": [
    "A la différence des **listes** néanmoins, une boucle `for` ne parcourt que les **clés** d'un **dictionnaire**. Voyons une solution pour parcourir les **clés** ainsi que les **valeurs**. Celle-ci consiste à utiliser la **méthode** `.items()` qui renvoie sous forme de **tuples**, le couple **clé-valeur** de chaque entrée du **dictionnaire**."
   ]
  },
  {
   "cell_type": "code",
   "execution_count": 53,
   "metadata": {},
   "outputs": [
    {
     "name": "stdout",
     "output_type": "stream",
     "text": [
      "a Abricot\n",
      "b Banane\n",
      "c Citron\n",
      "d Datte\n"
     ]
    }
   ],
   "source": [
    "for key, elem in dict1.items():\n",
    "    print(key, elem)"
   ]
  },
  {
   "cell_type": "code",
   "execution_count": 55,
   "metadata": {},
   "outputs": [
    {
     "name": "stdout",
     "output_type": "stream",
     "text": [
      "('a', 'Abricot')\n",
      "('b', 'Banane')\n",
      "('c', 'Citron')\n",
      "('d', 'Datte')\n"
     ]
    }
   ],
   "source": [
    "for key_value in dict1.items():\n",
    "    print(key_value)"
   ]
  },
  {
   "cell_type": "markdown",
   "metadata": {},
   "source": [
    "Ci-dessous, une liste des **méthodes** de **dictionnaire** les plus couramment utilisées :\n",
    "\n",
    "|Méthode|Description|\n",
    "|---|---|\n",
    "|`.get(key)`|Renvoie la valeur correspondante à la clé `key` (équivalent à `dict[key]`).|\n",
    "|`.clear()`|Retire tous les éléments du dictionnaire.|\n",
    "|`.copy()`|Renvoie une copie du dictionnaire.|\n",
    "|`.items()`|Renvoie un tuple contenant en premier index la clé et en second la valeur associée.|\n",
    "|`.keys()`|Renvoie une liste des clés du dictionnaire.|\n",
    "|`.pop(key)`|Supprime le couple clé-valeur correspondant à la clé `key` et renvoie sa valeur.|\n",
    "|`.popitem(key)`|Supprime le couple clé-valeur correspondant à la clé `key` et renvoie le tuple clé-valeur.|\n",
    "|`.values()`|Renvoie une liste des valeurs sans les clés associées.|"
   ]
  },
  {
   "cell_type": "markdown",
   "metadata": {},
   "source": [
    "## <div id=\"Travailler avec des fichiers et utiliser des librairies Python\">3. Travailler avec des fichiers et utiliser des librairies Python</div>"
   ]
  },
  {
   "cell_type": "markdown",
   "metadata": {},
   "source": [
    "### <div id=\"Exemple d'un fichier CSV\">3. 1. Exemple d'un fichier CSV</div>"
   ]
  },
  {
   "cell_type": "markdown",
   "metadata": {},
   "source": [
    "#### <div id=\"Ouvrir un fichier dans Python\">3. 1. 1. Ouvrir un fichier dans Python</div>"
   ]
  },
  {
   "cell_type": "markdown",
   "metadata": {},
   "source": [
    "Nous avons vu jusqu'à présent beaucoup de théorie en restant concentré sur la syntaxe du langage Python. Nous entrons maintenant dans une partie plus pratique où nous allons enfin voir plus concrètement comment manipuler des fichiers avec Python.\n",
    "\n",
    "Il est possible d'ouvrir et de manipuler de nombreux types de fichiers avec Python (image, text, son, etc.). Dans notre cas, nous nous intéresserons essentiellement aux fichiers texte et, en particulier, aux fichiers de **données structurées**.\n",
    "\n",
    "Commençons sans plus tarder à travailler un fichier **CSV**. Pour rappel, l'acronyme **CSV** désigne *\"comma separated values\"*, c'est-à-dire, des \"valeurs séparées par des virgules\". Nous pouvons ouvrir de tels fichiers avec Python et nous appuyer sur la façon particulière dont ils sont construits pour récupérer nos données."
   ]
  },
  {
   "cell_type": "code",
   "execution_count": 68,
   "metadata": {},
   "outputs": [
    {
     "name": "stdout",
     "output_type": "stream",
     "text": [
      ";created_at;hashtags;id;id_str;lang;source;text;truncated;urls;user;user_mentions;favorite_count;retweet_count;retweeted_status\n",
      "0;Mon Aug 31 14:24:24 +0000 2020;[];1300439298186059777;1300439298186059777;fr;\"<a href=\"\"https://mobile.twitter.com\"\" rel=\"\"nofollow\"\">Twitter Web App</a>\";\"⏱️ The gap is reduced to under 2', with 55 km to go.\n",
      "\n",
      "⏱️ L'écart passe sous la barre des deux minutes, à 55 kilomèt… https://t.co/9c8C97sHKE\";True;[{'expanded_url': 'https://twitter.com/i/web/status/1300439298186059777', 'url': 'https://t.co/9c8C97sHKE'}];\"{'created_at': 'Tue Jun 08 13:18:00 +0000 2010', 'description': \"\"La plus grande course cycliste au monde. The world's biggest cycling race. 2019 🏆 : @Eganbernal \\n\\n🗓️ 29/08/2020 - 20/09/2020\\n\\n#TDF2020 #TDFunited\"\", 'favourites_count': 1870, 'followers_count': 3076115, 'following': True, 'friends_count': 929, 'geo_enabled': True, 'id': 153403071, 'id_str': '153403071', 'listed_count': 8926, 'name': 'Tour de France™', 'profile_background_color': 'FAD9\n"
     ]
    }
   ],
   "source": [
    "fichier = open(\"data/module_3-tdf_2020.csv\", \"r\", encoding=\"utf-8\")\n",
    "contenu = fichier.read()\n",
    "# Le fichier est immense, affichons-en uniquement une partie\n",
    "print(contenu[:1000])\n",
    "fichier.close()"
   ]
  },
  {
   "cell_type": "markdown",
   "metadata": {},
   "source": [
    "Lorsqu'on parle de manipulation de fichiers, on se trouve nécessairement confronté au problème de l'**encodage**. Sans nous étendre trop longuement sur ce vaste sujet, l'**encodage** désigne simplement un système de correspondance entre un caractère alpha-numérique et une façon de le représenter en langage de plus bas niveau (par exemple, en binaire, comme une série de 0 et de 1).\n",
    "\n",
    "Aujourd'hui, on ne prend plus trop de risque à parier qu'un fichier est encodé en **UTF-8** : il s'agit du standard **unicode**, de plus en plus utilisé à travers le monde, car capable d'encoder un très grand nombre de caractères (y compris les caractères accentués, les caractères grecs ou arabes, les smileys et autres signes, etc.). Néanmoins, lorsqu'on ouvre un fichier avec Python, il est parfois nécessaire de définir quel encodage Python doit utiliser pour déchiffrer le fichier qu'il doit ouvrir.\n",
    "\n",
    "Sachez néanmoins qu'il existe d'autres encodages fréquents, notamment le **Latin-1** encore relativement utilisé. Si des caractères s'affichent mal ou que Python renvoie une erreur lors de l'ouverture d'un fichier, il y a de bonnes chances pour que ce soit lié à un problème d'encodage."
   ]
  },
  {
   "cell_type": "markdown",
   "metadata": {},
   "source": [
    "Détaillons à présent l'utilisation de la fonction `open()` qui, comme on l'aura compris, permet d'ouvrir des fichiers et de les lire avec Python.\n",
    "\n",
    "Celle-ci comprend plusieurs **arguments** :\n",
    "* Le chemin (absolu ou relatif) du fichier\n",
    "* Le mode d'ouverture\n",
    "* L'encodage\n",
    "\n",
    "Elle renvoie un type assez particulier, `_io.TextIOWrapper`. Celui dispose de plusieurs **méthodes** qu'il ne s'agira pas de détailler ici car il est contenu dans une bibliothèque un peu complexe de Python permettant de gérer l'ouverture et l'écriture dans des fichiers. Pour en savoir plus, on pourra se référer à la page dédiée de la documentation de Python : https://docs.python.org/3/library/io.html#module-io."
   ]
  },
  {
   "cell_type": "code",
   "execution_count": 68,
   "metadata": {},
   "outputs": [
    {
     "name": "stdout",
     "output_type": "stream",
     "text": [
      "<class '_io.TextIOWrapper'>\n"
     ]
    }
   ],
   "source": [
    "print(type(fichier))"
   ]
  },
  {
   "cell_type": "markdown",
   "metadata": {},
   "source": [
    "Détaillons simplement que l'on peut accéder au contenu du fichier ouvert à l'aide de la fonction `.open()` grâce à la méthode `.read()`."
   ]
  },
  {
   "cell_type": "markdown",
   "metadata": {},
   "source": [
    "Il existe plusieurs façons d'ouvrir un fichier que l'on peut définir dans le mode d'ouverture. Résumons à l'aide du tableau ci-dessous :\n",
    "\n",
    "|Mode d'ouverture|Description|\n",
    "|---|---|\n",
    "|`\"r\"`|Ouverture en mode lecture.|\n",
    "|`\"w\"`|Ouverture en mode écriture.|\n",
    "|`\"a\"`|Ouverture en mode ajout.|"
   ]
  },
  {
   "cell_type": "markdown",
   "metadata": {},
   "source": [
    "### <div id=\"Listes : Pratique avancée\">3. 2. Listes : Pratique avancée</div>"
   ]
  },
  {
   "cell_type": "markdown",
   "metadata": {},
   "source": [
    "Maintenant que nous avons ouvert notre fichier **CSV**, on souhaiterait pouvoir récupérer chaque ligne du tableau une à une et les stocker dans une **liste**. Rappelons-nous que la spécificité d'un fichier **CSV** tient dans sa structure :\n",
    "* Les lignes sont séparées par des sauts de ligne (touche Entrée)\n",
    "* Les colonnes sont séparées par des virgules (ou d'autres caractères, parfois des points-virgules, des barres obliques, etc.)\n",
    "\n",
    "En Python, on représente un **saut de ligne** à l'aide du caractère `\\n`. Cela signifie que si l'on découpe le texte que l'on a extrait de notre fichier **CSV** à chaque fois que l'on rencontre le caractère `\\n`, on aura découpé notre tableau ligne par ligne !\n",
    "\n",
    "Cela tombe bien, il existe précisément dans Python une fonction nommée `.split()` qui permet de découper une **chaîne de caractères** et renvoie une liste qui contient autant d'éléments que de caractères passé en **paramètre** de la méthode. Voyons un exemple."
   ]
  },
  {
   "cell_type": "code",
   "execution_count": 69,
   "metadata": {},
   "outputs": [
    {
     "name": "stdout",
     "output_type": "stream",
     "text": [
      "['Bonjour', \" J'apprends à coder en Python\", ' Python est un langage bien utile', \" Il permet d'ouvrir des fichiers\", '']\n"
     ]
    }
   ],
   "source": [
    "exemple = \"Bonjour. J'apprends à coder en Python. Python est un langage bien utile. Il permet d'ouvrir des fichiers.\"\n",
    "decoup = exemple.split(\".\")\n",
    "print(decoup)"
   ]
  },
  {
   "cell_type": "markdown",
   "metadata": {},
   "source": [
    "La chaîne `exemple` a été découpée à chaque fois qu'un point est rencontré. La **méthode** `.split(\".\")` renvoie une **liste** qui contient quatre **chaînes de caractères**, séparant donc chaque phrase.\n",
    "\n",
    "En reprenant notre variable `contenu` dans laquelle on a stocké plus tôt le contenu du fichier importé, on peut procéder de la même façon en utilisant `.split(\"\\n\")` pour découper la **chaîne de caractères** en une liste où chaque élément correspondra à une ligne du tableau."
   ]
  },
  {
   "cell_type": "code",
   "execution_count": 71,
   "metadata": {},
   "outputs": [
    {
     "name": "stdout",
     "output_type": "stream",
     "text": [
      "51\n"
     ]
    }
   ],
   "source": [
    "tab = contenu.split(\"\\n\")\n",
    "print(len(tab))"
   ]
  },
  {
   "cell_type": "markdown",
   "metadata": {},
   "source": [
    "On voit ainsi que notre tableau contient 51 lignes."
   ]
  },
  {
   "cell_type": "markdown",
   "metadata": {},
   "source": [
    "Avant de passer à la pratique, voyons rapidement deux fonctions bien pratiques lorsqu'on jongle avec des **structures de données** :\n",
    "* `zip()` : elle permet d'effectuer des **itérations parallèles**, c'est-à-dire, parcourir en même temps plusieurs **structures de données**\n",
    "* `enumerate()` : elle permet de parcourir une **structure de données** en suivant son index"
   ]
  },
  {
   "cell_type": "code",
   "execution_count": 57,
   "metadata": {},
   "outputs": [
    {
     "name": "stdout",
     "output_type": "stream",
     "text": [
      "(1, 'a')\n",
      "(2, 'b')\n",
      "(3, 'c')\n",
      "1\n",
      "2\n",
      "3\n",
      "1 Abricot\n",
      "2 Banane\n",
      "3 Citron\n"
     ]
    }
   ],
   "source": [
    "# Exemple de l'usage de zip()\n",
    "list_1 = [1, 2, 3]\n",
    "dict_a = {\"a\": \"Abricot\", \"b\": \"Banane\", \"c\": \"Citron\"}\n",
    "\n",
    "for chiffre_lettre in zip(list_1, dict_a):\n",
    "    print(chiffre_lettre)\n",
    "    \n",
    "# Pour rappel, on peut \"sortir\" directement plusieurs valeurs d'une structure de données en les séparant par une virgule\n",
    "for chiffre, lettre in zip(list_1, dict_a):\n",
    "    print(chiffre)\n",
    "    \n",
    "# Petite révision sur les dictionnaires, accédons non pas à la clé mais aux valeurs cette fois\n",
    "for chiffre, fruit in zip(list_1, dict_a):\n",
    "    print(chiffre, dict_a[fruit])"
   ]
  },
  {
   "cell_type": "code",
   "execution_count": 60,
   "metadata": {},
   "outputs": [
    {
     "name": "stdout",
     "output_type": "stream",
     "text": [
      "(0, 'a')\n",
      "(1, 'b')\n",
      "(2, 'c')\n",
      "0 a\n",
      "1 b\n",
      "2 c\n"
     ]
    }
   ],
   "source": [
    "# Exemple de l'usage de enumerate()\n",
    "list_a = [\"a\", \"b\", \"c\"]\n",
    "\n",
    "for index_lettre in enumerate(list_a):\n",
    "    print(index_lettre)\n",
    "    \n",
    "# Même chose que précédemment en \"sortant\" directement la valeur en les séparant par une virgule\n",
    "for index, lettre in enumerate(list_a):\n",
    "    print(index, lettre)"
   ]
  },
  {
   "cell_type": "markdown",
   "metadata": {},
   "source": [
    "Nous avons vu beaucoup de choses sur les **structures de données**. Maintenant, nous comprenons :\n",
    "* Comment fonctionne leur indexation, par **index** (les **listes** et les **tuples**) ou par couple **clé-valeur** (les **dictionnaires**)\n",
    "* Comment on peut les parcourir à l'aide d'une boucle `for`\n",
    "* Comment on peut mobiliser leurs **méthodes** propres pour interagir avec elles\n",
    "* Comment on peut utiliser des **fonctions** spécifiques pour effectuer des **itérations parallèles**\n",
    "\n",
    "Bien comprendre le fonctionnement des **structures de données** est sans doute le point le plus essentiel dans tout langage de programmation. Ce sont avec elles que nous allons jongler la plupart du temps : elles permettent de traiter de très grandes masses d'information rapidement, d'effectuer les traitements que l'on souhaite et permettre d'exporter ces informations pour les mobiliser par ailleurs (visualisations, analyses complémentaires, traitement quantitatifs, etc.)."
   ]
  },
  {
   "cell_type": "markdown",
   "metadata": {},
   "source": [
    "<div class=\"alert alert-info\" role=\"alert\"><strong>Conseil :</strong> Si vous ne vous sentez pas à l'aise avec ces quatre points propres aux <strong>structures de données</strong>, il est préférable de prendre le temps nécessaire de bien les intégrer avant de passer à la suite dans la mesure où nous utiliserons énormément ces différentes méthodes.</div>"
   ]
  },
  {
   "cell_type": "markdown",
   "metadata": {},
   "source": [
    "<div class=\"alert alert-success\" role=\"success\"><strong>Deuxième exercice :</strong> A partir du fichier \"module_3-tdf_2020.csv\" importé dans Python, reconstruire un tableau. Pour ce faire, on pourra construire une liste de listes (une liste globale qui contient, à chaque index, une liste qui contient à son tour un élément par colonne) dans un premier temps. Dans un second temps, on pourra essayer également de créer une liste de dictionnaires (pour chaque index de la liste, on aura un dictionnaire avec une clé correspondante au nom de chaque colonne du tableau).</div>"
   ]
  },
  {
   "cell_type": "markdown",
   "metadata": {},
   "source": [
    "<div class=\"alert alert-danger\" role=\"danger\"><strong>Préparer un fichier pour l'export CSV :</strong> S'il existe des bibliothèques Python permettant de faire automatiquement ce travail, cela constitue néanmoins une pratique utile car ce type de manipulation est très fréquent lorsqu'on travaille avec des données structurées.\n",
    "<br>\n",
    "<br>\n",
    "<strong>Première étape : créer une liste de listes</strong>\n",
    "<pre>\n",
    "<code>#Tout d'abord, on découpe le contenu du tableau par colonne\n",
    "list_contenu = contenu.split(\"\\n\")\n",
    "\n",
    "#On crée une liste vide qui accueillera les listes représentant chaque ligne\n",
    "list_ligne = []\n",
    "\n",
    "#On parcourt la liste des colonnes et on découpe chaque colonne pour former les lignes\n",
    "for ligne in list_contenu:\n",
    "    list_ligne.append(ligne.split(\";\"))\n",
    "\n",
    "#On peut afficher la seconde ligne du tableau (la première contient les en-têtes)\n",
    "print(list_ligne[1])</code></pre>\n",
    "<br>\n",
    "<strong>Deuxième étape : créer une liste de dictionnaires</strong>\n",
    "<pre><code>#Comme la première ligne contient les en-têtes du tableau, on peut les récupérer pour créer les clés de notre dictionnaire\n",
    "list_entete = []\n",
    "for ligne in list_contenu:\n",
    "    #On découpe chaque ligne pour former les cases de notre tableau\n",
    "    list_entete = ligne.split(\";\")\n",
    "    break\n",
    "\n",
    "#On crée un dictionnaire qui représentera le modèle de chaque colonne\n",
    "dict_contenu = {}\n",
    "for entete in list_entete:\n",
    "    #On ajoute les clés à notre dictionnaire et on associe pour l'instant une chaîne vide\n",
    "    dict_contenu[entete] = \"\"\n",
    "    \n",
    "#On crée une liste qui contiendra chaque case du tableau\n",
    "list_ligne = []\n",
    "for ligne in list_contenu:\n",
    "    #On ajoute à notre liste chaque case du tableau\n",
    "    list_ligne.append(ligne.split(\";\"))\n",
    "    \n",
    "#On crée une liste qui contiendra les dictionnaires représentant chaque ligne\n",
    "list_dict = []\n",
    "for ligne in list_ligne:\n",
    "    #On utilise zip pour itérer à la fois sur notre liste de cases et sur notre liste de d'en-têtes\n",
    "    for entete, case in zip(list_entete, ligne):\n",
    "        #On ajoute la valeur associée à la clé de la colonne\n",
    "        dict_contenu[entete] = case\n",
    "        #On ajoute le dictionnaire représentant une ligne à notre liste de lignes (qui est donc une liste de dictionnaires)\n",
    "        list_dict.append(dict_contenu)\n",
    "</code></pre>\n",
    "</div>"
   ]
  },
  {
   "cell_type": "markdown",
   "metadata": {},
   "source": [
    "### <div id=\"Manipuler des données tabulaires avec la bibliothèque pandas\">3. 3. Manipuler des données tabulaires avec la bibliothèque `pandas`</div>"
   ]
  },
  {
   "cell_type": "markdown",
   "metadata": {},
   "source": [
    "Tout ceci est bien pratique, mais tout de même un peu compliqué. En travaillant sur le deuxième exercice, on aura pu sans doute constater qu'il faut se tordre un peu les neurones pour réussir à s'y retrouver dès qu'on imbrique les **structures de données** les unes dans les autres.\n",
    "\n",
    "Vous allez peut-être m'en vouloir, mais tout ce travail n'était pas vraiment nécessaire...\n",
    "\n",
    "Python, comme d'autres langages de programmation, dispose de ce que l'on nomme des **bibliothèques** (ou **modules**). Ceux-ci sont simplement d'autres scripts Python disposant de **fonctions** et de **classes** spécifiques permettant de faciliter la tâche des futurs développeurs et surtout, de ne pas perdre du temps avec ce que nous venons de faire (même si c'était tout de même un bon exercice, n'est-ce pas ?...). Certaines opérations sont tellement courantes que des équipes de développeurs chevronnés ont en fait déjà fait le travail pour nous : tel est le cas pour les opérations avec des **fichiers structurés** comme les fichiers **CSV** ou **XML**.\n",
    "\n",
    "Nous explorerons par la suite d'autres **bibliothèques** bien utiles pour le **web scraping**, mais voyons à ce stade une **bibliothèque** dédiée à la manipulation des tableaux. Attention, il ne s'agira pas ici de traiter dans le détail le fonctionnement de cette bibliothèque, mais simplement de vous en présenter les bases pour faciliter la manipulation et la visualisation des tableaux. Il s'agit de `pandas`.\n",
    "\n",
    "Avant d'explorer les fonctionnalités de base de cette **bibliothèque**, comprenons tout d'abord comment fonctionnent les **bibliothèques** dans Python."
   ]
  },
  {
   "cell_type": "markdown",
   "metadata": {},
   "source": [
    "#### <div id=\"Travailler avec des bibliothèques dans Python\">3. 3. 1. Travailler avec des bibliothèques dans Python</div>"
   ]
  },
  {
   "cell_type": "markdown",
   "metadata": {},
   "source": [
    "Pour utiliser une **bibliothèque** dans Python, il s'agit de l'importer avant tout. Habituellement, on déclare au début de notre script toutes les **bibliothèques** qui seront utilisées dans notre code."
   ]
  },
  {
   "cell_type": "markdown",
   "metadata": {},
   "source": [
    "<div class=\"alert alert-info\" role=\"alert\"><strong>Conseil :</strong> Si vous rencontrez ce type de message d'erreur lorsque vous tentez d'importer une bibliothèque, ceci est simplement lié au fait qu'elle n'est pas installée sur votre machine.\n",
    "<br>\n",
    "<img src=\"img/fail_import.png\"/>\n",
    "<br>\n",
    "<br>\n",
    "Pour installer une bibliothèque, le plus simple est d'utiliser le gestionnaire de modules de Python dénommé <code>pip</code>. Dans notre Jupyter Notebook, on pourra utiliser la commande suivante pour installer un module : <code>!pip install mon_module</code>. Si <code>pandas</code> n'est pas installé, vous pouvez ainsi entrer dans une cellule <code>!pip install pandas</code>. Pour vérifier qu'un module est bien installé, vous pouvez essayer de l'importer : <code>import pandas</code>.\n",
    "</div>"
   ]
  },
  {
   "cell_type": "markdown",
   "metadata": {},
   "source": [
    "Avec les **bibliothèques**, notre travail sera grandement simplifié, mais c'est aussi tout un univers qui s'ouvre. Ainsi, il faudra se référer à la documentation propre de la **bibliothèque** pour comprendre plus en détail son fonctionnement. Certaines d'entre elles sont tellement vastes qu'elles donnent lieu à la publication de manuels de références, de tutoriels et de cours spécifiques dédiés à leur apprentissage.\n",
    "\n",
    "Rassurez-vous, dans notre cas, nous utiliserons certaines **bibliothèques** d'usage plus facile qu'un monde comme `pandas`.\n",
    "\n",
    "Néanmoins, apprenons dès maintenant à intégrer cette pratique en consultant la documentation de `pandas` : https://pandas.pydata.org/docs/. Cela sera l'occasion de nous rafraîchir la mémoire sur les **fonctions** et les **classes**. Dans la barre de recherche, tapons \"DataFrame\" (le lien direct : https://pandas.pydata.org/docs/reference/api/pandas.DataFrame.html?highlight=dataframe#pandas.DataFrame).\n",
    "\n",
    "Une documentation de **bibliothèque** bien faite ressemble à cela. Habituellement, on y trouvera :\n",
    "* Un descriptif de l'utilité de la fonction et une description de son usage\n",
    "* Une explication de ce qu'elle renvoie en sortie\n",
    "* Une liste des paramètres qu'elle prend en entrée\n",
    "* Un exemple illustrant la façon dont on utilise la fonction"
   ]
  },
  {
   "cell_type": "markdown",
   "metadata": {},
   "source": [
    "<img src=\"img/library_exemple.png\"/>"
   ]
  },
  {
   "cell_type": "markdown",
   "metadata": {},
   "source": [
    "Maintenant que l'on sait un peu mieux déchiffrer la documentation d'une **bibliothèque**, voyons comment l'utiliser dans Python.\n",
    "\n",
    "Avant toute chose, il faut importer notre **bibliothèque**, sinon, on rencontrera l'erreur suivante :"
   ]
  },
  {
   "cell_type": "code",
   "execution_count": 3,
   "metadata": {},
   "outputs": [
    {
     "ename": "NameError",
     "evalue": "name 'pd' is not defined",
     "output_type": "error",
     "traceback": [
      "\u001b[1;31m---------------------------------------------------------------------------\u001b[0m",
      "\u001b[1;31mNameError\u001b[0m                                 Traceback (most recent call last)",
      "\u001b[1;32m<ipython-input-3-7894cd23dc16>\u001b[0m in \u001b[0;36m<module>\u001b[1;34m\u001b[0m\n\u001b[1;32m----> 1\u001b[1;33m \u001b[0mdf\u001b[0m \u001b[1;33m=\u001b[0m \u001b[0mpd\u001b[0m\u001b[1;33m.\u001b[0m\u001b[0mread_csv\u001b[0m\u001b[1;33m(\u001b[0m\u001b[1;34m\"data/module_3-tdf_2020.csv\"\u001b[0m\u001b[1;33m,\u001b[0m \u001b[0msep\u001b[0m\u001b[1;33m=\u001b[0m\u001b[1;34m\";\"\u001b[0m\u001b[1;33m,\u001b[0m \u001b[0mencoding\u001b[0m\u001b[1;33m=\u001b[0m\u001b[1;34m\"utf-8\"\u001b[0m\u001b[1;33m)\u001b[0m\u001b[1;33m\u001b[0m\u001b[1;33m\u001b[0m\u001b[0m\n\u001b[0m",
      "\u001b[1;31mNameError\u001b[0m: name 'pd' is not defined"
     ]
    }
   ],
   "source": [
    "df = pd.read_csv(\"data/module_3-tdf_2020.csv\", sep=\";\", encoding=\"utf-8\")"
   ]
  },
  {
   "cell_type": "markdown",
   "metadata": {},
   "source": [
    "Pour importer une **bibliothèque**, on utilise l'instruction `import`. Parfois, on sera amené à croiser une syntaxe différente, du type `from pandas import DataFrame` ou `from pandas import *`. Le caractère `*` désigne \"tout\", ce qui permet d'importer l'intégralité d'une **bibliothèque**. Néanmoins, importer l'intégralité d'une **bibliothèque** n'est pas nécessairement une bonne pratique et nombre de développeurs préfèrent importer uniquement les **fonctions** dont ils ont besoin : cela permet notamment d'optimiser le code.\n",
    "\n",
    "Dans notre cas, ce n'est pas très important : nous pouvons importer l'intégralité des **bibliothèques** que nous utiliserons. Simplement, ne soyez pas surpris si vous croisez des imports qui utilisent la syntaxe `from module import submodule`."
   ]
  },
  {
   "cell_type": "code",
   "execution_count": 4,
   "metadata": {},
   "outputs": [],
   "source": [
    "import pandas as pd"
   ]
  },
  {
   "cell_type": "markdown",
   "metadata": {},
   "source": [
    "Python est un monde bourré de conventions. Certaines **bibliothèques** très populaires, à l'instar de `pandas`, portent leur petit surnom qui permet de gagner beaucoup de temps lorsqu'on écrit notre code. Le mot-clé `as` permet de définir un **alias** que l'on pourra appeler lorsqu'on voudra utiliser cette **bibliothèque**.\n",
    "\n",
    "Maintenant, voyons comment `pandas` nous simplifie le travail pour ouvrir un tableau dans Python."
   ]
  },
  {
   "cell_type": "code",
   "execution_count": 6,
   "metadata": {},
   "outputs": [
    {
     "data": {
      "text/html": [
       "<div>\n",
       "<style scoped>\n",
       "    .dataframe tbody tr th:only-of-type {\n",
       "        vertical-align: middle;\n",
       "    }\n",
       "\n",
       "    .dataframe tbody tr th {\n",
       "        vertical-align: top;\n",
       "    }\n",
       "\n",
       "    .dataframe thead th {\n",
       "        text-align: right;\n",
       "    }\n",
       "</style>\n",
       "<table border=\"1\" class=\"dataframe\">\n",
       "  <thead>\n",
       "    <tr style=\"text-align: right;\">\n",
       "      <th></th>\n",
       "      <th>Unnamed: 0</th>\n",
       "      <th>created_at</th>\n",
       "      <th>hashtags</th>\n",
       "      <th>id</th>\n",
       "      <th>id_str</th>\n",
       "      <th>lang</th>\n",
       "      <th>source</th>\n",
       "      <th>text</th>\n",
       "      <th>truncated</th>\n",
       "      <th>urls</th>\n",
       "      <th>user</th>\n",
       "      <th>user_mentions</th>\n",
       "      <th>favorite_count</th>\n",
       "      <th>retweet_count</th>\n",
       "      <th>retweeted_status</th>\n",
       "    </tr>\n",
       "  </thead>\n",
       "  <tbody>\n",
       "    <tr>\n",
       "      <th>0</th>\n",
       "      <td>0</td>\n",
       "      <td>Mon Aug 31 14:24:24 +0000 2020</td>\n",
       "      <td>[]</td>\n",
       "      <td>1300439298186059777</td>\n",
       "      <td>1300439298186059777</td>\n",
       "      <td>fr</td>\n",
       "      <td>&lt;a href=\"https://mobile.twitter.com\" rel=\"nofo...</td>\n",
       "      <td>⏱️ The gap is reduced to under 2', with 55 km ...</td>\n",
       "      <td>True</td>\n",
       "      <td>[{'expanded_url': 'https://twitter.com/i/web/s...</td>\n",
       "      <td>{'created_at': 'Tue Jun 08 13:18:00 +0000 2010...</td>\n",
       "      <td>[]</td>\n",
       "      <td>NaN</td>\n",
       "      <td>NaN</td>\n",
       "      <td>NaN</td>\n",
       "    </tr>\n",
       "    <tr>\n",
       "      <th>1</th>\n",
       "      <td>1</td>\n",
       "      <td>Mon Aug 31 14:15:56 +0000 2020</td>\n",
       "      <td>[]</td>\n",
       "      <td>1300437166854680576</td>\n",
       "      <td>1300437166854680576</td>\n",
       "      <td>fr</td>\n",
       "      <td>&lt;a href=\"https://studio.twitter.com\" rel=\"nofo...</td>\n",
       "      <td>👀 Take a look at the final km of today' stage....</td>\n",
       "      <td>True</td>\n",
       "      <td>[{'expanded_url': 'https://twitter.com/i/web/s...</td>\n",
       "      <td>{'created_at': 'Tue Jun 08 13:18:00 +0000 2010...</td>\n",
       "      <td>[]</td>\n",
       "      <td>94.0</td>\n",
       "      <td>11.0</td>\n",
       "      <td>NaN</td>\n",
       "    </tr>\n",
       "    <tr>\n",
       "      <th>2</th>\n",
       "      <td>2</td>\n",
       "      <td>Mon Aug 31 14:13:54 +0000 2020</td>\n",
       "      <td>[{'text': 'TDF2020'}]</td>\n",
       "      <td>1300436654801457152</td>\n",
       "      <td>1300436654801457152</td>\n",
       "      <td>fr</td>\n",
       "      <td>&lt;a href=\"https://mobile.twitter.com\" rel=\"nofo...</td>\n",
       "      <td>RT @TeamCOFIDIS: Suite à une chute sur la 3ème...</td>\n",
       "      <td>NaN</td>\n",
       "      <td>[]</td>\n",
       "      <td>{'created_at': 'Tue Jun 08 13:18:00 +0000 2010...</td>\n",
       "      <td>[{'id': 321560085, 'id_str': '321560085', 'nam...</td>\n",
       "      <td>NaN</td>\n",
       "      <td>33.0</td>\n",
       "      <td>{'created_at': 'Mon Aug 31 14:12:49 +0000 2020...</td>\n",
       "    </tr>\n",
       "    <tr>\n",
       "      <th>3</th>\n",
       "      <td>3</td>\n",
       "      <td>Mon Aug 31 14:09:16 +0000 2020</td>\n",
       "      <td>[]</td>\n",
       "      <td>1300435489045049345</td>\n",
       "      <td>1300435489045049345</td>\n",
       "      <td>fr</td>\n",
       "      <td>&lt;a href=\"https://mobile.twitter.com\" rel=\"nofo...</td>\n",
       "      <td>❌ @BenoitCosnefroy and @NansPeters relax: the ...</td>\n",
       "      <td>True</td>\n",
       "      <td>[{'expanded_url': 'https://twitter.com/i/web/s...</td>\n",
       "      <td>{'created_at': 'Tue Jun 08 13:18:00 +0000 2010...</td>\n",
       "      <td>[{'id': 2967671063, 'id_str': '2967671063', 'n...</td>\n",
       "      <td>130.0</td>\n",
       "      <td>37.0</td>\n",
       "      <td>NaN</td>\n",
       "    </tr>\n",
       "    <tr>\n",
       "      <th>4</th>\n",
       "      <td>4</td>\n",
       "      <td>Mon Aug 31 13:56:53 +0000 2020</td>\n",
       "      <td>[]</td>\n",
       "      <td>1300432372366745603</td>\n",
       "      <td>1300432372366745603</td>\n",
       "      <td>fr</td>\n",
       "      <td>&lt;a href=\"https://mobile.twitter.com\" rel=\"nofo...</td>\n",
       "      <td>⏱️ 3'20 after @CousinJerom, @BenoitCosnefroy t...</td>\n",
       "      <td>True</td>\n",
       "      <td>[{'expanded_url': 'https://twitter.com/i/web/s...</td>\n",
       "      <td>{'created_at': 'Tue Jun 08 13:18:00 +0000 2010...</td>\n",
       "      <td>[{'id': 511673084, 'id_str': '511673084', 'nam...</td>\n",
       "      <td>79.0</td>\n",
       "      <td>10.0</td>\n",
       "      <td>NaN</td>\n",
       "    </tr>\n",
       "  </tbody>\n",
       "</table>\n",
       "</div>"
      ],
      "text/plain": [
       "   Unnamed: 0                      created_at               hashtags  \\\n",
       "0           0  Mon Aug 31 14:24:24 +0000 2020                     []   \n",
       "1           1  Mon Aug 31 14:15:56 +0000 2020                     []   \n",
       "2           2  Mon Aug 31 14:13:54 +0000 2020  [{'text': 'TDF2020'}]   \n",
       "3           3  Mon Aug 31 14:09:16 +0000 2020                     []   \n",
       "4           4  Mon Aug 31 13:56:53 +0000 2020                     []   \n",
       "\n",
       "                    id               id_str lang  \\\n",
       "0  1300439298186059777  1300439298186059777   fr   \n",
       "1  1300437166854680576  1300437166854680576   fr   \n",
       "2  1300436654801457152  1300436654801457152   fr   \n",
       "3  1300435489045049345  1300435489045049345   fr   \n",
       "4  1300432372366745603  1300432372366745603   fr   \n",
       "\n",
       "                                              source  \\\n",
       "0  <a href=\"https://mobile.twitter.com\" rel=\"nofo...   \n",
       "1  <a href=\"https://studio.twitter.com\" rel=\"nofo...   \n",
       "2  <a href=\"https://mobile.twitter.com\" rel=\"nofo...   \n",
       "3  <a href=\"https://mobile.twitter.com\" rel=\"nofo...   \n",
       "4  <a href=\"https://mobile.twitter.com\" rel=\"nofo...   \n",
       "\n",
       "                                                text truncated  \\\n",
       "0  ⏱️ The gap is reduced to under 2', with 55 km ...      True   \n",
       "1  👀 Take a look at the final km of today' stage....      True   \n",
       "2  RT @TeamCOFIDIS: Suite à une chute sur la 3ème...       NaN   \n",
       "3  ❌ @BenoitCosnefroy and @NansPeters relax: the ...      True   \n",
       "4  ⏱️ 3'20 after @CousinJerom, @BenoitCosnefroy t...      True   \n",
       "\n",
       "                                                urls  \\\n",
       "0  [{'expanded_url': 'https://twitter.com/i/web/s...   \n",
       "1  [{'expanded_url': 'https://twitter.com/i/web/s...   \n",
       "2                                                 []   \n",
       "3  [{'expanded_url': 'https://twitter.com/i/web/s...   \n",
       "4  [{'expanded_url': 'https://twitter.com/i/web/s...   \n",
       "\n",
       "                                                user  \\\n",
       "0  {'created_at': 'Tue Jun 08 13:18:00 +0000 2010...   \n",
       "1  {'created_at': 'Tue Jun 08 13:18:00 +0000 2010...   \n",
       "2  {'created_at': 'Tue Jun 08 13:18:00 +0000 2010...   \n",
       "3  {'created_at': 'Tue Jun 08 13:18:00 +0000 2010...   \n",
       "4  {'created_at': 'Tue Jun 08 13:18:00 +0000 2010...   \n",
       "\n",
       "                                       user_mentions  favorite_count  \\\n",
       "0                                                 []             NaN   \n",
       "1                                                 []            94.0   \n",
       "2  [{'id': 321560085, 'id_str': '321560085', 'nam...             NaN   \n",
       "3  [{'id': 2967671063, 'id_str': '2967671063', 'n...           130.0   \n",
       "4  [{'id': 511673084, 'id_str': '511673084', 'nam...            79.0   \n",
       "\n",
       "   retweet_count                                   retweeted_status  \n",
       "0            NaN                                                NaN  \n",
       "1           11.0                                                NaN  \n",
       "2           33.0  {'created_at': 'Mon Aug 31 14:12:49 +0000 2020...  \n",
       "3           37.0                                                NaN  \n",
       "4           10.0                                                NaN  "
      ]
     },
     "execution_count": 6,
     "metadata": {},
     "output_type": "execute_result"
    }
   ],
   "source": [
    "tableau = pd.read_csv(\"data/module_3-tdf_2020.csv\", sep=\";\", encoding=\"utf-8\")\n",
    "tableau.head()"
   ]
  },
  {
   "cell_type": "markdown",
   "metadata": {},
   "source": [
    "Hop, premier réflexe maintenant que nous savons lire une documentation : on fonce sur la documentation de `pandas` pour comprendre plus en détail comment marchent les **fonctions** `.read_csv()` et `.head()` de la classe `pandas` (on en profite aussi pour réviser notre **programmation orientée objet** !). Rendez-vous à cette adresse : https://pandas.pydata.org/pandas-docs/stable/reference/api/pandas.read_csv.html.\n",
    "\n",
    "Nous n'allons pas commenter ici toute la fonction `.read_csv()`, mais je vous invite néanmoins à prendre le temps de regarder au moins en diagonale sa documentation. Comme vous l'aurez peut-être compris, il s'agit plutôt de vous montrer les bonnes habitudes à prendre lorsqu'on travaille avec une **bibliothèque** que d'explorer en détail ses profondeurs.\n",
    "\n",
    "Pour notre usage dans le cadre de cette formation, nous n'aurons pas besoin de beaucoup plus que les quelques lignes plus haut : ouvrir un fichier **CSV** en définissant la façon dont les colonnes sont séparées entre elles (habituellement, par des virgules ou par des point-virgules) et définir son encodage pour ne pas avoir de mauvaises suprises avec les accents notamment !"
   ]
  },
  {
   "cell_type": "markdown",
   "metadata": {},
   "source": [
    "#### <div id=\"\">3. 3. 2. Les fonctionnalités de base de <code>pandas</code></div>"
   ]
  },
  {
   "cell_type": "markdown",
   "metadata": {},
   "source": [
    "Maintenant que nous savons ouvrir un fichier avec `pandas`, voyons comment on peut écrire un **CSV** en une ligne de code !"
   ]
  },
  {
   "cell_type": "code",
   "execution_count": 10,
   "metadata": {},
   "outputs": [
    {
     "name": "stdout",
     "output_type": "stream",
     "text": [
      "<class 'pandas.core.frame.DataFrame'>\n"
     ]
    }
   ],
   "source": [
    "# Vérifions si nous avons bien un tableau pandas\n",
    "print(type(tableau))\n",
    "\n",
    "# Choisissons d'exporter notre tableau avec des virgules comme séparateurs de colonnes\n",
    "tableau.to_csv(\"mon_tableau.csv\", sep=\",\", encoding=\"utf-8\")"
   ]
  },
  {
   "cell_type": "markdown",
   "metadata": {},
   "source": [
    "Et voilà, littéralement une seule ligne de code ! Le fichier a été exporté à la racine du dossier dans lequel est ouvert actuellement le Jupyter Notebook."
   ]
  },
  {
   "cell_type": "markdown",
   "metadata": {},
   "source": [
    "Si nous n'allons pas explorer en détail `pandas`, tentons néamoins de comprendre simplement comment construire un tableau. Les tableaux dans `pandas` se nomment les `DataFrame` : il s'agit d'un type de donnée propre à la **bibliothèque**. Il existe de nombreuses **méthodes** grâce auxquelles interagir avec.\n",
    "\n",
    "Un `DataFrame` correspond à une liste contenant des **dictionnaires**. Chaque dictionnaire représente une ligne du tableau et le **clé** du **dictionnaire** l'intitulé d'une colonne. Ainsi, en formatant de la sorte nos fichiers, il sera très facile d'exporter des tableaux sur lesquels on pourra ensuite travailler dans Excel ou dans n'importe quel autre logiciel de notre choix.\n",
    "\n",
    "Illustrons cela avec un exemple simple."
   ]
  },
  {
   "cell_type": "code",
   "execution_count": 12,
   "metadata": {},
   "outputs": [
    {
     "name": "stdout",
     "output_type": "stream",
     "text": [
      "[{'fruit': 'Poires', 'quantite': 10}, {'fruit': 'Pommes', 'quantite': 25}, {'fruit': 'Oranges', 'quantite': 5}]\n"
     ]
    }
   ],
   "source": [
    "fruit_1 = {\"fruit\": \"Poires\", \"quantite\": 10}\n",
    "fruit_2 = {\"fruit\": \"Pommes\", \"quantite\": 25}\n",
    "fruit_3 = {\"fruit\": \"Oranges\", \"quantite\": 5}\n",
    "\n",
    "list_fruits = [fruit_1, fruit_2, fruit_3]\n",
    "print(list_fruits)"
   ]
  },
  {
   "cell_type": "markdown",
   "metadata": {},
   "source": [
    "On a créé ici trois **dictionnaires** de façon explicite (`fruit_1`, `fruit_2`, `fruit_3`). Chacun comporte deux **clés** : `fruit` et `quantite`. On a ensuite créé une **liste** `list_fruits` dans laquelle on a inséré nos trois **dictionnaires** différents. Nous avons donc notre **liste** de **dictionnaires**.\n",
    "\n",
    "Avec une telle **structure de données imbriquée**, on peut appeler la **méthode** `.DataFrame()` de `pandas` qui permet de créer un `DataFrame` (pour rappel, un `DataFrame` n'est rien d'autre qu'un tableau).\n",
    "\n",
    "Sans plus d'effort, on obtient un tableau que l'on peut directement exporter au format **CSV**."
   ]
  },
  {
   "cell_type": "code",
   "execution_count": 14,
   "metadata": {},
   "outputs": [],
   "source": [
    "df = pd.DataFrame(list_fruits)\n",
    "df.to_csv(\"mes_fruits.csv\", sep=\";\", encoding=\"utf-8\")"
   ]
  },
  {
   "cell_type": "markdown",
   "metadata": {},
   "source": [
    "## <div id=\"Gérer les erreurs\">4. Gérer les erreurs</div>"
   ]
  },
  {
   "cell_type": "markdown",
   "metadata": {},
   "source": [
    "Profitons de ce nouveau chapitre pour nous rafraîchir la mémoire. Nous avons parfois croisé des erreurs que Python renvoie lorsque notre code n'est pas bien formaté, par exemple, ou lorsque nous oublions de déclarer une **variable**.\n",
    "\n",
    "En jonglant avec nos données, nous serons amenés à vouloir gérer certaines de ces **erreurs**. En effet, le comportement standard de Python face à une erreur consiste à mettre fin immédiatement à l'exécution du script en cours. Dans certains cas, il peut s'agir d'une chose que l'on veut éviter et on préfera que Python continue l'exécution du script et réagisse d'une certaine façon lorsqu'il rencontre une **erreur**.\n",
    "\n",
    "Voyons la syntaxe et la logique de la gestion des **erreurs** avec Python à travers un exemple."
   ]
  },
  {
   "cell_type": "code",
   "execution_count": 16,
   "metadata": {},
   "outputs": [
    {
     "ename": "NameError",
     "evalue": "name 'add_one' is not defined",
     "output_type": "error",
     "traceback": [
      "\u001b[1;31m---------------------------------------------------------------------------\u001b[0m",
      "\u001b[1;31mNameError\u001b[0m                                 Traceback (most recent call last)",
      "\u001b[1;32m<ipython-input-16-b4ee0d5ad5ca>\u001b[0m in \u001b[0;36m<module>\u001b[1;34m\u001b[0m\n\u001b[0;32m      1\u001b[0m \u001b[0mlist_1\u001b[0m \u001b[1;33m=\u001b[0m \u001b[1;33m[\u001b[0m\u001b[1;36m1\u001b[0m\u001b[1;33m,\u001b[0m \u001b[1;36m2\u001b[0m\u001b[1;33m,\u001b[0m \u001b[1;36m3\u001b[0m\u001b[1;33m]\u001b[0m\u001b[1;33m\u001b[0m\u001b[1;33m\u001b[0m\u001b[0m\n\u001b[1;32m----> 2\u001b[1;33m \u001b[0madd_one\u001b[0m\u001b[1;33m(\u001b[0m\u001b[0mlist_1\u001b[0m\u001b[1;33m)\u001b[0m\u001b[1;33m\u001b[0m\u001b[1;33m\u001b[0m\u001b[0m\n\u001b[0m",
      "\u001b[1;31mNameError\u001b[0m: name 'add_one' is not defined"
     ]
    }
   ],
   "source": [
    "list_1 = [1, 2, 3]\n",
    "add_one(list_1)"
   ]
  },
  {
   "cell_type": "markdown",
   "metadata": {},
   "source": [
    "Rappelons-nous qu'une **fonction**, comme une **variable** ou n'importe quel autre **objet** doit être défini avant d'être appelé. Ici, nous essayons d'appeler la **fonction** `add_one()` avant de l'avoir définie. Notons que Python nous indique quel **type d'erreur** notre script a généré : il s'agit d'une `NameError`.\n",
    "\n",
    "Python dispose d'une **structure de contrôle** un peu spécifique, similaire au **`if`/`else`** qui est spécifiquement dédiée à la gestion des **erreurs**. En soi, on peut gérer nos **erreurs** à l'aide d'un **bloc `if`/`else`**, mais il ne permet pas de le faire aussi facilement que ce **bloc** dédié, **`try`/`except`**."
   ]
  },
  {
   "cell_type": "markdown",
   "metadata": {},
   "source": [
    "Un **bloc `try`/`except`** fonctionne de la façon suivante :\n",
    "* Dans le **bloc** `try`, on définit un code à exécuter\n",
    "* Dans le **bloc** `except`, on définit le code à exécuter si jamais le code compris dans le **bloc `try`** rencontre une **erreur**\n",
    "\n",
    "Voyons un exemple pour éclaircir cela et reprenons pour cela notre fonction `add_one()` que nous n'avons pas défini."
   ]
  },
  {
   "cell_type": "code",
   "execution_count": 17,
   "metadata": {},
   "outputs": [
    {
     "name": "stdout",
     "output_type": "stream",
     "text": [
      "La fonction add_one() n'est pas définie !\n"
     ]
    }
   ],
   "source": [
    "list_1 = [1, 2, 3]\n",
    "\n",
    "# On peut essayer d'utiliser la fonction add_one() sans l'avoir définie au préalable\n",
    "try:\n",
    "    add_one(list_1)\n",
    "# Si la portion de code située dans le bloc try rencontre une erreur, alors, l'interpréteur Python entrera dans le bloc except\n",
    "except:\n",
    "    print(\"La fonction add_one() n'est pas définie !\")"
   ]
  },
  {
   "cell_type": "markdown",
   "metadata": {},
   "source": [
    "Le **bloc `except`** permet d'entrer un peu plus dans le détail en précisant face à quel type d'erreur il doit réagir. Dans le cas de notre fonction non définie, l'**erreur** est de type `NameError`. On peut donc le préciser."
   ]
  },
  {
   "cell_type": "code",
   "execution_count": 5,
   "metadata": {},
   "outputs": [
    {
     "name": "stdout",
     "output_type": "stream",
     "text": [
      "[2, 3, 4]\n"
     ]
    }
   ],
   "source": [
    "list_1 = [1, 2, 3]\n",
    "\n",
    "try:\n",
    "    a = add_one(list_1)\n",
    "    print(a)\n",
    "\n",
    "except NameError:\n",
    "\n",
    "    def add_one(liste):\n",
    "        result = []\n",
    "        for element in liste:\n",
    "            result.append(element + 1)\n",
    "        return result\n",
    "    \n",
    "    print(\"La fonction add_one vient d'être définie. Vous pouvez à présenter l'utiliser !\")"
   ]
  },
  {
   "cell_type": "markdown",
   "metadata": {},
   "source": [
    "## <div id=\"Les expressions régulières\">5. Les expressions régulières</div>"
   ]
  },
  {
   "cell_type": "markdown",
   "metadata": {},
   "source": [
    "### <div id=\"Eléments généraux\">5. 1. Eléments généraux</div>"
   ]
  },
  {
   "cell_type": "markdown",
   "metadata": {},
   "source": [
    "Dernière ligne droite avant d'attaquer la pratique autour du **web scraping**, faisons la rencontre avec notre futur meilleur ami : les **regex**. Les **regex** (ou **expressions régulières**) sont des représentations abstraites de **motifs** de texte. En voilà aussi une définition bien abstraite. Comme souvent, mieux vaut un bon exemple qu'un long discours, donc voyons cela d'emblée."
   ]
  },
  {
   "cell_type": "code",
   "execution_count": 3,
   "metadata": {},
   "outputs": [
    {
     "name": "stdout",
     "output_type": "stream",
     "text": [
      "<re.Match object; span=(0, 1), match='B'>\n"
     ]
    }
   ],
   "source": [
    "import re\n",
    "\n",
    "string1 = \"Bonjour. Plus qu'un chapitre avant le web scraping ? Bonne nouvelle !\"\n",
    "\n",
    "print(re.match(\"B\", string1))"
   ]
  },
  {
   "cell_type": "markdown",
   "metadata": {},
   "source": [
    "Avec Python, il faut importer la **bibliothèque** dédiée aux **expressions régulières** nommée `re`. Inutile de l'installer au préalable, elle est comprise dans la version de Python 3 que vous utilisez a priori.\n",
    "\n",
    "L'usage principal des **expressions régulières** consiste à rechercher dans des **chaînes de caractères** des **motifs** particuliers. Dans l'exemple ci-dessus, on recherche dans notre variable `string1` la lettre `\"B\"`.\n",
    "\n",
    "Pour vérifier qu'un **motif** particulier se trouve dans une **chaîne de caractère**, on peut utiliser la méthode `.match(regex, string)` du module `re`. Celle-ci prend trois arguments, mais arrêtons-nous pour l'instant aux deux premiers qui sont obligatoires :\n",
    "* Un **motif** à recherche (`regex`)\n",
    "* Une **chaîne de caractère** dans laquelle chercher (`string`)"
   ]
  },
  {
   "cell_type": "markdown",
   "metadata": {},
   "source": [
    "### <div id=\"La fonction .search()\">5. 2. La fonction <code>.search()</code></div>"
   ]
  },
  {
   "cell_type": "markdown",
   "metadata": {},
   "source": [
    "Comme nous l'avons mentionné, les **expressions régulières** permettent de repérer des **motifs** dans des **chaînes de caractères**. Rechercher une lettre ou même un mot paraît un peu limité, voyons donc maintenant comment aller plus loin.\n",
    "\n",
    "En plus des caractères \"ordinaires\", les **expressions régulières** définissent des **caractères spéciaux**. Dressons-en tout d'abord la liste avant d'illustrer leur fonctionnement avec des exemples.\n",
    "\n",
    "|Caractère spécial|Description|\n",
    "|---|---|\n",
    "|`.`|Correspond à n'importe quel caractère sauf un retour à la ligne.|\n",
    "|`*`|Correspond à aucune ou plusieurs répétitions de l'expression à laquelle `*` succède jusqu'à un espace ou un saut de ligne.|\n",
    "|`+`|Correspond à une un plusieurs répétitions de l'expression à laquelle `+` succède.|\n",
    "|`?`|Correspond à aucune ou une répétition de l'expression à laquelle `?` succède.|"
   ]
  },
  {
   "cell_type": "code",
   "execution_count": 111,
   "metadata": {},
   "outputs": [
    {
     "name": "stdout",
     "output_type": "stream",
     "text": [
      "<re.Match object; span=(0, 3), match='Bon'>\n",
      "<re.Match object; span=(0, 4), match='Bonn'>\n"
     ]
    }
   ],
   "source": [
    "import re\n",
    "\n",
    "string1 = \"Bonjour, aujourd'hui, nous faisons encore du Python.\"\n",
    "string2 = \"Bonne nouvelle, plus qu'un chapitre avant le web scraping ? Encore une bonne dose de théorie et c'est fini !\"\n",
    "\n",
    "print(re.search(\"Bon\", string1))\n",
    "print(re.search(\"Bon\", string2))"
   ]
  },
  {
   "cell_type": "markdown",
   "metadata": {},
   "source": [
    "Quelques explications sur ce que renvoie la **fonction** `.search()` de la bibliothèque `re`. On a deux informations :\n",
    "* Span : nous indique quelle portion de la **chaîne de caractères** correspond au **motif** défini\n",
    "* Match : nous indique le **motif** repéré dans la **chaîne de caractères** correspondant précisément au **motif** d'**expression régulière** défini\n",
    "\n",
    "Remarquons également la différence entre ces deux exemples et notons un détail au passage : les **expressions régulières** sont **sensibles à la casse**, c'est-à-dire qu'il faut faire la différence entre une lettre minuscule et une lettre majuscule lorsque nous définissons le motif à rechercher (nous voyons cela dans la `string2`)."
   ]
  },
  {
   "cell_type": "code",
   "execution_count": 27,
   "metadata": {},
   "outputs": [
    {
     "name": "stdout",
     "output_type": "stream",
     "text": [
      "<re.Match object; span=(0, 3), match='Bon'>\n"
     ]
    }
   ],
   "source": [
    "string = \"Bon, Bonjour, Bonbon.\"\n",
    "\n",
    "print(re.search(\"Bon\", string))"
   ]
  },
  {
   "cell_type": "markdown",
   "metadata": {},
   "source": [
    "Dans cet exemple, notons une autre spécificité de la **fonction** `.search()` : elle ne renvoie que le premier **motif** rencontré et s'arrête immédiatement."
   ]
  },
  {
   "cell_type": "markdown",
   "metadata": {},
   "source": [
    "### <div id=\"#Utiliser des classes de caractères\">5. 3. Utiliser des classes de caractères</div>"
   ]
  },
  {
   "cell_type": "markdown",
   "metadata": {},
   "source": [
    "Si nous parlons de **motifs** pour caractériser la puissance des **expressions régulières**, ce n'est pas pour se limiter aux exemples assez basiques que nous venons de voir. Une particularité de la recherche à l'aide des **expressions régulières** est l'utilisation des **classes de caractères**. Le principe est très simple : définir entre crochets, tous les éléments qui doivent être recherchés.\n",
    "\n",
    "Voyons un exemple pour clarifier cela.\n",
    "\n",
    "Imaginons que nous travaillons pour une agence immobilière ou un bailleur et que l'on ait à gérer différents appartements. Nous avons une grande liste contenant les numéros de chaque appartement mais nous ne savons pas à quel immeuble ils correspondent. Par chance, il se trouve qu'il y un **motif** particulier qui se dégage dans la façon dont les numéros ont été attribué dans les deux immeubles.\n",
    "\n",
    "En effet, le premier immeuble (on l'appelera `immeuble_A`) a numéroté ses appartements sous la forme : \\<LettreMajuscule>\\<DeuxChiffre>. Exemple : `\"A23\"` ou `\"B34\"`. Le second immeuble (`immeuble_B`) a numéroté ses appartements sous la forme : \\<DeuxChiffres>-\\<LettreMajuscule>. Exemple : `\"52-E\"` ou `\"45-D\"`.\n",
    "\n",
    "Grâce aux **classes de caractères**, on peut définir des ensembles de **caractères** qui doivent être recherchés."
   ]
  },
  {
   "cell_type": "code",
   "execution_count": 32,
   "metadata": {},
   "outputs": [
    {
     "name": "stdout",
     "output_type": "stream",
     "text": [
      "<re.Match object; span=(0, 1), match='A'>\n",
      "<re.Match object; span=(0, 1), match='B'>\n",
      "<re.Match object; span=(0, 1), match='A'>\n",
      "<re.Match object; span=(3, 4), match='C'>\n",
      "<re.Match object; span=(0, 1), match='D'>\n",
      "<re.Match object; span=(3, 4), match='E'>\n",
      "<re.Match object; span=(3, 4), match='A'>\n",
      "<re.Match object; span=(3, 4), match='A'>\n",
      "<re.Match object; span=(3, 4), match='B'>\n",
      "<re.Match object; span=(0, 1), match='B'>\n",
      "<re.Match object; span=(3, 4), match='D'>\n",
      "<re.Match object; span=(3, 4), match='E'>\n",
      "<re.Match object; span=(0, 1), match='B'>\n",
      "<re.Match object; span=(0, 1), match='A'>\n"
     ]
    }
   ],
   "source": [
    "appartements = [\"A23\", \"B34\", \"A26\", \"20-C\", \"D10\", \"58-E\", \"96-A\", \"87-A\", \"12-B\", \"B01\", \"45-D\", \"51-E\", \"B38\", \"A04\"]\n",
    "\n",
    "for appartement in appartements:\n",
    "    print(re.search(\"[A-Z]\", appartement))"
   ]
  },
  {
   "cell_type": "markdown",
   "metadata": {},
   "source": [
    "Pas terrible à ce stade, chaque entrée de notre liste `appartements` est \"matchée\"...\n",
    "\n",
    "Par contre, on peut constater qu'il n'y a pas de numéro d'appartement qui contienne de `\"E\"` dans l'`immeuble_A`. Voyons comment identifier les appartements qui n'ont que les lettres `\"A\"`, `\"B\"`, `\"C\"` et `\"D\"`."
   ]
  },
  {
   "cell_type": "code",
   "execution_count": 33,
   "metadata": {},
   "outputs": [
    {
     "name": "stdout",
     "output_type": "stream",
     "text": [
      "<re.Match object; span=(0, 1), match='A'>\n",
      "<re.Match object; span=(0, 1), match='B'>\n",
      "<re.Match object; span=(0, 1), match='A'>\n",
      "<re.Match object; span=(3, 4), match='C'>\n",
      "<re.Match object; span=(0, 1), match='D'>\n",
      "None\n",
      "<re.Match object; span=(3, 4), match='A'>\n",
      "<re.Match object; span=(3, 4), match='A'>\n",
      "<re.Match object; span=(3, 4), match='B'>\n",
      "<re.Match object; span=(0, 1), match='B'>\n",
      "<re.Match object; span=(3, 4), match='D'>\n",
      "None\n",
      "<re.Match object; span=(0, 1), match='B'>\n",
      "<re.Match object; span=(0, 1), match='A'>\n"
     ]
    }
   ],
   "source": [
    "for appartement in appartements:\n",
    "    print(re.search(\"[ABCD]\", appartement))"
   ]
  },
  {
   "cell_type": "markdown",
   "metadata": {},
   "source": [
    "On voit ainsi qu'indiquer entre crochets une série de **caractères** permet de définir une **classe** particulière qui sera recherchée. On peut la modifier à loisir !"
   ]
  },
  {
   "cell_type": "code",
   "execution_count": 38,
   "metadata": {},
   "outputs": [
    {
     "name": "stdout",
     "output_type": "stream",
     "text": [
      "<re.Match object; span=(0, 3), match='c10'>\n",
      "<re.Match object; span=(0, 3), match='C10'>\n",
      "<re.Match object; span=(0, 3), match='410'>\n",
      "<re.Match object; span=(0, 3), match='e10'>\n",
      "<re.Match object; span=(0, 3), match='t10'>\n",
      "<re.Match object; span=(0, 3), match='110'>\n"
     ]
    }
   ],
   "source": [
    "codes_obscurs = [\"c10\", \"C10\", \"410\", \"e10\", \"t10\", \"110\"]\n",
    "\n",
    "for code in codes_obscurs:\n",
    "    print(re.search(\"[cC4et1]10\", code))"
   ]
  },
  {
   "cell_type": "markdown",
   "metadata": {},
   "source": [
    "Comme on peut le voir dans l'exemple précédent, nous avons défini une **expression régulière** qui comporte les indication suivantes :\n",
    "* La **chaîne de caractère** doit commencer par la lettre `c`, `C`, `e`, ou `t` mais aussi les chiffres `4` et `1`\n",
    "* A cela, doivent succéder les caractères `1` et `0` à la suite (donc `10`)"
   ]
  },
  {
   "cell_type": "markdown",
   "metadata": {},
   "source": [
    "Pour nous simplifier la tâche, il existe des **classes de caractères** prédéfinies qui sont bien utiles pour bon nombre de recherches.\n",
    "\n",
    "|Classe de caractères|Description|\n",
    "|---|---|\n",
    "|`[0-9]`|Correspond à n'importe quel chiffre.|\n",
    "|`[A-Z]`|Correspond à n'importe quelle lettre majuscule.|\n",
    "|`[a-ZA-Z]`|Correspond à n'importe quelle lettre.|\n",
    "|`[0-5a-dA-D]`|Correspond à n'importe quel chiffre entre `0` et `5`, n'importe quelle lettre minuscule entre `a` et `d`, à n'importe quelle lettre majuscule entre `A` et `D`.|\n",
    "|`\\w`|Correspond à n'importe quelle lettre ou n'importe quel chiffre, ainsi que l'underscore (équivalent à `[0-9a-zA-Z_]`).|\n",
    "|`\\W`|Correspond à n'importe quel caractère qui n'est pas un mot (c'est l'opposé de `\\w` en somme).|\n",
    "|`\\d`|Correspond à n'importe quel chiffre.|\n",
    "|`\\D`|Correspond à n'importe quoi, sous un chiffre.|\n",
    "|`\\b`|Correspond à une chaîne vide (`\"\"`).|\n",
    "\n",
    "Il en existe d'autres qui sont moins utilisés mais peuvent être ponctuellement utiles. On peut les retrouver sur la documentation officielle du module `re` : https://docs.python.org/3/library/re.html."
   ]
  },
  {
   "cell_type": "markdown",
   "metadata": {},
   "source": [
    "### <div id=\"Contrôler le nombre d'occurrences avec les quantificateurs\">5. 4. Contrôler le nombre d'occurrences avec les quantificateurs</div>"
   ]
  },
  {
   "cell_type": "markdown",
   "metadata": {},
   "source": [
    "Revenons à notre exemple des numéros d'appartements. Pour identifier les **motifs** précis de nos numéros d'appartements, on peut adjoindre à chaque **caractère** ou chaque **classe de caractères** le nombre d'occurrences que l'on recherche.\n",
    "\n",
    "Voyons un exemple pour clarifier cela."
   ]
  },
  {
   "cell_type": "code",
   "execution_count": 42,
   "metadata": {},
   "outputs": [
    {
     "name": "stdout",
     "output_type": "stream",
     "text": [
      "None\n",
      "None\n",
      "None\n",
      "None\n",
      "None\n",
      "None\n",
      "<re.Match object; span=(0, 3), match='140'>\n",
      "None\n",
      "None\n",
      "<re.Match object; span=(0, 3), match='120'>\n",
      "None\n",
      "None\n",
      "None\n",
      "None\n",
      "None\n",
      "None\n"
     ]
    }
   ],
   "source": [
    "appartements = [\"A23\", \"B34\", \"A26\", \"20-C\", \"D10\", \"58-E\", \"140-A\", \"96-A\", \"87-A\", \"120-B\", \"12-B\", \"B01\", \"45-D\", \"51-E\", \"B38\", \"A04\"]\n",
    "\n",
    "for appartement in appartements:\n",
    "    print(re.search(\"[0-9]{3}\", appartement))"
   ]
  },
  {
   "cell_type": "markdown",
   "metadata": {},
   "source": [
    "Ici, nous recherchons donc des **motifs** dans lesquels trois chiffres se succèdent.\n",
    "\n",
    "De la même façon que pour les **classes de caractères**, on peut définir des intervales dans le nombre d'occurrences que l'on recherche."
   ]
  },
  {
   "cell_type": "code",
   "execution_count": 52,
   "metadata": {},
   "outputs": [
    {
     "name": "stdout",
     "output_type": "stream",
     "text": [
      "None\n",
      "None\n",
      "None\n",
      "None\n",
      "None\n",
      "None\n",
      "<re.Match object; span=(0, 3), match='140'>\n",
      "None\n",
      "None\n",
      "<re.Match object; span=(0, 3), match='120'>\n",
      "None\n",
      "None\n",
      "None\n",
      "None\n",
      "None\n",
      "None\n"
     ]
    }
   ],
   "source": [
    "appartements = [\"A23\", \"B34\", \"A26\", \"20-C\", \"D10\", \"58-E\", \"140-A\", \"96-A\", \"87-A\", \"120-B\", \"12-B\", \"B01\", \"45-D\", \"51-E\", \"B38\", \"A04\"]\n",
    "\n",
    "# Trois chiffres ou plus\n",
    "for appartement in appartements:\n",
    "    print(re.search(\"[0-9]{3,}\", appartement))"
   ]
  },
  {
   "cell_type": "code",
   "execution_count": 53,
   "metadata": {},
   "outputs": [
    {
     "name": "stdout",
     "output_type": "stream",
     "text": [
      "<re.Match object; span=(1, 3), match='23'>\n",
      "<re.Match object; span=(1, 3), match='34'>\n",
      "<re.Match object; span=(1, 3), match='26'>\n",
      "<re.Match object; span=(0, 2), match='20'>\n",
      "<re.Match object; span=(1, 3), match='10'>\n",
      "<re.Match object; span=(0, 2), match='58'>\n",
      "<re.Match object; span=(0, 3), match='140'>\n",
      "<re.Match object; span=(0, 2), match='96'>\n",
      "<re.Match object; span=(0, 2), match='87'>\n",
      "<re.Match object; span=(0, 3), match='120'>\n",
      "<re.Match object; span=(0, 2), match='12'>\n",
      "<re.Match object; span=(1, 3), match='01'>\n",
      "<re.Match object; span=(0, 2), match='45'>\n",
      "<re.Match object; span=(0, 2), match='51'>\n",
      "<re.Match object; span=(1, 3), match='38'>\n",
      "<re.Match object; span=(1, 3), match='04'>\n"
     ]
    }
   ],
   "source": [
    "appartements = [\"A23\", \"B34\", \"A26\", \"20-C\", \"D10\", \"58-E\", \"140-A\", \"96-A\", \"87-A\", \"120-B\", \"12-B\", \"B01\", \"45-D\", \"51-E\", \"B38\", \"A04\"]\n",
    "\n",
    "# Deux ou trois chiffres\n",
    "for appartement in appartements:\n",
    "    print(re.search(\"[0-9]{2,3}\", appartement))"
   ]
  },
  {
   "cell_type": "code",
   "execution_count": 54,
   "metadata": {},
   "outputs": [
    {
     "name": "stdout",
     "output_type": "stream",
     "text": [
      "<re.Match object; span=(1, 3), match='23'>\n",
      "<re.Match object; span=(1, 3), match='34'>\n",
      "<re.Match object; span=(1, 3), match='26'>\n",
      "<re.Match object; span=(0, 2), match='20'>\n",
      "<re.Match object; span=(1, 3), match='10'>\n",
      "<re.Match object; span=(0, 2), match='58'>\n",
      "<re.Match object; span=(0, 3), match='140'>\n",
      "<re.Match object; span=(0, 2), match='96'>\n",
      "<re.Match object; span=(0, 2), match='87'>\n",
      "<re.Match object; span=(0, 3), match='120'>\n",
      "<re.Match object; span=(0, 2), match='12'>\n",
      "<re.Match object; span=(1, 3), match='01'>\n",
      "<re.Match object; span=(0, 2), match='45'>\n",
      "<re.Match object; span=(0, 2), match='51'>\n",
      "<re.Match object; span=(1, 3), match='38'>\n",
      "<re.Match object; span=(1, 3), match='04'>\n"
     ]
    }
   ],
   "source": [
    "appartements = [\"A23\", \"B34\", \"A26\", \"20-C\", \"D10\", \"58-E\", \"140-A\", \"96-A\", \"87-A\", \"120-B\", \"12-B\", \"B01\", \"45-D\", \"51-E\", \"B38\", \"A04\"]\n",
    "\n",
    "# Deux chiffres ou plus\n",
    "for appartement in appartements:\n",
    "    print(re.search(\"[0-9]{2,}\", appartement))"
   ]
  },
  {
   "cell_type": "markdown",
   "metadata": {},
   "source": [
    "<div class=\"alert alert-success\" role=\"alert\"><strong>Troisième exercice :</strong> Définissez deux expressions régulières différentes qui permettent de distinguer les appartements de l'<code>immeuble_A</code> et de l'<code>immeuble_B</code>. On stockera le résultat dans deux variables qui portent ce même nom.</div>"
   ]
  },
  {
   "cell_type": "markdown",
   "metadata": {},
   "source": [
    "<div class=\"alert alert-danger\"><strong>Utiliser des expressions régulières pour isoler des motifs :</strong> Il existe plusieurs façons de procéder, le plus important est de déterminer une méthode générale qui permette de gérer tous les cas possibles.\n",
    "\n",
    "<pre>\n",
    "<code>#Pour l'immeuble_A\n",
    "appartements = [\"A23\", \"B34\", \"A26\", \"20-C\", \"D10\", \"58-E\", \"140-A\", \"96-A\", \"87-A\", \"120-B\", \"12-B\", \"B01\", \"45-D\", \"51-E\", \"B38\", \"A04\"]\n",
    "\n",
    "immeuble_A = []\n",
    "\n",
    "for appartement in appartements:\n",
    "    immeuble_A.append(re.search(\"[A-D]{1}[0-9]{2}\", appartement))\n",
    "    \n",
    "print(immeuble_A)\n",
    "\n",
    "#Pour l'immeuble_B\n",
    "immeuble_B = []\n",
    "\n",
    "for appartement in appartements:\n",
    "    immeuble_B.append(re.search(\"[0-9]{2,3}-[A-Z]{1}\", appartement))\n",
    "    \n",
    "print(immeuble_B)</code>\n",
    "</pre>\n",
    "</div>"
   ]
  },
  {
   "cell_type": "markdown",
   "metadata": {},
   "source": [
    "Il existe de multiples façons de contrôler le nombre d'occurrences d'un **caractère** ou d'une **classe de caractères**. Ci-dessous, un tableau en résumant différents **quantificateurs** existants :\n",
    "\n",
    "|Quantificateur|Description|\n",
    "|---|---|\n",
    "|`*`|Correspond à aucune, une ou plusieurs fois le caractère précédent.|\n",
    "|`+`|Correspond à une ou plusieurs fois le caractère précédent.|\n",
    "|`?`|Correspond à aucune ou une seule fois le caractère précédent.|\n",
    "|`{m}`|Correspond à `m` fois le caractère précédent.|\n",
    "|`{m,}`|Correspond à au moins `m` fois le caractère précédent.|\n",
    "|`{,m}`|Correspond à `m` fois ou moins le caractère précédent.|\n",
    "|`{m, n}`|Correspond à une répétition entre `m` et `n` fois le caractère précédent.|"
   ]
  },
  {
   "cell_type": "markdown",
   "metadata": {},
   "source": [
    "Il nous faut préciser autre chose au sujet des quantificateurs. Prenons d'emblée un exemple plutôt que de développer un long discours."
   ]
  },
  {
   "cell_type": "code",
   "execution_count": 119,
   "metadata": {},
   "outputs": [
    {
     "name": "stdout",
     "output_type": "stream",
     "text": [
      "<re.Match object; span=(0, 74), match=\"<div><a href='www.lien.com/un_lien'>Ceci est un l>\n"
     ]
    }
   ],
   "source": [
    "tag = \"<div><a href='www.lien.com/un_lien'>Ceci est un lien hypertexte.</a></div>\"\n",
    "\n",
    "print(re.search(\"<.+>\", tag))"
   ]
  },
  {
   "cell_type": "markdown",
   "metadata": {},
   "source": [
    "Ici, on voit qu'il est possible que le match s'arrête à différents points de la **chaîne de caractères** `tag` :\n",
    "* A la fin de la balise ouvrante `<div>`\n",
    "* A la fin de la balise ouvrante `<a>`\n",
    "\n",
    "C'est que l'on appelle la propriété **gourmande** (**greedy** en anglais) ou non d'une **expression régulière**. Par défaut, l'**expression régulière** définie est **gourmande** : elle cherche à faire le \"match\" le plus long possible. On peut néanmoins la rendre **non gourmande** afin qu'elle fasse un \"match\" le plus court possible."
   ]
  },
  {
   "cell_type": "code",
   "execution_count": 120,
   "metadata": {},
   "outputs": [
    {
     "name": "stdout",
     "output_type": "stream",
     "text": [
      "<re.Match object; span=(0, 5), match='<div>'>\n"
     ]
    }
   ],
   "source": [
    "tag = \"<div><a href='www.lien.com/un_lien'>Ceci est un lien hypertexte.</a></div>\"\n",
    "\n",
    "print(re.search(\"<.+?>\", tag))"
   ]
  },
  {
   "cell_type": "markdown",
   "metadata": {},
   "source": [
    "### <div id=\"Ancres et négation\">5. 5. Ancres et négation</div>"
   ]
  },
  {
   "cell_type": "markdown",
   "metadata": {},
   "source": [
    "Reprenons notre exemple précédent avec notre liste `appartements`. La tâche devient plus ardue encore car aux appartements se sont aussi mêlées des maisons. Contrairement aux appartements, la seule information dont on dispose sur les maisons sont les adresses postales.\n",
    "\n",
    "Voyons deux usages du **caractère** `^` dans la définition d'une **expression régulière** :\n",
    "* Lorsqu'on fait précéder une **classe de caractères** par le caractère `^`, alors, on recherche toutes les **chaînes de caractères** qui ne correspondent pas (on sélectionne l'opposé, en somme)\n",
    "* Lorsqu'on l'utilise au début d'une **expression régulière**, il permet de \"matcher\" uniquement les **chaînes de caractères** qui commencent par le **motif** indiqué\n",
    "\n",
    "A partir de notre exemple, on peut ainsi tenter d'isoler les appartements de l'`immeuble_A` en définissant une **expression régulière** qui vérifie que les **chaînes de caractères** commencent par un caractère qui n'est pas une lettre entre A et Z majuscule."
   ]
  },
  {
   "cell_type": "code",
   "execution_count": 108,
   "metadata": {},
   "outputs": [
    {
     "name": "stdout",
     "output_type": "stream",
     "text": [
      "<re.Match object; span=(0, 1), match='1'>\n",
      "None\n",
      "None\n",
      "None\n",
      "<re.Match object; span=(0, 1), match='2'>\n",
      "None\n",
      "<re.Match object; span=(0, 1), match='4'>\n",
      "<re.Match object; span=(0, 1), match='5'>\n",
      "<re.Match object; span=(0, 1), match='1'>\n",
      "<re.Match object; span=(0, 1), match='9'>\n",
      "<re.Match object; span=(0, 1), match='8'>\n",
      "<re.Match object; span=(0, 1), match='8'>\n",
      "<re.Match object; span=(0, 1), match='1'>\n",
      "<re.Match object; span=(0, 1), match='1'>\n",
      "None\n",
      "<re.Match object; span=(0, 1), match='4'>\n",
      "<re.Match object; span=(0, 1), match='5'>\n",
      "None\n",
      "None\n"
     ]
    }
   ],
   "source": [
    "immobilier = [\"10 Rue des Lilas 75014 Paris\", \"A23\", \"B34\", \"A26\", \"20-C\", \"D10\", \"4 Avenue Jean-Baptiste Lafrange 34240 Lamalou-les-Bains\", \"58-E\", \"140-A\", \"96-A\", \"87-A\", \"85bis Place des Alouettes 11400 Saint-Papoul\", \"120-B\", \"12-B\", \"B01\", \"45-D\", \"51-E\", \"B38\", \"A04\"]\n",
    "\n",
    "for immo in immobilier:\n",
    "    print(re.search(\"^[^A-Z]\", immo))"
   ]
  },
  {
   "cell_type": "markdown",
   "metadata": {},
   "source": [
    "Pour rechercher uniquement en début de **chaîne de caractère**, on peut également utiliser la **fonction** `.match()` sans avoir besoin de préciser `^` pour indiquer que l'on recherche une **chaîne de caractères** commençant par le **motif** que l'on définit à la suite."
   ]
  },
  {
   "cell_type": "code",
   "execution_count": 109,
   "metadata": {},
   "outputs": [
    {
     "name": "stdout",
     "output_type": "stream",
     "text": [
      "<re.Match object; span=(0, 1), match='1'>\n",
      "None\n",
      "None\n",
      "None\n",
      "<re.Match object; span=(0, 1), match='2'>\n",
      "None\n",
      "<re.Match object; span=(0, 1), match='4'>\n",
      "<re.Match object; span=(0, 1), match='5'>\n",
      "<re.Match object; span=(0, 1), match='1'>\n",
      "<re.Match object; span=(0, 1), match='9'>\n",
      "<re.Match object; span=(0, 1), match='8'>\n",
      "<re.Match object; span=(0, 1), match='8'>\n",
      "<re.Match object; span=(0, 1), match='1'>\n",
      "<re.Match object; span=(0, 1), match='1'>\n",
      "None\n",
      "<re.Match object; span=(0, 1), match='4'>\n",
      "<re.Match object; span=(0, 1), match='5'>\n",
      "None\n",
      "None\n"
     ]
    }
   ],
   "source": [
    "immobilier = [\"10 Rue des Lilas 75014 Paris\", \"A23\", \"B34\", \"A26\", \"20-C\", \"D10\", \"4 Avenue Jean-Baptiste Lafrange 34240 Lamalou-les-Bains\", \"58-E\", \"140-A\", \"96-A\", \"87-A\", \"85bis Place des Alouettes 11400 Saint-Papoul\", \"120-B\", \"12-B\", \"B01\", \"45-D\", \"51-E\", \"B38\", \"A04\"]\n",
    "\n",
    "for immo in immobilier:\n",
    "    print(re.match(\"[^A-Z]\", immo))"
   ]
  },
  {
   "cell_type": "markdown",
   "metadata": {},
   "source": [
    "Utilisé au début d'une **expression régulière**, `^` se comporte comme une **ancre** : dans le jardon des **expressions régulières**, une **ancre** désigne une condition particulière supplémentaire dans le **motif** recherché qui ne correspond pas à proprement parlé à des **caractères**. Les **ancres** donnent des informations positionnelles qui permettent de définir où doit s'effectuer la recherche.\n",
    "\n",
    "|Ancre|Description|\n",
    "|---|---|\n",
    "|`^mot`|Correspond à la chaîne `mot` rencontrée en début de **chaîne de caractères**.|\n",
    "|`$mot`|Correspond à la chaîne `mot` rencontrée en fin de **chaîne de caractères**.|\n",
    "|`\\bmot`|Correspond à la chaîne `mot` précédée d'un caractère qui n'est pas alpha-numérique (underscore inclu).|\n",
    "|`\\Bmot`|Correspond à la chaîne `mot` précédée d'un caractère qui est obligatoiremenet alpha-numérique (underscore inclu).|"
   ]
  },
  {
   "cell_type": "markdown",
   "metadata": {},
   "source": [
    "### <div id=\"Les groupes\">5. 6. Les groupes</div>"
   ]
  },
  {
   "cell_type": "markdown",
   "metadata": {},
   "source": [
    "Au sein d'une **expression régulière**, il est possible de définir des **groupes**. Cela a deux fonctions principales :\n",
    "* Grouper précisément afin de leur appliquer des quantificateurs ou des ancres\n",
    "* Créer une **sous-expression** pour capturer des segments spécifiques dans une **chaîne de caractères**\n",
    "\n",
    "Voyons un exemple tout clarifier cela."
   ]
  },
  {
   "cell_type": "code",
   "execution_count": 122,
   "metadata": {},
   "outputs": [
    {
     "name": "stdout",
     "output_type": "stream",
     "text": [
      "<re.Match object; span=(6, 12), match='coucou'>\n"
     ]
    }
   ],
   "source": [
    "string = \"hello coucou salut\"\n",
    "\n",
    "print(re.search(\"(cou)+\", string))"
   ]
  },
  {
   "cell_type": "markdown",
   "metadata": {},
   "source": [
    "Plutôt que de répéter notre **motif** `cou`, on peut simplement l'encadrer de parenthèses pour en faire un **groupe**. Ainsi, on peut lui appliquer des **quantificateurs** ou des **ancres**.\n",
    "\n",
    "Bien entendu, comme toujours, il est possible d'imbriquer les **groupes** entre eux..."
   ]
  },
  {
   "cell_type": "code",
   "execution_count": 123,
   "metadata": {},
   "outputs": [
    {
     "name": "stdout",
     "output_type": "stream",
     "text": [
      "<re.Match object; span=(6, 16), match='cou23cou34'>\n"
     ]
    }
   ],
   "source": [
    "string = \"hello cou23cou34 salut\"\n",
    "\n",
    "print(re.search(\"((cou)[0-9]{2})+\", string))"
   ]
  },
  {
   "cell_type": "markdown",
   "metadata": {},
   "source": [
    "### <div id=\"Récupérer les chaînes capturées\">5. 7. Récupérer les chaînes capturées </div>"
   ]
  },
  {
   "cell_type": "markdown",
   "metadata": {},
   "source": [
    "Jusqu'à présent, nous avons vu comment rechercher une **expression** spécifique dans une **chaîne de caractères** : la **fonction** `.search()` nous renvoie une information \"match\" qui précise quelle **chaîne de caractères** correspond à notre **motif**. Pour autant, elle ne retourne pas automatiquement cette chaîne \"matchée\".\n",
    "\n",
    "Pour récupérer le chaîne \"matchée\", on utilise la **fonction** `.group()`."
   ]
  },
  {
   "cell_type": "code",
   "execution_count": 130,
   "metadata": {},
   "outputs": [
    {
     "name": "stdout",
     "output_type": "stream",
     "text": [
      "coucou\n"
     ]
    }
   ],
   "source": [
    "string = \"hello coucou salut\"\n",
    "\n",
    "print(re.search(\"(cou)+\", string).group())"
   ]
  },
  {
   "cell_type": "markdown",
   "metadata": {},
   "source": [
    "Si on définit plusieurs groupes, la fonction `.groups()` permet de renvoyer tous les premiers match rencontrés. Rappelons ici du fonctionnement de `.search()` : en effet, on pourrait être surpris de voir qu'il n'y a pas de \"match\" pour `cou34`, mais ceci est lié au comportement de `.search()` qui renvoie un résultat et s'arrête dès qu'un \"match\" est rencontré."
   ]
  },
  {
   "cell_type": "code",
   "execution_count": 142,
   "metadata": {},
   "outputs": [
    {
     "name": "stdout",
     "output_type": "stream",
     "text": [
      "('cou', '23')\n"
     ]
    }
   ],
   "source": [
    "string = \"hello cou23cou34 salut\"\n",
    "\n",
    "print(re.search(\"(cou)([0-9]{2})\", string).groups())"
   ]
  },
  {
   "cell_type": "markdown",
   "metadata": {},
   "source": [
    "La fonction `.group()` permet également de récupérer un groupe spécifique \"matché\". Pour cela, on lui passe un argument qui désigne quel groupe récupérer : il fonctionne un peu comme l'**index** d'une liste, à l'exception du fait que l'on commence à compter à partir de 1 et non à partir de 0."
   ]
  },
  {
   "cell_type": "code",
   "execution_count": 158,
   "metadata": {},
   "outputs": [
    {
     "name": "stdout",
     "output_type": "stream",
     "text": [
      "10\n",
      "23\n"
     ]
    }
   ],
   "source": [
    "string = \"10 23 ab 34 sd 35\"\n",
    "\n",
    "print(re.search(\"([0-9]{2}) ([0-9]{2}) .+\", string).group(1))\n",
    "print(re.search(\"([0-9]{2}) ([0-9]{2}) .+\", string).group(2))"
   ]
  },
  {
   "cell_type": "markdown",
   "metadata": {},
   "source": [
    "### <div id=\"Les look around\">5. 8. Les look around</div>"
   ]
  },
  {
   "cell_type": "markdown",
   "metadata": {},
   "source": [
    "Dernier point avant d'en finir avec les **expressions régulières**. Même si on a déjà beaucoup d'outils pour effectuer tout type de recherche de **motifs** dans des **chaînes de caractères**, il est parfois utile de rechercher une chaîne en fonction de ce qui la précède ou de ce qui la suit. C'est là qu'entrent en jeu les ***look around***. Il existe quatre ***look around*** différents :\n",
    "\n",
    "|Look around|Description|\n",
    "|---|---|\n",
    "|`(?=mot)`|Match `mot` après la position courante.|\n",
    "|`(?!mot)`|Ne match pas `mot` après la position courante.|\n",
    "|`(?<=mot)`|Match `mot` avant la position courante.|\n",
    "|`(?<!mot)`|Ne match pas `mot` avant la position courante.|"
   ]
  },
  {
   "cell_type": "markdown",
   "metadata": {},
   "source": [
    "Voyons cela avec un exemple.\n",
    "\n",
    "Imaginons que nous ayons à trier un registre de numéros de téléphone. Une **expression régulière** peut nous être utile, d'autant plus si l'on est capable de vérifier la succession des chiffres. Nous allons trier notre registre en fonction de l'indicatif régional qui est représenté par les deux premiers chiffres du numéro de téléphone.\n",
    "\n",
    "Maintenant que vous savez utiliser davantage les **regex**, voyons comment compiler une **expression régulière**. Cela permet d'y faire référence à travers l'utilisation d'une **variable**, ce qui permet de rendre le code plus lisible et notre expression réutilisable. Pour cela, on utilise la fonction `.compile()` à laquelle on passe notre **expression régulière**."
   ]
  },
  {
   "cell_type": "code",
   "execution_count": 59,
   "metadata": {},
   "outputs": [],
   "source": [
    "# Le module random permet de générer un nombre aléatoire\n",
    "import random\n",
    "\n",
    "def rn():\n",
    "    # Avec la fonction randint(), on peut générer un nombre entier et spécifier une fourchette\n",
    "    return random.randint(0, 9)\n",
    "\n",
    "list_num = []\n",
    "numeros = []\n",
    "\n",
    "# On crée 100 numéros aléatoires\n",
    "for j in range(0, 50):\n",
    "    list_rn = []\n",
    "    # On définit des variables qui représenteront les deux premiers numéros\n",
    "    n = 0\n",
    "    i = random.randint(1, 5)\n",
    "    \n",
    "    # On ajoute 8 série de chiffres aléatoires\n",
    "    for a in range(0, 8):\n",
    "        a = rn()\n",
    "        list_rn.append(a)\n",
    "\n",
    "    # On ajoute les deux premiers numéros représentant l'indicatif de région\n",
    "    n = str(n) + str(i)\n",
    "    # On parcourt la liste des nombres générés aléatoirement qui composent le reste de nos numéros\n",
    "    for num in list_rn:\n",
    "        # On les ajoute les uns à la suite des autres, derrière l'indicatif régional\n",
    "        n = str(n) + str(num)\n",
    "        \n",
    "    numeros.append(n)"
   ]
  },
  {
   "cell_type": "code",
   "execution_count": 85,
   "metadata": {},
   "outputs": [],
   "source": [
    "num_tri = {\"1\": [],\n",
    "           \"2\": [],\n",
    "           \"3\": [],\n",
    "           \"4\": [],\n",
    "           \"5\": []}\n",
    "\n",
    "for i in range(1, 6):\n",
    "    pattern = f\"(?<=0{i})\\d{{8}}\"\n",
    "    regex = re.compile(pattern)\n",
    "\n",
    "    for num in numeros:\n",
    "        if re.search(regex, num) != None:\n",
    "            num_tri[str(i)].append(num)"
   ]
  },
  {
   "cell_type": "markdown",
   "metadata": {},
   "source": [
    "Quelques explications sur ces lignes de code. Dans notre boucle `for i in range(1, 6)`, on itère tout d'abord sur `i` entre `0` et `6` (`6` exclu) : cela nous permet d'avoir une boucle qui permet de couvrir tous les indicatifs régionaux de nos numéros de téléphone.\n",
    "\n",
    "A l'aide d'une **string formatée**, on fait varier la valeur de `i` dans notre **regex** pour ne pas avoir à la définir cinq fois de suite. Une fois cela fait, on peut la compiler et l'utiliser pour filtrer chaque numéro de la liste non triée. Comme on utilise une **string formatée** pour définir notre **expression régulière**, il nous faut préciser que les crochets `{` et `}` doivent être interprétés comme des **quantifieurs** : on les double donc pour préciser qu'ils doivent être interprétés comme tels lorsque passé à notre fonction `.compile()`.\n",
    "\n",
    "Le **look ahead** que l'on a défini ici dans notre **expression régulière** permet de vérifier que le numéro de téléphone filtré commence bel et bien par `01`, puis `02`, puis `03`, etc. On aurait bien sûr pu procéder autrement en utilisant l'ancre `^`, mais cela n'aurait pas fonctionné dans le cas où nous aurions eu un numéro précédé de l'indicatif régional international (`+33` pour la France). "
   ]
  },
  {
   "cell_type": "markdown",
   "metadata": {},
   "source": [
    "### <div id=\"Un peu de pratique\">5. 9. Un peu de pratique</div>"
   ]
  },
  {
   "cell_type": "markdown",
   "metadata": {},
   "source": [
    "<div class=\"alert alert-success\"><strong>Quatrième exercice :</strong> A l'aide d'une ou plusieurs expressions régulières, séparer les adresses qui ont le même domaine (<code>.fr</code>, <code>.com</code>, etc.). Il s'agira donc :\n",
    "<ul>\n",
    "    <li>Dans un premier temps, de lister tous les domaines différents</li>\n",
    "    <li>Dans un second temps, de définir une expression régulière capable de les capturer pour les filtrer ensuite</li>\n",
    "</ul>\n",
    "    Les données sont disponibles dans le fichier intitulé <code>\"module_3-dns.csv\"</code> qui se situe dans le répertoire <code>data</code>.\n",
    "</div>"
   ]
  },
  {
   "cell_type": "markdown",
   "metadata": {},
   "source": [
    "<div class=\"alert alert-danger\"><strong>Filtrer une liste à l'aide d'expressions régulières :</strong> On l'a vu, les expressions régulières sont des outils particulièrement puissants pour filtrer des jeux de données textuels massifs.\n",
    "    \n",
    "Nous avons utilisé quelques outils bien pratiques pour réaliser plus rapidement certaines opérations qui peuvent être plus fastidieuses autrement :\n",
    "<ul>\n",
    "<li>Comment compter chaque entrée unique d'une liste à l'aide de la fonction `Counter()` de la bibliothèque <code>collections</code> (<a href=\"https://docs.python.org/2/library/collections.html#collections.Counter\">https://docs.python.org/2/library/collections.html#collections.Counter</a>)</li>\n",
    "<li>La fonction <code>.to_list()</code> de <code>pandas</code> pour convertir une colonne de tableau en une liste Python (<a href=\"https://pandas.pydata.org/pandas-docs/stable/reference/api/pandas.Series.tolist.html\">https://pandas.pydata.org/pandas-docs/stable/reference/api/pandas.Series.tolist.html</a>)</li>\n",
    "</ul>\n",
    "<pre><code>import pandas as pd\n",
    "import re\n",
    "from collections import Counter\n",
    "\n",
    "#On commence par ouvrir notre fichier à l'aide de la bibliothèque pandas\n",
    "df = pd.read_csv(\"data/module_3-dns.csv\")\n",
    "#On utilise la fonction .to_list() de pandas sur la colonne qui nous intéresse pour extraire les données sous forme de liste\n",
    "list_dns = df[\"dns\"].to_list()\n",
    "\n",
    "#Liste qui contiendra tous les domaines\n",
    "list_dom = []\n",
    "\n",
    "#Dans un premier temps, nous allons rechercher ce qu'il y après le point dans chaque adresse\n",
    "for dns in list_dns:\n",
    "    #Regex qui permet de matcher un nom de domaine, dans un groupe on capture le domaine\n",
    "    regex = re.compile(\"[a-z0-9]+\\.([a-z]{2,})\")\n",
    "    dom = re.search(regex, dns).group(1)\n",
    "    list_dom.append(dom)\n",
    "\n",
    "#On crée un Counter qui permet de compter le nombre d'occurrences de chaque donnée unique dans une liste\n",
    "list_dom_unique = Counter(list_dom)\n",
    "\n",
    "#On récupère uniquement la clé pour avoir chaque domaine dans notre jeu de données\n",
    "unique_dom = list_dom_unique.keys()\n",
    "\n",
    "#On crée un dictionnaire qui contiendra, pour chaque clé un domaine et une liste de nom de domaines correspond pour les valeurs\n",
    "list_filt_dns = {}\n",
    "for key in unique_dom:\n",
    "    list_filt_dns[key] = []\n",
    "\n",
    "#On parcourt chacun des domaines différents (.com, .edu, .org, etc.)\n",
    "for dom in unique_dom:\n",
    "    regex = f\"[a-z0-9]+\\.{dom}\"\n",
    "    #On crée la regex correspondante pour chaque domaine\n",
    "    regex = re.compile(regex)\n",
    "    \n",
    "    #On parcourt ensuite chaque adresse différente et on vérifie si elle match la regex en cours\n",
    "    for dns in list_dns:\n",
    "        if re.search(regex, dns) != None:\n",
    "            #Si on a un match, on ajoute l'adresse dans la liste correspondante à la clé qui porte le même nom que le domaine associé de l'adresse (.org, .com, etc.)\n",
    "            list_filt_dns[dom].append(dns)\n",
    "</code>\n",
    "</pre>\n",
    "</div>"
   ]
  },
  {
   "cell_type": "markdown",
   "metadata": {},
   "source": [
    "## Sources et références utiles"
   ]
  },
  {
   "cell_type": "markdown",
   "metadata": {},
   "source": [
    "Le présent support a été réalisé à l'aide des références suivantes. Tous ne sont pas utiles aux novices, mais peuvent constituer des compléments utiles pour approfondir des notions et travailler ses compétences acquises.\n",
    "\n",
    "* **Documentation officielle :**\n",
    "    * **Python 3, URL : https://docs.python.org/3/.**\n",
    "    * **Un tutoriel dédié aux structures de données sur la documentation officielle de Python 3, URL : https://docs.python.org/3/tutorial/datastructures.html.** Il détaille les méthodes existantes sur les structures de données, principalement les listes et les dictionnaires. Une ressource utile à garder sous le coude lorsqu'on a besoin d'un rappel sur l'usage des méthodes de structures de données ou besoin d'un exemple d'utilisation.\n",
    "* **Manuels :**\n",
    "    * **Al Sweigart, *Automate the boring stuff with Python. Practical programming for total beginners*, San Francisco, No starch press, 2015. :** Lecture très facile avec des applications et des exemples de scripts. Il permet de partir de zéro et d'arriver rapidement à appliquer ses connaissances pour construire de petits projets bien utiles pour automatiser un certain nombre d'opérations courantes (fichiers Excel, envoi de mails, web scraping, etc.).\n",
    "    * **Luciano Ramalho, *Fluent Python. Clear, concise, and effective programming*, Sebastopol, O'Reilly, 2015.** : Lecture plus difficile, gros pavé de plus de 700 pages. Il permet d'approfondir sa connaissance du langage Python, ses spécificités et sa philosophie (pythonic). C'est une sorte de mini-bible du langage.\n",
    "* **Sites web** :\n",
    "    * **Real Python, URL : https://realpython.com/regex-python/ :** Un guide très complet qui part des bases et explicite le fonctionnement de toutes les fonctions du module `re`."
   ]
  }
 ],
 "metadata": {
  "kernelspec": {
   "display_name": "Python 3",
   "language": "python",
   "name": "python3"
  },
  "language_info": {
   "codemirror_mode": {
    "name": "ipython",
    "version": 3
   },
   "file_extension": ".py",
   "mimetype": "text/x-python",
   "name": "python",
   "nbconvert_exporter": "python",
   "pygments_lexer": "ipython3",
   "version": "3.8.5"
  }
 },
 "nbformat": 4,
 "nbformat_minor": 4
}
